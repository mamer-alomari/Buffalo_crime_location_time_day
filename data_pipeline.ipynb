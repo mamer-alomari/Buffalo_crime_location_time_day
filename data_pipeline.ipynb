{
 "cells": [
  {
   "cell_type": "code",
   "execution_count": 32,
   "id": "0b430a20",
   "metadata": {},
   "outputs": [],
   "source": [
    "from sodapy import Socrata\n",
    "import json\n",
    "import pandas as pd\n",
    "import numpy as np "
   ]
  },
  {
   "cell_type": "code",
   "execution_count": 60,
   "id": "4f9f5f97",
   "metadata": {},
   "outputs": [],
   "source": [
    "url=\"data.buffalony.gov\"\n",
    "db=\"d6g9-xbgu\""
   ]
  },
  {
   "cell_type": "code",
   "execution_count": 72,
   "id": "4de86117",
   "metadata": {},
   "outputs": [],
   "source": [
    "def get_data(url,db):\n",
    "    from sodapy import Socrata\n",
    "    import json\n",
    "    import pandas as pd\n",
    "    import numpy as np \n",
    "    client = Socrata(url, None)\n",
    "    results = client.get(db, limit=253370)\n",
    "    df=pd.DataFrame.from_records(results,columns=['incident_datetime','latitude','longitude','day_of_week','parent_incident_type'])\n",
    "    df.incident_datetime=pd.to_datetime(df.incident_datetime)\n",
    "    return df "
   ]
  },
  {
   "cell_type": "code",
   "execution_count": 4,
   "id": "ecfaeb98",
   "metadata": {},
   "outputs": [],
   "source": [
    "def data_cleaning(df):\n",
    "    df=df.dropna()\n",
    "    df.latitude=df.latitude.astype(float)\n",
    "    df.longitude=df.longitude.astype(float)\n",
    "    df.day_of_week=df.day_of_week.str.replace('SATURDAY','Saturday')\n",
    "    df.day_of_week=df.day_of_week.str.replace('FRIDAY','Friday')\n",
    "    df.day_of_week=df.day_of_week.str.replace('SUNDAY', 'Sunday')\n",
    "    df.day_of_week=df.day_of_week.str.replace('MONDAY','Monday')\n",
    "    df.day_of_week=df.day_of_week.str.replace('TUESDAY','Tuesday')\n",
    "    df.day_of_week=df.day_of_week.str.replace('WEDNESDAY','Wednesday')\n",
    "    df.day_of_week=df.day_of_week.str.replace('THURSDAY','Thursday')\n",
    "    return df \n",
    "    "
   ]
  },
  {
   "cell_type": "code",
   "execution_count": 63,
   "id": "d8913c79",
   "metadata": {},
   "outputs": [],
   "source": [
    "def sliced(df):\n",
    "    df=df.sort_values('incident_datetime')\n",
    "    df=df.set_index('incident_datetime')\n",
    "    df=df.loc['01-01-2007':]\n",
    "    train=df[:'01-01-2021']\n",
    "    test=df['01-02-2021':]\n",
    "    return train,test\n"
   ]
  },
  {
   "cell_type": "code",
   "execution_count": 50,
   "id": "111d020b",
   "metadata": {},
   "outputs": [],
   "source": [
    "def date_test_split(train,test):\n",
    "    date_train=train.reset_index().incident_datetime\n",
    "    date_test=test.reset_index().incident_datetime\n",
    "    return date_train,date_test\n",
    "def loc_train_test(train,test):\n",
    "    loc_train=train.drop(columns=['day_of_week','parent_incident_type'])\n",
    "    loc_test=test.drop(columns=['day_of_week','parent_incident_type'])\n",
    "    return loc_train,loc_test\n",
    "def type_train_test(train,test):\n",
    "    type_train=train\n",
    "    type_test=test\n",
    "    return type_train,type_test"
   ]
  },
  {
   "cell_type": "code",
   "execution_count": 51,
   "id": "4772dc6d",
   "metadata": {},
   "outputs": [],
   "source": [
    "def date_full_pipeline(url,db): \n",
    "    df=get_data(url,db)\n",
    "    df=data_cleaning(df)\n",
    "    train,test=sliced(df)\n",
    "    date_train,date_test=date_test_split(train,test)\n",
    "    return date_train,date_test\n"
   ]
  },
  {
   "cell_type": "code",
   "execution_count": 52,
   "id": "e8913ccd",
   "metadata": {},
   "outputs": [],
   "source": [
    "def loc_full_pipeline(url,db): \n",
    "    df=get_data(url,db)\n",
    "    df=data_cleaning(df)\n",
    "    train,test=sliced(df)\n",
    "    loc_train,loc_test=loc_train_test(train,test)\n",
    "    return loc_train,loc_test\n",
    "    "
   ]
  },
  {
   "cell_type": "code",
   "execution_count": 53,
   "id": "1bd437fc",
   "metadata": {},
   "outputs": [],
   "source": [
    "def type_full_pipeline(url,db):\n",
    "    df=get_data(url,db)\n",
    "    df=data_cleaning(df)\n",
    "    train,test=sliced(df)\n",
    "    type_train,type_test=type_train_test(train,test)\n",
    "    return type_train,type_test\n"
   ]
  },
  {
   "cell_type": "code",
   "execution_count": 56,
   "id": "48fc0fe6",
   "metadata": {},
   "outputs": [],
   "source": [
    "def date_quick_pipeline(df):\n",
    "    df=data_cleaning(df)\n",
    "    train,test=sliced(df)\n",
    "    date_train,date_test=date_test_split(train,test)\n",
    "    return date_train,date_test"
   ]
  },
  {
   "cell_type": "code",
   "execution_count": 57,
   "id": "92c86da0",
   "metadata": {},
   "outputs": [],
   "source": [
    "def loc_quick_pipeline(df):\n",
    "    df=data_cleaning(df)\n",
    "    train,test=sliced(df)\n",
    "    loc_train,loc_test=loc_train_test(train,test)\n",
    "    return loc_train,loc_test"
   ]
  },
  {
   "cell_type": "code",
   "execution_count": 58,
   "id": "b76dd473",
   "metadata": {},
   "outputs": [],
   "source": [
    "def type_quick_pipeline(df):\n",
    "    df=data_cleaning(df)\n",
    "    train,test=sliced(df)\n",
    "    type_train,type_test=type_train_test(train,test)\n",
    "    return type_train,type_test"
   ]
  },
  {
   "cell_type": "code",
   "execution_count": 61,
   "id": "db03849c",
   "metadata": {},
   "outputs": [
    {
     "name": "stderr",
     "output_type": "stream",
     "text": [
      "WARNING:root:Requests made without an app_token will be subject to strict throttling limits.\n"
     ]
    },
    {
     "data": {
      "text/html": [
       "<div>\n",
       "<style scoped>\n",
       "    .dataframe tbody tr th:only-of-type {\n",
       "        vertical-align: middle;\n",
       "    }\n",
       "\n",
       "    .dataframe tbody tr th {\n",
       "        vertical-align: top;\n",
       "    }\n",
       "\n",
       "    .dataframe thead th {\n",
       "        text-align: right;\n",
       "    }\n",
       "</style>\n",
       "<table border=\"1\" class=\"dataframe\">\n",
       "  <thead>\n",
       "    <tr style=\"text-align: right;\">\n",
       "      <th></th>\n",
       "      <th>incident_datetime</th>\n",
       "      <th>latitude</th>\n",
       "      <th>longitude</th>\n",
       "      <th>day_of_week</th>\n",
       "      <th>parent_incident_type</th>\n",
       "    </tr>\n",
       "  </thead>\n",
       "  <tbody>\n",
       "    <tr>\n",
       "      <th>0</th>\n",
       "      <td>2020-08-28 00:00:00</td>\n",
       "      <td>42.906</td>\n",
       "      <td>-78.892</td>\n",
       "      <td>FRIDAY</td>\n",
       "      <td>Theft of Vehicle</td>\n",
       "    </tr>\n",
       "    <tr>\n",
       "      <th>1</th>\n",
       "      <td>2020-08-28 03:00:00</td>\n",
       "      <td>42.917</td>\n",
       "      <td>-78.885</td>\n",
       "      <td>FRIDAY</td>\n",
       "      <td>Theft of Vehicle</td>\n",
       "    </tr>\n",
       "    <tr>\n",
       "      <th>2</th>\n",
       "      <td>2020-08-14 09:55:00</td>\n",
       "      <td>42.923</td>\n",
       "      <td>-78.803</td>\n",
       "      <td>FRIDAY</td>\n",
       "      <td>Theft</td>\n",
       "    </tr>\n",
       "    <tr>\n",
       "      <th>3</th>\n",
       "      <td>2020-08-28 03:15:00</td>\n",
       "      <td>42.907</td>\n",
       "      <td>-78.884</td>\n",
       "      <td>FRIDAY</td>\n",
       "      <td>Theft of Vehicle</td>\n",
       "    </tr>\n",
       "    <tr>\n",
       "      <th>4</th>\n",
       "      <td>2020-08-28 00:06:00</td>\n",
       "      <td>42.839</td>\n",
       "      <td>-78.824</td>\n",
       "      <td>FRIDAY</td>\n",
       "      <td>Theft</td>\n",
       "    </tr>\n",
       "  </tbody>\n",
       "</table>\n",
       "</div>"
      ],
      "text/plain": [
       "    incident_datetime latitude longitude day_of_week parent_incident_type\n",
       "0 2020-08-28 00:00:00   42.906   -78.892      FRIDAY     Theft of Vehicle\n",
       "1 2020-08-28 03:00:00   42.917   -78.885      FRIDAY     Theft of Vehicle\n",
       "2 2020-08-14 09:55:00   42.923   -78.803      FRIDAY                Theft\n",
       "3 2020-08-28 03:15:00   42.907   -78.884      FRIDAY     Theft of Vehicle\n",
       "4 2020-08-28 00:06:00   42.839   -78.824      FRIDAY                Theft"
      ]
     },
     "execution_count": 61,
     "metadata": {},
     "output_type": "execute_result"
    }
   ],
   "source": [
    "df=get_data(url,db)\n",
    "df.head()"
   ]
  },
  {
   "cell_type": "code",
   "execution_count": 64,
   "id": "5f261e80",
   "metadata": {},
   "outputs": [
    {
     "name": "stderr",
     "output_type": "stream",
     "text": [
      "C:\\Users\\mmioi\\anaconda3\\lib\\site-packages\\pandas\\core\\generic.py:5494: SettingWithCopyWarning: \n",
      "A value is trying to be set on a copy of a slice from a DataFrame.\n",
      "Try using .loc[row_indexer,col_indexer] = value instead\n",
      "\n",
      "See the caveats in the documentation: https://pandas.pydata.org/pandas-docs/stable/user_guide/indexing.html#returning-a-view-versus-a-copy\n",
      "  self[name] = value\n"
     ]
    }
   ],
   "source": [
    "date_train,date_test=date_quick_pipeline(df)"
   ]
  },
  {
   "cell_type": "code",
   "execution_count": 65,
   "id": "7dc9ebfd",
   "metadata": {},
   "outputs": [
    {
     "data": {
      "text/plain": [
       "0        2007-01-01 00:00:00\n",
       "1        2007-01-01 00:00:00\n",
       "2        2007-01-01 00:00:00\n",
       "3        2007-01-01 00:00:00\n",
       "4        2007-01-01 00:00:00\n",
       "                 ...        \n",
       "228377   2021-01-01 21:46:30\n",
       "228378   2021-01-01 22:00:00\n",
       "228379   2021-01-01 22:00:00\n",
       "228380   2021-01-01 22:10:00\n",
       "228381   2021-01-01 23:42:39\n",
       "Name: incident_datetime, Length: 228382, dtype: datetime64[ns]"
      ]
     },
     "execution_count": 65,
     "metadata": {},
     "output_type": "execute_result"
    }
   ],
   "source": [
    "date_train"
   ]
  },
  {
   "cell_type": "code",
   "execution_count": 66,
   "id": "dd92168a",
   "metadata": {},
   "outputs": [
    {
     "data": {
      "text/plain": [
       "0      2021-01-02 00:10:00\n",
       "1      2021-01-02 00:10:00\n",
       "2      2021-01-02 01:00:00\n",
       "3      2021-01-02 01:29:26\n",
       "4      2021-01-02 05:44:30\n",
       "               ...        \n",
       "7399   2021-09-10 00:35:36\n",
       "7400   2021-09-10 01:10:00\n",
       "7401   2021-09-10 02:17:57\n",
       "7402   2021-09-10 03:11:39\n",
       "7403   2021-09-10 09:00:00\n",
       "Name: incident_datetime, Length: 7404, dtype: datetime64[ns]"
      ]
     },
     "execution_count": 66,
     "metadata": {},
     "output_type": "execute_result"
    }
   ],
   "source": [
    "date_test"
   ]
  },
  {
   "cell_type": "code",
   "execution_count": 67,
   "id": "261630f8",
   "metadata": {},
   "outputs": [
    {
     "name": "stderr",
     "output_type": "stream",
     "text": [
      "C:\\Users\\mmioi\\anaconda3\\lib\\site-packages\\pandas\\core\\generic.py:5494: SettingWithCopyWarning: \n",
      "A value is trying to be set on a copy of a slice from a DataFrame.\n",
      "Try using .loc[row_indexer,col_indexer] = value instead\n",
      "\n",
      "See the caveats in the documentation: https://pandas.pydata.org/pandas-docs/stable/user_guide/indexing.html#returning-a-view-versus-a-copy\n",
      "  self[name] = value\n"
     ]
    }
   ],
   "source": [
    "loc_train,loc_test=loc_quick_pipeline(df)"
   ]
  },
  {
   "cell_type": "code",
   "execution_count": 68,
   "id": "b58aeebc",
   "metadata": {},
   "outputs": [
    {
     "data": {
      "text/html": [
       "<div>\n",
       "<style scoped>\n",
       "    .dataframe tbody tr th:only-of-type {\n",
       "        vertical-align: middle;\n",
       "    }\n",
       "\n",
       "    .dataframe tbody tr th {\n",
       "        vertical-align: top;\n",
       "    }\n",
       "\n",
       "    .dataframe thead th {\n",
       "        text-align: right;\n",
       "    }\n",
       "</style>\n",
       "<table border=\"1\" class=\"dataframe\">\n",
       "  <thead>\n",
       "    <tr style=\"text-align: right;\">\n",
       "      <th></th>\n",
       "      <th>latitude</th>\n",
       "      <th>longitude</th>\n",
       "    </tr>\n",
       "    <tr>\n",
       "      <th>incident_datetime</th>\n",
       "      <th></th>\n",
       "      <th></th>\n",
       "    </tr>\n",
       "  </thead>\n",
       "  <tbody>\n",
       "    <tr>\n",
       "      <th>2007-01-01 00:00:00</th>\n",
       "      <td>42.895921</td>\n",
       "      <td>-78.855169</td>\n",
       "    </tr>\n",
       "    <tr>\n",
       "      <th>2007-01-01 00:00:00</th>\n",
       "      <td>42.947516</td>\n",
       "      <td>-78.883895</td>\n",
       "    </tr>\n",
       "    <tr>\n",
       "      <th>2007-01-01 00:00:00</th>\n",
       "      <td>42.889568</td>\n",
       "      <td>-78.861224</td>\n",
       "    </tr>\n",
       "    <tr>\n",
       "      <th>2007-01-01 00:00:00</th>\n",
       "      <td>42.904967</td>\n",
       "      <td>-78.881001</td>\n",
       "    </tr>\n",
       "    <tr>\n",
       "      <th>2007-01-01 00:00:00</th>\n",
       "      <td>42.895563</td>\n",
       "      <td>-78.843779</td>\n",
       "    </tr>\n",
       "    <tr>\n",
       "      <th>...</th>\n",
       "      <td>...</td>\n",
       "      <td>...</td>\n",
       "    </tr>\n",
       "    <tr>\n",
       "      <th>2021-01-01 21:46:30</th>\n",
       "      <td>42.937000</td>\n",
       "      <td>-78.851000</td>\n",
       "    </tr>\n",
       "    <tr>\n",
       "      <th>2021-01-01 22:00:00</th>\n",
       "      <td>42.883000</td>\n",
       "      <td>-78.866000</td>\n",
       "    </tr>\n",
       "    <tr>\n",
       "      <th>2021-01-01 22:00:00</th>\n",
       "      <td>42.919000</td>\n",
       "      <td>-78.856000</td>\n",
       "    </tr>\n",
       "    <tr>\n",
       "      <th>2021-01-01 22:10:00</th>\n",
       "      <td>42.899000</td>\n",
       "      <td>-78.835000</td>\n",
       "    </tr>\n",
       "    <tr>\n",
       "      <th>2021-01-01 23:42:39</th>\n",
       "      <td>42.873000</td>\n",
       "      <td>-78.825000</td>\n",
       "    </tr>\n",
       "  </tbody>\n",
       "</table>\n",
       "<p>228382 rows × 2 columns</p>\n",
       "</div>"
      ],
      "text/plain": [
       "                      latitude  longitude\n",
       "incident_datetime                        \n",
       "2007-01-01 00:00:00  42.895921 -78.855169\n",
       "2007-01-01 00:00:00  42.947516 -78.883895\n",
       "2007-01-01 00:00:00  42.889568 -78.861224\n",
       "2007-01-01 00:00:00  42.904967 -78.881001\n",
       "2007-01-01 00:00:00  42.895563 -78.843779\n",
       "...                        ...        ...\n",
       "2021-01-01 21:46:30  42.937000 -78.851000\n",
       "2021-01-01 22:00:00  42.883000 -78.866000\n",
       "2021-01-01 22:00:00  42.919000 -78.856000\n",
       "2021-01-01 22:10:00  42.899000 -78.835000\n",
       "2021-01-01 23:42:39  42.873000 -78.825000\n",
       "\n",
       "[228382 rows x 2 columns]"
      ]
     },
     "execution_count": 68,
     "metadata": {},
     "output_type": "execute_result"
    }
   ],
   "source": [
    "loc_train"
   ]
  },
  {
   "cell_type": "code",
   "execution_count": 69,
   "id": "5571a8a3",
   "metadata": {},
   "outputs": [
    {
     "data": {
      "text/html": [
       "<div>\n",
       "<style scoped>\n",
       "    .dataframe tbody tr th:only-of-type {\n",
       "        vertical-align: middle;\n",
       "    }\n",
       "\n",
       "    .dataframe tbody tr th {\n",
       "        vertical-align: top;\n",
       "    }\n",
       "\n",
       "    .dataframe thead th {\n",
       "        text-align: right;\n",
       "    }\n",
       "</style>\n",
       "<table border=\"1\" class=\"dataframe\">\n",
       "  <thead>\n",
       "    <tr style=\"text-align: right;\">\n",
       "      <th></th>\n",
       "      <th>latitude</th>\n",
       "      <th>longitude</th>\n",
       "    </tr>\n",
       "    <tr>\n",
       "      <th>incident_datetime</th>\n",
       "      <th></th>\n",
       "      <th></th>\n",
       "    </tr>\n",
       "  </thead>\n",
       "  <tbody>\n",
       "    <tr>\n",
       "      <th>2021-01-02 00:10:00</th>\n",
       "      <td>42.951</td>\n",
       "      <td>-78.838</td>\n",
       "    </tr>\n",
       "    <tr>\n",
       "      <th>2021-01-02 00:10:00</th>\n",
       "      <td>42.956</td>\n",
       "      <td>-78.869</td>\n",
       "    </tr>\n",
       "    <tr>\n",
       "      <th>2021-01-02 01:00:00</th>\n",
       "      <td>42.886</td>\n",
       "      <td>-78.803</td>\n",
       "    </tr>\n",
       "    <tr>\n",
       "      <th>2021-01-02 01:29:26</th>\n",
       "      <td>42.925</td>\n",
       "      <td>-78.886</td>\n",
       "    </tr>\n",
       "    <tr>\n",
       "      <th>2021-01-02 05:44:30</th>\n",
       "      <td>42.893</td>\n",
       "      <td>-78.844</td>\n",
       "    </tr>\n",
       "    <tr>\n",
       "      <th>...</th>\n",
       "      <td>...</td>\n",
       "      <td>...</td>\n",
       "    </tr>\n",
       "    <tr>\n",
       "      <th>2021-09-10 00:35:36</th>\n",
       "      <td>42.883</td>\n",
       "      <td>-78.871</td>\n",
       "    </tr>\n",
       "    <tr>\n",
       "      <th>2021-09-10 01:10:00</th>\n",
       "      <td>42.959</td>\n",
       "      <td>-78.895</td>\n",
       "    </tr>\n",
       "    <tr>\n",
       "      <th>2021-09-10 02:17:57</th>\n",
       "      <td>42.922</td>\n",
       "      <td>-78.829</td>\n",
       "    </tr>\n",
       "    <tr>\n",
       "      <th>2021-09-10 03:11:39</th>\n",
       "      <td>42.911</td>\n",
       "      <td>-78.846</td>\n",
       "    </tr>\n",
       "    <tr>\n",
       "      <th>2021-09-10 09:00:00</th>\n",
       "      <td>42.953</td>\n",
       "      <td>-78.847</td>\n",
       "    </tr>\n",
       "  </tbody>\n",
       "</table>\n",
       "<p>7404 rows × 2 columns</p>\n",
       "</div>"
      ],
      "text/plain": [
       "                     latitude  longitude\n",
       "incident_datetime                       \n",
       "2021-01-02 00:10:00    42.951    -78.838\n",
       "2021-01-02 00:10:00    42.956    -78.869\n",
       "2021-01-02 01:00:00    42.886    -78.803\n",
       "2021-01-02 01:29:26    42.925    -78.886\n",
       "2021-01-02 05:44:30    42.893    -78.844\n",
       "...                       ...        ...\n",
       "2021-09-10 00:35:36    42.883    -78.871\n",
       "2021-09-10 01:10:00    42.959    -78.895\n",
       "2021-09-10 02:17:57    42.922    -78.829\n",
       "2021-09-10 03:11:39    42.911    -78.846\n",
       "2021-09-10 09:00:00    42.953    -78.847\n",
       "\n",
       "[7404 rows x 2 columns]"
      ]
     },
     "execution_count": 69,
     "metadata": {},
     "output_type": "execute_result"
    }
   ],
   "source": [
    "loc_test"
   ]
  },
  {
   "cell_type": "code",
   "execution_count": 70,
   "id": "3973d91a",
   "metadata": {},
   "outputs": [
    {
     "name": "stderr",
     "output_type": "stream",
     "text": [
      "C:\\Users\\mmioi\\anaconda3\\lib\\site-packages\\pandas\\core\\generic.py:5494: SettingWithCopyWarning: \n",
      "A value is trying to be set on a copy of a slice from a DataFrame.\n",
      "Try using .loc[row_indexer,col_indexer] = value instead\n",
      "\n",
      "See the caveats in the documentation: https://pandas.pydata.org/pandas-docs/stable/user_guide/indexing.html#returning-a-view-versus-a-copy\n",
      "  self[name] = value\n"
     ]
    }
   ],
   "source": [
    "type_train,type_test=type_quick_pipeline(df)"
   ]
  },
  {
   "cell_type": "code",
   "execution_count": 71,
   "id": "80d67e21",
   "metadata": {},
   "outputs": [
    {
     "data": {
      "text/html": [
       "<div>\n",
       "<style scoped>\n",
       "    .dataframe tbody tr th:only-of-type {\n",
       "        vertical-align: middle;\n",
       "    }\n",
       "\n",
       "    .dataframe tbody tr th {\n",
       "        vertical-align: top;\n",
       "    }\n",
       "\n",
       "    .dataframe thead th {\n",
       "        text-align: right;\n",
       "    }\n",
       "</style>\n",
       "<table border=\"1\" class=\"dataframe\">\n",
       "  <thead>\n",
       "    <tr style=\"text-align: right;\">\n",
       "      <th></th>\n",
       "      <th>latitude</th>\n",
       "      <th>longitude</th>\n",
       "      <th>day_of_week</th>\n",
       "      <th>parent_incident_type</th>\n",
       "    </tr>\n",
       "    <tr>\n",
       "      <th>incident_datetime</th>\n",
       "      <th></th>\n",
       "      <th></th>\n",
       "      <th></th>\n",
       "      <th></th>\n",
       "    </tr>\n",
       "  </thead>\n",
       "  <tbody>\n",
       "    <tr>\n",
       "      <th>2007-01-01 00:00:00</th>\n",
       "      <td>42.895921</td>\n",
       "      <td>-78.855169</td>\n",
       "      <td>Monday</td>\n",
       "      <td>Theft</td>\n",
       "    </tr>\n",
       "    <tr>\n",
       "      <th>2007-01-01 00:00:00</th>\n",
       "      <td>42.947516</td>\n",
       "      <td>-78.883895</td>\n",
       "      <td>Monday</td>\n",
       "      <td>Other Sexual Offense</td>\n",
       "    </tr>\n",
       "    <tr>\n",
       "      <th>2007-01-01 00:00:00</th>\n",
       "      <td>42.889568</td>\n",
       "      <td>-78.861224</td>\n",
       "      <td>Monday</td>\n",
       "      <td>Sexual Assault</td>\n",
       "    </tr>\n",
       "    <tr>\n",
       "      <th>2007-01-01 00:00:00</th>\n",
       "      <td>42.904967</td>\n",
       "      <td>-78.881001</td>\n",
       "      <td>Monday</td>\n",
       "      <td>Theft</td>\n",
       "    </tr>\n",
       "    <tr>\n",
       "      <th>2007-01-01 00:00:00</th>\n",
       "      <td>42.895563</td>\n",
       "      <td>-78.843779</td>\n",
       "      <td>Monday</td>\n",
       "      <td>Breaking &amp; Entering</td>\n",
       "    </tr>\n",
       "    <tr>\n",
       "      <th>...</th>\n",
       "      <td>...</td>\n",
       "      <td>...</td>\n",
       "      <td>...</td>\n",
       "      <td>...</td>\n",
       "    </tr>\n",
       "    <tr>\n",
       "      <th>2021-01-01 21:46:30</th>\n",
       "      <td>42.937000</td>\n",
       "      <td>-78.851000</td>\n",
       "      <td>Friday</td>\n",
       "      <td>Theft of Vehicle</td>\n",
       "    </tr>\n",
       "    <tr>\n",
       "      <th>2021-01-01 22:00:00</th>\n",
       "      <td>42.883000</td>\n",
       "      <td>-78.866000</td>\n",
       "      <td>Sunday</td>\n",
       "      <td>Assault</td>\n",
       "    </tr>\n",
       "    <tr>\n",
       "      <th>2021-01-01 22:00:00</th>\n",
       "      <td>42.919000</td>\n",
       "      <td>-78.856000</td>\n",
       "      <td>Saturday</td>\n",
       "      <td>Theft of Vehicle</td>\n",
       "    </tr>\n",
       "    <tr>\n",
       "      <th>2021-01-01 22:10:00</th>\n",
       "      <td>42.899000</td>\n",
       "      <td>-78.835000</td>\n",
       "      <td>Friday</td>\n",
       "      <td>Robbery</td>\n",
       "    </tr>\n",
       "    <tr>\n",
       "      <th>2021-01-01 23:42:39</th>\n",
       "      <td>42.873000</td>\n",
       "      <td>-78.825000</td>\n",
       "      <td>Friday</td>\n",
       "      <td>Assault</td>\n",
       "    </tr>\n",
       "  </tbody>\n",
       "</table>\n",
       "<p>228382 rows × 4 columns</p>\n",
       "</div>"
      ],
      "text/plain": [
       "                      latitude  longitude day_of_week  parent_incident_type\n",
       "incident_datetime                                                          \n",
       "2007-01-01 00:00:00  42.895921 -78.855169      Monday                 Theft\n",
       "2007-01-01 00:00:00  42.947516 -78.883895      Monday  Other Sexual Offense\n",
       "2007-01-01 00:00:00  42.889568 -78.861224      Monday        Sexual Assault\n",
       "2007-01-01 00:00:00  42.904967 -78.881001      Monday                 Theft\n",
       "2007-01-01 00:00:00  42.895563 -78.843779      Monday   Breaking & Entering\n",
       "...                        ...        ...         ...                   ...\n",
       "2021-01-01 21:46:30  42.937000 -78.851000      Friday      Theft of Vehicle\n",
       "2021-01-01 22:00:00  42.883000 -78.866000      Sunday               Assault\n",
       "2021-01-01 22:00:00  42.919000 -78.856000    Saturday      Theft of Vehicle\n",
       "2021-01-01 22:10:00  42.899000 -78.835000      Friday               Robbery\n",
       "2021-01-01 23:42:39  42.873000 -78.825000      Friday               Assault\n",
       "\n",
       "[228382 rows x 4 columns]"
      ]
     },
     "execution_count": 71,
     "metadata": {},
     "output_type": "execute_result"
    }
   ],
   "source": [
    "type_train"
   ]
  },
  {
   "cell_type": "code",
   "execution_count": 73,
   "id": "b9995066",
   "metadata": {},
   "outputs": [],
   "source": [
    "def sliced_advanced(df,train_date,test_date):\n",
    "    df=df.sort_values('incident_datetime')\n",
    "    df=df.set_index('incident_datetime')\n",
    "    df=df.loc['01-01-2007':]\n",
    "    train=df[:train_date]\n",
    "    test=df[test_date:]\n",
    "    return train,test"
   ]
  },
  {
   "cell_type": "code",
   "execution_count": 74,
   "id": "96c23eb9",
   "metadata": {},
   "outputs": [],
   "source": [
    "def date_advanced_pipeline(df,train_date,test_date):\n",
    "    #require dates for train and test in paranthasies\n",
    "    df=data_cleaning(df)\n",
    "    train,test=sliced_advanced(df,train_date,test_date)\n",
    "    date_train,date_test=date_test_split(train,test)\n",
    "    return date_train,date_test"
   ]
  },
  {
   "cell_type": "markdown",
   "id": "37ae3f21",
   "metadata": {},
   "source": [
    "Loc_advanced_pipeline: \n",
    "    inputs: df (dataframe)\\\n",
    "            train_date (date desired for the end of training period)\\\n",
    "            test_date (date desired for the start of testing period) \n",
    "            "
   ]
  },
  {
   "cell_type": "code",
   "execution_count": 81,
   "id": "826b199d",
   "metadata": {},
   "outputs": [],
   "source": [
    "def loc_advanced_pipeline(df,train_date,test_date):\n",
    "    df=data_cleaning(df)\n",
    "    train,test=sliced_advanced(df,train_date,test_date)\n",
    "    loc_train,loc_test=loc_train_test(train,test)\n",
    "    return loc_train,loc_test"
   ]
  },
  {
   "cell_type": "markdown",
   "id": "d1aa8cd7",
   "metadata": {},
   "source": [
    "Loc_advanced_pipeline: \n",
    "    inputs: df (dataframe)\\\n",
    "            train_date (date desired for the end of training period)\\\n",
    "            test_date (date desired for the start of testing period) \n",
    "            "
   ]
  },
  {
   "cell_type": "code",
   "execution_count": 82,
   "id": "3c945da2",
   "metadata": {},
   "outputs": [],
   "source": [
    "def type_advanced_pipeline(df):\n",
    "    df=data_cleaning(df)\n",
    "    train,test=sliced_advanced(df,train_date,test_date)\n",
    "    type_train,type_test=type_train_test(train,test)\n",
    "    return type_train,type_test"
   ]
  },
  {
   "cell_type": "markdown",
   "id": "cc6dd2b7",
   "metadata": {},
   "source": [
    "type_advanced_pipeline: \n",
    "    inputs: df (dataframe)\\\n",
    "            train_date (date desired for the end of training period)\\\n",
    "            test_date (date desired for the start of testing period) \n",
    "            "
   ]
  },
  {
   "cell_type": "markdown",
   "id": "95be8ce9",
   "metadata": {},
   "source": []
  },
  {
   "cell_type": "code",
   "execution_count": 80,
   "id": "546075f5",
   "metadata": {},
   "outputs": [],
   "source": []
  },
  {
   "cell_type": "markdown",
   "id": "9dd7507e",
   "metadata": {},
   "source": []
  },
  {
   "cell_type": "code",
   "execution_count": null,
   "id": "c2c5fba9",
   "metadata": {},
   "outputs": [],
   "source": []
  }
 ],
 "metadata": {
  "kernelspec": {
   "display_name": "Python 3",
   "language": "python",
   "name": "python3"
  },
  "language_info": {
   "codemirror_mode": {
    "name": "ipython",
    "version": 3
   },
   "file_extension": ".py",
   "mimetype": "text/x-python",
   "name": "python",
   "nbconvert_exporter": "python",
   "pygments_lexer": "ipython3",
   "version": "3.8.8"
  }
 },
 "nbformat": 4,
 "nbformat_minor": 5
}
