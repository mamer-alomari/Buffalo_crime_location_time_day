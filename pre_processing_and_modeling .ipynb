{
 "cells": [
  {
   "cell_type": "code",
   "execution_count": 29,
   "id": "b76b8251",
   "metadata": {},
   "outputs": [],
   "source": [
    "import pandas as pd\n",
    "import json \n",
    "from sodapy import Socrata\n",
    "import tensorflow as tf\n",
    "from tensorflow import keras\n",
    "from sklearn.ensemble import GradientBoostingClassifier\n",
    "from sklearn.metrics import classification_report, confusion_matrix, roc_curve, auc\n",
    "from statsmodels.tsa.arima_model import ARMA\n",
    "from statsmodels.tsa.statespace.sarimax import SARIMAX\n",
    "from statsmodels.tsa.arima_process import ArmaProcess\n",
    "from statsmodels.graphics.tsaplots import plot_pacf,plot_acf\n",
    "import matplotlib.pyplot as plt\n",
    "from sklearn.model_selection import train_test_split\n",
    "from sklearn.preprocessing import StandardScaler\n",
    "from sklearn.metrics import mean_squared_error\n",
    "from xgboost import XGBClassifier as xg\n",
    "import numpy as np "
   ]
  },
  {
   "cell_type": "code",
   "execution_count": 1,
   "id": "07147d4c",
   "metadata": {},
   "outputs": [],
   "source": []
  },
  {
   "cell_type": "code",
   "execution_count": null,
   "id": "22743203",
   "metadata": {},
   "outputs": [],
   "source": []
  },
  {
   "cell_type": "code",
   "execution_count": 7,
   "id": "526c595c",
   "metadata": {},
   "outputs": [],
   "source": [
    "df=pd.read_csv('data\\events_Added.csv')"
   ]
  },
  {
   "cell_type": "code",
   "execution_count": 8,
   "id": "5a8411d3",
   "metadata": {},
   "outputs": [
    {
     "data": {
      "text/html": [
       "<div>\n",
       "<style scoped>\n",
       "    .dataframe tbody tr th:only-of-type {\n",
       "        vertical-align: middle;\n",
       "    }\n",
       "\n",
       "    .dataframe tbody tr th {\n",
       "        vertical-align: top;\n",
       "    }\n",
       "\n",
       "    .dataframe thead th {\n",
       "        text-align: right;\n",
       "    }\n",
       "</style>\n",
       "<table border=\"1\" class=\"dataframe\">\n",
       "  <thead>\n",
       "    <tr style=\"text-align: right;\">\n",
       "      <th></th>\n",
       "      <th>Date</th>\n",
       "      <th>latitude</th>\n",
       "      <th>longitude</th>\n",
       "      <th>parent_incident_type</th>\n",
       "      <th>log</th>\n",
       "      <th>Friday</th>\n",
       "      <th>Monday</th>\n",
       "      <th>Saturday</th>\n",
       "      <th>Sunday</th>\n",
       "      <th>Thursday</th>\n",
       "      <th>...</th>\n",
       "      <th>Holiday_Valentine’s Day</th>\n",
       "      <th>Holiday_Veterans Day</th>\n",
       "      <th>Holiday_Washington's Birthday</th>\n",
       "      <th>Holiday_Western Easter</th>\n",
       "      <th>event</th>\n",
       "      <th>year</th>\n",
       "      <th>month</th>\n",
       "      <th>day</th>\n",
       "      <th>hour</th>\n",
       "      <th>minute</th>\n",
       "    </tr>\n",
       "  </thead>\n",
       "  <tbody>\n",
       "    <tr>\n",
       "      <th>0</th>\n",
       "      <td>2010-01-01 00:00:00</td>\n",
       "      <td>42.874699</td>\n",
       "      <td>-78.823627</td>\n",
       "      <td>0.0</td>\n",
       "      <td>1.0</td>\n",
       "      <td>1.0</td>\n",
       "      <td>0.0</td>\n",
       "      <td>0.0</td>\n",
       "      <td>0.0</td>\n",
       "      <td>0.0</td>\n",
       "      <td>...</td>\n",
       "      <td>0.0</td>\n",
       "      <td>0.0</td>\n",
       "      <td>0.0</td>\n",
       "      <td>0.0</td>\n",
       "      <td>0.0</td>\n",
       "      <td>2010</td>\n",
       "      <td>1</td>\n",
       "      <td>1</td>\n",
       "      <td>0</td>\n",
       "      <td>0</td>\n",
       "    </tr>\n",
       "    <tr>\n",
       "      <th>1</th>\n",
       "      <td>2010-01-01 00:00:00</td>\n",
       "      <td>42.958426</td>\n",
       "      <td>-78.855482</td>\n",
       "      <td>0.0</td>\n",
       "      <td>1.0</td>\n",
       "      <td>1.0</td>\n",
       "      <td>0.0</td>\n",
       "      <td>0.0</td>\n",
       "      <td>0.0</td>\n",
       "      <td>0.0</td>\n",
       "      <td>...</td>\n",
       "      <td>0.0</td>\n",
       "      <td>0.0</td>\n",
       "      <td>0.0</td>\n",
       "      <td>0.0</td>\n",
       "      <td>0.0</td>\n",
       "      <td>2010</td>\n",
       "      <td>1</td>\n",
       "      <td>1</td>\n",
       "      <td>0</td>\n",
       "      <td>0</td>\n",
       "    </tr>\n",
       "    <tr>\n",
       "      <th>2</th>\n",
       "      <td>2010-01-01 00:00:00</td>\n",
       "      <td>42.948746</td>\n",
       "      <td>-78.841021</td>\n",
       "      <td>2.0</td>\n",
       "      <td>1.0</td>\n",
       "      <td>1.0</td>\n",
       "      <td>0.0</td>\n",
       "      <td>0.0</td>\n",
       "      <td>0.0</td>\n",
       "      <td>0.0</td>\n",
       "      <td>...</td>\n",
       "      <td>0.0</td>\n",
       "      <td>0.0</td>\n",
       "      <td>0.0</td>\n",
       "      <td>0.0</td>\n",
       "      <td>0.0</td>\n",
       "      <td>2010</td>\n",
       "      <td>1</td>\n",
       "      <td>1</td>\n",
       "      <td>0</td>\n",
       "      <td>0</td>\n",
       "    </tr>\n",
       "    <tr>\n",
       "      <th>3</th>\n",
       "      <td>2010-01-01 00:00:00</td>\n",
       "      <td>42.869867</td>\n",
       "      <td>-78.849571</td>\n",
       "      <td>0.0</td>\n",
       "      <td>1.0</td>\n",
       "      <td>1.0</td>\n",
       "      <td>0.0</td>\n",
       "      <td>0.0</td>\n",
       "      <td>0.0</td>\n",
       "      <td>0.0</td>\n",
       "      <td>...</td>\n",
       "      <td>0.0</td>\n",
       "      <td>0.0</td>\n",
       "      <td>0.0</td>\n",
       "      <td>0.0</td>\n",
       "      <td>0.0</td>\n",
       "      <td>2010</td>\n",
       "      <td>1</td>\n",
       "      <td>1</td>\n",
       "      <td>0</td>\n",
       "      <td>0</td>\n",
       "    </tr>\n",
       "    <tr>\n",
       "      <th>4</th>\n",
       "      <td>2010-01-01 00:00:00</td>\n",
       "      <td>42.921298</td>\n",
       "      <td>-78.891109</td>\n",
       "      <td>2.0</td>\n",
       "      <td>1.0</td>\n",
       "      <td>1.0</td>\n",
       "      <td>0.0</td>\n",
       "      <td>0.0</td>\n",
       "      <td>0.0</td>\n",
       "      <td>0.0</td>\n",
       "      <td>...</td>\n",
       "      <td>0.0</td>\n",
       "      <td>0.0</td>\n",
       "      <td>0.0</td>\n",
       "      <td>0.0</td>\n",
       "      <td>0.0</td>\n",
       "      <td>2010</td>\n",
       "      <td>1</td>\n",
       "      <td>1</td>\n",
       "      <td>0</td>\n",
       "      <td>0</td>\n",
       "    </tr>\n",
       "  </tbody>\n",
       "</table>\n",
       "<p>5 rows × 36 columns</p>\n",
       "</div>"
      ],
      "text/plain": [
       "                  Date   latitude  longitude  parent_incident_type  log  \\\n",
       "0  2010-01-01 00:00:00  42.874699 -78.823627                   0.0  1.0   \n",
       "1  2010-01-01 00:00:00  42.958426 -78.855482                   0.0  1.0   \n",
       "2  2010-01-01 00:00:00  42.948746 -78.841021                   2.0  1.0   \n",
       "3  2010-01-01 00:00:00  42.869867 -78.849571                   0.0  1.0   \n",
       "4  2010-01-01 00:00:00  42.921298 -78.891109                   2.0  1.0   \n",
       "\n",
       "   Friday  Monday  Saturday  Sunday  Thursday  ...  Holiday_Valentine’s Day  \\\n",
       "0     1.0     0.0       0.0     0.0       0.0  ...                      0.0   \n",
       "1     1.0     0.0       0.0     0.0       0.0  ...                      0.0   \n",
       "2     1.0     0.0       0.0     0.0       0.0  ...                      0.0   \n",
       "3     1.0     0.0       0.0     0.0       0.0  ...                      0.0   \n",
       "4     1.0     0.0       0.0     0.0       0.0  ...                      0.0   \n",
       "\n",
       "   Holiday_Veterans Day  Holiday_Washington's Birthday  \\\n",
       "0                   0.0                            0.0   \n",
       "1                   0.0                            0.0   \n",
       "2                   0.0                            0.0   \n",
       "3                   0.0                            0.0   \n",
       "4                   0.0                            0.0   \n",
       "\n",
       "   Holiday_Western Easter  event  year  month  day  hour  minute  \n",
       "0                     0.0    0.0  2010      1    1     0       0  \n",
       "1                     0.0    0.0  2010      1    1     0       0  \n",
       "2                     0.0    0.0  2010      1    1     0       0  \n",
       "3                     0.0    0.0  2010      1    1     0       0  \n",
       "4                     0.0    0.0  2010      1    1     0       0  \n",
       "\n",
       "[5 rows x 36 columns]"
      ]
     },
     "execution_count": 8,
     "metadata": {},
     "output_type": "execute_result"
    }
   ],
   "source": [
    "df.head()"
   ]
  },
  {
   "cell_type": "code",
   "execution_count": 9,
   "id": "073c4318",
   "metadata": {},
   "outputs": [],
   "source": [
    "df.Date=pd.to_datetime(df.Date)"
   ]
  },
  {
   "cell_type": "code",
   "execution_count": 10,
   "id": "a48134b5",
   "metadata": {},
   "outputs": [],
   "source": [
    "df=df.set_index('Date')"
   ]
  },
  {
   "cell_type": "code",
   "execution_count": 11,
   "id": "8557a2db",
   "metadata": {},
   "outputs": [],
   "source": [
    "X=df.drop('parent_incident_type',axis=1).values\n",
    "Y=df.parent_incident_type.values\n",
    "X_train, X_test, y_train, y_test = train_test_split(X, Y, test_size=0.3, random_state=123)"
   ]
  },
  {
   "cell_type": "code",
   "execution_count": 75,
   "id": "7569311c",
   "metadata": {},
   "outputs": [
    {
     "name": "stderr",
     "output_type": "stream",
     "text": [
      "C:\\Users\\mmioi\\anaconda3\\lib\\site-packages\\xgboost\\core.py:430: FutureWarning: Pass `objective` as keyword args.  Passing these as positional arguments will be considered as error in future releases.\n",
      "  warnings.warn(\n"
     ]
    },
    {
     "name": "stdout",
     "output_type": "stream",
     "text": [
      "[12:19:56] WARNING: D:\\bld\\xgboost-split_1631904903843\\work\\src\\learner.cc:573: \n",
      "Parameters: { \"num_round\" } might not be used.\n",
      "\n",
      "  This may not be accurate due to some parameters are only used in language bindings but\n",
      "  passed down to XGBoost core.  Or some parameters are not used but slip through this\n",
      "  verification. Please open an issue if you find above cases.\n",
      "\n",
      "\n",
      "Learning rate:  0.05\n",
      "Accuracy score (training): 0.756\n",
      "Accuracy score (validation): 0.735\n",
      "\n",
      "[12:20:38] WARNING: D:\\bld\\xgboost-split_1631904903843\\work\\src\\learner.cc:573: \n",
      "Parameters: { \"num_round\" } might not be used.\n",
      "\n",
      "  This may not be accurate due to some parameters are only used in language bindings but\n",
      "  passed down to XGBoost core.  Or some parameters are not used but slip through this\n",
      "  verification. Please open an issue if you find above cases.\n",
      "\n",
      "\n"
     ]
    },
    {
     "name": "stderr",
     "output_type": "stream",
     "text": [
      "C:\\Users\\mmioi\\anaconda3\\lib\\site-packages\\xgboost\\core.py:430: FutureWarning: Pass `objective` as keyword args.  Passing these as positional arguments will be considered as error in future releases.\n",
      "  warnings.warn(\n"
     ]
    },
    {
     "name": "stdout",
     "output_type": "stream",
     "text": [
      "Learning rate:  0.1\n",
      "Accuracy score (training): 0.774\n",
      "Accuracy score (validation): 0.737\n",
      "\n",
      "[12:21:18] WARNING: D:\\bld\\xgboost-split_1631904903843\\work\\src\\learner.cc:573: \n",
      "Parameters: { \"num_round\" } might not be used.\n",
      "\n",
      "  This may not be accurate due to some parameters are only used in language bindings but\n",
      "  passed down to XGBoost core.  Or some parameters are not used but slip through this\n",
      "  verification. Please open an issue if you find above cases.\n",
      "\n",
      "\n"
     ]
    },
    {
     "name": "stderr",
     "output_type": "stream",
     "text": [
      "C:\\Users\\mmioi\\anaconda3\\lib\\site-packages\\xgboost\\core.py:430: FutureWarning: Pass `objective` as keyword args.  Passing these as positional arguments will be considered as error in future releases.\n",
      "  warnings.warn(\n"
     ]
    },
    {
     "name": "stdout",
     "output_type": "stream",
     "text": [
      "Learning rate:  0.25\n",
      "Accuracy score (training): 0.811\n",
      "Accuracy score (validation): 0.738\n",
      "\n",
      "[12:21:57] WARNING: D:\\bld\\xgboost-split_1631904903843\\work\\src\\learner.cc:573: \n",
      "Parameters: { \"num_round\" } might not be used.\n",
      "\n",
      "  This may not be accurate due to some parameters are only used in language bindings but\n",
      "  passed down to XGBoost core.  Or some parameters are not used but slip through this\n",
      "  verification. Please open an issue if you find above cases.\n",
      "\n",
      "\n"
     ]
    },
    {
     "name": "stderr",
     "output_type": "stream",
     "text": [
      "C:\\Users\\mmioi\\anaconda3\\lib\\site-packages\\xgboost\\core.py:430: FutureWarning: Pass `objective` as keyword args.  Passing these as positional arguments will be considered as error in future releases.\n",
      "  warnings.warn(\n"
     ]
    },
    {
     "name": "stdout",
     "output_type": "stream",
     "text": [
      "Learning rate:  0.35\n",
      "Accuracy score (training): 0.832\n",
      "Accuracy score (validation): 0.735\n",
      "\n",
      "[12:22:37] WARNING: D:\\bld\\xgboost-split_1631904903843\\work\\src\\learner.cc:573: \n",
      "Parameters: { \"num_round\" } might not be used.\n",
      "\n",
      "  This may not be accurate due to some parameters are only used in language bindings but\n",
      "  passed down to XGBoost core.  Or some parameters are not used but slip through this\n",
      "  verification. Please open an issue if you find above cases.\n",
      "\n",
      "\n"
     ]
    },
    {
     "name": "stderr",
     "output_type": "stream",
     "text": [
      "C:\\Users\\mmioi\\anaconda3\\lib\\site-packages\\xgboost\\core.py:430: FutureWarning: Pass `objective` as keyword args.  Passing these as positional arguments will be considered as error in future releases.\n",
      "  warnings.warn(\n"
     ]
    },
    {
     "name": "stdout",
     "output_type": "stream",
     "text": [
      "Learning rate:  0.45\n",
      "Accuracy score (training): 0.854\n",
      "Accuracy score (validation): 0.732\n",
      "\n",
      "[12:23:17] WARNING: D:\\bld\\xgboost-split_1631904903843\\work\\src\\learner.cc:573: \n",
      "Parameters: { \"num_round\" } might not be used.\n",
      "\n",
      "  This may not be accurate due to some parameters are only used in language bindings but\n",
      "  passed down to XGBoost core.  Or some parameters are not used but slip through this\n",
      "  verification. Please open an issue if you find above cases.\n",
      "\n",
      "\n"
     ]
    },
    {
     "name": "stderr",
     "output_type": "stream",
     "text": [
      "C:\\Users\\mmioi\\anaconda3\\lib\\site-packages\\xgboost\\core.py:430: FutureWarning: Pass `objective` as keyword args.  Passing these as positional arguments will be considered as error in future releases.\n",
      "  warnings.warn(\n"
     ]
    },
    {
     "name": "stdout",
     "output_type": "stream",
     "text": [
      "Learning rate:  0.5\n",
      "Accuracy score (training): 0.861\n",
      "Accuracy score (validation): 0.732\n",
      "\n"
     ]
    }
   ],
   "source": [
    "param = {'max_depth': 6, 'eta': 2, 'objective': 'binary:logistic'}\n",
    "num_round=3\n",
    "learning_rates = [0.05, 0.1, 0.25,0.35,0.45, 0.5]\n",
    "for learning_rate in learning_rates:\n",
    "    gb = xg(param,num_round=num_round, n_estimators=400, learning_rate = learning_rate, random_state =0,eval_metric='auc', use_label_encoder=False)\n",
    "    gb.fit(X_train, y_train)\n",
    "    print(\"Learning rate: \", learning_rate)\n",
    "    print(\"Accuracy score (training): {0:.3f}\".format(gb.score(X_train, y_train)))\n",
    "    print(\"Accuracy score (validation): {0:.3f}\".format(gb.score(X_test, y_test)))\n",
    "    print()"
   ]
  },
  {
   "cell_type": "code",
   "execution_count": 77,
   "id": "fb19c4a9",
   "metadata": {},
   "outputs": [
    {
     "name": "stdout",
     "output_type": "stream",
     "text": [
      "[12:27:45] WARNING: D:\\bld\\xgboost-split_1631904903843\\work\\src\\learner.cc:573: \n",
      "Parameters: { \"num_round\" } might not be used.\n",
      "\n",
      "  This may not be accurate due to some parameters are only used in language bindings but\n",
      "  passed down to XGBoost core.  Or some parameters are not used but slip through this\n",
      "  verification. Please open an issue if you find above cases.\n",
      "\n",
      "\n",
      "Learning rate:  50\n",
      "Accuracy score (training): 0.749\n",
      "Accuracy score (validation): 0.734\n",
      "\n"
     ]
    },
    {
     "name": "stderr",
     "output_type": "stream",
     "text": [
      "C:\\Users\\mmioi\\anaconda3\\lib\\site-packages\\xgboost\\core.py:430: FutureWarning: Pass `objective` as keyword args.  Passing these as positional arguments will be considered as error in future releases.\n",
      "  warnings.warn(\n"
     ]
    },
    {
     "name": "stdout",
     "output_type": "stream",
     "text": [
      "[12:27:51] WARNING: D:\\bld\\xgboost-split_1631904903843\\work\\src\\learner.cc:573: \n",
      "Parameters: { \"num_round\" } might not be used.\n",
      "\n",
      "  This may not be accurate due to some parameters are only used in language bindings but\n",
      "  passed down to XGBoost core.  Or some parameters are not used but slip through this\n",
      "  verification. Please open an issue if you find above cases.\n",
      "\n",
      "\n",
      "Learning rate:  10\n",
      "Accuracy score (training): 0.731\n",
      "Accuracy score (validation): 0.728\n",
      "\n",
      "[12:27:52] WARNING: D:\\bld\\xgboost-split_1631904903843\\work\\src\\learner.cc:573: \n",
      "Parameters: { \"num_round\" } might not be used.\n",
      "\n",
      "  This may not be accurate due to some parameters are only used in language bindings but\n",
      "  passed down to XGBoost core.  Or some parameters are not used but slip through this\n",
      "  verification. Please open an issue if you find above cases.\n",
      "\n",
      "\n"
     ]
    },
    {
     "name": "stderr",
     "output_type": "stream",
     "text": [
      "C:\\Users\\mmioi\\anaconda3\\lib\\site-packages\\xgboost\\core.py:430: FutureWarning: Pass `objective` as keyword args.  Passing these as positional arguments will be considered as error in future releases.\n",
      "  warnings.warn(\n"
     ]
    },
    {
     "name": "stdout",
     "output_type": "stream",
     "text": [
      "Learning rate:  150\n",
      "Accuracy score (training): 0.773\n",
      "Accuracy score (validation): 0.738\n",
      "\n",
      "[12:28:07] WARNING: D:\\bld\\xgboost-split_1631904903843\\work\\src\\learner.cc:573: \n",
      "Parameters: { \"num_round\" } might not be used.\n",
      "\n",
      "  This may not be accurate due to some parameters are only used in language bindings but\n",
      "  passed down to XGBoost core.  Or some parameters are not used but slip through this\n",
      "  verification. Please open an issue if you find above cases.\n",
      "\n",
      "\n"
     ]
    },
    {
     "name": "stderr",
     "output_type": "stream",
     "text": [
      "C:\\Users\\mmioi\\anaconda3\\lib\\site-packages\\xgboost\\core.py:430: FutureWarning: Pass `objective` as keyword args.  Passing these as positional arguments will be considered as error in future releases.\n",
      "  warnings.warn(\n"
     ]
    },
    {
     "name": "stdout",
     "output_type": "stream",
     "text": [
      "Learning rate:  100\n",
      "Accuracy score (training): 0.762\n",
      "Accuracy score (validation): 0.737\n",
      "\n"
     ]
    }
   ],
   "source": [
    "learning_rates = [50,10,150,100]\n",
    "for learning_rate in learning_rates:\n",
    "    gb = xg(param,num_round=num_round, n_estimators=learning_rate, learning_rate =0.25, random_state =0,eval_metric='auc', use_label_encoder=False)\n",
    "    gb.fit(X_train, y_train)\n",
    "    print(\"Learning rate: \", learning_rate)\n",
    "    print(\"Accuracy score (training): {0:.3f}\".format(gb.score(X_train, y_train)))\n",
    "    print(\"Accuracy score (validation): {0:.3f}\".format(gb.score(X_test, y_test)))\n",
    "    print()"
   ]
  },
  {
   "cell_type": "markdown",
   "id": "b99937a6",
   "metadata": {},
   "source": [
    "Learning rate=0.25,n_estimators=150,random_state =0,eval_metric='auc', use_label_encoder=False,param = {'max_depth': 6, 'eta': 2, 'objective': 'binary:logistic'}\\\n",
    "num_round=3"
   ]
  },
  {
   "cell_type": "code",
   "execution_count": null,
   "id": "c89a3981",
   "metadata": {},
   "outputs": [],
   "source": [
    "count_class_0, count_class_1 = df.parent_incident_type.value_counts()\n",
    "df_class_0 = df[df['parent_incident_type'] == 0]\n",
    "df_class_1 = df[df['parent_incident_type'] == 1]\n",
    "# Undersample 0-class and concat the DataFrames of both class\n",
    "df_class_0_under = df_class_0.sample(count_class_1 + 18000)\n",
    "df_test_under = pd.concat([df_class_0_under, df_class_1], axis=0)\n",
    "\n",
    "print('Random under-sampling:')\n",
    "print(df_test_under.parent_incident_type.value_counts())\n",
    "X=df_test_under.drop('parent_incident_type',axis=1).values\n",
    "Y=df_test_under.parent_incident_type.values\n",
    "X_train, X_test, y_train, y_test = train_test_split(X, Y, test_size=0.3, random_state=123)"
   ]
  },
  {
   "cell_type": "code",
   "execution_count": null,
   "id": "1e613294",
   "metadata": {},
   "outputs": [],
   "source": []
  },
  {
   "cell_type": "code",
   "execution_count": 139,
   "id": "4ab1d802",
   "metadata": {},
   "outputs": [
    {
     "name": "stdout",
     "output_type": "stream",
     "text": [
      "              precision    recall  f1-score   support\n",
      "\n",
      "         0.0       0.71      0.76      0.74     22671\n",
      "         1.0       0.66      0.60      0.63     17297\n",
      "\n",
      "    accuracy                           0.69     39968\n",
      "   macro avg       0.68      0.68      0.68     39968\n",
      "weighted avg       0.69      0.69      0.69     39968\n",
      "\n"
     ]
    }
   ],
   "source": [
    "gb = xg(n_estimators=150, learning_rate =0.25, random_state =0,num_class=2,objective='multi:softprob',eval_metric='auc', use_label_encoder=False)\n",
    "gb.fit(X_train, y_train)\n",
    "ypred=gb.predict(X_test)\n",
    "print(classification_report(y_test,ypred))"
   ]
  },
  {
   "cell_type": "code",
   "execution_count": 142,
   "id": "b4cd8971",
   "metadata": {},
   "outputs": [
    {
     "ename": "ModuleNotFoundError",
     "evalue": "No module named 'geopandas'",
     "output_type": "error",
     "traceback": [
      "\u001b[1;31m---------------------------------------------------------------------------\u001b[0m",
      "\u001b[1;31mModuleNotFoundError\u001b[0m                       Traceback (most recent call last)",
      "\u001b[1;32m<ipython-input-142-a62d01c1d62e>\u001b[0m in \u001b[0;36m<module>\u001b[1;34m\u001b[0m\n\u001b[1;32m----> 1\u001b[1;33m \u001b[1;32mimport\u001b[0m \u001b[0mgeopandas\u001b[0m \u001b[1;32mas\u001b[0m \u001b[0mgpd\u001b[0m\u001b[1;33m\u001b[0m\u001b[1;33m\u001b[0m\u001b[0m\n\u001b[0m",
      "\u001b[1;31mModuleNotFoundError\u001b[0m: No module named 'geopandas'"
     ]
    }
   ],
   "source": [
    "import geopandas as gpd"
   ]
  },
  {
   "cell_type": "markdown",
   "id": "d7fa3e50",
   "metadata": {},
   "source": [
    "balanced data is producing the best outcomes when in it comes to predicting violent and sexual which are meshed into one category for the time being"
   ]
  },
  {
   "cell_type": "code",
   "execution_count": 141,
   "id": "59c9a702",
   "metadata": {},
   "outputs": [
    {
     "data": {
      "text/html": [
       "<div>\n",
       "<style scoped>\n",
       "    .dataframe tbody tr th:only-of-type {\n",
       "        vertical-align: middle;\n",
       "    }\n",
       "\n",
       "    .dataframe tbody tr th {\n",
       "        vertical-align: top;\n",
       "    }\n",
       "\n",
       "    .dataframe thead th {\n",
       "        text-align: right;\n",
       "    }\n",
       "</style>\n",
       "<table border=\"1\" class=\"dataframe\">\n",
       "  <thead>\n",
       "    <tr style=\"text-align: right;\">\n",
       "      <th></th>\n",
       "      <th>type</th>\n",
       "      <th>features</th>\n",
       "    </tr>\n",
       "  </thead>\n",
       "  <tbody>\n",
       "    <tr>\n",
       "      <th>0</th>\n",
       "      <td>FeatureCollection</td>\n",
       "      <td>{'type': 'Feature', 'properties': {'acreage': ...</td>\n",
       "    </tr>\n",
       "    <tr>\n",
       "      <th>1</th>\n",
       "      <td>FeatureCollection</td>\n",
       "      <td>{'type': 'Feature', 'properties': {'acreage': ...</td>\n",
       "    </tr>\n",
       "    <tr>\n",
       "      <th>2</th>\n",
       "      <td>FeatureCollection</td>\n",
       "      <td>{'type': 'Feature', 'properties': {'acreage': ...</td>\n",
       "    </tr>\n",
       "    <tr>\n",
       "      <th>3</th>\n",
       "      <td>FeatureCollection</td>\n",
       "      <td>{'type': 'Feature', 'properties': {'acreage': ...</td>\n",
       "    </tr>\n",
       "    <tr>\n",
       "      <th>4</th>\n",
       "      <td>FeatureCollection</td>\n",
       "      <td>{'type': 'Feature', 'properties': {'acreage': ...</td>\n",
       "    </tr>\n",
       "    <tr>\n",
       "      <th>...</th>\n",
       "      <td>...</td>\n",
       "      <td>...</td>\n",
       "    </tr>\n",
       "    <tr>\n",
       "      <th>94999</th>\n",
       "      <td>FeatureCollection</td>\n",
       "      <td>{'type': 'Feature', 'properties': {'acreage': ...</td>\n",
       "    </tr>\n",
       "    <tr>\n",
       "      <th>95000</th>\n",
       "      <td>FeatureCollection</td>\n",
       "      <td>{'type': 'Feature', 'properties': {'acreage': ...</td>\n",
       "    </tr>\n",
       "    <tr>\n",
       "      <th>95001</th>\n",
       "      <td>FeatureCollection</td>\n",
       "      <td>{'type': 'Feature', 'properties': {'acreage': ...</td>\n",
       "    </tr>\n",
       "    <tr>\n",
       "      <th>95002</th>\n",
       "      <td>FeatureCollection</td>\n",
       "      <td>{'type': 'Feature', 'properties': {'acreage': ...</td>\n",
       "    </tr>\n",
       "    <tr>\n",
       "      <th>95003</th>\n",
       "      <td>FeatureCollection</td>\n",
       "      <td>{'type': 'Feature', 'properties': {'acreage': ...</td>\n",
       "    </tr>\n",
       "  </tbody>\n",
       "</table>\n",
       "<p>95004 rows × 2 columns</p>\n",
       "</div>"
      ],
      "text/plain": [
       "                    type                                           features\n",
       "0      FeatureCollection  {'type': 'Feature', 'properties': {'acreage': ...\n",
       "1      FeatureCollection  {'type': 'Feature', 'properties': {'acreage': ...\n",
       "2      FeatureCollection  {'type': 'Feature', 'properties': {'acreage': ...\n",
       "3      FeatureCollection  {'type': 'Feature', 'properties': {'acreage': ...\n",
       "4      FeatureCollection  {'type': 'Feature', 'properties': {'acreage': ...\n",
       "...                  ...                                                ...\n",
       "94999  FeatureCollection  {'type': 'Feature', 'properties': {'acreage': ...\n",
       "95000  FeatureCollection  {'type': 'Feature', 'properties': {'acreage': ...\n",
       "95001  FeatureCollection  {'type': 'Feature', 'properties': {'acreage': ...\n",
       "95002  FeatureCollection  {'type': 'Feature', 'properties': {'acreage': ...\n",
       "95003  FeatureCollection  {'type': 'Feature', 'properties': {'acreage': ...\n",
       "\n",
       "[95004 rows x 2 columns]"
      ]
     },
     "execution_count": 141,
     "metadata": {},
     "output_type": "execute_result"
    }
   ],
   "source": [
    "pd.read_json('Green Code Zoning 2017.geojson')"
   ]
  },
  {
   "cell_type": "code",
   "execution_count": 152,
   "id": "d0064f35",
   "metadata": {},
   "outputs": [],
   "source": [
    "X_train=X_train.reshape(X_train.shape[0],X_train.shape[1],1)\n",
    "input_shape=X_train.shape"
   ]
  },
  {
   "cell_type": "code",
   "execution_count": 156,
   "id": "25f553f6",
   "metadata": {},
   "outputs": [
    {
     "data": {
      "text/plain": [
       "(93258, 34, 1)"
      ]
     },
     "execution_count": 156,
     "metadata": {},
     "output_type": "execute_result"
    }
   ],
   "source": [
    "input_shape"
   ]
  },
  {
   "cell_type": "code",
   "execution_count": 70,
   "id": "a5f6437f",
   "metadata": {},
   "outputs": [],
   "source": [
    "def ANN(X_train, y_train, X_test, y_test, loss, weights):\n",
    "    model = keras.Sequential([\n",
    "        keras.layers.LSTM(34, return_sequences=True,input_shape=(34, 1)),\n",
    "        keras.layers.Dense(34, input_dim=28, activation='relu'),\n",
    "        keras.layers.Dense(3, activation='relu'),\n",
    "        keras.layers.Dense(1, activation='sigmoid')\n",
    "    ])\n",
    "\n",
    "    model.compile(optimizer='adam', loss=loss, metrics=['accuracy'])\n",
    "    \n",
    "    if weights == -1:\n",
    "        model.fit(X_train, y_train, epochs=50)\n",
    "    else:\n",
    "        model.fit(X_train, y_train, epochs=50, class_weight = weights)\n",
    "    \n",
    "    print(model.evaluate(X_test, y_test))\n",
    "    \n",
    "    y_preds = model.predict(X_test)\n",
    "    y_preds = np.round(y_preds)\n",
    "    \n",
    "    print(\"Classification Report: \\n\", classification_report(y_test, y_preds))\n",
    "    \n",
    "    return y_preds"
   ]
  },
  {
   "cell_type": "code",
   "execution_count": 71,
   "id": "ff4d92b8",
   "metadata": {
    "scrolled": true
   },
   "outputs": [
    {
     "name": "stdout",
     "output_type": "stream",
     "text": [
      "Epoch 1/10\n",
      "4290/4290 [==============================] - 5s 1ms/step - loss: 3.7165e-08 - accuracy: 0.7058\n",
      "Epoch 2/10\n",
      "4290/4290 [==============================] - 5s 1ms/step - loss: 3.7165e-08 - accuracy: 0.7058\n",
      "Epoch 3/10\n",
      "4290/4290 [==============================] - 5s 1ms/step - loss: 3.7165e-08 - accuracy: 0.7058\n",
      "Epoch 4/10\n",
      "4290/4290 [==============================] - 5s 1ms/step - loss: 3.7165e-08 - accuracy: 0.7058\n",
      "Epoch 5/10\n",
      "4290/4290 [==============================] - 5s 1ms/step - loss: 3.7165e-08 - accuracy: 0.7058\n",
      "Epoch 6/10\n",
      "4290/4290 [==============================] - 5s 1ms/step - loss: 3.7165e-08 - accuracy: 0.7058\n",
      "Epoch 7/10\n",
      "4290/4290 [==============================] - 5s 1ms/step - loss: 3.7165e-08 - accuracy: 0.7058\n",
      "Epoch 8/10\n",
      "4290/4290 [==============================] - 5s 1ms/step - loss: 3.7165e-08 - accuracy: 0.7058\n",
      "Epoch 9/10\n",
      "4290/4290 [==============================] - 5s 1ms/step - loss: 3.7165e-08 - accuracy: 0.7058\n",
      "Epoch 10/10\n",
      "4290/4290 [==============================] - 5s 1ms/step - loss: 3.7165e-08 - accuracy: 0.7058\n",
      "1839/1839 [==============================] - 1s 521us/step - loss: 3.7023e-08 - accuracy: 0.7070\n",
      "[3.702288964291256e-08, 0.7070073485374451]\n",
      "Classification Report: \n",
      "               precision    recall  f1-score   support\n",
      "\n",
      "         0.0       0.71      1.00      0.83     41589\n",
      "         1.0       0.00      0.00      0.00     16201\n",
      "         2.0       0.00      0.00      0.00      1034\n",
      "\n",
      "    accuracy                           0.71     58824\n",
      "   macro avg       0.24      0.33      0.28     58824\n",
      "weighted avg       0.50      0.71      0.59     58824\n",
      "\n"
     ]
    },
    {
     "name": "stderr",
     "output_type": "stream",
     "text": [
      "C:\\Users\\mmioi\\anaconda3\\lib\\site-packages\\sklearn\\metrics\\_classification.py:1245: UndefinedMetricWarning: Precision and F-score are ill-defined and being set to 0.0 in labels with no predicted samples. Use `zero_division` parameter to control this behavior.\n",
      "  _warn_prf(average, modifier, msg_start, len(result))\n",
      "C:\\Users\\mmioi\\anaconda3\\lib\\site-packages\\sklearn\\metrics\\_classification.py:1245: UndefinedMetricWarning: Precision and F-score are ill-defined and being set to 0.0 in labels with no predicted samples. Use `zero_division` parameter to control this behavior.\n",
      "  _warn_prf(average, modifier, msg_start, len(result))\n",
      "C:\\Users\\mmioi\\anaconda3\\lib\\site-packages\\sklearn\\metrics\\_classification.py:1245: UndefinedMetricWarning: Precision and F-score are ill-defined and being set to 0.0 in labels with no predicted samples. Use `zero_division` parameter to control this behavior.\n",
      "  _warn_prf(average, modifier, msg_start, len(result))\n"
     ]
    },
    {
     "data": {
      "text/plain": [
       "array([[0.],\n",
       "       [0.],\n",
       "       [0.],\n",
       "       ...,\n",
       "       [0.],\n",
       "       [0.],\n",
       "       [0.]], dtype=float32)"
      ]
     },
     "execution_count": 71,
     "metadata": {},
     "output_type": "execute_result"
    }
   ],
   "source": [
    "ANN(X_train, y_train, X_test, y_test,\"categorical_crossentropy\",-1 )"
   ]
  },
  {
   "cell_type": "code",
   "execution_count": null,
   "id": "acca72e8",
   "metadata": {},
   "outputs": [],
   "source": []
  },
  {
   "cell_type": "code",
   "execution_count": null,
   "id": "3ce9b231",
   "metadata": {},
   "outputs": [],
   "source": []
  },
  {
   "cell_type": "code",
   "execution_count": null,
   "id": "f46f74d4",
   "metadata": {},
   "outputs": [],
   "source": []
  },
  {
   "cell_type": "code",
   "execution_count": null,
   "id": "56c7d077",
   "metadata": {},
   "outputs": [],
   "source": []
  },
  {
   "cell_type": "code",
   "execution_count": null,
   "id": "74fc0f56",
   "metadata": {},
   "outputs": [],
   "source": [
    "def ANN(X_train, y_train, X_test, y_test, loss, weights):\n",
    "    model = keras.Sequential([\n",
    "        keras.layers.Dense(34, input_dim=34, activation='relu'),\n",
    "        keras.layers.Dense(34, activation='relu'),\n",
    "        keras.layers.Dense(3, activation='relu'),\n",
    "        keras.layers.Dense(3, activation='sigmoid')\n",
    "    ])\n",
    "    opt = keras.optimizers.Adam(learning_rate=0.01)\n",
    "    model.compile(optimizer=opt, loss=loss, metrics=[tf.keras.metrics.TruePositives()])\n",
    "    \n",
    "    if weights == -1:\n",
    "        model.fit(X_train, y_train, epochs=50)\n",
    "    else:\n",
    "        model.fit(X_train, y_train, epochs=50, class_weight = weights)\n",
    "    \n",
    "    print(model.evaluate(X_test, y_test))\n",
    "    \n",
    "    y_preds = model.predict(X_test)\n",
    "    y_preds = np.round(y_preds)\n",
    "    \n",
    "    print(\"Classification Report: \\n\", classification_report(y_test, y_preds))\n",
    "    \n",
    "    return y_preds"
   ]
  },
  {
   "cell_type": "code",
   "execution_count": null,
   "id": "911f15e5",
   "metadata": {},
   "outputs": [],
   "source": []
  },
  {
   "cell_type": "code",
   "execution_count": null,
   "id": "cc3d316e",
   "metadata": {},
   "outputs": [],
   "source": []
  },
  {
   "cell_type": "code",
   "execution_count": null,
   "id": "fd2d530d",
   "metadata": {},
   "outputs": [],
   "source": []
  },
  {
   "cell_type": "code",
   "execution_count": null,
   "id": "9cd07454",
   "metadata": {},
   "outputs": [],
   "source": []
  },
  {
   "cell_type": "code",
   "execution_count": null,
   "id": "61f50c53",
   "metadata": {},
   "outputs": [],
   "source": []
  },
  {
   "cell_type": "code",
   "execution_count": null,
   "id": "4f5f0a83",
   "metadata": {},
   "outputs": [],
   "source": []
  },
  {
   "cell_type": "code",
   "execution_count": null,
   "id": "1b0f3bc9",
   "metadata": {},
   "outputs": [],
   "source": []
  },
  {
   "cell_type": "code",
   "execution_count": null,
   "id": "44b3140b",
   "metadata": {},
   "outputs": [],
   "source": []
  },
  {
   "cell_type": "code",
   "execution_count": null,
   "id": "8d847236",
   "metadata": {},
   "outputs": [],
   "source": []
  },
  {
   "cell_type": "code",
   "execution_count": null,
   "id": "642f7dde",
   "metadata": {},
   "outputs": [],
   "source": []
  },
  {
   "cell_type": "code",
   "execution_count": null,
   "id": "2ccac712",
   "metadata": {},
   "outputs": [],
   "source": []
  },
  {
   "cell_type": "code",
   "execution_count": null,
   "id": "11576fd3",
   "metadata": {},
   "outputs": [],
   "source": []
  },
  {
   "cell_type": "code",
   "execution_count": null,
   "id": "eaa9ef14",
   "metadata": {},
   "outputs": [],
   "source": []
  }
 ],
 "metadata": {
  "kernelspec": {
   "display_name": "Python 3",
   "language": "python",
   "name": "python3"
  },
  "language_info": {
   "codemirror_mode": {
    "name": "ipython",
    "version": 3
   },
   "file_extension": ".py",
   "mimetype": "text/x-python",
   "name": "python",
   "nbconvert_exporter": "python",
   "pygments_lexer": "ipython3",
   "version": "3.8.8"
  }
 },
 "nbformat": 4,
 "nbformat_minor": 5
}
