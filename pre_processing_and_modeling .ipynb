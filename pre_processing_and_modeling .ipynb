{
 "cells": [
  {
   "cell_type": "code",
   "execution_count": 532,
   "id": "b76b8251",
   "metadata": {},
   "outputs": [],
   "source": [
    "import pandas as pd\n",
    "import json \n",
    "from sodapy import Socrata\n",
    "import tensorflow as tf\n",
    "from tensorflow import keras\n",
    "from sklearn.ensemble import GradientBoostingClassifier as gb \n",
    "from sklearn.ensemble import RandomForestClassifier as rf\n",
    "from sklearn.metrics import classification_report, confusion_matrix, roc_curve, auc,accuracy_score\n",
    "from statsmodels.tsa.arima_model import ARMA\n",
    "from statsmodels.tsa.statespace.sarimax import SARIMAX\n",
    "from statsmodels.tsa.arima_process import ArmaProcess\n",
    "from statsmodels.graphics.tsaplots import plot_pacf,plot_acf\n",
    "import matplotlib.pyplot as plt\n",
    "from sklearn.model_selection import train_test_split\n",
    "from sklearn.preprocessing import StandardScaler as sc\n",
    "from sklearn.metrics import mean_squared_error\n",
    "from xgboost import XGBClassifier as xg\n",
    "import seaborn as sns \n",
    "import numpy as np "
   ]
  },
  {
   "cell_type": "code",
   "execution_count": 1,
   "id": "07147d4c",
   "metadata": {},
   "outputs": [],
   "source": []
  },
  {
   "cell_type": "code",
   "execution_count": null,
   "id": "22743203",
   "metadata": {},
   "outputs": [],
   "source": []
  },
  {
   "cell_type": "code",
   "execution_count": 467,
   "id": "526c595c",
   "metadata": {},
   "outputs": [],
   "source": [
    "dfo=pd.read_csv(r'C:\\Users\\mmioi\\OneDrive\\Documents\\springboard\\projects\\mamer alomari code training\\Untitled Folder\\data\\finaldb.csv')"
   ]
  },
  {
   "cell_type": "code",
   "execution_count": 468,
   "id": "3aa3eac4",
   "metadata": {},
   "outputs": [
    {
     "data": {
      "text/plain": [
       "Index(['Unnamed: 0', 'Date', 'latitude', 'longitude', 'parent_incident_type',\n",
       "       'log', 'Friday', 'Monday', 'Saturday', 'Sunday', 'Thursday', 'Tuesday',\n",
       "       'Wednesday', 'Holiday_4th of July', 'Holiday_Christmas Day',\n",
       "       'Holiday_Christmas Eve', 'Holiday_Columbus Day',\n",
       "       'Holiday_Eastern Easter', 'Holiday_Juneteenth', 'Holiday_Labor Day',\n",
       "       'Holiday_Labor Day Weekend', 'Holiday_Martin Luther King, Jr. Day',\n",
       "       'Holiday_Memorial Day', 'Holiday_New Year's Day',\n",
       "       'Holiday_New Year’s Eve', 'Holiday_Thanksgiving Day',\n",
       "       'Holiday_Thanksgiving Eve', 'Holiday_Valentine’s Day',\n",
       "       'Holiday_Veterans Day', 'Holiday_Washington's Birthday',\n",
       "       'Holiday_Western Easter', 'event', 'year', 'month', 'day', 'hour',\n",
       "       'minute', 'zip', 'neighborhood'],\n",
       "      dtype='object')"
      ]
     },
     "execution_count": 468,
     "metadata": {},
     "output_type": "execute_result"
    }
   ],
   "source": [
    "dfo.columns"
   ]
  },
  {
   "cell_type": "code",
   "execution_count": 470,
   "id": "34650453",
   "metadata": {},
   "outputs": [],
   "source": [
    "dfo=dfo.drop('Unnamed: 0',axis=1)"
   ]
  },
  {
   "cell_type": "code",
   "execution_count": null,
   "id": "5a8411d3",
   "metadata": {},
   "outputs": [],
   "source": []
  },
  {
   "cell_type": "code",
   "execution_count": 476,
   "id": "073c4318",
   "metadata": {},
   "outputs": [],
   "source": [
    "dfo.Date=pd.to_datetime(dfo.Date)"
   ]
  },
  {
   "cell_type": "code",
   "execution_count": 477,
   "id": "a48134b5",
   "metadata": {},
   "outputs": [],
   "source": [
    "dfo=dfo.set_index('Date')"
   ]
  },
  {
   "cell_type": "code",
   "execution_count": 478,
   "id": "8557a2db",
   "metadata": {},
   "outputs": [],
   "source": [
    "dfo=dfo.loc['01-01-2018':]"
   ]
  },
  {
   "cell_type": "code",
   "execution_count": 516,
   "id": "7569311c",
   "metadata": {},
   "outputs": [],
   "source": [
    "X=dfo.drop('parent_incident_type',axis=1)\n",
    "y=dfo.parent_incident_type"
   ]
  },
  {
   "cell_type": "code",
   "execution_count": 517,
   "id": "fb19c4a9",
   "metadata": {},
   "outputs": [],
   "source": [
    "X_train,X_test,y_train,y_test=train_test_split(X,y,test_size=0.3,random_state=0)"
   ]
  },
  {
   "cell_type": "code",
   "execution_count": 465,
   "id": "c43f217a",
   "metadata": {},
   "outputs": [],
   "source": []
  },
  {
   "cell_type": "code",
   "execution_count": null,
   "id": "fc20236f",
   "metadata": {},
   "outputs": [],
   "source": []
  },
  {
   "cell_type": "code",
   "execution_count": null,
   "id": "3d437d0d",
   "metadata": {},
   "outputs": [],
   "source": []
  },
  {
   "cell_type": "code",
   "execution_count": null,
   "id": "1b0084e0",
   "metadata": {},
   "outputs": [],
   "source": []
  },
  {
   "cell_type": "code",
   "execution_count": null,
   "id": "846594c1",
   "metadata": {},
   "outputs": [],
   "source": []
  },
  {
   "cell_type": "code",
   "execution_count": null,
   "id": "8613f308",
   "metadata": {},
   "outputs": [],
   "source": []
  },
  {
   "cell_type": "code",
   "execution_count": null,
   "id": "8aa83544",
   "metadata": {},
   "outputs": [],
   "source": []
  },
  {
   "cell_type": "code",
   "execution_count": null,
   "id": "55ccef4a",
   "metadata": {},
   "outputs": [],
   "source": []
  },
  {
   "cell_type": "code",
   "execution_count": null,
   "id": "fe949cf2",
   "metadata": {},
   "outputs": [],
   "source": []
  },
  {
   "cell_type": "markdown",
   "id": "b99937a6",
   "metadata": {},
   "source": [
    "Learning rate=0.25,n_estimators=150,random_state =0,eval_metric='auc', use_label_encoder=False,param = {'max_depth': 6, 'eta': 2, 'objective': 'binary:logistic'}\\\n",
    "num_round=3"
   ]
  },
  {
   "cell_type": "markdown",
   "id": "dbd1ac16",
   "metadata": {},
   "source": [
    "# under sampling  "
   ]
  },
  {
   "cell_type": "code",
   "execution_count": 499,
   "id": "c89a3981",
   "metadata": {},
   "outputs": [
    {
     "name": "stdout",
     "output_type": "stream",
     "text": [
      "Random under-sampling:\n",
      "0.0    14644\n",
      "1.0    13644\n",
      "Name: parent_incident_type, dtype: int64\n"
     ]
    }
   ],
   "source": [
    "count_class_0, count_class_1,count_class_2 = dfo.parent_incident_type.value_counts()\n",
    "df_class_0 = dfo[dfo['parent_incident_type'] == 0]\n",
    "df_class_1 = dfo[dfo['parent_incident_type'] == 1]\n",
    "df_class_2=dfo[dfo['parent_incident_type'] == 2]\n",
    "# Undersample 0-class and concat the DataFrames of both class\n",
    "df_class_0_under = df_class_0.sample(count_class_1+1000 )\n",
    "df_test_under = pd.concat([df_class_0_under, df_class_1], axis=0)\n",
    "\n",
    "print('Random under-sampling:')\n",
    "print(df_test_under.parent_incident_type.value_counts())\n",
    "X=df_test_under.drop('parent_incident_type',axis=1).values\n",
    "Y=df_test_under.parent_incident_type.values\n",
    "X_train, X_test, y_train, y_test = train_test_split(X, Y, test_size=0.3, random_state=123)\n"
   ]
  },
  {
   "cell_type": "code",
   "execution_count": null,
   "id": "1e613294",
   "metadata": {},
   "outputs": [],
   "source": []
  },
  {
   "cell_type": "code",
   "execution_count": 518,
   "id": "4ab1d802",
   "metadata": {},
   "outputs": [
    {
     "name": "stdout",
     "output_type": "stream",
     "text": [
      "0.7157909427116043\n",
      "              precision    recall  f1-score   support\n",
      "\n",
      "         0.0       0.75      0.90      0.82      9936\n",
      "         1.0       0.56      0.32      0.41      4120\n",
      "         2.0       0.25      0.00      0.01       275\n",
      "\n",
      "    accuracy                           0.72     14331\n",
      "   macro avg       0.52      0.41      0.41     14331\n",
      "weighted avg       0.68      0.72      0.68     14331\n",
      "\n"
     ]
    }
   ],
   "source": [
    "gb = xg(n_estimators=150, learning_rate =0.25, random_state =0,num_class=2,objective='multi:softprob',eval_metric='auc', use_label_encoder=False)\n",
    "gb.fit(X_train, y_train)\n",
    "ypred=gb.predict(X_test)\n",
    "print(accuracy_score(y_test,ypred))\n",
    "print(classification_report(y_test,ypred))"
   ]
  },
  {
   "cell_type": "code",
   "execution_count": 7,
   "id": "b4cd8971",
   "metadata": {},
   "outputs": [],
   "source": [
    "train_frac = 0.33\n",
    "test_frac = 0.33\n",
    "\n",
    "train_X = df[[c for c in df.columns if c != 'parent_incident_type']].iloc[:int(len(df) * train_frac)].values\n",
    "train_y = df.parent_incident_type.iloc[:int(len(df) * train_frac)].values\n",
    "test_X = df[[c for c in df.columns if c != 'parent_incident_type']].iloc[int(len(df) * train_frac):int(len(df) * (train_frac+test_frac))].values\n",
    "test_y = df.parent_incident_type.iloc[int(len(df) * train_frac):int(len(df) * (train_frac+test_frac))].values\n",
    "valid_X = df[[c for c in df.columns if c != 'parent_incident_type']].iloc[int(len(df) * (train_frac+test_frac)):].values\n",
    "valid_y = df.parent_incident_type.iloc[int(len(df) * (train_frac+test_frac)):].values"
   ]
  },
  {
   "cell_type": "code",
   "execution_count": 8,
   "id": "ce10c772",
   "metadata": {},
   "outputs": [],
   "source": [
    "from sklearn.svm import SVC\n",
    "from sklearn.naive_bayes import GaussianNB\n",
    "from sklearn.linear_model import LogisticRegression"
   ]
  },
  {
   "cell_type": "markdown",
   "id": "d7fa3e50",
   "metadata": {},
   "source": [
    "balanced data is producing the best outcomes when in it comes to predicting violent and sexual which are meshed into one category for the time being"
   ]
  },
  {
   "cell_type": "code",
   "execution_count": 9,
   "id": "59c9a702",
   "metadata": {},
   "outputs": [],
   "source": [
    "model_to_clf = {\n",
    "    'rf': RandomForestClassifier,\n",
    "    'xgb': xg,\n",
    "    'nb': GaussianNB\n",
    "               }"
   ]
  },
  {
   "cell_type": "code",
   "execution_count": 10,
   "id": "d0064f35",
   "metadata": {},
   "outputs": [],
   "source": [
    "model_to_probs = {}\n",
    "model_str_to_trained_model = {}"
   ]
  },
  {
   "cell_type": "markdown",
   "id": "07690cd0",
   "metadata": {},
   "source": [
    "# plotting predicted probabilities"
   ]
  },
  {
   "cell_type": "code",
   "execution_count": 11,
   "id": "25f553f6",
   "metadata": {},
   "outputs": [
    {
     "name": "stdout",
     "output_type": "stream",
     "text": [
      "<class 'sklearn.ensemble._forest.RandomForestClassifier'>\n"
     ]
    },
    {
     "name": "stderr",
     "output_type": "stream",
     "text": [
      "C:\\Users\\mmioi\\anaconda3\\lib\\site-packages\\seaborn\\distributions.py:2557: FutureWarning: `distplot` is a deprecated function and will be removed in a future version. Please adapt your code to use either `displot` (a figure-level function with similar flexibility) or `histplot` (an axes-level function for histograms).\n",
      "  warnings.warn(msg, FutureWarning)\n",
      "C:\\Users\\mmioi\\anaconda3\\lib\\site-packages\\seaborn\\distributions.py:2557: FutureWarning: `distplot` is a deprecated function and will be removed in a future version. Please adapt your code to use either `displot` (a figure-level function with similar flexibility) or `histplot` (an axes-level function for histograms).\n",
      "  warnings.warn(msg, FutureWarning)\n"
     ]
    },
    {
     "name": "stdout",
     "output_type": "stream",
     "text": [
      "<class 'xgboost.sklearn.XGBClassifier'>\n",
      "[11:05:19] WARNING: D:\\bld\\xgboost-split_1631904903843\\work\\src\\learner.cc:1095: Starting in XGBoost 1.3.0, the default evaluation metric used with the objective 'multi:softprob' was changed from 'merror' to 'mlogloss'. Explicitly set eval_metric if you'd like to restore the old behavior.\n"
     ]
    },
    {
     "name": "stderr",
     "output_type": "stream",
     "text": [
      "C:\\Users\\mmioi\\anaconda3\\lib\\site-packages\\xgboost\\sklearn.py:1146: UserWarning: The use of label encoder in XGBClassifier is deprecated and will be removed in a future release. To remove this warning, do the following: 1) Pass option use_label_encoder=False when constructing XGBClassifier object; and 2) Encode your labels (y) as integers starting with 0, i.e. 0, 1, 2, ..., [num_class - 1].\n",
      "  warnings.warn(label_encoder_deprecation_msg, UserWarning)\n",
      "C:\\Users\\mmioi\\anaconda3\\lib\\site-packages\\seaborn\\distributions.py:2557: FutureWarning: `distplot` is a deprecated function and will be removed in a future version. Please adapt your code to use either `displot` (a figure-level function with similar flexibility) or `histplot` (an axes-level function for histograms).\n",
      "  warnings.warn(msg, FutureWarning)\n",
      "C:\\Users\\mmioi\\anaconda3\\lib\\site-packages\\seaborn\\distributions.py:2557: FutureWarning: `distplot` is a deprecated function and will be removed in a future version. Please adapt your code to use either `displot` (a figure-level function with similar flexibility) or `histplot` (an axes-level function for histograms).\n",
      "  warnings.warn(msg, FutureWarning)\n"
     ]
    },
    {
     "name": "stdout",
     "output_type": "stream",
     "text": [
      "<class 'sklearn.naive_bayes.GaussianNB'>\n"
     ]
    },
    {
     "name": "stderr",
     "output_type": "stream",
     "text": [
      "C:\\Users\\mmioi\\anaconda3\\lib\\site-packages\\seaborn\\distributions.py:2557: FutureWarning: `distplot` is a deprecated function and will be removed in a future version. Please adapt your code to use either `displot` (a figure-level function with similar flexibility) or `histplot` (an axes-level function for histograms).\n",
      "  warnings.warn(msg, FutureWarning)\n",
      "C:\\Users\\mmioi\\anaconda3\\lib\\site-packages\\seaborn\\distributions.py:2557: FutureWarning: `distplot` is a deprecated function and will be removed in a future version. Please adapt your code to use either `displot` (a figure-level function with similar flexibility) or `histplot` (an axes-level function for histograms).\n",
      "  warnings.warn(msg, FutureWarning)\n"
     ]
    },
    {
     "data": {
      "image/png": "[encoded data removed]",
      "text/plain": [
       "<Figure size 1440x288 with 2 Axes>"
      ]
     },
     "metadata": {
      "needs_background": "light"
     },
     "output_type": "display_data"
    },
    {
     "data": {
      "image/png": "[encoded data removed]",
      "text/plain": [
       "<Figure size 1440x288 with 2 Axes>"
      ]
     },
     "metadata": {
      "needs_background": "light"
     },
     "output_type": "display_data"
    },
    {
     "data": {
      "image/png": "[encoded data removed]",
      "text/plain": [
       "<Figure size 1440x288 with 2 Axes>"
      ]
     },
     "metadata": {
      "needs_background": "light"
     },
     "output_type": "display_data"
    }
   ],
   "source": [
    "for model_str, model in model_to_clf.items():\n",
    "    print(model)\n",
    "    if model == SVC:\n",
    "        clf = model(probability=True)\n",
    "    elif model == LogisticRegression:\n",
    "        clf = model(solver='liblinear')\n",
    "    else:\n",
    "        clf = model()\n",
    "    clf.fit(train_X, train_y)\n",
    "\n",
    "    \n",
    "    pred_probs_train = clf.predict_proba(train_X)[:,1]\n",
    "    pred_probs_test = clf.predict_proba(test_X)[:,1]\n",
    "    pred_probs_valid = clf.predict_proba(valid_X)[:,1]\n",
    "    model_to_probs[model_str] = {'train': pred_probs_train, 'test': pred_probs_test, 'valid': pred_probs_valid}\n",
    "    plt.figure(figsize=(20,4))\n",
    "    \n",
    "    plt.subplot(1,2,1)\n",
    "    sns.distplot(pred_probs_train)\n",
    "    plt.title(f\"{model_str} - train\", fontsize=20)\n",
    "    \n",
    "    plt.subplot(1,2,2)\n",
    "    sns.distplot(pred_probs_test)\n",
    "    plt.title(f\"{model_str} - test\", fontsize=20)\n",
    "    \n",
    "    model_str_to_trained_model[model_str] = clf"
   ]
  },
  {
   "cell_type": "markdown",
   "id": "0117789e",
   "metadata": {},
   "source": [
    "# predicted probababilities vs empirical probabilities"
   ]
  },
  {
   "cell_type": "code",
   "execution_count": 12,
   "id": "a5f6437f",
   "metadata": {},
   "outputs": [
    {
     "name": "stderr",
     "output_type": "stream",
     "text": [
      "C:\\Users\\mmioi\\anaconda3\\lib\\site-packages\\numpy\\core\\fromnumeric.py:3419: RuntimeWarning: Mean of empty slice.\n",
      "  return _methods._mean(a, axis=axis, dtype=dtype,\n",
      "C:\\Users\\mmioi\\anaconda3\\lib\\site-packages\\numpy\\core\\_methods.py:188: RuntimeWarning: invalid value encountered in double_scalars\n",
      "  ret = ret.dtype.type(ret / rcount)\n"
     ]
    },
    {
     "data": {
      "image/png": "[encoded data removed]",
      "text/plain": [
       "<Figure size 720x288 with 1 Axes>"
      ]
     },
     "metadata": {
      "needs_background": "light"
     },
     "output_type": "display_data"
    },
    {
     "data": {
      "image/png": "[encoded data removed]",
      "text/plain": [
       "<Figure size 720x288 with 1 Axes>"
      ]
     },
     "metadata": {
      "needs_background": "light"
     },
     "output_type": "display_data"
    },
    {
     "data": {
      "image/png": "[encoded data removed]",
      "text/plain": [
       "<Figure size 720x288 with 1 Axes>"
      ]
     },
     "metadata": {
      "needs_background": "light"
     },
     "output_type": "display_data"
    }
   ],
   "source": [
    "for model_str, pred_prob_dict in model_to_probs.items():\n",
    "    pred_probs = pred_prob_dict['test']\n",
    "\n",
    "    pred_probs_space = np.linspace(pred_probs.min(), pred_probs.max(), 10)\n",
    "\n",
    "    empirical_probs = []\n",
    "    pred_probs_midpoints = []\n",
    "\n",
    "    for i in range(len(pred_probs_space)-1):\n",
    "        empirical_probs.append(np.mean(test_y[(pred_probs > pred_probs_space[i]) & (pred_probs < pred_probs_space[i+1])]))\n",
    "        pred_probs_midpoints.append((pred_probs_space[i] + pred_probs_space[i+1])/2)\n",
    "\n",
    "    plt.figure(figsize=(10,4))\n",
    "    plt.plot(pred_probs_midpoints, empirical_probs, linewidth=2, marker='o')\n",
    "    plt.title(f\"{model_str}\", fontsize=20)\n",
    "    plt.xlabel('predicted prob', fontsize=14)\n",
    "    plt.ylabel('empirical prob', fontsize=14)\n",
    "    \n",
    "    plt.plot([0,1],[0,1],linestyle='--',color='gray')\n",
    "    \n",
    "    plt.legend(['original', 'ideal'], fontsize=20)"
   ]
  },
  {
   "cell_type": "markdown",
   "id": "70a4e943",
   "metadata": {},
   "source": [
    "Can't really perform any prob calibration since both models are infact producing probabilities close to the ideal "
   ]
  },
  {
   "cell_type": "markdown",
   "id": "0b0fac47",
   "metadata": {
    "scrolled": true
   },
   "source": [
    "# predicting locations "
   ]
  },
  {
   "cell_type": "code",
   "execution_count": null,
   "id": "acca72e8",
   "metadata": {},
   "outputs": [],
   "source": []
  },
  {
   "cell_type": "code",
   "execution_count": null,
   "id": "3ce9b231",
   "metadata": {},
   "outputs": [],
   "source": [
    "from sklearn.cluster import KMeans "
   ]
  },
  {
   "cell_type": "code",
   "execution_count": null,
   "id": "16b9c2c1",
   "metadata": {},
   "outputs": [],
   "source": []
  },
  {
   "cell_type": "code",
   "execution_count": 504,
   "id": "f46f74d4",
   "metadata": {},
   "outputs": [
    {
     "data": {
      "image/png": "[encoded data removed]",
      "text/plain": [
       "<Figure size 432x288 with 1 Axes>"
      ]
     },
     "metadata": {
      "needs_background": "light"
     },
     "output_type": "display_data"
    }
   ],
   "source": [
    "xtrain,xtest=train_test_split(df,test_size=0.3,random_state=123)\n",
    "ks = range(1, 10)\n",
    "inertias = []\n",
    "\n",
    "for k in ks:\n",
    "    # Create a KMeans instance with k clusters: model\n",
    "    model=KMeans(n_clusters=k)\n",
    "    \n",
    "    # Fit model to samples\n",
    "    model.fit(X_train)\n",
    "    \n",
    "    # Append the inertia to the list of inertias\n",
    "    inertias.append(model.inertia_)\n",
    "    \n",
    "# Plot ks vs inertias\n",
    "plt.plot(ks, inertias, '-o')\n",
    "plt.xlabel('number of clusters, k')\n",
    "plt.ylabel('inertia')\n",
    "plt.xticks(ks)\n",
    "plt.show()\n"
   ]
  },
  {
   "cell_type": "markdown",
   "id": "425b0fea",
   "metadata": {},
   "source": [
    "clustering isn't the way to go "
   ]
  },
  {
   "cell_type": "code",
   "execution_count": 506,
   "id": "30441288",
   "metadata": {},
   "outputs": [
    {
     "data": {
      "text/plain": [
       "Index(['latitude', 'longitude', 'parent_incident_type', 'log', 'Friday',\n",
       "       'Monday', 'Saturday', 'Sunday', 'Thursday', 'Tuesday', 'Wednesday',\n",
       "       'Holiday_4th of July', 'Holiday_Christmas Day', 'Holiday_Christmas Eve',\n",
       "       'Holiday_Columbus Day', 'Holiday_Eastern Easter', 'Holiday_Juneteenth',\n",
       "       'Holiday_Labor Day', 'Holiday_Labor Day Weekend',\n",
       "       'Holiday_Martin Luther King, Jr. Day', 'Holiday_Memorial Day',\n",
       "       'Holiday_New Year's Day', 'Holiday_New Year’s Eve',\n",
       "       'Holiday_Thanksgiving Day', 'Holiday_Thanksgiving Eve',\n",
       "       'Holiday_Valentine’s Day', 'Holiday_Veterans Day',\n",
       "       'Holiday_Washington's Birthday', 'Holiday_Western Easter', 'event',\n",
       "       'year', 'month', 'day', 'hour', 'minute', 'zip', 'neighborhood'],\n",
       "      dtype='object')"
      ]
     },
     "execution_count": 506,
     "metadata": {},
     "output_type": "execute_result"
    }
   ],
   "source": [
    "dfo.columns"
   ]
  },
  {
   "cell_type": "code",
   "execution_count": 543,
   "id": "4f262803",
   "metadata": {},
   "outputs": [],
   "source": [
    "dfo.zip=dfo.zip.astype(str)"
   ]
  },
  {
   "cell_type": "code",
   "execution_count": 544,
   "id": "04dc6555",
   "metadata": {},
   "outputs": [],
   "source": [
    "from sklearn.preprocessing import LabelEncoder as le \n",
    "le=le()\n",
    "dfo.zip=le.fit_transform(dfo.zip)"
   ]
  },
  {
   "cell_type": "code",
   "execution_count": 538,
   "id": "1319ce4f",
   "metadata": {},
   "outputs": [
    {
     "name": "stdout",
     "output_type": "stream",
     "text": [
      "<class 'pandas.core.frame.DataFrame'>\n",
      "DatetimeIndex: 47768 entries, 2018-01-01 00:00:00 to 2021-08-31 02:35:24\n",
      "Data columns (total 37 columns):\n",
      " #   Column                               Non-Null Count  Dtype  \n",
      "---  ------                               --------------  -----  \n",
      " 0   latitude                             47768 non-null  float64\n",
      " 1   longitude                            47768 non-null  float64\n",
      " 2   parent_incident_type                 47768 non-null  float64\n",
      " 3   log                                  47768 non-null  float64\n",
      " 4   Friday                               47768 non-null  float64\n",
      " 5   Monday                               47768 non-null  float64\n",
      " 6   Saturday                             47768 non-null  float64\n",
      " 7   Sunday                               47768 non-null  float64\n",
      " 8   Thursday                             47768 non-null  float64\n",
      " 9   Tuesday                              47768 non-null  float64\n",
      " 10  Wednesday                            47768 non-null  float64\n",
      " 11  Holiday_4th of July                  47768 non-null  float64\n",
      " 12  Holiday_Christmas Day                47768 non-null  float64\n",
      " 13  Holiday_Christmas Eve                47768 non-null  float64\n",
      " 14  Holiday_Columbus Day                 47768 non-null  float64\n",
      " 15  Holiday_Eastern Easter               47768 non-null  float64\n",
      " 16  Holiday_Juneteenth                   47768 non-null  float64\n",
      " 17  Holiday_Labor Day                    47768 non-null  float64\n",
      " 18  Holiday_Labor Day Weekend            47768 non-null  float64\n",
      " 19  Holiday_Martin Luther King, Jr. Day  47768 non-null  float64\n",
      " 20  Holiday_Memorial Day                 47768 non-null  float64\n",
      " 21  Holiday_New Year's Day               47768 non-null  float64\n",
      " 22  Holiday_New Year’s Eve               47768 non-null  float64\n",
      " 23  Holiday_Thanksgiving Day             47768 non-null  float64\n",
      " 24  Holiday_Thanksgiving Eve             47768 non-null  float64\n",
      " 25  Holiday_Valentine’s Day              47768 non-null  float64\n",
      " 26  Holiday_Veterans Day                 47768 non-null  float64\n",
      " 27  Holiday_Washington's Birthday        47768 non-null  float64\n",
      " 28  Holiday_Western Easter               47768 non-null  float64\n",
      " 29  event                                47768 non-null  float64\n",
      " 30  year                                 47768 non-null  int64  \n",
      " 31  month                                47768 non-null  int64  \n",
      " 32  day                                  47768 non-null  int64  \n",
      " 33  hour                                 47768 non-null  int64  \n",
      " 34  minute                               47768 non-null  int64  \n",
      " 35  zip                                  47768 non-null  int32  \n",
      " 36  neighborhood                         47768 non-null  int64  \n",
      "dtypes: float64(30), int32(1), int64(6)\n",
      "memory usage: 13.7 MB\n"
     ]
    }
   ],
   "source": [
    "dfo.info()"
   ]
  },
  {
   "cell_type": "code",
   "execution_count": 545,
   "id": "56c7d077",
   "metadata": {},
   "outputs": [],
   "source": [
    "\n",
    "x=dfo.drop('zip',axis=1).values\n",
    "Y=dfo['zip'].values"
   ]
  },
  {
   "cell_type": "code",
   "execution_count": 546,
   "id": "56fa57bc",
   "metadata": {},
   "outputs": [
    {
     "ename": "TypeError",
     "evalue": "'StandardScaler' object is not callable",
     "output_type": "error",
     "traceback": [
      "\u001b[1;31m---------------------------------------------------------------------------\u001b[0m",
      "\u001b[1;31mTypeError\u001b[0m                                 Traceback (most recent call last)",
      "\u001b[1;32m<ipython-input-546-a7cfb56c9da2>\u001b[0m in \u001b[0;36m<module>\u001b[1;34m\u001b[0m\n\u001b[1;32m----> 1\u001b[1;33m \u001b[0msc\u001b[0m\u001b[1;33m=\u001b[0m\u001b[0msc\u001b[0m\u001b[1;33m(\u001b[0m\u001b[1;33m)\u001b[0m\u001b[1;33m\u001b[0m\u001b[1;33m\u001b[0m\u001b[0m\n\u001b[0m\u001b[0;32m      2\u001b[0m \u001b[0mx\u001b[0m\u001b[1;33m=\u001b[0m\u001b[0msc\u001b[0m\u001b[1;33m.\u001b[0m\u001b[0mfit_transform\u001b[0m\u001b[1;33m(\u001b[0m\u001b[0mx\u001b[0m\u001b[1;33m)\u001b[0m\u001b[1;33m\u001b[0m\u001b[1;33m\u001b[0m\u001b[0m\n",
      "\u001b[1;31mTypeError\u001b[0m: 'StandardScaler' object is not callable"
     ]
    }
   ],
   "source": [
    "sc=sc()\n",
    "x=sc.fit_transform(x)"
   ]
  },
  {
   "cell_type": "code",
   "execution_count": 547,
   "id": "74fc0f56",
   "metadata": {},
   "outputs": [],
   "source": [
    "X_train,X_test,y_train,y_test=train_test_split(x,Y,test_size=0.3,random_state=0)"
   ]
  },
  {
   "cell_type": "code",
   "execution_count": 548,
   "id": "911f15e5",
   "metadata": {
    "scrolled": true
   },
   "outputs": [
    {
     "name": "stdout",
     "output_type": "stream",
     "text": [
      "0.719977670783616\n",
      "              precision    recall  f1-score   support\n",
      "\n",
      "           0       0.89      0.92      0.91        37\n",
      "           1       0.77      0.68      0.72       655\n",
      "           2       0.55      0.59      0.57       497\n",
      "           3       0.44      0.42      0.43       368\n",
      "           4       0.72      0.72      0.72       527\n",
      "           5       0.67      0.67      0.67       887\n",
      "           6       0.91      0.91      0.91      1231\n",
      "           7       0.78      0.85      0.81       608\n",
      "           8       0.25      0.13      0.17       381\n",
      "           9       0.79      0.74      0.76       543\n",
      "          10       0.69      0.75      0.72      1572\n",
      "          11       0.45      0.43      0.44       729\n",
      "          12       0.81      0.78      0.80      1117\n",
      "          13       0.60      0.70      0.65       881\n",
      "          14       0.83      0.75      0.79      2222\n",
      "          15       0.83      0.78      0.80       955\n",
      "          16       0.00      0.00      0.00         4\n",
      "          17       0.94      0.95      0.94       616\n",
      "          18       0.45      0.67      0.54       491\n",
      "          19       0.00      0.00      0.00         4\n",
      "          20       0.00      0.00      0.00         6\n",
      "\n",
      "    accuracy                           0.72     14331\n",
      "   macro avg       0.59      0.59      0.59     14331\n",
      "weighted avg       0.72      0.72      0.72     14331\n",
      "\n"
     ]
    },
    {
     "name": "stderr",
     "output_type": "stream",
     "text": [
      "C:\\Users\\mmioi\\anaconda3\\lib\\site-packages\\sklearn\\metrics\\_classification.py:1245: UndefinedMetricWarning: Precision and F-score are ill-defined and being set to 0.0 in labels with no predicted samples. Use `zero_division` parameter to control this behavior.\n",
      "  _warn_prf(average, modifier, msg_start, len(result))\n",
      "C:\\Users\\mmioi\\anaconda3\\lib\\site-packages\\sklearn\\metrics\\_classification.py:1245: UndefinedMetricWarning: Precision and F-score are ill-defined and being set to 0.0 in labels with no predicted samples. Use `zero_division` parameter to control this behavior.\n",
      "  _warn_prf(average, modifier, msg_start, len(result))\n",
      "C:\\Users\\mmioi\\anaconda3\\lib\\site-packages\\sklearn\\metrics\\_classification.py:1245: UndefinedMetricWarning: Precision and F-score are ill-defined and being set to 0.0 in labels with no predicted samples. Use `zero_division` parameter to control this behavior.\n",
      "  _warn_prf(average, modifier, msg_start, len(result))\n"
     ]
    }
   ],
   "source": [
    "gb = xg(n_estimators=150, learning_rate =0.25, random_state =0,num_class=2,objective='multi:softmax',eval_metric='auc', use_label_encoder=False)\n",
    "gb.fit(X_train, y_train)\n",
    "ypred=gb.predict(X_test)\n",
    "print(accuracy_score(y_test,ypred))\n",
    "print(classification_report(y_test,ypred))"
   ]
  },
  {
   "cell_type": "code",
   "execution_count": null,
   "id": "cc3d316e",
   "metadata": {},
   "outputs": [],
   "source": []
  },
  {
   "cell_type": "code",
   "execution_count": null,
   "id": "fd2d530d",
   "metadata": {},
   "outputs": [],
   "source": []
  },
  {
   "cell_type": "code",
   "execution_count": null,
   "id": "07c5bc42",
   "metadata": {},
   "outputs": [],
   "source": []
  },
  {
   "cell_type": "code",
   "execution_count": null,
   "id": "df57f76a",
   "metadata": {},
   "outputs": [],
   "source": []
  },
  {
   "cell_type": "code",
   "execution_count": null,
   "id": "2b5fb1ac",
   "metadata": {},
   "outputs": [],
   "source": []
  },
  {
   "cell_type": "code",
   "execution_count": null,
   "id": "df67b2c7",
   "metadata": {},
   "outputs": [],
   "source": []
  },
  {
   "cell_type": "code",
   "execution_count": null,
   "id": "4f5f0a83",
   "metadata": {},
   "outputs": [],
   "source": []
  },
  {
   "cell_type": "code",
   "execution_count": null,
   "id": "1b0f3bc9",
   "metadata": {},
   "outputs": [],
   "source": []
  },
  {
   "cell_type": "code",
   "execution_count": null,
   "id": "44b3140b",
   "metadata": {},
   "outputs": [],
   "source": []
  },
  {
   "cell_type": "code",
   "execution_count": null,
   "id": "596c8d87",
   "metadata": {},
   "outputs": [],
   "source": []
  },
  {
   "cell_type": "code",
   "execution_count": null,
   "id": "8d847236",
   "metadata": {},
   "outputs": [],
   "source": []
  },
  {
   "cell_type": "code",
   "execution_count": null,
   "id": "642f7dde",
   "metadata": {},
   "outputs": [],
   "source": [
    "\n"
   ]
  },
  {
   "cell_type": "code",
   "execution_count": null,
   "id": "2ccac712",
   "metadata": {},
   "outputs": [],
   "source": []
  },
  {
   "cell_type": "code",
   "execution_count": null,
   "id": "4606f989",
   "metadata": {},
   "outputs": [],
   "source": []
  },
  {
   "cell_type": "code",
   "execution_count": null,
   "id": "11576fd3",
   "metadata": {},
   "outputs": [],
   "source": []
  },
  {
   "cell_type": "code",
   "execution_count": null,
   "id": "eaa9ef14",
   "metadata": {},
   "outputs": [],
   "source": []
  },
  {
   "cell_type": "code",
   "execution_count": null,
   "id": "c609ccc8",
   "metadata": {},
   "outputs": [],
   "source": []
  },
  {
   "cell_type": "code",
   "execution_count": null,
   "id": "91538a04",
   "metadata": {},
   "outputs": [],
   "source": []
  },
  {
   "cell_type": "code",
   "execution_count": null,
   "id": "f989f4a5",
   "metadata": {},
   "outputs": [],
   "source": []
  },
  {
   "cell_type": "code",
   "execution_count": null,
   "id": "57662220",
   "metadata": {},
   "outputs": [],
   "source": []
  },
  {
   "cell_type": "code",
   "execution_count": null,
   "id": "d8e960d7",
   "metadata": {},
   "outputs": [],
   "source": []
  },
  {
   "cell_type": "code",
   "execution_count": null,
   "id": "115de2b7",
   "metadata": {},
   "outputs": [],
   "source": []
  },
  {
   "cell_type": "code",
   "execution_count": null,
   "id": "8fa33b2b",
   "metadata": {},
   "outputs": [],
   "source": []
  },
  {
   "cell_type": "code",
   "execution_count": null,
   "id": "3e505516",
   "metadata": {},
   "outputs": [],
   "source": []
  },
  {
   "cell_type": "code",
   "execution_count": null,
   "id": "d13173d3",
   "metadata": {},
   "outputs": [],
   "source": []
  },
  {
   "cell_type": "code",
   "execution_count": null,
   "id": "da50278c",
   "metadata": {},
   "outputs": [],
   "source": []
  },
  {
   "cell_type": "code",
   "execution_count": null,
   "id": "848471f6",
   "metadata": {},
   "outputs": [],
   "source": []
  },
  {
   "cell_type": "code",
   "execution_count": null,
   "id": "ae3adfd9",
   "metadata": {},
   "outputs": [],
   "source": []
  },
  {
   "cell_type": "code",
   "execution_count": null,
   "id": "8285e5d8",
   "metadata": {},
   "outputs": [],
   "source": []
  },
  {
   "cell_type": "code",
   "execution_count": null,
   "id": "fc7a48e3",
   "metadata": {},
   "outputs": [],
   "source": []
  },
  {
   "cell_type": "code",
   "execution_count": null,
   "id": "65a95a9e",
   "metadata": {},
   "outputs": [],
   "source": []
  },
  {
   "cell_type": "code",
   "execution_count": null,
   "id": "75c3d7bc",
   "metadata": {},
   "outputs": [],
   "source": []
  },
  {
   "cell_type": "code",
   "execution_count": null,
   "id": "55e42321",
   "metadata": {},
   "outputs": [],
   "source": []
  },
  {
   "cell_type": "code",
   "execution_count": null,
   "id": "45733c6d",
   "metadata": {},
   "outputs": [],
   "source": []
  },
  {
   "cell_type": "code",
   "execution_count": null,
   "id": "6435c399",
   "metadata": {},
   "outputs": [],
   "source": []
  },
  {
   "cell_type": "code",
   "execution_count": null,
   "id": "e21f224b",
   "metadata": {},
   "outputs": [],
   "source": []
  }
 ],
 "metadata": {
  "kernelspec": {
   "display_name": "Python 3",
   "language": "python",
   "name": "python3"
  },
  "language_info": {
   "codemirror_mode": {
    "name": "ipython",
    "version": 3
   },
   "file_extension": ".py",
   "mimetype": "text/x-python",
   "name": "python",
   "nbconvert_exporter": "python",
   "pygments_lexer": "ipython3",
   "version": "3.8.8"
  }
 },
 "nbformat": 4,
 "nbformat_minor": 5
}
