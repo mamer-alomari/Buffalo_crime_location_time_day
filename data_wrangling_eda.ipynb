{
 "cells": [
  {
   "cell_type": "code",
   "execution_count": 3,
   "id": "b570717e",
   "metadata": {},
   "outputs": [],
   "source": [
    "import findspark\n",
    "findspark.init()\n",
    "import pyspark # only run after findspark.init()\n",
    "from pyspark.sql import SparkSession\n",
    "spark = SparkSession.builder.getOrCreate()\n",
    "import pandas as pd\n",
    "sc = spark.sparkContext\n",
    "import json \n",
    "from sodapy import Socrata"
   ]
  },
  {
   "cell_type": "code",
   "execution_count": 4,
   "id": "c9bf0026",
   "metadata": {},
   "outputs": [
    {
     "name": "stderr",
     "output_type": "stream",
     "text": [
      "WARNING:root:Requests made without an app_token will be subject to strict throttling limits.\n"
     ]
    }
   ],
   "source": [
    "client = Socrata(\"data.buffalony.gov\", None)\n",
    "results = client.get(\"d6g9-xbgu\", limit=1000000)"
   ]
  },
  {
   "cell_type": "code",
   "execution_count": 6,
   "id": "c4ee2b78",
   "metadata": {},
   "outputs": [
    {
     "name": "stdout",
     "output_type": "stream",
     "text": [
      "<class 'pandas.core.frame.DataFrame'>\n",
      "RangeIndex: 274403 entries, 0 to 274402\n",
      "Data columns (total 33 columns):\n",
      " #   Column                       Non-Null Count   Dtype \n",
      "---  ------                       --------------   ----- \n",
      " 0   case_number                  274403 non-null  object\n",
      " 1   incident_datetime            274398 non-null  object\n",
      " 2   incident_type_primary        274403 non-null  object\n",
      " 3   incident_description         274403 non-null  object\n",
      " 4   address_1                    274365 non-null  object\n",
      " 5   city                         274403 non-null  object\n",
      " 6   state                        274403 non-null  object\n",
      " 7   zip                          43620 non-null   object\n",
      " 8   latitude                     273482 non-null  object\n",
      " 9   longitude                    273482 non-null  object\n",
      " 10  created_at                   274403 non-null  object\n",
      " 11  location                     272016 non-null  object\n",
      " 12  hour_of_day                  274403 non-null  object\n",
      " 13  day_of_week                  274403 non-null  object\n",
      " 14  parent_incident_type         274403 non-null  object\n",
      " 15  census_tract_1               11519 non-null   object\n",
      " 16  census_block_1               11519 non-null   object\n",
      " 17  census_block_group_1         11519 non-null   object\n",
      " 18  neighborhood_1               11519 non-null   object\n",
      " 19  police_district_1            11519 non-null   object\n",
      " 20  council_district_1           11501 non-null   object\n",
      " 21  census_tract_2010            11448 non-null   object\n",
      " 22  census_block_group_2010      11448 non-null   object\n",
      " 23  census_block_2010            11448 non-null   object\n",
      " 24  :@computed_region_kwzn_pe6v  271322 non-null  object\n",
      " 25  :@computed_region_eziv_p4ck  270625 non-null  object\n",
      " 26  :@computed_region_uh5x_q5mi  270574 non-null  object\n",
      " 27  :@computed_region_dwzh_dtk5  270623 non-null  object\n",
      " 28  :@computed_region_xbxg_7ifr  270606 non-null  object\n",
      " 29  :@computed_region_tmcg_v66k  270569 non-null  object\n",
      " 30  :@computed_region_fk4y_hpmh  270636 non-null  object\n",
      " 31  incident_id                  255126 non-null  object\n",
      " 32  updated_at                   255126 non-null  object\n",
      "dtypes: object(33)\n",
      "memory usage: 69.1+ MB\n"
     ]
    }
   ],
   "source": [
    "df1=pd.DataFrame.from_records(results)\n",
    "df1.info()"
   ]
  },
  {
   "cell_type": "code",
   "execution_count": 50,
   "id": "74c0fae2",
   "metadata": {},
   "outputs": [
    {
     "data": {
      "text/html": [
       "<div>\n",
       "<style scoped>\n",
       "    .dataframe tbody tr th:only-of-type {\n",
       "        vertical-align: middle;\n",
       "    }\n",
       "\n",
       "    .dataframe tbody tr th {\n",
       "        vertical-align: top;\n",
       "    }\n",
       "\n",
       "    .dataframe thead th {\n",
       "        text-align: right;\n",
       "    }\n",
       "</style>\n",
       "<table border=\"1\" class=\"dataframe\">\n",
       "  <thead>\n",
       "    <tr style=\"text-align: right;\">\n",
       "      <th></th>\n",
       "      <th>incident_datetime</th>\n",
       "      <th>address_1</th>\n",
       "      <th>city</th>\n",
       "      <th>state</th>\n",
       "      <th>latitude</th>\n",
       "      <th>longitude</th>\n",
       "      <th>hour_of_day</th>\n",
       "      <th>day_of_week</th>\n",
       "      <th>parent_incident_type</th>\n",
       "    </tr>\n",
       "  </thead>\n",
       "  <tbody>\n",
       "    <tr>\n",
       "      <th>0</th>\n",
       "      <td>2020-08-27T12:00:00.000</td>\n",
       "      <td>100 Block GRACE ST</td>\n",
       "      <td>Buffalo</td>\n",
       "      <td>NY</td>\n",
       "      <td>42.944</td>\n",
       "      <td>-78.9</td>\n",
       "      <td>1</td>\n",
       "      <td>FRIDAY</td>\n",
       "      <td>Theft of Vehicle</td>\n",
       "    </tr>\n",
       "    <tr>\n",
       "      <th>1</th>\n",
       "      <td>2020-08-28T01:21:00.000</td>\n",
       "      <td>300 Block CORNWALL AV</td>\n",
       "      <td>Buffalo</td>\n",
       "      <td>NY</td>\n",
       "      <td>42.924</td>\n",
       "      <td>-78.822</td>\n",
       "      <td>1</td>\n",
       "      <td>FRIDAY</td>\n",
       "      <td>Assault</td>\n",
       "    </tr>\n",
       "    <tr>\n",
       "      <th>2</th>\n",
       "      <td>2020-08-28T02:45:00.000</td>\n",
       "      <td>PLYMOUTH AV &amp; HAMPSHIRE ST</td>\n",
       "      <td>Buffalo</td>\n",
       "      <td>NY</td>\n",
       "      <td>42.911</td>\n",
       "      <td>-78.877</td>\n",
       "      <td>2</td>\n",
       "      <td>FRIDAY</td>\n",
       "      <td>Assault</td>\n",
       "    </tr>\n",
       "    <tr>\n",
       "      <th>3</th>\n",
       "      <td>2020-08-28T03:30:00.000</td>\n",
       "      <td>300 Block SHIRLEY AV</td>\n",
       "      <td>Buffalo</td>\n",
       "      <td>NY</td>\n",
       "      <td>42.944</td>\n",
       "      <td>-78.811</td>\n",
       "      <td>5</td>\n",
       "      <td>FRIDAY</td>\n",
       "      <td>Breaking &amp; Entering</td>\n",
       "    </tr>\n",
       "    <tr>\n",
       "      <th>4</th>\n",
       "      <td>2020-08-28T01:30:00.000</td>\n",
       "      <td>300 Block HAMPSHIRE ST</td>\n",
       "      <td>Buffalo</td>\n",
       "      <td>NY</td>\n",
       "      <td>42.914</td>\n",
       "      <td>-78.891</td>\n",
       "      <td>5</td>\n",
       "      <td>FRIDAY</td>\n",
       "      <td>Theft</td>\n",
       "    </tr>\n",
       "  </tbody>\n",
       "</table>\n",
       "</div>"
      ],
      "text/plain": [
       "         incident_datetime                   address_1     city state  \\\n",
       "0  2020-08-27T12:00:00.000          100 Block GRACE ST  Buffalo    NY   \n",
       "1  2020-08-28T01:21:00.000       300 Block CORNWALL AV  Buffalo    NY   \n",
       "2  2020-08-28T02:45:00.000  PLYMOUTH AV & HAMPSHIRE ST  Buffalo    NY   \n",
       "3  2020-08-28T03:30:00.000        300 Block SHIRLEY AV  Buffalo    NY   \n",
       "4  2020-08-28T01:30:00.000      300 Block HAMPSHIRE ST  Buffalo    NY   \n",
       "\n",
       "  latitude longitude hour_of_day day_of_week parent_incident_type  \n",
       "0   42.944     -78.9           1      FRIDAY     Theft of Vehicle  \n",
       "1   42.924   -78.822           1      FRIDAY              Assault  \n",
       "2   42.911   -78.877           2      FRIDAY              Assault  \n",
       "3   42.944   -78.811           5      FRIDAY  Breaking & Entering  \n",
       "4   42.914   -78.891           5      FRIDAY                Theft  "
      ]
     },
     "execution_count": 50,
     "metadata": {},
     "output_type": "execute_result"
    }
   ],
   "source": [
    "df1.columns\n",
    "df2=df1[['incident_datetime', \n",
    "        'address_1', 'city', 'state', 'latitude',\n",
    "       'longitude', 'hour_of_day', 'day_of_week',\n",
    "       'parent_incident_type']]\n",
    "df2.head()"
   ]
  },
  {
   "cell_type": "code",
   "execution_count": 13,
   "id": "1b1338a7",
   "metadata": {},
   "outputs": [
    {
     "name": "stdout",
     "output_type": "stream",
     "text": [
      "<class 'pandas.core.frame.DataFrame'>\n",
      "RangeIndex: 274403 entries, 0 to 274402\n",
      "Data columns (total 11 columns):\n",
      " #   Column                Non-Null Count   Dtype \n",
      "---  ------                --------------   ----- \n",
      " 0   incident_datetime     274398 non-null  object\n",
      " 1   address_1             274365 non-null  object\n",
      " 2   city                  274403 non-null  object\n",
      " 3   state                 274403 non-null  object\n",
      " 4   zip                   43620 non-null   object\n",
      " 5   latitude              273482 non-null  object\n",
      " 6   longitude             273482 non-null  object\n",
      " 7   location              272016 non-null  object\n",
      " 8   hour_of_day           274403 non-null  object\n",
      " 9   day_of_week           274403 non-null  object\n",
      " 10  parent_incident_type  274403 non-null  object\n",
      "dtypes: object(11)\n",
      "memory usage: 23.0+ MB\n"
     ]
    }
   ],
   "source": [
    "df2.info()"
   ]
  },
  {
   "cell_type": "code",
   "execution_count": 9,
   "id": "3b769fe0",
   "metadata": {},
   "outputs": [
    {
     "data": {
      "text/plain": [
       "array(['Theft of Vehicle', 'Assault', 'Breaking & Entering', 'Theft',\n",
       "       'Robbery', 'Sexual Offense', 'Homicide', 'Sexual Assault',\n",
       "       'Other Sexual Offense'], dtype=object)"
      ]
     },
     "execution_count": 9,
     "metadata": {},
     "output_type": "execute_result"
    }
   ],
   "source": [
    "df2.parent_incident_type.unique()\n"
   ]
  },
  {
   "cell_type": "code",
   "execution_count": 51,
   "id": "71f58212",
   "metadata": {},
   "outputs": [],
   "source": [
    "df2=pd.DataFrame(df2)"
   ]
  },
  {
   "cell_type": "code",
   "execution_count": 60,
   "id": "4f74d786",
   "metadata": {},
   "outputs": [],
   "source": [
    "df2.incident_datetime=pd.to_datetime(df2.incident_datetime)"
   ]
  },
  {
   "cell_type": "code",
   "execution_count": 52,
   "id": "6cef9c78",
   "metadata": {},
   "outputs": [
    {
     "data": {
      "text/plain": [
       "array(['FRIDAY', 'SATURDAY', 'SUNDAY', 'WEDNESDAY', 'THURSDAY', 'MONDAY',\n",
       "       'TUESDAY', 'Tuesday', 'Monday', 'Saturday', 'Thursday', 'Friday',\n",
       "       'Wednesday', 'Sunday', 'null'], dtype=object)"
      ]
     },
     "execution_count": 52,
     "metadata": {},
     "output_type": "execute_result"
    }
   ],
   "source": [
    "df2.day_of_week.unique()"
   ]
  },
  {
   "cell_type": "code",
   "execution_count": 53,
   "id": "d5262516",
   "metadata": {},
   "outputs": [
    {
     "name": "stdout",
     "output_type": "stream",
     "text": [
      "<class 'pandas.core.frame.DataFrame'>\n",
      "RangeIndex: 274403 entries, 0 to 274402\n",
      "Data columns (total 9 columns):\n",
      " #   Column                Non-Null Count   Dtype \n",
      "---  ------                --------------   ----- \n",
      " 0   incident_datetime     274398 non-null  object\n",
      " 1   address_1             274365 non-null  object\n",
      " 2   city                  274403 non-null  object\n",
      " 3   state                 274403 non-null  object\n",
      " 4   latitude              273482 non-null  object\n",
      " 5   longitude             273482 non-null  object\n",
      " 6   hour_of_day           274403 non-null  object\n",
      " 7   day_of_week           274403 non-null  object\n",
      " 8   parent_incident_type  274403 non-null  object\n",
      "dtypes: object(9)\n",
      "memory usage: 18.8+ MB\n"
     ]
    }
   ],
   "source": [
    "df2.info()"
   ]
  },
  {
   "cell_type": "code",
   "execution_count": 54,
   "id": "68a69e2c",
   "metadata": {},
   "outputs": [
    {
     "data": {
      "text/plain": [
       "array(['FRIDAY', 'SATURDAY', 'SUNDAY', 'WEDNESDAY', 'THURSDAY', 'MONDAY',\n",
       "       'TUESDAY', 'Tuesday', 'Monday', 'Saturday', 'Thursday', 'Friday',\n",
       "       'Wednesday', 'Sunday', 'null'], dtype=object)"
      ]
     },
     "execution_count": 54,
     "metadata": {},
     "output_type": "execute_result"
    }
   ],
   "source": [
    "df2.day_of_week.unique()"
   ]
  },
  {
   "cell_type": "code",
   "execution_count": 55,
   "id": "596dc272",
   "metadata": {},
   "outputs": [],
   "source": [
    "df2.day_of_week=df2.day_of_week.str.replace('SATURDAY','Saturday')\n",
    "df2.day_of_week=df2.day_of_week.str.replace('FRIDAY','Friday')\n",
    "df2.day_of_week=df2.day_of_week.str.replace('SUNDAY', 'Sunday')\n",
    "df2.day_of_week=df2.day_of_week.str.replace('MONDAY','Monday')\n",
    "df2.day_of_week=df2.day_of_week.str.replace('TUESDAY','Tuesday')\n",
    "df2.day_of_week=df2.day_of_week.str.replace('WEDNESDAY','Wednesday')\n",
    "df2.day_of_week=df2.day_of_week.str.replace('THURSDAY','Thursday')"
   ]
  },
  {
   "cell_type": "code",
   "execution_count": 56,
   "id": "3f51155d",
   "metadata": {},
   "outputs": [
    {
     "data": {
      "text/plain": [
       "array(['Friday', 'Saturday', 'Sunday', 'Wednesday', 'Thursday', 'Monday',\n",
       "       'Tuesday', 'null'], dtype=object)"
      ]
     },
     "execution_count": 56,
     "metadata": {},
     "output_type": "execute_result"
    }
   ],
   "source": [
    "df2.day_of_week.unique()"
   ]
  },
  {
   "cell_type": "code",
   "execution_count": 57,
   "id": "98c8c43e",
   "metadata": {},
   "outputs": [],
   "source": [
    "spark.conf.set(\"spark.sql.execution.arrow.enabled\", \"true\")"
   ]
  },
  {
   "cell_type": "code",
   "execution_count": 58,
   "id": "b9cd2351",
   "metadata": {},
   "outputs": [
    {
     "data": {
      "text/plain": [
       "False    274398\n",
       "True          5\n",
       "Name: incident_datetime, dtype: int64"
      ]
     },
     "execution_count": 58,
     "metadata": {},
     "output_type": "execute_result"
    }
   ],
   "source": [
    "df2.incident_datetime.isna().value_counts()"
   ]
  },
  {
   "cell_type": "code",
   "execution_count": 61,
   "id": "652a5719",
   "metadata": {},
   "outputs": [
    {
     "data": {
      "text/plain": [
       "False    274403\n",
       "Name: city, dtype: int64"
      ]
     },
     "execution_count": 61,
     "metadata": {},
     "output_type": "execute_result"
    }
   ],
   "source": [
    "df2.city.isna().value_counts()"
   ]
  },
  {
   "cell_type": "code",
   "execution_count": 63,
   "id": "551f2c34",
   "metadata": {},
   "outputs": [
    {
     "data": {
      "text/plain": [
       "False    273482\n",
       "True        921\n",
       "Name: longitude, dtype: int64"
      ]
     },
     "execution_count": 63,
     "metadata": {},
     "output_type": "execute_result"
    }
   ],
   "source": [
    "df2.longitude.isna().value_counts()"
   ]
  },
  {
   "cell_type": "code",
   "execution_count": 65,
   "id": "996617b9",
   "metadata": {},
   "outputs": [
    {
     "data": {
      "text/plain": [
       "False    273482\n",
       "True        921\n",
       "Name: latitude, dtype: int64"
      ]
     },
     "execution_count": 65,
     "metadata": {},
     "output_type": "execute_result"
    }
   ],
   "source": [
    "df2.latitude.isna().value_counts()"
   ]
  },
  {
   "cell_type": "code",
   "execution_count": 66,
   "id": "79ae4c05",
   "metadata": {},
   "outputs": [
    {
     "data": {
      "text/plain": [
       "False    274403\n",
       "Name: day_of_week, dtype: int64"
      ]
     },
     "execution_count": 66,
     "metadata": {},
     "output_type": "execute_result"
    }
   ],
   "source": [
    "df2.day_of_week.isna().value_counts()"
   ]
  },
  {
   "cell_type": "code",
   "execution_count": 68,
   "id": "db7e96a7",
   "metadata": {},
   "outputs": [
    {
     "data": {
      "text/plain": [
       "0         False\n",
       "1         False\n",
       "2         False\n",
       "3         False\n",
       "4         False\n",
       "          ...  \n",
       "274398    False\n",
       "274399    False\n",
       "274400    False\n",
       "274401    False\n",
       "274402    False\n",
       "Name: longitude, Length: 274403, dtype: bool"
      ]
     },
     "execution_count": 68,
     "metadata": {},
     "output_type": "execute_result"
    }
   ],
   "source": [
    "filt=df2.longitude.isna()\n",
    "filt"
   ]
  },
  {
   "cell_type": "code",
   "execution_count": 69,
   "id": "3e3d9c83",
   "metadata": {},
   "outputs": [],
   "source": [
    "dff=df2[filt==False]"
   ]
  },
  {
   "cell_type": "code",
   "execution_count": 70,
   "id": "a129afb5",
   "metadata": {},
   "outputs": [
    {
     "data": {
      "text/html": [
       "<div>\n",
       "<style scoped>\n",
       "    .dataframe tbody tr th:only-of-type {\n",
       "        vertical-align: middle;\n",
       "    }\n",
       "\n",
       "    .dataframe tbody tr th {\n",
       "        vertical-align: top;\n",
       "    }\n",
       "\n",
       "    .dataframe thead th {\n",
       "        text-align: right;\n",
       "    }\n",
       "</style>\n",
       "<table border=\"1\" class=\"dataframe\">\n",
       "  <thead>\n",
       "    <tr style=\"text-align: right;\">\n",
       "      <th></th>\n",
       "      <th>incident_datetime</th>\n",
       "      <th>address_1</th>\n",
       "      <th>city</th>\n",
       "      <th>state</th>\n",
       "      <th>latitude</th>\n",
       "      <th>longitude</th>\n",
       "      <th>hour_of_day</th>\n",
       "      <th>day_of_week</th>\n",
       "      <th>parent_incident_type</th>\n",
       "    </tr>\n",
       "  </thead>\n",
       "  <tbody>\n",
       "    <tr>\n",
       "      <th>0</th>\n",
       "      <td>2020-08-27 12:00:00</td>\n",
       "      <td>100 Block GRACE ST</td>\n",
       "      <td>Buffalo</td>\n",
       "      <td>NY</td>\n",
       "      <td>42.944</td>\n",
       "      <td>-78.9</td>\n",
       "      <td>1</td>\n",
       "      <td>Friday</td>\n",
       "      <td>Theft of Vehicle</td>\n",
       "    </tr>\n",
       "    <tr>\n",
       "      <th>1</th>\n",
       "      <td>2020-08-28 01:21:00</td>\n",
       "      <td>300 Block CORNWALL AV</td>\n",
       "      <td>Buffalo</td>\n",
       "      <td>NY</td>\n",
       "      <td>42.924</td>\n",
       "      <td>-78.822</td>\n",
       "      <td>1</td>\n",
       "      <td>Friday</td>\n",
       "      <td>Assault</td>\n",
       "    </tr>\n",
       "    <tr>\n",
       "      <th>2</th>\n",
       "      <td>2020-08-28 02:45:00</td>\n",
       "      <td>PLYMOUTH AV &amp; HAMPSHIRE ST</td>\n",
       "      <td>Buffalo</td>\n",
       "      <td>NY</td>\n",
       "      <td>42.911</td>\n",
       "      <td>-78.877</td>\n",
       "      <td>2</td>\n",
       "      <td>Friday</td>\n",
       "      <td>Assault</td>\n",
       "    </tr>\n",
       "    <tr>\n",
       "      <th>3</th>\n",
       "      <td>2020-08-28 03:30:00</td>\n",
       "      <td>300 Block SHIRLEY AV</td>\n",
       "      <td>Buffalo</td>\n",
       "      <td>NY</td>\n",
       "      <td>42.944</td>\n",
       "      <td>-78.811</td>\n",
       "      <td>5</td>\n",
       "      <td>Friday</td>\n",
       "      <td>Breaking &amp; Entering</td>\n",
       "    </tr>\n",
       "    <tr>\n",
       "      <th>4</th>\n",
       "      <td>2020-08-28 01:30:00</td>\n",
       "      <td>300 Block HAMPSHIRE ST</td>\n",
       "      <td>Buffalo</td>\n",
       "      <td>NY</td>\n",
       "      <td>42.914</td>\n",
       "      <td>-78.891</td>\n",
       "      <td>5</td>\n",
       "      <td>Friday</td>\n",
       "      <td>Theft</td>\n",
       "    </tr>\n",
       "    <tr>\n",
       "      <th>...</th>\n",
       "      <td>...</td>\n",
       "      <td>...</td>\n",
       "      <td>...</td>\n",
       "      <td>...</td>\n",
       "      <td>...</td>\n",
       "      <td>...</td>\n",
       "      <td>...</td>\n",
       "      <td>...</td>\n",
       "      <td>...</td>\n",
       "    </tr>\n",
       "    <tr>\n",
       "      <th>274398</th>\n",
       "      <td>2020-08-23 23:00:00</td>\n",
       "      <td>400 Block E UTICA ST</td>\n",
       "      <td>Buffalo</td>\n",
       "      <td>NY</td>\n",
       "      <td>42.911</td>\n",
       "      <td>-78.849</td>\n",
       "      <td>23</td>\n",
       "      <td>Sunday</td>\n",
       "      <td>Assault</td>\n",
       "    </tr>\n",
       "    <tr>\n",
       "      <th>274399</th>\n",
       "      <td>2021-08-09 03:43:22</td>\n",
       "      <td>0 Block PARK ST</td>\n",
       "      <td>Buffalo</td>\n",
       "      <td>NY</td>\n",
       "      <td>42.898</td>\n",
       "      <td>-78.876</td>\n",
       "      <td>4</td>\n",
       "      <td>Monday</td>\n",
       "      <td>Breaking &amp; Entering</td>\n",
       "    </tr>\n",
       "    <tr>\n",
       "      <th>274400</th>\n",
       "      <td>2020-09-03 15:00:52</td>\n",
       "      <td>BROADWAY &amp; PERSONS</td>\n",
       "      <td>Buffalo</td>\n",
       "      <td>NY</td>\n",
       "      <td>42.897</td>\n",
       "      <td>-78.82</td>\n",
       "      <td>17</td>\n",
       "      <td>Thursday</td>\n",
       "      <td>Assault</td>\n",
       "    </tr>\n",
       "    <tr>\n",
       "      <th>274401</th>\n",
       "      <td>2020-09-17 16:29:31</td>\n",
       "      <td>200 Block 7TH ST</td>\n",
       "      <td>Buffalo</td>\n",
       "      <td>NY</td>\n",
       "      <td>42.891</td>\n",
       "      <td>-78.885</td>\n",
       "      <td>16</td>\n",
       "      <td>Thursday</td>\n",
       "      <td>Robbery</td>\n",
       "    </tr>\n",
       "    <tr>\n",
       "      <th>274402</th>\n",
       "      <td>2021-07-05 04:53:52</td>\n",
       "      <td>300 Block MINNESOTA AV</td>\n",
       "      <td>Buffalo</td>\n",
       "      <td>NY</td>\n",
       "      <td>42.946</td>\n",
       "      <td>-78.816</td>\n",
       "      <td>4</td>\n",
       "      <td>Monday</td>\n",
       "      <td>Assault</td>\n",
       "    </tr>\n",
       "  </tbody>\n",
       "</table>\n",
       "<p>273482 rows × 9 columns</p>\n",
       "</div>"
      ],
      "text/plain": [
       "         incident_datetime                   address_1     city state  \\\n",
       "0      2020-08-27 12:00:00          100 Block GRACE ST  Buffalo    NY   \n",
       "1      2020-08-28 01:21:00       300 Block CORNWALL AV  Buffalo    NY   \n",
       "2      2020-08-28 02:45:00  PLYMOUTH AV & HAMPSHIRE ST  Buffalo    NY   \n",
       "3      2020-08-28 03:30:00        300 Block SHIRLEY AV  Buffalo    NY   \n",
       "4      2020-08-28 01:30:00      300 Block HAMPSHIRE ST  Buffalo    NY   \n",
       "...                    ...                         ...      ...   ...   \n",
       "274398 2020-08-23 23:00:00        400 Block E UTICA ST  Buffalo    NY   \n",
       "274399 2021-08-09 03:43:22             0 Block PARK ST  Buffalo    NY   \n",
       "274400 2020-09-03 15:00:52          BROADWAY & PERSONS  Buffalo    NY   \n",
       "274401 2020-09-17 16:29:31            200 Block 7TH ST  Buffalo    NY   \n",
       "274402 2021-07-05 04:53:52      300 Block MINNESOTA AV  Buffalo    NY   \n",
       "\n",
       "       latitude longitude hour_of_day day_of_week parent_incident_type  \n",
       "0        42.944     -78.9           1      Friday     Theft of Vehicle  \n",
       "1        42.924   -78.822           1      Friday              Assault  \n",
       "2        42.911   -78.877           2      Friday              Assault  \n",
       "3        42.944   -78.811           5      Friday  Breaking & Entering  \n",
       "4        42.914   -78.891           5      Friday                Theft  \n",
       "...         ...       ...         ...         ...                  ...  \n",
       "274398   42.911   -78.849          23      Sunday              Assault  \n",
       "274399   42.898   -78.876           4      Monday  Breaking & Entering  \n",
       "274400   42.897    -78.82          17    Thursday              Assault  \n",
       "274401   42.891   -78.885          16    Thursday              Robbery  \n",
       "274402   42.946   -78.816           4      Monday              Assault  \n",
       "\n",
       "[273482 rows x 9 columns]"
      ]
     },
     "execution_count": 70,
     "metadata": {},
     "output_type": "execute_result"
    }
   ],
   "source": [
    "dff"
   ]
  },
  {
   "cell_type": "code",
   "execution_count": 71,
   "id": "e393f11c",
   "metadata": {},
   "outputs": [
    {
     "data": {
      "text/plain": [
       "incident_datetime  address_1  city   state  latitude  longitude  hour_of_day  day_of_week  parent_incident_type\n",
       "False              False      False  False  False     False      False        False        False                   273439\n",
       "                   True       False  False  False     False      False        False        False                       38\n",
       "True               False      False  False  False     False      False        False        False                        5\n",
       "dtype: int64"
      ]
     },
     "execution_count": 71,
     "metadata": {},
     "output_type": "execute_result"
    }
   ],
   "source": [
    "dff.isna().value_counts()"
   ]
  },
  {
   "cell_type": "code",
   "execution_count": 73,
   "id": "d095d6e4",
   "metadata": {},
   "outputs": [],
   "source": [
    "filt=dff.address_1.isna()\n",
    "dff=dff[filt==False]"
   ]
  },
  {
   "cell_type": "code",
   "execution_count": 76,
   "id": "6de1f77d",
   "metadata": {},
   "outputs": [
    {
     "data": {
      "text/plain": [
       "incident_datetime  address_1  city   state  latitude  longitude  hour_of_day  day_of_week  parent_incident_type\n",
       "False              False      False  False  False     False      False        False        False                   273439\n",
       "True               False      False  False  False     False      False        False        False                        5\n",
       "dtype: int64"
      ]
     },
     "execution_count": 76,
     "metadata": {},
     "output_type": "execute_result"
    }
   ],
   "source": [
    "dff.isna().value_counts()"
   ]
  },
  {
   "cell_type": "code",
   "execution_count": 77,
   "id": "95508a7e",
   "metadata": {},
   "outputs": [],
   "source": [
    "filt=dff.incident_datetime.isna()\n",
    "dff=dff[filt==False]"
   ]
  },
  {
   "cell_type": "code",
   "execution_count": 78,
   "id": "e95047d6",
   "metadata": {},
   "outputs": [
    {
     "data": {
      "text/plain": [
       "incident_datetime  address_1  city   state  latitude  longitude  hour_of_day  day_of_week  parent_incident_type\n",
       "False              False      False  False  False     False      False        False        False                   273439\n",
       "dtype: int64"
      ]
     },
     "execution_count": 78,
     "metadata": {},
     "output_type": "execute_result"
    }
   ],
   "source": [
    "dff.isna().value_counts()"
   ]
  },
  {
   "cell_type": "code",
   "execution_count": 84,
   "id": "b29892db",
   "metadata": {},
   "outputs": [],
   "source": [
    "\n",
    "dff.to_csv('wrangled.csv')"
   ]
  },
  {
   "cell_type": "markdown",
   "id": "89ed1eda",
   "metadata": {},
   "source": [
    "# EDA"
   ]
  },
  {
   "cell_type": "code",
   "execution_count": 85,
   "id": "9ca778ba",
   "metadata": {},
   "outputs": [],
   "source": [
    "import matplotlib.pyplot as plt\n",
    "import seaborn as sns\n",
    "import numpy as np"
   ]
  },
  {
   "cell_type": "code",
   "execution_count": 91,
   "id": "fb3fa06a",
   "metadata": {},
   "outputs": [
    {
     "data": {
      "text/plain": [
       "Text(0.5, 1.0, 'day of week crime distribution')"
      ]
     },
     "execution_count": 91,
     "metadata": {},
     "output_type": "execute_result"
    },
    {
     "data": {
      "image/png": "[encoded data removed]",
      "text/plain": [
       "<Figure size 432x288 with 1 Axes>"
      ]
     },
     "metadata": {
      "needs_background": "light"
     },
     "output_type": "display_data"
    }
   ],
   "source": [
    "plt.hist(dff.day_of_week,bins=14)\n",
    "plt.title('day of week crime distribution')"
   ]
  },
  {
   "cell_type": "markdown",
   "id": "087bb5c5",
   "metadata": {},
   "source": [
    "no significance! "
   ]
  },
  {
   "cell_type": "code",
   "execution_count": 96,
   "id": "c417d62b",
   "metadata": {},
   "outputs": [
    {
     "data": {
      "text/plain": [
       "(array([32624.,     0.,  9731.,     0.,  8695.,     0.,  7488.,     0.,\n",
       "         5970.,     0.,  4609.,     0.,  4910.,     0.,  6219.,     0.,\n",
       "         9361.,     0., 10143.,     0., 10544.,     0., 11174.,     0.,\n",
       "            0., 15841.,     0., 10833.,     0., 11171.,     0., 12283.,\n",
       "            0., 13261.,     0., 13209.,     0., 12730.,     0., 11497.,\n",
       "            0., 12945.,     0., 12832.,     0., 12814.,     0., 12555.]),\n",
       " array([ 0.        ,  0.47916667,  0.95833333,  1.4375    ,  1.91666667,\n",
       "         2.39583333,  2.875     ,  3.35416667,  3.83333333,  4.3125    ,\n",
       "         4.79166667,  5.27083333,  5.75      ,  6.22916667,  6.70833333,\n",
       "         7.1875    ,  7.66666667,  8.14583333,  8.625     ,  9.10416667,\n",
       "         9.58333333, 10.0625    , 10.54166667, 11.02083333, 11.5       ,\n",
       "        11.97916667, 12.45833333, 12.9375    , 13.41666667, 13.89583333,\n",
       "        14.375     , 14.85416667, 15.33333333, 15.8125    , 16.29166667,\n",
       "        16.77083333, 17.25      , 17.72916667, 18.20833333, 18.6875    ,\n",
       "        19.16666667, 19.64583333, 20.125     , 20.60416667, 21.08333333,\n",
       "        21.5625    , 22.04166667, 22.52083333, 23.        ]),\n",
       " <BarContainer object of 48 artists>)"
      ]
     },
     "execution_count": 96,
     "metadata": {},
     "output_type": "execute_result"
    },
    {
     "data": {
      "image/png": "[encoded data removed]",
      "text/plain": [
       "<Figure size 432x288 with 1 Axes>"
      ]
     },
     "metadata": {
      "needs_background": "light"
     },
     "output_type": "display_data"
    }
   ],
   "source": [
    "plt.hist(dff.hour_of_day.astype('int'),bins=48)"
   ]
  },
  {
   "cell_type": "markdown",
   "id": "312709b5",
   "metadata": {},
   "source": [
    "a few focal points arise from the data: \n",
    "    -it appears that 0:00 am is the hour with crime perday \n",
    "    -5-6:00 am is where crime is at lowest through the day.\n",
    "    "
   ]
  },
  {
   "cell_type": "code",
   "execution_count": 97,
   "id": "5b296dd0",
   "metadata": {},
   "outputs": [
    {
     "data": {
      "text/plain": [
       "array(['Theft of Vehicle', 'Assault', 'Breaking & Entering', 'Theft',\n",
       "       'Robbery', 'Sexual Offense', 'Homicide', 'Sexual Assault',\n",
       "       'Other Sexual Offense'], dtype=object)"
      ]
     },
     "execution_count": 97,
     "metadata": {},
     "output_type": "execute_result"
    }
   ],
   "source": [
    "dff.parent_incident_type.unique()"
   ]
  },
  {
   "cell_type": "code",
   "execution_count": 106,
   "id": "5dc72017",
   "metadata": {},
   "outputs": [
    {
     "data": {
      "text/html": [
       "<div>\n",
       "<style scoped>\n",
       "    .dataframe tbody tr th:only-of-type {\n",
       "        vertical-align: middle;\n",
       "    }\n",
       "\n",
       "    .dataframe tbody tr th {\n",
       "        vertical-align: top;\n",
       "    }\n",
       "\n",
       "    .dataframe thead th {\n",
       "        text-align: right;\n",
       "    }\n",
       "</style>\n",
       "<table border=\"1\" class=\"dataframe\">\n",
       "  <thead>\n",
       "    <tr style=\"text-align: right;\">\n",
       "      <th></th>\n",
       "      <th>incident_datetime</th>\n",
       "      <th>address_1</th>\n",
       "      <th>city</th>\n",
       "      <th>state</th>\n",
       "      <th>latitude</th>\n",
       "      <th>longitude</th>\n",
       "      <th>hour_of_day</th>\n",
       "      <th>day_of_week</th>\n",
       "      <th>parent_incident_type</th>\n",
       "    </tr>\n",
       "  </thead>\n",
       "  <tbody>\n",
       "    <tr>\n",
       "      <th>0</th>\n",
       "      <td>2020-08-27 12:00:00</td>\n",
       "      <td>100 Block GRACE ST</td>\n",
       "      <td>Buffalo</td>\n",
       "      <td>NY</td>\n",
       "      <td>42.944</td>\n",
       "      <td>-78.9</td>\n",
       "      <td>1</td>\n",
       "      <td>Friday</td>\n",
       "      <td>Theft of Vehicle</td>\n",
       "    </tr>\n",
       "    <tr>\n",
       "      <th>5</th>\n",
       "      <td>2020-08-28 00:00:00</td>\n",
       "      <td>500 Block WEST AV</td>\n",
       "      <td>Buffalo</td>\n",
       "      <td>NY</td>\n",
       "      <td>42.906</td>\n",
       "      <td>-78.892</td>\n",
       "      <td>6</td>\n",
       "      <td>Friday</td>\n",
       "      <td>Theft of Vehicle</td>\n",
       "    </tr>\n",
       "    <tr>\n",
       "      <th>6</th>\n",
       "      <td>2020-08-28 03:00:00</td>\n",
       "      <td>0 Block BAYNES ST</td>\n",
       "      <td>Buffalo</td>\n",
       "      <td>NY</td>\n",
       "      <td>42.917</td>\n",
       "      <td>-78.885</td>\n",
       "      <td>7</td>\n",
       "      <td>Friday</td>\n",
       "      <td>Theft of Vehicle</td>\n",
       "    </tr>\n",
       "    <tr>\n",
       "      <th>8</th>\n",
       "      <td>2020-08-28 03:15:00</td>\n",
       "      <td>0 Block 16TH ST</td>\n",
       "      <td>Buffalo</td>\n",
       "      <td>NY</td>\n",
       "      <td>42.907</td>\n",
       "      <td>-78.884</td>\n",
       "      <td>10</td>\n",
       "      <td>Friday</td>\n",
       "      <td>Theft of Vehicle</td>\n",
       "    </tr>\n",
       "    <tr>\n",
       "      <th>15</th>\n",
       "      <td>2020-08-28 14:17:57</td>\n",
       "      <td>100 Block HEDLEY PL</td>\n",
       "      <td>Buffalo</td>\n",
       "      <td>NY</td>\n",
       "      <td>42.923</td>\n",
       "      <td>-78.847</td>\n",
       "      <td>14</td>\n",
       "      <td>Friday</td>\n",
       "      <td>Theft of Vehicle</td>\n",
       "    </tr>\n",
       "  </tbody>\n",
       "</table>\n",
       "</div>"
      ],
      "text/plain": [
       "     incident_datetime            address_1     city state latitude longitude  \\\n",
       "0  2020-08-27 12:00:00   100 Block GRACE ST  Buffalo    NY   42.944     -78.9   \n",
       "5  2020-08-28 00:00:00    500 Block WEST AV  Buffalo    NY   42.906   -78.892   \n",
       "6  2020-08-28 03:00:00    0 Block BAYNES ST  Buffalo    NY   42.917   -78.885   \n",
       "8  2020-08-28 03:15:00      0 Block 16TH ST  Buffalo    NY   42.907   -78.884   \n",
       "15 2020-08-28 14:17:57  100 Block HEDLEY PL  Buffalo    NY   42.923   -78.847   \n",
       "\n",
       "   hour_of_day day_of_week parent_incident_type  \n",
       "0            1      Friday     Theft of Vehicle  \n",
       "5            6      Friday     Theft of Vehicle  \n",
       "6            7      Friday     Theft of Vehicle  \n",
       "8           10      Friday     Theft of Vehicle  \n",
       "15          14      Friday     Theft of Vehicle  "
      ]
     },
     "execution_count": 106,
     "metadata": {},
     "output_type": "execute_result"
    }
   ],
   "source": [
    "theft=dff[dff.parent_incident_type=='Theft of Vehicle']\n",
    "theft.head()"
   ]
  },
  {
   "cell_type": "code",
   "execution_count": 110,
   "id": "9e49b8ab",
   "metadata": {},
   "outputs": [
    {
     "data": {
      "text/plain": [
       "Text(0.5, 1.0, 'theft of vehicle by hour')"
      ]
     },
     "execution_count": 110,
     "metadata": {},
     "output_type": "execute_result"
    },
    {
     "data": {
      "image/png": "[encoded data removed]",
      "text/plain": [
       "<Figure size 432x288 with 1 Axes>"
      ]
     },
     "metadata": {
      "needs_background": "light"
     },
     "output_type": "display_data"
    }
   ],
   "source": [
    "plt.hist(theft.hour_of_day,bins=48)\n",
    "plt.title('theft of vehicle by hour')"
   ]
  },
  {
   "cell_type": "markdown",
   "id": "782e5889",
   "metadata": {},
   "source": [
    "12:00 am is the hour with the most vehichle theft "
   ]
  },
  {
   "cell_type": "code",
   "execution_count": 111,
   "id": "cef3613d",
   "metadata": {},
   "outputs": [
    {
     "data": {
      "text/plain": [
       "Text(0.5, 1.0, 'Theft of vehicle by day')"
      ]
     },
     "execution_count": 111,
     "metadata": {},
     "output_type": "execute_result"
    },
    {
     "data": {
      "image/png": "[encoded data removed]",
      "text/plain": [
       "<Figure size 432x288 with 1 Axes>"
      ]
     },
     "metadata": {
      "needs_background": "light"
     },
     "output_type": "display_data"
    }
   ],
   "source": [
    "plt.hist(theft.day_of_week,bins=48)\n",
    "plt.title('Theft of vehicle by day')"
   ]
  },
  {
   "cell_type": "markdown",
   "id": "64c00991",
   "metadata": {},
   "source": [
    "no daily significance "
   ]
  },
  {
   "cell_type": "code",
   "execution_count": 124,
   "id": "e461fb39",
   "metadata": {},
   "outputs": [
    {
     "data": {
      "text/plain": [
       "Text(0.5, 1.0, 'Assault by hour')"
      ]
     },
     "execution_count": 124,
     "metadata": {},
     "output_type": "execute_result"
    },
    {
     "data": {
      "image/png": "[encoded data removed]",
      "text/plain": [
       "<Figure size 432x288 with 1 Axes>"
      ]
     },
     "metadata": {
      "needs_background": "light"
     },
     "output_type": "display_data"
    }
   ],
   "source": [
    "assult=dff[dff.parent_incident_type=='Assault']\n",
    "plt.hist(assult.hour_of_day.astype('int'),bins=48)\n",
    "plt.title('Assault by hour')"
   ]
  },
  {
   "cell_type": "markdown",
   "id": "c41385bb",
   "metadata": {},
   "source": [
    "0:00 am is the hour with most assaults, assault seems to be operating on a cycle where 6:00 am is the lowest crimes commited time, then an increase by hour takes place up until the peak at 0:00 am, then a reduction to the lowest at 6:00 am?"
   ]
  },
  {
   "cell_type": "code",
   "execution_count": 114,
   "id": "6404e56b",
   "metadata": {},
   "outputs": [
    {
     "data": {
      "text/plain": [
       "Text(0.5, 1.0, 'Assault by day')"
      ]
     },
     "execution_count": 114,
     "metadata": {},
     "output_type": "execute_result"
    },
    {
     "data": {
      "image/png": "[encoded data removed]",
      "text/plain": [
       "<Figure size 432x288 with 1 Axes>"
      ]
     },
     "metadata": {
      "needs_background": "light"
     },
     "output_type": "display_data"
    }
   ],
   "source": [
    "plt.hist(assult.day_of_week,bins=14)\n",
    "plt.title('Assault by day')"
   ]
  },
  {
   "cell_type": "markdown",
   "id": "5a9b1e5a",
   "metadata": {},
   "source": [
    "Saturday and Sunday carry more assaults than other days of the week  "
   ]
  },
  {
   "cell_type": "code",
   "execution_count": 116,
   "id": "3754e2cb",
   "metadata": {},
   "outputs": [
    {
     "data": {
      "text/plain": [
       "array(['Theft of Vehicle', 'Assault', 'Breaking & Entering', 'Theft',\n",
       "       'Robbery', 'Sexual Offense', 'Homicide', 'Sexual Assault',\n",
       "       'Other Sexual Offense'], dtype=object)"
      ]
     },
     "execution_count": 116,
     "metadata": {},
     "output_type": "execute_result"
    }
   ],
   "source": [
    "dff.parent_incident_type.unique()"
   ]
  },
  {
   "cell_type": "code",
   "execution_count": 120,
   "id": "78d4c6e5",
   "metadata": {},
   "outputs": [
    {
     "data": {
      "text/plain": [
       "Text(0.5, 1.0, 'Breaking & Entering by Hour')"
      ]
     },
     "execution_count": 120,
     "metadata": {},
     "output_type": "execute_result"
    },
    {
     "data": {
      "image/png": "[encoded data removed]",
      "text/plain": [
       "<Figure size 432x288 with 1 Axes>"
      ]
     },
     "metadata": {
      "needs_background": "light"
     },
     "output_type": "display_data"
    }
   ],
   "source": [
    "be=dff[dff.parent_incident_type=='Breaking & Entering']\n",
    "plt.hist(be.hour_of_day.astype('int'),bins=48)\n",
    "plt.title('Breaking & Entering by Hour')"
   ]
  },
  {
   "cell_type": "markdown",
   "id": "30137202",
   "metadata": {},
   "source": [
    "again it appears that 0:00 am is the hour with most Breaking and entring"
   ]
  },
  {
   "cell_type": "code",
   "execution_count": 118,
   "id": "e6a0b64b",
   "metadata": {},
   "outputs": [
    {
     "data": {
      "text/plain": [
       "Text(0.5, 1.0, 'Breaking & Entering by Day')"
      ]
     },
     "execution_count": 118,
     "metadata": {},
     "output_type": "execute_result"
    },
    {
     "data": {
      "image/png": "[encoded data removed]",
      "text/plain": [
       "<Figure size 432x288 with 1 Axes>"
      ]
     },
     "metadata": {
      "needs_background": "light"
     },
     "output_type": "display_data"
    }
   ],
   "source": [
    "plt.hist(be.day_of_week,bins=14)\n",
    "plt.title('Breaking & Entering by Day')"
   ]
  },
  {
   "cell_type": "markdown",
   "id": "136e0ce1",
   "metadata": {},
   "source": [
    "No daily significance"
   ]
  },
  {
   "cell_type": "code",
   "execution_count": 123,
   "id": "2800b2c0",
   "metadata": {},
   "outputs": [
    {
     "data": {
      "text/plain": [
       "Text(0.5, 1.0, 'Robbery per Hour')"
      ]
     },
     "execution_count": 123,
     "metadata": {},
     "output_type": "execute_result"
    },
    {
     "data": {
      "image/png": "[encoded data removed]",
      "text/plain": [
       "<Figure size 432x288 with 1 Axes>"
      ]
     },
     "metadata": {
      "needs_background": "light"
     },
     "output_type": "display_data"
    }
   ],
   "source": [
    "rob=dff[dff.parent_incident_type=='Robbery']\n",
    "plt.hist(rob.hour_of_day.astype('int'),bins=48)\n",
    "plt.title('Robbery per Hour')"
   ]
  },
  {
   "cell_type": "markdown",
   "id": "f50ea11c",
   "metadata": {},
   "source": [
    "0:00 am is the hour with most robberies, robberies seems to be operating on a cycle where 6:00 am is the lowest crimes commited time, then an increase by hour takes place up until the peak at 0:00 am, then a reduction to the lowest at 6:00 am"
   ]
  },
  {
   "cell_type": "code",
   "execution_count": 125,
   "id": "145ef846",
   "metadata": {},
   "outputs": [
    {
     "data": {
      "text/plain": [
       "Text(0.5, 1.0, 'Robbery per Day')"
      ]
     },
     "execution_count": 125,
     "metadata": {},
     "output_type": "execute_result"
    },
    {
     "data": {
      "image/png": "[encoded data removed]",
      "text/plain": [
       "<Figure size 432x288 with 1 Axes>"
      ]
     },
     "metadata": {
      "needs_background": "light"
     },
     "output_type": "display_data"
    }
   ],
   "source": [
    "plt.hist(rob.day_of_week,bins=14)\n",
    "plt.title('Robbery per Day')"
   ]
  },
  {
   "cell_type": "code",
   "execution_count": 126,
   "id": "b7e5c046",
   "metadata": {},
   "outputs": [],
   "source": [
    "# no significance "
   ]
  },
  {
   "cell_type": "code",
   "execution_count": 127,
   "id": "4d80433a",
   "metadata": {},
   "outputs": [
    {
     "data": {
      "text/plain": [
       "Text(0.5, 1.0, 'Sexual Offense per Hour')"
      ]
     },
     "execution_count": 127,
     "metadata": {},
     "output_type": "execute_result"
    },
    {
     "data": {
      "image/png": "[encoded data removed]",
      "text/plain": [
       "<Figure size 432x288 with 1 Axes>"
      ]
     },
     "metadata": {
      "needs_background": "light"
     },
     "output_type": "display_data"
    }
   ],
   "source": [
    "sex1=dff[dff.parent_incident_type=='Sexual Offense']\n",
    "plt.hist(sex1.hour_of_day.astype('int'),bins=48)\n",
    "plt.title('Sexual Offense per Hour')"
   ]
  },
  {
   "cell_type": "markdown",
   "id": "57ec5334",
   "metadata": {},
   "source": [
    "unlike all other types of crime , sexual offense peaks at 10:00 am to 6:00pm "
   ]
  },
  {
   "cell_type": "code",
   "execution_count": 129,
   "id": "3cbfa961",
   "metadata": {},
   "outputs": [
    {
     "data": {
      "text/plain": [
       "Text(0.5, 1.0, 'Sexual Offense by Day')"
      ]
     },
     "execution_count": 129,
     "metadata": {},
     "output_type": "execute_result"
    },
    {
     "data": {
      "image/png": "[encoded data removed]",
      "text/plain": [
       "<Figure size 432x288 with 1 Axes>"
      ]
     },
     "metadata": {
      "needs_background": "light"
     },
     "output_type": "display_data"
    }
   ],
   "source": [
    "plt.hist(sex1.day_of_week,bins=14)\n",
    "plt.title('Sexual Offense by Day')"
   ]
  },
  {
   "cell_type": "markdown",
   "id": "12e040eb",
   "metadata": {},
   "source": [
    "Higher levels during the week than weekends "
   ]
  },
  {
   "cell_type": "code",
   "execution_count": 131,
   "id": "c1d47ee8",
   "metadata": {},
   "outputs": [
    {
     "data": {
      "text/plain": [
       "Text(0.5, 1.0, 'Sexual Assault by Hour')"
      ]
     },
     "execution_count": 131,
     "metadata": {},
     "output_type": "execute_result"
    },
    {
     "data": {
      "image/png": "[encoded data removed]",
      "text/plain": [
       "<Figure size 432x288 with 1 Axes>"
      ]
     },
     "metadata": {
      "needs_background": "light"
     },
     "output_type": "display_data"
    }
   ],
   "source": [
    "sex2=dff[dff.parent_incident_type=='Sexual Assault']\n",
    "plt.hist(sex2.hour_of_day.astype('int'),bins=48)\n",
    "plt.title('Sexual Assault by Hour')"
   ]
  },
  {
   "cell_type": "markdown",
   "id": "3e2f341c",
   "metadata": {},
   "source": [
    "sexual assault seems to be lower during the day higher during night time"
   ]
  },
  {
   "cell_type": "code",
   "execution_count": 132,
   "id": "4c386c49",
   "metadata": {},
   "outputs": [
    {
     "data": {
      "text/plain": [
       "Text(0.5, 1.0, 'Sexual Assault by Day')"
      ]
     },
     "execution_count": 132,
     "metadata": {},
     "output_type": "execute_result"
    },
    {
     "data": {
      "image/png": "[encoded data removed]",
      "text/plain": [
       "<Figure size 432x288 with 1 Axes>"
      ]
     },
     "metadata": {
      "needs_background": "light"
     },
     "output_type": "display_data"
    }
   ],
   "source": [
    "plt.hist(sex2.day_of_week,bins=14)\n",
    "plt.title('Sexual Assault by Day')"
   ]
  },
  {
   "cell_type": "markdown",
   "id": "7f4891b3",
   "metadata": {},
   "source": [
    "Marginally higher over the weekend but holds a steady base"
   ]
  },
  {
   "cell_type": "code",
   "execution_count": 134,
   "id": "b7961cf3",
   "metadata": {},
   "outputs": [
    {
     "data": {
      "text/plain": [
       "Text(0.5, 1.0, 'Homocide by Hour')"
      ]
     },
     "execution_count": 134,
     "metadata": {},
     "output_type": "execute_result"
    },
    {
     "data": {
      "image/png": "[encoded data removed]",
      "text/plain": [
       "<Figure size 432x288 with 1 Axes>"
      ]
     },
     "metadata": {
      "needs_background": "light"
     },
     "output_type": "display_data"
    }
   ],
   "source": [
    "hom=dff[dff.parent_incident_type=='Homicide']\n",
    "plt.hist(hom.hour_of_day.astype('int'),bins=48)\n",
    "plt.title('Homocide by Hour')"
   ]
  },
  {
   "cell_type": "code",
   "execution_count": 135,
   "id": "3a8566f0",
   "metadata": {},
   "outputs": [
    {
     "data": {
      "text/plain": [
       "Text(0.5, 1.0, 'Homicide by Day')"
      ]
     },
     "execution_count": 135,
     "metadata": {},
     "output_type": "execute_result"
    },
    {
     "data": {
      "image/png": "[encoded data removed]",
      "text/plain": [
       "<Figure size 432x288 with 1 Axes>"
      ]
     },
     "metadata": {
      "needs_background": "light"
     },
     "output_type": "display_data"
    }
   ],
   "source": [
    "plt.hist(hom.day_of_week,bins=14)\n",
    "plt.title('Homicide by Day')"
   ]
  },
  {
   "cell_type": "code",
   "execution_count": 138,
   "id": "2c987d4a",
   "metadata": {},
   "outputs": [
    {
     "data": {
      "text/plain": [
       "Theft                   119033\n",
       "Assault                  56338\n",
       "Breaking & Entering      52393\n",
       "Theft of Vehicle         22005\n",
       "Robbery                  17742\n",
       "Sexual Assault            2497\n",
       "Other Sexual Offense      2241\n",
       "Homicide                   928\n",
       "Sexual Offense             262\n",
       "Name: parent_incident_type, dtype: int64"
      ]
     },
     "execution_count": 138,
     "metadata": {},
     "output_type": "execute_result"
    }
   ],
   "source": [
    "dff.parent_incident_type.value_counts()"
   ]
  },
  {
   "cell_type": "code",
   "execution_count": 139,
   "id": "b8d99e95",
   "metadata": {},
   "outputs": [
    {
     "data": {
      "text/plain": [
       "Index(['incident_datetime', 'address_1', 'city', 'state', 'latitude',\n",
       "       'longitude', 'hour_of_day', 'day_of_week', 'parent_incident_type'],\n",
       "      dtype='object')"
      ]
     },
     "execution_count": 139,
     "metadata": {},
     "output_type": "execute_result"
    }
   ],
   "source": [
    "dff.columns"
   ]
  },
  {
   "cell_type": "code",
   "execution_count": null,
   "id": "b835b589",
   "metadata": {},
   "outputs": [],
   "source": [
    "sns.scatterplot(x='latitude',y= 'longitude',data=dff)"
   ]
  },
  {
   "cell_type": "code",
   "execution_count": null,
   "id": "32d0599f",
   "metadata": {},
   "outputs": [],
   "source": [
    "plt.show()"
   ]
  },
  {
   "cell_type": "code",
   "execution_count": null,
   "id": "d660bed2",
   "metadata": {},
   "outputs": [],
   "source": []
  }
 ],
 "metadata": {
  "kernelspec": {
   "display_name": "Python 3",
   "language": "python",
   "name": "python3"
  },
  "language_info": {
   "codemirror_mode": {
    "name": "ipython",
    "version": 3
   },
   "file_extension": ".py",
   "mimetype": "text/x-python",
   "name": "python",
   "nbconvert_exporter": "python",
   "pygments_lexer": "ipython3",
   "version": "3.8.8"
  }
 },
 "nbformat": 4,
 "nbformat_minor": 5
}
