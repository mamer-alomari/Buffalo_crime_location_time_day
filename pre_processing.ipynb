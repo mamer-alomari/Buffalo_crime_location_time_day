{
 "cells": [
  {
   "cell_type": "code",
   "execution_count": 1,
   "id": "fcafb0ad",
   "metadata": {},
   "outputs": [],
   "source": [
    "#import findspark\n",
    "#findspark.init()\n",
    "#import pyspark # only run after findspark.init()\n",
    "#from pyspark.sql import SparkSession\n",
    "#spark = SparkSession.builder.getOrCreate()\n",
    "import pandas as pd\n",
    "#sc = spark.sparkContext\n",
    "import json \n",
    "from sodapy import Socrata\n",
    "from keras import models\n",
    "from keras import layers\n",
    "import numpy as np \n"
   ]
  },
  {
   "cell_type": "code",
   "execution_count": 33,
   "id": "17b36604",
   "metadata": {},
   "outputs": [],
   "source": [
    "import pipeline"
   ]
  },
  {
   "cell_type": "code",
   "execution_count": 31,
   "id": "cb024005",
   "metadata": {},
   "outputs": [],
   "source": [
    "url=\"data.buffalony.gov\"\n",
    "db=\"d6g9-xbgu\""
   ]
  },
  {
   "cell_type": "code",
   "execution_count": 36,
   "id": "5d5fdf28",
   "metadata": {},
   "outputs": [],
   "source": [
    "df=pd.read_csv('data/wrangled.csv')"
   ]
  },
  {
   "cell_type": "code",
   "execution_count": 37,
   "id": "c32ee9a5",
   "metadata": {},
   "outputs": [
    {
     "name": "stdout",
     "output_type": "stream",
     "text": [
      "<class 'pandas.core.frame.DataFrame'>\n",
      "RangeIndex: 273439 entries, 0 to 273438\n",
      "Data columns (total 10 columns):\n",
      " #   Column                Non-Null Count   Dtype  \n",
      "---  ------                --------------   -----  \n",
      " 0   Unnamed: 0            273439 non-null  int64  \n",
      " 1   incident_datetime     273439 non-null  object \n",
      " 2   address_1             273439 non-null  object \n",
      " 3   city                  273439 non-null  object \n",
      " 4   state                 273439 non-null  object \n",
      " 5   latitude              273439 non-null  float64\n",
      " 6   longitude             273439 non-null  float64\n",
      " 7   hour_of_day           273439 non-null  int64  \n",
      " 8   day_of_week           273439 non-null  object \n",
      " 9   parent_incident_type  273439 non-null  object \n",
      "dtypes: float64(2), int64(2), object(6)\n",
      "memory usage: 20.9+ MB\n"
     ]
    }
   ],
   "source": [
    "df.info()"
   ]
  },
  {
   "cell_type": "code",
   "execution_count": 47,
   "id": "536685e6",
   "metadata": {},
   "outputs": [],
   "source": [
    "def data_cleaning1(df):\n",
    "    df=df[['incident_datetime', 'latitude', 'longitude', 'day_of_week','parent_incident_type']]\n",
    "    df.incident_datetime=pd.to_datetime(df.incident_datetime)\n",
    "    df.latitude=df.latitude.astype(float)\n",
    "    df.longitude=df.longitude.astype(float)\n",
    "    df.day_of_week=df.day_of_week.str.replace('SATURDAY','Saturday')\n",
    "    df.day_of_week=df.day_of_week.str.replace('FRIDAY','Friday')\n",
    "    df.day_of_week=df.day_of_week.str.replace('SUNDAY', 'Sunday')\n",
    "    df.day_of_week=df.day_of_week.str.replace('MONDAY','Monday')\n",
    "    df.day_of_week=df.day_of_week.str.replace('TUESDAY','Tuesday')\n",
    "    df.day_of_week=df.day_of_week.str.replace('WEDNESDAY','Wednesday')\n",
    "    df.day_of_week=df.day_of_week.str.replace('THURSDAY','Thursday')\n",
    "    return df "
   ]
  },
  {
   "cell_type": "code",
   "execution_count": 48,
   "id": "46ca6f72",
   "metadata": {},
   "outputs": [],
   "source": [
    "cleaned1=data_cleaning1(df)"
   ]
  },
  {
   "cell_type": "code",
   "execution_count": 49,
   "id": "9f3b647c",
   "metadata": {},
   "outputs": [
    {
     "data": {
      "text/plain": [
       "Index(['incident_datetime', 'latitude', 'longitude', 'day_of_week',\n",
       "       'parent_incident_type'],\n",
       "      dtype='object')"
      ]
     },
     "execution_count": 49,
     "metadata": {},
     "output_type": "execute_result"
    }
   ],
   "source": [
    "cleaned1.columns"
   ]
  },
  {
   "cell_type": "code",
   "execution_count": null,
   "id": "ef482485",
   "metadata": {},
   "outputs": [],
   "source": []
  },
  {
   "cell_type": "code",
   "execution_count": 50,
   "id": "cde5fa53",
   "metadata": {},
   "outputs": [],
   "source": [
    "cleaned=cleaned1\n",
    "cleaned=cleaned.sort_values('incident_datetime')\n",
    "cleaned=cleaned.set_index('incident_datetime')\n",
    "cleaned=cleaned.loc[\"01-01-2010\":]\n",
    "cleaned.head()\n",
    "cleaned=cleaned.reset_index()"
   ]
  },
  {
   "cell_type": "code",
   "execution_count": 54,
   "id": "59916122",
   "metadata": {},
   "outputs": [],
   "source": [
    "cleaned['log']=1"
   ]
  },
  {
   "cell_type": "code",
   "execution_count": 55,
   "id": "c2959d32",
   "metadata": {},
   "outputs": [
    {
     "name": "stdout",
     "output_type": "stream",
     "text": [
      "<class 'pandas.core.frame.DataFrame'>\n",
      "RangeIndex: 196062 entries, 0 to 196061\n",
      "Data columns (total 6 columns):\n",
      " #   Column                Non-Null Count   Dtype         \n",
      "---  ------                --------------   -----         \n",
      " 0   incident_datetime     196062 non-null  datetime64[ns]\n",
      " 1   latitude              196062 non-null  float64       \n",
      " 2   longitude             196062 non-null  float64       \n",
      " 3   day_of_week           196062 non-null  object        \n",
      " 4   parent_incident_type  196062 non-null  object        \n",
      " 5   log                   196062 non-null  int64         \n",
      "dtypes: datetime64[ns](1), float64(2), int64(1), object(2)\n",
      "memory usage: 9.0+ MB\n"
     ]
    }
   ],
   "source": [
    "cleaned.info()"
   ]
  },
  {
   "cell_type": "code",
   "execution_count": 56,
   "id": "32f8f0c0",
   "metadata": {},
   "outputs": [],
   "source": [
    "train,test=sliced_advanced(cleaned,'01-01-2021','01-02-2021')"
   ]
  },
  {
   "cell_type": "code",
   "execution_count": 57,
   "id": "402c31cb",
   "metadata": {},
   "outputs": [
    {
     "data": {
      "text/html": [
       "<div>\n",
       "<style scoped>\n",
       "    .dataframe tbody tr th:only-of-type {\n",
       "        vertical-align: middle;\n",
       "    }\n",
       "\n",
       "    .dataframe tbody tr th {\n",
       "        vertical-align: top;\n",
       "    }\n",
       "\n",
       "    .dataframe thead th {\n",
       "        text-align: right;\n",
       "    }\n",
       "</style>\n",
       "<table border=\"1\" class=\"dataframe\">\n",
       "  <thead>\n",
       "    <tr style=\"text-align: right;\">\n",
       "      <th></th>\n",
       "      <th>latitude</th>\n",
       "      <th>longitude</th>\n",
       "      <th>day_of_week</th>\n",
       "      <th>parent_incident_type</th>\n",
       "      <th>log</th>\n",
       "    </tr>\n",
       "    <tr>\n",
       "      <th>incident_datetime</th>\n",
       "      <th></th>\n",
       "      <th></th>\n",
       "      <th></th>\n",
       "      <th></th>\n",
       "      <th></th>\n",
       "    </tr>\n",
       "  </thead>\n",
       "  <tbody>\n",
       "    <tr>\n",
       "      <th>2010-01-01 00:00:00</th>\n",
       "      <td>42.874699</td>\n",
       "      <td>-78.823627</td>\n",
       "      <td>Friday</td>\n",
       "      <td>Theft</td>\n",
       "      <td>1</td>\n",
       "    </tr>\n",
       "    <tr>\n",
       "      <th>2010-01-01 00:00:00</th>\n",
       "      <td>42.927216</td>\n",
       "      <td>-78.848810</td>\n",
       "      <td>Friday</td>\n",
       "      <td>Other Sexual Offense</td>\n",
       "      <td>1</td>\n",
       "    </tr>\n",
       "    <tr>\n",
       "      <th>2010-01-01 00:00:00</th>\n",
       "      <td>42.941782</td>\n",
       "      <td>-78.883643</td>\n",
       "      <td>Friday</td>\n",
       "      <td>Theft of Vehicle</td>\n",
       "      <td>1</td>\n",
       "    </tr>\n",
       "    <tr>\n",
       "      <th>2010-01-01 00:00:00</th>\n",
       "      <td>42.935244</td>\n",
       "      <td>-78.829687</td>\n",
       "      <td>Friday</td>\n",
       "      <td>Other Sexual Offense</td>\n",
       "      <td>1</td>\n",
       "    </tr>\n",
       "    <tr>\n",
       "      <th>2010-01-01 00:00:00</th>\n",
       "      <td>42.839594</td>\n",
       "      <td>-78.801492</td>\n",
       "      <td>Friday</td>\n",
       "      <td>Theft</td>\n",
       "      <td>1</td>\n",
       "    </tr>\n",
       "    <tr>\n",
       "      <th>...</th>\n",
       "      <td>...</td>\n",
       "      <td>...</td>\n",
       "      <td>...</td>\n",
       "      <td>...</td>\n",
       "      <td>...</td>\n",
       "    </tr>\n",
       "    <tr>\n",
       "      <th>2021-01-01 21:46:30</th>\n",
       "      <td>42.937000</td>\n",
       "      <td>-78.851000</td>\n",
       "      <td>Friday</td>\n",
       "      <td>Theft of Vehicle</td>\n",
       "      <td>1</td>\n",
       "    </tr>\n",
       "    <tr>\n",
       "      <th>2021-01-01 22:00:00</th>\n",
       "      <td>42.919000</td>\n",
       "      <td>-78.856000</td>\n",
       "      <td>Saturday</td>\n",
       "      <td>Theft of Vehicle</td>\n",
       "      <td>1</td>\n",
       "    </tr>\n",
       "    <tr>\n",
       "      <th>2021-01-01 22:00:00</th>\n",
       "      <td>42.883000</td>\n",
       "      <td>-78.866000</td>\n",
       "      <td>Sunday</td>\n",
       "      <td>Assault</td>\n",
       "      <td>1</td>\n",
       "    </tr>\n",
       "    <tr>\n",
       "      <th>2021-01-01 22:10:00</th>\n",
       "      <td>42.899000</td>\n",
       "      <td>-78.835000</td>\n",
       "      <td>Friday</td>\n",
       "      <td>Robbery</td>\n",
       "      <td>1</td>\n",
       "    </tr>\n",
       "    <tr>\n",
       "      <th>2021-01-01 23:42:39</th>\n",
       "      <td>42.873000</td>\n",
       "      <td>-78.825000</td>\n",
       "      <td>Friday</td>\n",
       "      <td>Assault</td>\n",
       "      <td>1</td>\n",
       "    </tr>\n",
       "  </tbody>\n",
       "</table>\n",
       "<p>188860 rows × 5 columns</p>\n",
       "</div>"
      ],
      "text/plain": [
       "                      latitude  longitude day_of_week  parent_incident_type  \\\n",
       "incident_datetime                                                             \n",
       "2010-01-01 00:00:00  42.874699 -78.823627      Friday                 Theft   \n",
       "2010-01-01 00:00:00  42.927216 -78.848810      Friday  Other Sexual Offense   \n",
       "2010-01-01 00:00:00  42.941782 -78.883643      Friday      Theft of Vehicle   \n",
       "2010-01-01 00:00:00  42.935244 -78.829687      Friday  Other Sexual Offense   \n",
       "2010-01-01 00:00:00  42.839594 -78.801492      Friday                 Theft   \n",
       "...                        ...        ...         ...                   ...   \n",
       "2021-01-01 21:46:30  42.937000 -78.851000      Friday      Theft of Vehicle   \n",
       "2021-01-01 22:00:00  42.919000 -78.856000    Saturday      Theft of Vehicle   \n",
       "2021-01-01 22:00:00  42.883000 -78.866000      Sunday               Assault   \n",
       "2021-01-01 22:10:00  42.899000 -78.835000      Friday               Robbery   \n",
       "2021-01-01 23:42:39  42.873000 -78.825000      Friday               Assault   \n",
       "\n",
       "                     log  \n",
       "incident_datetime         \n",
       "2010-01-01 00:00:00    1  \n",
       "2010-01-01 00:00:00    1  \n",
       "2010-01-01 00:00:00    1  \n",
       "2010-01-01 00:00:00    1  \n",
       "2010-01-01 00:00:00    1  \n",
       "...                  ...  \n",
       "2021-01-01 21:46:30    1  \n",
       "2021-01-01 22:00:00    1  \n",
       "2021-01-01 22:00:00    1  \n",
       "2021-01-01 22:10:00    1  \n",
       "2021-01-01 23:42:39    1  \n",
       "\n",
       "[188860 rows x 5 columns]"
      ]
     },
     "execution_count": 57,
     "metadata": {},
     "output_type": "execute_result"
    }
   ],
   "source": [
    "train"
   ]
  },
  {
   "cell_type": "code",
   "execution_count": 58,
   "id": "264cd879",
   "metadata": {},
   "outputs": [],
   "source": [
    "date=cleaned[['incident_datetime','log']]\n",
    "date=date.set_index('incident_datetime')"
   ]
  },
  {
   "cell_type": "code",
   "execution_count": 60,
   "id": "8f0070bf",
   "metadata": {},
   "outputs": [],
   "source": [
    "date_resampled=date.resample('5 min').sum()"
   ]
  },
  {
   "cell_type": "code",
   "execution_count": 61,
   "id": "ce825981",
   "metadata": {},
   "outputs": [
    {
     "data": {
      "text/html": [
       "<div>\n",
       "<style scoped>\n",
       "    .dataframe tbody tr th:only-of-type {\n",
       "        vertical-align: middle;\n",
       "    }\n",
       "\n",
       "    .dataframe tbody tr th {\n",
       "        vertical-align: top;\n",
       "    }\n",
       "\n",
       "    .dataframe thead th {\n",
       "        text-align: right;\n",
       "    }\n",
       "</style>\n",
       "<table border=\"1\" class=\"dataframe\">\n",
       "  <thead>\n",
       "    <tr style=\"text-align: right;\">\n",
       "      <th></th>\n",
       "      <th>log</th>\n",
       "    </tr>\n",
       "    <tr>\n",
       "      <th>incident_datetime</th>\n",
       "      <th></th>\n",
       "    </tr>\n",
       "  </thead>\n",
       "  <tbody>\n",
       "    <tr>\n",
       "      <th>2010-01-01 00:00:00</th>\n",
       "      <td>24</td>\n",
       "    </tr>\n",
       "    <tr>\n",
       "      <th>2010-01-01 00:05:00</th>\n",
       "      <td>1</td>\n",
       "    </tr>\n",
       "    <tr>\n",
       "      <th>2010-01-01 00:10:00</th>\n",
       "      <td>1</td>\n",
       "    </tr>\n",
       "    <tr>\n",
       "      <th>2010-01-01 00:15:00</th>\n",
       "      <td>0</td>\n",
       "    </tr>\n",
       "    <tr>\n",
       "      <th>2010-01-01 00:20:00</th>\n",
       "      <td>0</td>\n",
       "    </tr>\n",
       "    <tr>\n",
       "      <th>...</th>\n",
       "      <td>...</td>\n",
       "    </tr>\n",
       "    <tr>\n",
       "      <th>2021-08-31 02:15:00</th>\n",
       "      <td>0</td>\n",
       "    </tr>\n",
       "    <tr>\n",
       "      <th>2021-08-31 02:20:00</th>\n",
       "      <td>0</td>\n",
       "    </tr>\n",
       "    <tr>\n",
       "      <th>2021-08-31 02:25:00</th>\n",
       "      <td>0</td>\n",
       "    </tr>\n",
       "    <tr>\n",
       "      <th>2021-08-31 02:30:00</th>\n",
       "      <td>0</td>\n",
       "    </tr>\n",
       "    <tr>\n",
       "      <th>2021-08-31 02:35:00</th>\n",
       "      <td>1</td>\n",
       "    </tr>\n",
       "  </tbody>\n",
       "</table>\n",
       "<p>1226912 rows × 1 columns</p>\n",
       "</div>"
      ],
      "text/plain": [
       "                     log\n",
       "incident_datetime       \n",
       "2010-01-01 00:00:00   24\n",
       "2010-01-01 00:05:00    1\n",
       "2010-01-01 00:10:00    1\n",
       "2010-01-01 00:15:00    0\n",
       "2010-01-01 00:20:00    0\n",
       "...                  ...\n",
       "2021-08-31 02:15:00    0\n",
       "2021-08-31 02:20:00    0\n",
       "2021-08-31 02:25:00    0\n",
       "2021-08-31 02:30:00    0\n",
       "2021-08-31 02:35:00    1\n",
       "\n",
       "[1226912 rows x 1 columns]"
      ]
     },
     "execution_count": 61,
     "metadata": {},
     "output_type": "execute_result"
    }
   ],
   "source": [
    "date_resampled"
   ]
  },
  {
   "cell_type": "code",
   "execution_count": 62,
   "id": "8d4049ed",
   "metadata": {},
   "outputs": [
    {
     "data": {
      "text/plain": [
       "<AxesSubplot:xlabel='incident_datetime'>"
      ]
     },
     "execution_count": 62,
     "metadata": {},
     "output_type": "execute_result"
    },
    {
     "data": {
      "image/png": "[encoded data removed]",
      "text/plain": [
       "<Figure size 432x288 with 1 Axes>"
      ]
     },
     "metadata": {
      "needs_background": "light"
     },
     "output_type": "display_data"
    }
   ],
   "source": [
    "date_resampled.plot(kind='line')"
   ]
  },
  {
   "cell_type": "markdown",
   "id": "92b47e22",
   "metadata": {},
   "source": [
    " # dataframe ready for modeling , functions were made to promptly import all types of data , cleaned and ready to go. \n"
   ]
  },
  {
   "cell_type": "code",
   "execution_count": 63,
   "id": "51661fb3",
   "metadata": {},
   "outputs": [],
   "source": [
    "#creating a test split function\n",
    "def train_test(df,train_end_date,test_start_date):\n",
    "    train=df.loc[:train_end_date]\n",
    "    test=df.loc[test_start_date:]\n",
    "    return train,test\n",
    "date_train,date_test=train_test(date_resampled,'01-01-2021','01-02-2021')"
   ]
  },
  {
   "cell_type": "markdown",
   "id": "8d534201",
   "metadata": {},
   "source": [
    "# Time series "
   ]
  },
  {
   "cell_type": "code",
   "execution_count": 64,
   "id": "dc85edba",
   "metadata": {},
   "outputs": [
    {
     "name": "stdout",
     "output_type": "stream",
     "text": [
      "<class 'pandas.core.frame.DataFrame'>\n",
      "DatetimeIndex: 1157472 entries, 2010-01-01 00:00:00 to 2021-01-01 23:55:00\n",
      "Freq: 5T\n",
      "Data columns (total 1 columns):\n",
      " #   Column  Non-Null Count    Dtype\n",
      "---  ------  --------------    -----\n",
      " 0   log     1157472 non-null  int64\n",
      "dtypes: int64(1)\n",
      "memory usage: 17.7 MB\n"
     ]
    }
   ],
   "source": [
    "date_train.info()"
   ]
  },
  {
   "cell_type": "code",
   "execution_count": 72,
   "id": "c3ee2eb2",
   "metadata": {},
   "outputs": [
    {
     "data": {
      "text/html": [
       "<div>\n",
       "<style scoped>\n",
       "    .dataframe tbody tr th:only-of-type {\n",
       "        vertical-align: middle;\n",
       "    }\n",
       "\n",
       "    .dataframe tbody tr th {\n",
       "        vertical-align: top;\n",
       "    }\n",
       "\n",
       "    .dataframe thead th {\n",
       "        text-align: right;\n",
       "    }\n",
       "</style>\n",
       "<table border=\"1\" class=\"dataframe\">\n",
       "  <thead>\n",
       "    <tr style=\"text-align: right;\">\n",
       "      <th></th>\n",
       "      <th>log</th>\n",
       "    </tr>\n",
       "    <tr>\n",
       "      <th>incident_datetime</th>\n",
       "      <th></th>\n",
       "    </tr>\n",
       "  </thead>\n",
       "  <tbody>\n",
       "    <tr>\n",
       "      <th>2021-01-02 00:10:00</th>\n",
       "      <td>1</td>\n",
       "    </tr>\n",
       "    <tr>\n",
       "      <th>2021-01-02 00:10:00</th>\n",
       "      <td>1</td>\n",
       "    </tr>\n",
       "    <tr>\n",
       "      <th>2021-01-02 01:00:00</th>\n",
       "      <td>1</td>\n",
       "    </tr>\n",
       "    <tr>\n",
       "      <th>2021-01-02 01:29:26</th>\n",
       "      <td>1</td>\n",
       "    </tr>\n",
       "    <tr>\n",
       "      <th>2021-01-02 05:44:30</th>\n",
       "      <td>1</td>\n",
       "    </tr>\n",
       "    <tr>\n",
       "      <th>...</th>\n",
       "      <td>...</td>\n",
       "    </tr>\n",
       "    <tr>\n",
       "      <th>2021-08-30 19:10:35</th>\n",
       "      <td>1</td>\n",
       "    </tr>\n",
       "    <tr>\n",
       "      <th>2021-08-30 19:30:00</th>\n",
       "      <td>1</td>\n",
       "    </tr>\n",
       "    <tr>\n",
       "      <th>2021-08-30 21:15:00</th>\n",
       "      <td>1</td>\n",
       "    </tr>\n",
       "    <tr>\n",
       "      <th>2021-08-30 23:18:04</th>\n",
       "      <td>1</td>\n",
       "    </tr>\n",
       "    <tr>\n",
       "      <th>2021-08-31 02:35:24</th>\n",
       "      <td>1</td>\n",
       "    </tr>\n",
       "  </tbody>\n",
       "</table>\n",
       "<p>7202 rows × 1 columns</p>\n",
       "</div>"
      ],
      "text/plain": [
       "                     log\n",
       "incident_datetime       \n",
       "2021-01-02 00:10:00    1\n",
       "2021-01-02 00:10:00    1\n",
       "2021-01-02 01:00:00    1\n",
       "2021-01-02 01:29:26    1\n",
       "2021-01-02 05:44:30    1\n",
       "...                  ...\n",
       "2021-08-30 19:10:35    1\n",
       "2021-08-30 19:30:00    1\n",
       "2021-08-30 21:15:00    1\n",
       "2021-08-30 23:18:04    1\n",
       "2021-08-31 02:35:24    1\n",
       "\n",
       "[7202 rows x 1 columns]"
      ]
     },
     "execution_count": 72,
     "metadata": {},
     "output_type": "execute_result"
    }
   ],
   "source": [
    "date_test"
   ]
  },
  {
   "cell_type": "code",
   "execution_count": 74,
   "id": "8e73c0fc",
   "metadata": {},
   "outputs": [],
   "source": [
    "date_train,date_test=train_test(date,'01-01-2021','01-02-2021')"
   ]
  },
  {
   "cell_type": "code",
   "execution_count": 69,
   "id": "fbac136a",
   "metadata": {},
   "outputs": [],
   "source": [
    "date_train=date_train.reset_index()\n",
    "X=date_train.incident_datetime\n",
    "Y=date_train.log"
   ]
  },
  {
   "cell_type": "code",
   "execution_count": 321,
   "id": "b1fbc505",
   "metadata": {},
   "outputs": [],
   "source": [
    "from statsmodels.tsa.arima_model import ARMA\n",
    "from statsmodels.tsa.statespace.sarimax import SARIMAX\n",
    "from statsmodels.tsa.arima_process import ArmaProcess\n",
    "from statsmodels.graphics.tsaplots import plot_pacf,plot_acf\n",
    "import matplotlib.pyplot as plt\n",
    "from sklearn.model_selection import train_test_split\n",
    "from sklearn.preprocessing import StandardScaler\n",
    "from sklearn.metrics import mean_squared_error"
   ]
  },
  {
   "cell_type": "markdown",
   "id": "9ee292b2",
   "metadata": {},
   "source": [
    "date data is ready for predictive modeling "
   ]
  },
  {
   "cell_type": "code",
   "execution_count": 75,
   "id": "7fc23ae4",
   "metadata": {},
   "outputs": [
    {
     "data": {
      "image/png": "[encoded data removed]",
      "text/plain": [
       "<Figure size 432x288 with 1 Axes>"
      ]
     },
     "execution_count": 75,
     "metadata": {},
     "output_type": "execute_result"
    },
    {
     "data": {
      "image/png": "[encoded data removed]",
      "text/plain": [
       "<Figure size 432x288 with 1 Axes>"
      ]
     },
     "metadata": {
      "needs_background": "light"
     },
     "output_type": "display_data"
    }
   ],
   "source": [
    "plot_acf(date_train.resample('1h').sum(),lags=62)"
   ]
  },
  {
   "cell_type": "code",
   "execution_count": 76,
   "id": "399b5764",
   "metadata": {},
   "outputs": [],
   "source": [
    "train_data=date_train.resample('15 min').sum()\n"
   ]
  },
  {
   "cell_type": "code",
   "execution_count": 82,
   "id": "eb7eb8bc",
   "metadata": {},
   "outputs": [
    {
     "data": {
      "text/plain": [
       "(385823, 1)"
      ]
     },
     "execution_count": 82,
     "metadata": {},
     "output_type": "execute_result"
    }
   ],
   "source": [
    "train_data.shape"
   ]
  },
  {
   "cell_type": "code",
   "execution_count": 144,
   "id": "36d6b6f8",
   "metadata": {},
   "outputs": [
    {
     "name": "stderr",
     "output_type": "stream",
     "text": [
      "C:\\Users\\mmioi\\anaconda3\\lib\\site-packages\\statsmodels\\tsa\\base\\tsa_model.py:581: ValueWarning: A date index has been provided, but it has no associated frequency information and so will be ignored when e.g. forecasting.\n",
      "  warnings.warn('A date index has been provided, but it has no'\n",
      "C:\\Users\\mmioi\\anaconda3\\lib\\site-packages\\statsmodels\\tsa\\base\\tsa_model.py:581: ValueWarning: A date index has been provided, but it has no associated frequency information and so will be ignored when e.g. forecasting.\n",
      "  warnings.warn('A date index has been provided, but it has no'\n"
     ]
    }
   ],
   "source": [
    "model=SARIMAX(date_train,order=(0,1,0),seasonal_order=(0,0,0,24))\n",
    "res1=model.fit()\n"
   ]
  },
  {
   "cell_type": "code",
   "execution_count": 148,
   "id": "71b805cd",
   "metadata": {},
   "outputs": [],
   "source": [
    "pred=res1.predict(start='12-25-2020',end='01-01-2021')"
   ]
  },
  {
   "cell_type": "code",
   "execution_count": 153,
   "id": "fa4b5a70",
   "metadata": {},
   "outputs": [
    {
     "data": {
      "text/plain": [
       "incident_datetime\n",
       "2020-12-25 00:00:00    5.0\n",
       "2020-12-25 01:00:00    0.0\n",
       "2020-12-25 02:00:00    2.0\n",
       "2020-12-25 03:00:00    0.0\n",
       "2020-12-25 04:00:00    0.0\n",
       "                      ... \n",
       "2020-12-31 20:00:00    4.0\n",
       "2020-12-31 21:00:00    2.0\n",
       "2020-12-31 22:00:00    2.0\n",
       "2020-12-31 23:00:00    3.0\n",
       "2021-01-01 00:00:00    1.0\n",
       "Freq: H, Name: predicted_mean, Length: 169, dtype: float64"
      ]
     },
     "execution_count": 153,
     "metadata": {},
     "output_type": "execute_result"
    }
   ],
   "source": [
    "pred.resample('1h').sum()"
   ]
  },
  {
   "cell_type": "code",
   "execution_count": 91,
   "id": "d778b9b3",
   "metadata": {
    "scrolled": true
   },
   "outputs": [],
   "source": [
    "test=date_train.loc['12-25-2020':]\n",
    "predsdf=pd.DataFrame(pred)"
   ]
  },
  {
   "cell_type": "code",
   "execution_count": 94,
   "id": "2099d835",
   "metadata": {},
   "outputs": [
    {
     "name": "stderr",
     "output_type": "stream",
     "text": [
      "<ipython-input-94-85a52a944192>:3: MatplotlibDeprecationWarning: Adding an axes using the same arguments as a previous axes currently reuses the earlier instance.  In a future version, a new instance will always be created and returned.  Meanwhile, this warning can be suppressed, and the future behavior ensured, by passing a unique label to each axes instance.\n",
      "  ax22=fig.add_subplot(111)\n"
     ]
    },
    {
     "data": {
      "text/plain": [
       "<matplotlib.legend.Legend at 0x127941301f0>"
      ]
     },
     "execution_count": 94,
     "metadata": {},
     "output_type": "execute_result"
    },
    {
     "data": {
      "image/png": "[encoded data removed]",
      "text/plain": [
       "<Figure size 864x432 with 1 Axes>"
      ]
     },
     "metadata": {
      "needs_background": "light"
     },
     "output_type": "display_data"
    }
   ],
   "source": [
    "fig = plt.figure(figsize=(12, 6))\n",
    "ax1=fig.add_subplot(111)\n",
    "ax22=fig.add_subplot(111)\n",
    "\n",
    "ax1.plot(predsdf.resample('1m').sum(),color='blue',label='Pred')\n",
    "ax1.set_title('preds vs True')\n",
    "ax22.plot(date_train.resample('1m').sum(),color='red',label='True ')\n",
    "plt.legend()\n"
   ]
  },
  {
   "cell_type": "code",
   "execution_count": null,
   "id": "75d2f4fe",
   "metadata": {},
   "outputs": [],
   "source": [
    "exog=date_test.reset_index().incident_datetime"
   ]
  },
  {
   "cell_type": "code",
   "execution_count": null,
   "id": "f8f28d58",
   "metadata": {},
   "outputs": [],
   "source": []
  },
  {
   "cell_type": "code",
   "execution_count": null,
   "id": "5b60c6ee",
   "metadata": {},
   "outputs": [],
   "source": [
    "exog.set_index(0)"
   ]
  },
  {
   "cell_type": "markdown",
   "id": "f321b369",
   "metadata": {},
   "source": [
    "# classification"
   ]
  },
  {
   "cell_type": "code",
   "execution_count": null,
   "id": "df145a48",
   "metadata": {},
   "outputs": [],
   "source": [
    "dummies=pd.get_dummies(cleaned.day_of_week)"
   ]
  },
  {
   "cell_type": "code",
   "execution_count": 169,
   "id": "ab192b06",
   "metadata": {},
   "outputs": [],
   "source": [
    "pre_processed=pd.merge(cleaned,dummies,left_index=True,right_index=True)"
   ]
  },
  {
   "cell_type": "code",
   "execution_count": 170,
   "id": "3a7cf3dd",
   "metadata": {},
   "outputs": [],
   "source": [
    "pre_processed=pre_processed.drop('day_of_week',axis=1)"
   ]
  },
  {
   "cell_type": "code",
   "execution_count": 171,
   "id": "25b085ae",
   "metadata": {},
   "outputs": [],
   "source": [
    "pre_processed=pre_processed.set_index('incident_datetime')"
   ]
  },
  {
   "cell_type": "code",
   "execution_count": 180,
   "id": "7950a570",
   "metadata": {},
   "outputs": [],
   "source": [
    "from sklearn.model_selection import train_test_split\n",
    "X=pre_processed.drop('parent_incident_type',axis=1)\n",
    "Y=pre_processed.parent_incident_type.values"
   ]
  },
  {
   "cell_type": "code",
   "execution_count": 181,
   "id": "ecb2bef1",
   "metadata": {},
   "outputs": [],
   "source": [
    "X_train,X_test,y_train,y_test=train_test_split(X,Y,test_size=0.20,random_state=123)"
   ]
  },
  {
   "cell_type": "code",
   "execution_count": 320,
   "id": "48a788e7",
   "metadata": {},
   "outputs": [],
   "source": [
    "from sklearn.ensemble import RandomForestClassifier as rf\n"
   ]
  },
  {
   "cell_type": "code",
   "execution_count": 141,
   "id": "d47431ba",
   "metadata": {},
   "outputs": [
    {
     "name": "stdout",
     "output_type": "stream",
     "text": [
      "Learning rate:  200\n",
      "Accuracy score (training): 0.445\n",
      "Accuracy score (validation): 0.443\n",
      "\n",
      "Learning rate:  400\n",
      "Accuracy score (training): 0.445\n",
      "Accuracy score (validation): 0.443\n",
      "\n",
      "Learning rate:  600\n",
      "Accuracy score (training): 0.445\n",
      "Accuracy score (validation): 0.443\n",
      "\n",
      "Learning rate:  1000\n",
      "Accuracy score (training): 0.445\n",
      "Accuracy score (validation): 0.443\n",
      "\n",
      "Learning rate:  2000\n",
      "Accuracy score (training): 0.445\n",
      "Accuracy score (validation): 0.443\n",
      "\n"
     ]
    }
   ],
   "source": [
    "n_e = [200,400, 600, 1000, 2000]\n",
    "\n",
    "for n in n_e:\n",
    "    from sklearn.ensemble import RandomForestClassifier as rf\n",
    "    rf = rf(n_estimators=n, max_depth = 5, random_state = 0,n_features=20,bootstrap=False,criterion='entropy')\n",
    "    rf.fit(X_train, y_train)\n",
    "    print(\"Learning rate: \", n)\n",
    "    print(\"Accuracy score (training): {0:.3f}\".format(rf.score(X_train, y_train)))\n",
    "    print(\"Accuracy score (validation): {0:.3f}\".format(rf.score(X_test, y_test)))\n",
    "    print()"
   ]
  },
  {
   "cell_type": "code",
   "execution_count": 319,
   "id": "6a0f99bc",
   "metadata": {
    "scrolled": true
   },
   "outputs": [],
   "source": [
    "from sklearn.ensemble import GradientBoostingClassifier\n",
    "from sklearn.metrics import classification_report, confusion_matrix, roc_curve, auc\n"
   ]
  },
  {
   "cell_type": "code",
   "execution_count": 139,
   "id": "43f8569f",
   "metadata": {
    "scrolled": true
   },
   "outputs": [
    {
     "name": "stdout",
     "output_type": "stream",
     "text": [
      "Learning rate:  0.05\n",
      "Accuracy score (training): 0.447\n",
      "Accuracy score (validation): 0.445\n",
      "\n",
      "Learning rate:  0.1\n",
      "Accuracy score (training): 0.448\n",
      "Accuracy score (validation): 0.446\n",
      "\n",
      "Learning rate:  0.25\n",
      "Accuracy score (training): 0.450\n",
      "Accuracy score (validation): 0.447\n",
      "\n",
      "Learning rate:  0.5\n",
      "Accuracy score (training): 0.193\n",
      "Accuracy score (validation): 0.195\n",
      "\n",
      "Learning rate:  0.75\n",
      "Accuracy score (training): 0.135\n",
      "Accuracy score (validation): 0.134\n",
      "\n"
     ]
    },
    {
     "ename": "KeyboardInterrupt",
     "evalue": "",
     "output_type": "error",
     "traceback": [
      "\u001b[1;31m---------------------------------------------------------------------------\u001b[0m",
      "\u001b[1;31mKeyboardInterrupt\u001b[0m                         Traceback (most recent call last)",
      "\u001b[1;32m<ipython-input-139-2fec9088f324>\u001b[0m in \u001b[0;36m<module>\u001b[1;34m\u001b[0m\n\u001b[0;32m      2\u001b[0m \u001b[1;32mfor\u001b[0m \u001b[0mlearning_rate\u001b[0m \u001b[1;32min\u001b[0m \u001b[0mlearning_rates\u001b[0m\u001b[1;33m:\u001b[0m\u001b[1;33m\u001b[0m\u001b[1;33m\u001b[0m\u001b[0m\n\u001b[0;32m      3\u001b[0m     \u001b[0mgb\u001b[0m \u001b[1;33m=\u001b[0m \u001b[0mGradientBoostingClassifier\u001b[0m\u001b[1;33m(\u001b[0m\u001b[0mn_estimators\u001b[0m\u001b[1;33m=\u001b[0m\u001b[1;36m200\u001b[0m\u001b[1;33m,\u001b[0m \u001b[0mlearning_rate\u001b[0m \u001b[1;33m=\u001b[0m \u001b[0mlearning_rate\u001b[0m\u001b[1;33m,\u001b[0m \u001b[0mmax_features\u001b[0m\u001b[1;33m=\u001b[0m\u001b[1;36m5\u001b[0m\u001b[1;33m,\u001b[0m \u001b[0mmax_depth\u001b[0m \u001b[1;33m=\u001b[0m \u001b[1;36m2\u001b[0m\u001b[1;33m,\u001b[0m \u001b[0mrandom_state\u001b[0m \u001b[1;33m=\u001b[0m \u001b[1;36m0\u001b[0m\u001b[1;33m)\u001b[0m\u001b[1;33m\u001b[0m\u001b[1;33m\u001b[0m\u001b[0m\n\u001b[1;32m----> 4\u001b[1;33m     \u001b[0mgb\u001b[0m\u001b[1;33m.\u001b[0m\u001b[0mfit\u001b[0m\u001b[1;33m(\u001b[0m\u001b[0mX_train\u001b[0m\u001b[1;33m,\u001b[0m \u001b[0my_train\u001b[0m\u001b[1;33m)\u001b[0m\u001b[1;33m\u001b[0m\u001b[1;33m\u001b[0m\u001b[0m\n\u001b[0m\u001b[0;32m      5\u001b[0m     \u001b[0mprint\u001b[0m\u001b[1;33m(\u001b[0m\u001b[1;34m\"Learning rate: \"\u001b[0m\u001b[1;33m,\u001b[0m \u001b[0mlearning_rate\u001b[0m\u001b[1;33m)\u001b[0m\u001b[1;33m\u001b[0m\u001b[1;33m\u001b[0m\u001b[0m\n\u001b[0;32m      6\u001b[0m     \u001b[0mprint\u001b[0m\u001b[1;33m(\u001b[0m\u001b[1;34m\"Accuracy score (training): {0:.3f}\"\u001b[0m\u001b[1;33m.\u001b[0m\u001b[0mformat\u001b[0m\u001b[1;33m(\u001b[0m\u001b[0mgb\u001b[0m\u001b[1;33m.\u001b[0m\u001b[0mscore\u001b[0m\u001b[1;33m(\u001b[0m\u001b[0mX_train\u001b[0m\u001b[1;33m,\u001b[0m \u001b[0my_train\u001b[0m\u001b[1;33m)\u001b[0m\u001b[1;33m)\u001b[0m\u001b[1;33m)\u001b[0m\u001b[1;33m\u001b[0m\u001b[1;33m\u001b[0m\u001b[0m\n",
      "\u001b[1;32m~\\anaconda3\\lib\\site-packages\\sklearn\\ensemble\\_gb.py\u001b[0m in \u001b[0;36mfit\u001b[1;34m(self, X, y, sample_weight, monitor)\u001b[0m\n\u001b[0;32m    502\u001b[0m \u001b[1;33m\u001b[0m\u001b[0m\n\u001b[0;32m    503\u001b[0m         \u001b[1;31m# fit the boosting stages\u001b[0m\u001b[1;33m\u001b[0m\u001b[1;33m\u001b[0m\u001b[1;33m\u001b[0m\u001b[0m\n\u001b[1;32m--> 504\u001b[1;33m         n_stages = self._fit_stages(\n\u001b[0m\u001b[0;32m    505\u001b[0m             \u001b[0mX\u001b[0m\u001b[1;33m,\u001b[0m \u001b[0my\u001b[0m\u001b[1;33m,\u001b[0m \u001b[0mraw_predictions\u001b[0m\u001b[1;33m,\u001b[0m \u001b[0msample_weight\u001b[0m\u001b[1;33m,\u001b[0m \u001b[0mself\u001b[0m\u001b[1;33m.\u001b[0m\u001b[0m_rng\u001b[0m\u001b[1;33m,\u001b[0m \u001b[0mX_val\u001b[0m\u001b[1;33m,\u001b[0m \u001b[0my_val\u001b[0m\u001b[1;33m,\u001b[0m\u001b[1;33m\u001b[0m\u001b[1;33m\u001b[0m\u001b[0m\n\u001b[0;32m    506\u001b[0m             sample_weight_val, begin_at_stage, monitor)\n",
      "\u001b[1;32m~\\anaconda3\\lib\\site-packages\\sklearn\\ensemble\\_gb.py\u001b[0m in \u001b[0;36m_fit_stages\u001b[1;34m(self, X, y, raw_predictions, sample_weight, random_state, X_val, y_val, sample_weight_val, begin_at_stage, monitor)\u001b[0m\n\u001b[0;32m    559\u001b[0m \u001b[1;33m\u001b[0m\u001b[0m\n\u001b[0;32m    560\u001b[0m             \u001b[1;31m# fit next stage of trees\u001b[0m\u001b[1;33m\u001b[0m\u001b[1;33m\u001b[0m\u001b[1;33m\u001b[0m\u001b[0m\n\u001b[1;32m--> 561\u001b[1;33m             raw_predictions = self._fit_stage(\n\u001b[0m\u001b[0;32m    562\u001b[0m                 \u001b[0mi\u001b[0m\u001b[1;33m,\u001b[0m \u001b[0mX\u001b[0m\u001b[1;33m,\u001b[0m \u001b[0my\u001b[0m\u001b[1;33m,\u001b[0m \u001b[0mraw_predictions\u001b[0m\u001b[1;33m,\u001b[0m \u001b[0msample_weight\u001b[0m\u001b[1;33m,\u001b[0m \u001b[0msample_mask\u001b[0m\u001b[1;33m,\u001b[0m\u001b[1;33m\u001b[0m\u001b[1;33m\u001b[0m\u001b[0m\n\u001b[0;32m    563\u001b[0m                 random_state, X_csc, X_csr)\n",
      "\u001b[1;32m~\\anaconda3\\lib\\site-packages\\sklearn\\ensemble\\_gb.py\u001b[0m in \u001b[0;36m_fit_stage\u001b[1;34m(self, i, X, y, raw_predictions, sample_weight, sample_mask, random_state, X_csc, X_csr)\u001b[0m\n\u001b[0;32m    212\u001b[0m \u001b[1;33m\u001b[0m\u001b[0m\n\u001b[0;32m    213\u001b[0m             \u001b[0mX\u001b[0m \u001b[1;33m=\u001b[0m \u001b[0mX_csr\u001b[0m \u001b[1;32mif\u001b[0m \u001b[0mX_csr\u001b[0m \u001b[1;32mis\u001b[0m \u001b[1;32mnot\u001b[0m \u001b[1;32mNone\u001b[0m \u001b[1;32melse\u001b[0m \u001b[0mX\u001b[0m\u001b[1;33m\u001b[0m\u001b[1;33m\u001b[0m\u001b[0m\n\u001b[1;32m--> 214\u001b[1;33m             tree.fit(X, residual, sample_weight=sample_weight,\n\u001b[0m\u001b[0;32m    215\u001b[0m                      check_input=False)\n\u001b[0;32m    216\u001b[0m \u001b[1;33m\u001b[0m\u001b[0m\n",
      "\u001b[1;32m~\\anaconda3\\lib\\site-packages\\sklearn\\tree\\_classes.py\u001b[0m in \u001b[0;36mfit\u001b[1;34m(self, X, y, sample_weight, check_input, X_idx_sorted)\u001b[0m\n\u001b[0;32m   1245\u001b[0m         \"\"\"\n\u001b[0;32m   1246\u001b[0m \u001b[1;33m\u001b[0m\u001b[0m\n\u001b[1;32m-> 1247\u001b[1;33m         super().fit(\n\u001b[0m\u001b[0;32m   1248\u001b[0m             \u001b[0mX\u001b[0m\u001b[1;33m,\u001b[0m \u001b[0my\u001b[0m\u001b[1;33m,\u001b[0m\u001b[1;33m\u001b[0m\u001b[1;33m\u001b[0m\u001b[0m\n\u001b[0;32m   1249\u001b[0m             \u001b[0msample_weight\u001b[0m\u001b[1;33m=\u001b[0m\u001b[0msample_weight\u001b[0m\u001b[1;33m,\u001b[0m\u001b[1;33m\u001b[0m\u001b[1;33m\u001b[0m\u001b[0m\n",
      "\u001b[1;32m~\\anaconda3\\lib\\site-packages\\sklearn\\tree\\_classes.py\u001b[0m in \u001b[0;36mfit\u001b[1;34m(self, X, y, sample_weight, check_input, X_idx_sorted)\u001b[0m\n\u001b[0;32m    387\u001b[0m                                            min_impurity_split)\n\u001b[0;32m    388\u001b[0m \u001b[1;33m\u001b[0m\u001b[0m\n\u001b[1;32m--> 389\u001b[1;33m         \u001b[0mbuilder\u001b[0m\u001b[1;33m.\u001b[0m\u001b[0mbuild\u001b[0m\u001b[1;33m(\u001b[0m\u001b[0mself\u001b[0m\u001b[1;33m.\u001b[0m\u001b[0mtree_\u001b[0m\u001b[1;33m,\u001b[0m \u001b[0mX\u001b[0m\u001b[1;33m,\u001b[0m \u001b[0my\u001b[0m\u001b[1;33m,\u001b[0m \u001b[0msample_weight\u001b[0m\u001b[1;33m)\u001b[0m\u001b[1;33m\u001b[0m\u001b[1;33m\u001b[0m\u001b[0m\n\u001b[0m\u001b[0;32m    390\u001b[0m \u001b[1;33m\u001b[0m\u001b[0m\n\u001b[0;32m    391\u001b[0m         \u001b[1;32mif\u001b[0m \u001b[0mself\u001b[0m\u001b[1;33m.\u001b[0m\u001b[0mn_outputs_\u001b[0m \u001b[1;33m==\u001b[0m \u001b[1;36m1\u001b[0m \u001b[1;32mand\u001b[0m \u001b[0mis_classifier\u001b[0m\u001b[1;33m(\u001b[0m\u001b[0mself\u001b[0m\u001b[1;33m)\u001b[0m\u001b[1;33m:\u001b[0m\u001b[1;33m\u001b[0m\u001b[1;33m\u001b[0m\u001b[0m\n",
      "\u001b[1;31mKeyboardInterrupt\u001b[0m: "
     ]
    }
   ],
   "source": [
    "learning_rates = [0.05, 0.1, 0.25, 0.5, 0.75, 1]\n",
    "for learning_rate in learning_rates:\n",
    "    gb = GradientBoostingClassifier(n_estimators=200, learning_rate = learning_rate, max_features=5, max_depth = 2, random_state = 0)\n",
    "    gb.fit(X_train, y_train)\n",
    "    print(\"Learning rate: \", learning_rate)\n",
    "    print(\"Accuracy score (training): {0:.3f}\".format(gb.score(X_train, y_train)))\n",
    "    print(\"Accuracy score (validation): {0:.3f}\".format(gb.score(X_test, y_test)))\n",
    "    print()"
   ]
  },
  {
   "cell_type": "markdown",
   "id": "8ff84894",
   "metadata": {},
   "source": [
    "both gb and fr failed spectacularly. reducing the amount of categories \n",
    "/ three different catregories [Sexual , Violent,Property]"
   ]
  },
  {
   "cell_type": "code",
   "execution_count": 166,
   "id": "b2f341e1",
   "metadata": {},
   "outputs": [
    {
     "data": {
      "text/plain": [
       "array(['Theft', 'Other Sexual Offense', 'Breaking & Entering',\n",
       "       'Sexual Assault', 'Theft of Vehicle', 'Assault', 'Robbery',\n",
       "       'Homicide', 'Sexual Offense'], dtype=object)"
      ]
     },
     "execution_count": 166,
     "metadata": {},
     "output_type": "execute_result"
    }
   ],
   "source": [
    "pre_processed.parent_incident_type.unique()"
   ]
  },
  {
   "cell_type": "code",
   "execution_count": 172,
   "id": "de7581f0",
   "metadata": {},
   "outputs": [],
   "source": [
    "pre_processed.parent_incident_type=pre_processed.parent_incident_type.str.replace('Breaking & Entering','Property')\n",
    "pre_processed.parent_incident_type=pre_processed.parent_incident_type.str.replace('Theft of Vehicle','Property')\n",
    "pre_processed.parent_incident_type=pre_processed.parent_incident_type.str.replace('Theft','Property')"
   ]
  },
  {
   "cell_type": "code",
   "execution_count": 173,
   "id": "82f0e3e8",
   "metadata": {},
   "outputs": [
    {
     "data": {
      "text/plain": [
       "array(['Property', 'Other Sexual Offense', 'Sexual Assault', 'Assault',\n",
       "       'Robbery', 'Homicide', 'Sexual Offense'], dtype=object)"
      ]
     },
     "execution_count": 173,
     "metadata": {},
     "output_type": "execute_result"
    }
   ],
   "source": [
    "pre_processed.parent_incident_type.unique()"
   ]
  },
  {
   "cell_type": "code",
   "execution_count": 176,
   "id": "a8c47e91",
   "metadata": {},
   "outputs": [],
   "source": [
    "pre_processed.parent_incident_type=pre_processed.parent_incident_type.str.replace('Robbery','Violent')\n",
    "pre_processed.parent_incident_type=pre_processed.parent_incident_type.str.replace( 'Assault','Violent')\n",
    "pre_processed.parent_incident_type=pre_processed.parent_incident_type.str.replace('Homicide','Violent')"
   ]
  },
  {
   "cell_type": "code",
   "execution_count": 174,
   "id": "cab17f79",
   "metadata": {},
   "outputs": [],
   "source": [
    "pre_processed.parent_incident_type=pre_processed.parent_incident_type.str.replace('Sexual Assault','Sexual')\n",
    "pre_processed.parent_incident_type=pre_processed.parent_incident_type.str.replace('Sexual Offense','Sexual')\n",
    "pre_processed.parent_incident_type=pre_processed.parent_incident_type.str.replace('Other Sexual Offense','Sexual')"
   ]
  },
  {
   "cell_type": "code",
   "execution_count": 177,
   "id": "ec494f15",
   "metadata": {},
   "outputs": [
    {
     "data": {
      "text/plain": [
       "array(['Property', 'Other Sexual', 'Sexual', 'Violent'], dtype=object)"
      ]
     },
     "execution_count": 177,
     "metadata": {},
     "output_type": "execute_result"
    }
   ],
   "source": [
    "pre_processed.parent_incident_type.unique()\n",
    "    "
   ]
  },
  {
   "cell_type": "code",
   "execution_count": 178,
   "id": "593cbc7a",
   "metadata": {},
   "outputs": [],
   "source": [
    "pre_processed.parent_incident_type=pre_processed.parent_incident_type.str.replace('Other Sexual','Sexual')"
   ]
  },
  {
   "cell_type": "code",
   "execution_count": 179,
   "id": "f6af37ac",
   "metadata": {},
   "outputs": [
    {
     "data": {
      "text/plain": [
       "array(['Property', 'Sexual', 'Violent'], dtype=object)"
      ]
     },
     "execution_count": 179,
     "metadata": {},
     "output_type": "execute_result"
    }
   ],
   "source": [
    "pre_processed.parent_incident_type.unique()"
   ]
  },
  {
   "cell_type": "code",
   "execution_count": 183,
   "id": "3f80a681",
   "metadata": {},
   "outputs": [
    {
     "name": "stdout",
     "output_type": "stream",
     "text": [
      "Learning rate:  20\n",
      "Accuracy score (training): 0.706\n",
      "Accuracy score (validation): 0.706\n",
      "\n",
      "Learning rate:  40\n",
      "Accuracy score (training): 0.706\n",
      "Accuracy score (validation): 0.706\n",
      "\n",
      "Learning rate:  60\n",
      "Accuracy score (training): 0.706\n",
      "Accuracy score (validation): 0.706\n",
      "\n",
      "Learning rate:  100\n",
      "Accuracy score (training): 0.706\n",
      "Accuracy score (validation): 0.706\n",
      "\n",
      "Learning rate:  200\n",
      "Accuracy score (training): 0.706\n",
      "Accuracy score (validation): 0.706\n",
      "\n"
     ]
    }
   ],
   "source": [
    "n_e = [20,40, 60, 100, 200]\n",
    "\n",
    "for n in n_e:\n",
    "    from sklearn.ensemble import RandomForestClassifier as rf\n",
    "    rf = rf(n_estimators=100, max_depth = 5, random_state = 0,bootstrap=False,criterion='entropy')\n",
    "    rf.fit(X_train, y_train)\n",
    "    print(\"Learning rate: \", n)\n",
    "    print(\"Accuracy score (training): {0:.3f}\".format(rf.score(X_train, y_train)))\n",
    "    print(\"Accuracy score (validation): {0:.3f}\".format(rf.score(X_test, y_test)))\n",
    "    print()"
   ]
  },
  {
   "cell_type": "code",
   "execution_count": 187,
   "id": "f0d1aa7a",
   "metadata": {},
   "outputs": [
    {
     "name": "stdout",
     "output_type": "stream",
     "text": [
      "Learning rate:  0.05\n",
      "Accuracy score (training): 0.707\n",
      "Accuracy score (validation): 0.707\n",
      "\n",
      "Learning rate:  0.1\n",
      "Accuracy score (training): 0.708\n",
      "Accuracy score (validation): 0.707\n",
      "\n",
      "Learning rate:  0.25\n",
      "Accuracy score (training): 0.711\n",
      "Accuracy score (validation): 0.708\n",
      "\n",
      "Learning rate:  0.5\n",
      "Accuracy score (training): 0.715\n",
      "Accuracy score (validation): 0.708\n",
      "\n",
      "Learning rate:  0.75\n",
      "Accuracy score (training): 0.718\n",
      "Accuracy score (validation): 0.705\n",
      "\n",
      "Learning rate:  1\n",
      "Accuracy score (training): 0.716\n",
      "Accuracy score (validation): 0.704\n",
      "\n"
     ]
    }
   ],
   "source": [
    "learning_rates = [0.05, 0.1, 0.25, 0.5, 0.75, 1]\n",
    "for learning_rate in learning_rates:\n",
    "    gb = GradientBoostingClassifier(n_estimators=100, learning_rate = learning_rate, max_features=5, max_depth = 4, random_state = 0)\n",
    "    gb.fit(X_train, y_train)\n",
    "    print(\"Learning rate: \", learning_rate)\n",
    "    print(\"Accuracy score (training): {0:.3f}\".format(gb.score(X_train, y_train)))\n",
    "    print(\"Accuracy score (validation): {0:.3f}\".format(gb.score(X_test, y_test)))\n",
    "    print()"
   ]
  },
  {
   "cell_type": "code",
   "execution_count": 190,
   "id": "2b180505",
   "metadata": {},
   "outputs": [
    {
     "data": {
      "text/plain": [
       "parent_incident_type\n",
       "Property    0.506343\n",
       "Sexual      0.012602\n",
       "Violent     0.198077\n",
       "dtype: float64"
      ]
     },
     "execution_count": 190,
     "metadata": {},
     "output_type": "execute_result"
    }
   ],
   "source": [
    "rating_probs = pre_processed.dropna().groupby('parent_incident_type').size().div(len(df))\n",
    "rating_probs "
   ]
  },
  {
   "cell_type": "code",
   "execution_count": 195,
   "id": "9a07ab81",
   "metadata": {},
   "outputs": [],
   "source": [
    "holidays=pd.read_csv(r'C:\\Users\\mmioi\\Downloads\\US Holiday Dates (2004-2021).csv')"
   ]
  },
  {
   "cell_type": "code",
   "execution_count": 197,
   "id": "b5bb0d4d",
   "metadata": {},
   "outputs": [
    {
     "data": {
      "text/html": [
       "<div>\n",
       "<style scoped>\n",
       "    .dataframe tbody tr th:only-of-type {\n",
       "        vertical-align: middle;\n",
       "    }\n",
       "\n",
       "    .dataframe tbody tr th {\n",
       "        vertical-align: top;\n",
       "    }\n",
       "\n",
       "    .dataframe thead th {\n",
       "        text-align: right;\n",
       "    }\n",
       "</style>\n",
       "<table border=\"1\" class=\"dataframe\">\n",
       "  <thead>\n",
       "    <tr style=\"text-align: right;\">\n",
       "      <th></th>\n",
       "      <th>Date</th>\n",
       "      <th>Holiday</th>\n",
       "      <th>WeekDay</th>\n",
       "      <th>Month</th>\n",
       "      <th>Day</th>\n",
       "      <th>Year</th>\n",
       "    </tr>\n",
       "  </thead>\n",
       "  <tbody>\n",
       "    <tr>\n",
       "      <th>0</th>\n",
       "      <td>2004-07-04</td>\n",
       "      <td>4th of July</td>\n",
       "      <td>Sunday</td>\n",
       "      <td>7</td>\n",
       "      <td>4</td>\n",
       "      <td>2004</td>\n",
       "    </tr>\n",
       "    <tr>\n",
       "      <th>1</th>\n",
       "      <td>2005-07-04</td>\n",
       "      <td>4th of July</td>\n",
       "      <td>Monday</td>\n",
       "      <td>7</td>\n",
       "      <td>4</td>\n",
       "      <td>2005</td>\n",
       "    </tr>\n",
       "    <tr>\n",
       "      <th>2</th>\n",
       "      <td>2006-07-04</td>\n",
       "      <td>4th of July</td>\n",
       "      <td>Tuesday</td>\n",
       "      <td>7</td>\n",
       "      <td>4</td>\n",
       "      <td>2006</td>\n",
       "    </tr>\n",
       "    <tr>\n",
       "      <th>3</th>\n",
       "      <td>2007-07-04</td>\n",
       "      <td>4th of July</td>\n",
       "      <td>Wednesday</td>\n",
       "      <td>7</td>\n",
       "      <td>4</td>\n",
       "      <td>2007</td>\n",
       "    </tr>\n",
       "    <tr>\n",
       "      <th>4</th>\n",
       "      <td>2008-07-04</td>\n",
       "      <td>4th of July</td>\n",
       "      <td>Friday</td>\n",
       "      <td>7</td>\n",
       "      <td>4</td>\n",
       "      <td>2008</td>\n",
       "    </tr>\n",
       "  </tbody>\n",
       "</table>\n",
       "</div>"
      ],
      "text/plain": [
       "         Date      Holiday    WeekDay  Month  Day  Year\n",
       "0  2004-07-04  4th of July     Sunday      7    4  2004\n",
       "1  2005-07-04  4th of July     Monday      7    4  2005\n",
       "2  2006-07-04  4th of July    Tuesday      7    4  2006\n",
       "3  2007-07-04  4th of July  Wednesday      7    4  2007\n",
       "4  2008-07-04  4th of July     Friday      7    4  2008"
      ]
     },
     "execution_count": 197,
     "metadata": {},
     "output_type": "execute_result"
    }
   ],
   "source": [
    "holidays.head()\n"
   ]
  },
  {
   "cell_type": "code",
   "execution_count": 202,
   "id": "ac4a6412",
   "metadata": {},
   "outputs": [],
   "source": [
    "holidays=holidays[['Date','Holiday']]\n",
    "holidays.Date=pd.to_datetime(holidays.Date)"
   ]
  },
  {
   "cell_type": "code",
   "execution_count": 206,
   "id": "804fba9b",
   "metadata": {},
   "outputs": [
    {
     "name": "stdout",
     "output_type": "stream",
     "text": [
      "<class 'pandas.core.frame.DataFrame'>\n",
      "DatetimeIndex: 342 entries, 2004-07-04 to 2011-04-24\n",
      "Data columns (total 1 columns):\n",
      " #   Column   Non-Null Count  Dtype \n",
      "---  ------   --------------  ----- \n",
      " 0   Holiday  342 non-null    object\n",
      "dtypes: object(1)\n",
      "memory usage: 5.3+ KB\n"
     ]
    }
   ],
   "source": [
    "holidays=holidays.set_index('Date')\n",
    "holidays.info()"
   ]
  },
  {
   "cell_type": "code",
   "execution_count": 220,
   "id": "2ae0d8a3",
   "metadata": {},
   "outputs": [],
   "source": [
    "holidays=pd.get_dummies(holidays)"
   ]
  },
  {
   "cell_type": "code",
   "execution_count": 228,
   "id": "67a38cbb",
   "metadata": {},
   "outputs": [],
   "source": [
    "holidays=holidays.dropna()"
   ]
  },
  {
   "cell_type": "code",
   "execution_count": 292,
   "id": "fe0bb346",
   "metadata": {},
   "outputs": [],
   "source": [
    "pre_processed1=pre_processed.join(holidays,how='left')"
   ]
  },
  {
   "cell_type": "code",
   "execution_count": 295,
   "id": "47e5aa2a",
   "metadata": {},
   "outputs": [],
   "source": [
    "pre_processed1=pre_processed1.replace(np.nan,0.0)"
   ]
  },
  {
   "cell_type": "code",
   "execution_count": 296,
   "id": "cf5984de",
   "metadata": {},
   "outputs": [
    {
     "name": "stdout",
     "output_type": "stream",
     "text": [
      "<class 'pandas.core.frame.DataFrame'>\n",
      "DatetimeIndex: 196080 entries, 2010-01-01 00:00:00 to 2021-08-31 02:35:24\n",
      "Data columns (total 29 columns):\n",
      " #   Column                               Non-Null Count   Dtype  \n",
      "---  ------                               --------------   -----  \n",
      " 0   latitude                             196080 non-null  float64\n",
      " 1   longitude                            196080 non-null  float64\n",
      " 2   parent_incident_type                 196080 non-null  object \n",
      " 3   log                                  196080 non-null  int64  \n",
      " 4   Friday                               196080 non-null  uint8  \n",
      " 5   Monday                               196080 non-null  uint8  \n",
      " 6   Saturday                             196080 non-null  uint8  \n",
      " 7   Sunday                               196080 non-null  uint8  \n",
      " 8   Thursday                             196080 non-null  uint8  \n",
      " 9   Tuesday                              196080 non-null  uint8  \n",
      " 10  Wednesday                            196080 non-null  uint8  \n",
      " 11  Holiday_4th of July                  196080 non-null  float64\n",
      " 12  Holiday_Christmas Day                196080 non-null  float64\n",
      " 13  Holiday_Christmas Eve                196080 non-null  float64\n",
      " 14  Holiday_Columbus Day                 196080 non-null  float64\n",
      " 15  Holiday_Eastern Easter               196080 non-null  float64\n",
      " 16  Holiday_Juneteenth                   196080 non-null  float64\n",
      " 17  Holiday_Labor Day                    196080 non-null  float64\n",
      " 18  Holiday_Labor Day Weekend            196080 non-null  float64\n",
      " 19  Holiday_Martin Luther King, Jr. Day  196080 non-null  float64\n",
      " 20  Holiday_Memorial Day                 196080 non-null  float64\n",
      " 21  Holiday_New Year's Day               196080 non-null  float64\n",
      " 22  Holiday_New Year’s Eve               196080 non-null  float64\n",
      " 23  Holiday_Thanksgiving Day             196080 non-null  float64\n",
      " 24  Holiday_Thanksgiving Eve             196080 non-null  float64\n",
      " 25  Holiday_Valentine’s Day              196080 non-null  float64\n",
      " 26  Holiday_Veterans Day                 196080 non-null  float64\n",
      " 27  Holiday_Washington's Birthday        196080 non-null  float64\n",
      " 28  Holiday_Western Easter               196080 non-null  float64\n",
      "dtypes: float64(20), int64(1), object(1), uint8(7)\n",
      "memory usage: 35.7+ MB\n"
     ]
    }
   ],
   "source": [
    "pre_processed1.info()"
   ]
  },
  {
   "cell_type": "code",
   "execution_count": 297,
   "id": "eee67ee0",
   "metadata": {},
   "outputs": [],
   "source": [
    "X=pre_processed1.drop('parent_incident_type',axis=1)\n",
    "Y=pre_processed1.parent_incident_type.values"
   ]
  },
  {
   "cell_type": "code",
   "execution_count": 298,
   "id": "dccc2fe2",
   "metadata": {},
   "outputs": [],
   "source": [
    "X_train,X_test,y_train,y_test=train_test_split(X,Y,test_size=0.20,random_state=123)"
   ]
  },
  {
   "cell_type": "code",
   "execution_count": 299,
   "id": "d002f5c8",
   "metadata": {},
   "outputs": [
    {
     "name": "stdout",
     "output_type": "stream",
     "text": [
      "Learning rate:  2\n",
      "Accuracy score (training): 0.705\n",
      "Accuracy score (validation): 0.709\n",
      "\n",
      "Learning rate:  3\n",
      "Accuracy score (training): 0.705\n",
      "Accuracy score (validation): 0.709\n",
      "\n",
      "Learning rate:  4\n",
      "Accuracy score (training): 0.705\n",
      "Accuracy score (validation): 0.709\n",
      "\n",
      "Learning rate:  5\n",
      "Accuracy score (training): 0.705\n",
      "Accuracy score (validation): 0.709\n",
      "\n",
      "Learning rate:  7\n",
      "Accuracy score (training): 0.705\n",
      "Accuracy score (validation): 0.709\n",
      "\n"
     ]
    }
   ],
   "source": [
    "md = [2,3,4,5,7,]\n",
    "\n",
    "for n in md:\n",
    "    from sklearn.ensemble import RandomForestClassifier as rf\n",
    "    rf = rf(n_estimators=200, max_depth = 2,max_leaf_nodes=n, random_state = 123,bootstrap=True,criterion='gini')\n",
    "    rf.fit(X_train, y_train)\n",
    "    print(\"Learning rate: \", n)\n",
    "    print(\"Accuracy score (training): {0:.3f}\".format(rf.score(X_train, y_train)))\n",
    "    print(\"Accuracy score (validation): {0:.3f}\".format(rf.score(X_test, y_test)))\n",
    "    print()"
   ]
  },
  {
   "cell_type": "code",
   "execution_count": 300,
   "id": "efa59025",
   "metadata": {},
   "outputs": [
    {
     "name": "stdout",
     "output_type": "stream",
     "text": [
      "Learning rate:  0.01\n",
      "Accuracy score (training): 0.705\n",
      "Accuracy score (validation): 0.709\n",
      "\n",
      "Learning rate:  0.02\n",
      "Accuracy score (training): 0.705\n",
      "Accuracy score (validation): 0.709\n",
      "\n"
     ]
    },
    {
     "ename": "KeyboardInterrupt",
     "evalue": "",
     "output_type": "error",
     "traceback": [
      "\u001b[1;31m---------------------------------------------------------------------------\u001b[0m",
      "\u001b[1;31mKeyboardInterrupt\u001b[0m                         Traceback (most recent call last)",
      "\u001b[1;32m<ipython-input-300-fe140829c594>\u001b[0m in \u001b[0;36m<module>\u001b[1;34m\u001b[0m\n\u001b[0;32m      2\u001b[0m \u001b[1;32mfor\u001b[0m \u001b[0mlearning_rate\u001b[0m \u001b[1;32min\u001b[0m \u001b[0mlearning_rates\u001b[0m\u001b[1;33m:\u001b[0m\u001b[1;33m\u001b[0m\u001b[1;33m\u001b[0m\u001b[0m\n\u001b[0;32m      3\u001b[0m     \u001b[0mgb\u001b[0m \u001b[1;33m=\u001b[0m \u001b[0mGradientBoostingClassifier\u001b[0m\u001b[1;33m(\u001b[0m\u001b[0mn_estimators\u001b[0m\u001b[1;33m=\u001b[0m\u001b[1;36m500\u001b[0m\u001b[1;33m,\u001b[0m \u001b[0mlearning_rate\u001b[0m \u001b[1;33m=\u001b[0m \u001b[0mlearning_rate\u001b[0m\u001b[1;33m,\u001b[0m \u001b[0mmax_features\u001b[0m\u001b[1;33m=\u001b[0m\u001b[1;36m4\u001b[0m\u001b[1;33m,\u001b[0m \u001b[0mmax_depth\u001b[0m \u001b[1;33m=\u001b[0m \u001b[1;36m3\u001b[0m\u001b[1;33m,\u001b[0m \u001b[0mrandom_state\u001b[0m \u001b[1;33m=\u001b[0m \u001b[1;36m0\u001b[0m\u001b[1;33m)\u001b[0m\u001b[1;33m\u001b[0m\u001b[1;33m\u001b[0m\u001b[0m\n\u001b[1;32m----> 4\u001b[1;33m     \u001b[0mgb\u001b[0m\u001b[1;33m.\u001b[0m\u001b[0mfit\u001b[0m\u001b[1;33m(\u001b[0m\u001b[0mX_train\u001b[0m\u001b[1;33m,\u001b[0m \u001b[0my_train\u001b[0m\u001b[1;33m)\u001b[0m\u001b[1;33m\u001b[0m\u001b[1;33m\u001b[0m\u001b[0m\n\u001b[0m\u001b[0;32m      5\u001b[0m     \u001b[0mprint\u001b[0m\u001b[1;33m(\u001b[0m\u001b[1;34m\"Learning rate: \"\u001b[0m\u001b[1;33m,\u001b[0m \u001b[0mlearning_rate\u001b[0m\u001b[1;33m)\u001b[0m\u001b[1;33m\u001b[0m\u001b[1;33m\u001b[0m\u001b[0m\n\u001b[0;32m      6\u001b[0m     \u001b[0mprint\u001b[0m\u001b[1;33m(\u001b[0m\u001b[1;34m\"Accuracy score (training): {0:.3f}\"\u001b[0m\u001b[1;33m.\u001b[0m\u001b[0mformat\u001b[0m\u001b[1;33m(\u001b[0m\u001b[0mgb\u001b[0m\u001b[1;33m.\u001b[0m\u001b[0mscore\u001b[0m\u001b[1;33m(\u001b[0m\u001b[0mX_train\u001b[0m\u001b[1;33m,\u001b[0m \u001b[0my_train\u001b[0m\u001b[1;33m)\u001b[0m\u001b[1;33m)\u001b[0m\u001b[1;33m)\u001b[0m\u001b[1;33m\u001b[0m\u001b[1;33m\u001b[0m\u001b[0m\n",
      "\u001b[1;32m~\\anaconda3\\lib\\site-packages\\sklearn\\ensemble\\_gb.py\u001b[0m in \u001b[0;36mfit\u001b[1;34m(self, X, y, sample_weight, monitor)\u001b[0m\n\u001b[0;32m    502\u001b[0m \u001b[1;33m\u001b[0m\u001b[0m\n\u001b[0;32m    503\u001b[0m         \u001b[1;31m# fit the boosting stages\u001b[0m\u001b[1;33m\u001b[0m\u001b[1;33m\u001b[0m\u001b[1;33m\u001b[0m\u001b[0m\n\u001b[1;32m--> 504\u001b[1;33m         n_stages = self._fit_stages(\n\u001b[0m\u001b[0;32m    505\u001b[0m             \u001b[0mX\u001b[0m\u001b[1;33m,\u001b[0m \u001b[0my\u001b[0m\u001b[1;33m,\u001b[0m \u001b[0mraw_predictions\u001b[0m\u001b[1;33m,\u001b[0m \u001b[0msample_weight\u001b[0m\u001b[1;33m,\u001b[0m \u001b[0mself\u001b[0m\u001b[1;33m.\u001b[0m\u001b[0m_rng\u001b[0m\u001b[1;33m,\u001b[0m \u001b[0mX_val\u001b[0m\u001b[1;33m,\u001b[0m \u001b[0my_val\u001b[0m\u001b[1;33m,\u001b[0m\u001b[1;33m\u001b[0m\u001b[1;33m\u001b[0m\u001b[0m\n\u001b[0;32m    506\u001b[0m             sample_weight_val, begin_at_stage, monitor)\n",
      "\u001b[1;32m~\\anaconda3\\lib\\site-packages\\sklearn\\ensemble\\_gb.py\u001b[0m in \u001b[0;36m_fit_stages\u001b[1;34m(self, X, y, raw_predictions, sample_weight, random_state, X_val, y_val, sample_weight_val, begin_at_stage, monitor)\u001b[0m\n\u001b[0;32m    559\u001b[0m \u001b[1;33m\u001b[0m\u001b[0m\n\u001b[0;32m    560\u001b[0m             \u001b[1;31m# fit next stage of trees\u001b[0m\u001b[1;33m\u001b[0m\u001b[1;33m\u001b[0m\u001b[1;33m\u001b[0m\u001b[0m\n\u001b[1;32m--> 561\u001b[1;33m             raw_predictions = self._fit_stage(\n\u001b[0m\u001b[0;32m    562\u001b[0m                 \u001b[0mi\u001b[0m\u001b[1;33m,\u001b[0m \u001b[0mX\u001b[0m\u001b[1;33m,\u001b[0m \u001b[0my\u001b[0m\u001b[1;33m,\u001b[0m \u001b[0mraw_predictions\u001b[0m\u001b[1;33m,\u001b[0m \u001b[0msample_weight\u001b[0m\u001b[1;33m,\u001b[0m \u001b[0msample_mask\u001b[0m\u001b[1;33m,\u001b[0m\u001b[1;33m\u001b[0m\u001b[1;33m\u001b[0m\u001b[0m\n\u001b[0;32m    563\u001b[0m                 random_state, X_csc, X_csr)\n",
      "\u001b[1;32m~\\anaconda3\\lib\\site-packages\\sklearn\\ensemble\\_gb.py\u001b[0m in \u001b[0;36m_fit_stage\u001b[1;34m(self, i, X, y, raw_predictions, sample_weight, sample_mask, random_state, X_csc, X_csr)\u001b[0m\n\u001b[0;32m    212\u001b[0m \u001b[1;33m\u001b[0m\u001b[0m\n\u001b[0;32m    213\u001b[0m             \u001b[0mX\u001b[0m \u001b[1;33m=\u001b[0m \u001b[0mX_csr\u001b[0m \u001b[1;32mif\u001b[0m \u001b[0mX_csr\u001b[0m \u001b[1;32mis\u001b[0m \u001b[1;32mnot\u001b[0m \u001b[1;32mNone\u001b[0m \u001b[1;32melse\u001b[0m \u001b[0mX\u001b[0m\u001b[1;33m\u001b[0m\u001b[1;33m\u001b[0m\u001b[0m\n\u001b[1;32m--> 214\u001b[1;33m             tree.fit(X, residual, sample_weight=sample_weight,\n\u001b[0m\u001b[0;32m    215\u001b[0m                      check_input=False)\n\u001b[0;32m    216\u001b[0m \u001b[1;33m\u001b[0m\u001b[0m\n",
      "\u001b[1;32m~\\anaconda3\\lib\\site-packages\\sklearn\\tree\\_classes.py\u001b[0m in \u001b[0;36mfit\u001b[1;34m(self, X, y, sample_weight, check_input, X_idx_sorted)\u001b[0m\n\u001b[0;32m   1245\u001b[0m         \"\"\"\n\u001b[0;32m   1246\u001b[0m \u001b[1;33m\u001b[0m\u001b[0m\n\u001b[1;32m-> 1247\u001b[1;33m         super().fit(\n\u001b[0m\u001b[0;32m   1248\u001b[0m             \u001b[0mX\u001b[0m\u001b[1;33m,\u001b[0m \u001b[0my\u001b[0m\u001b[1;33m,\u001b[0m\u001b[1;33m\u001b[0m\u001b[1;33m\u001b[0m\u001b[0m\n\u001b[0;32m   1249\u001b[0m             \u001b[0msample_weight\u001b[0m\u001b[1;33m=\u001b[0m\u001b[0msample_weight\u001b[0m\u001b[1;33m,\u001b[0m\u001b[1;33m\u001b[0m\u001b[1;33m\u001b[0m\u001b[0m\n",
      "\u001b[1;32m~\\anaconda3\\lib\\site-packages\\sklearn\\tree\\_classes.py\u001b[0m in \u001b[0;36mfit\u001b[1;34m(self, X, y, sample_weight, check_input, X_idx_sorted)\u001b[0m\n\u001b[0;32m    387\u001b[0m                                            min_impurity_split)\n\u001b[0;32m    388\u001b[0m \u001b[1;33m\u001b[0m\u001b[0m\n\u001b[1;32m--> 389\u001b[1;33m         \u001b[0mbuilder\u001b[0m\u001b[1;33m.\u001b[0m\u001b[0mbuild\u001b[0m\u001b[1;33m(\u001b[0m\u001b[0mself\u001b[0m\u001b[1;33m.\u001b[0m\u001b[0mtree_\u001b[0m\u001b[1;33m,\u001b[0m \u001b[0mX\u001b[0m\u001b[1;33m,\u001b[0m \u001b[0my\u001b[0m\u001b[1;33m,\u001b[0m \u001b[0msample_weight\u001b[0m\u001b[1;33m)\u001b[0m\u001b[1;33m\u001b[0m\u001b[1;33m\u001b[0m\u001b[0m\n\u001b[0m\u001b[0;32m    390\u001b[0m \u001b[1;33m\u001b[0m\u001b[0m\n\u001b[0;32m    391\u001b[0m         \u001b[1;32mif\u001b[0m \u001b[0mself\u001b[0m\u001b[1;33m.\u001b[0m\u001b[0mn_outputs_\u001b[0m \u001b[1;33m==\u001b[0m \u001b[1;36m1\u001b[0m \u001b[1;32mand\u001b[0m \u001b[0mis_classifier\u001b[0m\u001b[1;33m(\u001b[0m\u001b[0mself\u001b[0m\u001b[1;33m)\u001b[0m\u001b[1;33m:\u001b[0m\u001b[1;33m\u001b[0m\u001b[1;33m\u001b[0m\u001b[0m\n",
      "\u001b[1;31mKeyboardInterrupt\u001b[0m: "
     ]
    }
   ],
   "source": [
    "learning_rates = [0.01,0.02,0.05, 0.1, 0.25, 0.5, 0.75, 1]\n",
    "for learning_rate in learning_rates:\n",
    "    gb = GradientBoostingClassifier(n_estimators=500, learning_rate = learning_rate, max_features=4, max_depth = 3, random_state = 0)\n",
    "    gb.fit(X_train, y_train)\n",
    "    print(\"Learning rate: \", learning_rate)\n",
    "    print(\"Accuracy score (training): {0:.3f}\".format(gb.score(X_train, y_train)))\n",
    "    print(\"Accuracy score (validation): {0:.3f}\".format(gb.score(X_test, y_test)))\n",
    "    print()"
   ]
  },
  {
   "cell_type": "code",
   "execution_count": 301,
   "id": "a63b8d46",
   "metadata": {},
   "outputs": [
    {
     "name": "stdout",
     "output_type": "stream",
     "text": [
      "Learning rate:  7\n",
      "Accuracy score (training): 0.705\n",
      "Accuracy score (validation): 0.709\n",
      "\n"
     ]
    }
   ],
   "source": [
    "from sklearn.ensemble import RandomForestClassifier as rf\n",
    "rf = rf(n_estimators=200, max_depth = 2,random_state = 123,bootstrap=True,criterion='gini')\n",
    "rf.fit(X_train, y_train)\n",
    "print(\"Learning rate: \", n)\n",
    "print(\"Accuracy score (training): {0:.3f}\".format(rf.score(X_train, y_train)))\n",
    "print(\"Accuracy score (validation): {0:.3f}\".format(rf.score(X_test, y_test)))\n",
    "print()"
   ]
  },
  {
   "cell_type": "code",
   "execution_count": 302,
   "id": "9effb4c0",
   "metadata": {},
   "outputs": [],
   "source": [
    "ypred=rf.predict(X_test)"
   ]
  },
  {
   "cell_type": "code",
   "execution_count": 303,
   "id": "ad9c5889",
   "metadata": {},
   "outputs": [
    {
     "data": {
      "text/plain": [
       "array([[27820,     0,     0],\n",
       "       [  689,     0,     0],\n",
       "       [10707,     0,     0]], dtype=int64)"
      ]
     },
     "execution_count": 303,
     "metadata": {},
     "output_type": "execute_result"
    }
   ],
   "source": [
    "confusion_matrix(y_test,ypred)"
   ]
  },
  {
   "cell_type": "code",
   "execution_count": 304,
   "id": "5bb03f23",
   "metadata": {},
   "outputs": [
    {
     "name": "stderr",
     "output_type": "stream",
     "text": [
      "C:\\Users\\mmioi\\anaconda3\\lib\\site-packages\\sklearn\\metrics\\_classification.py:1245: UndefinedMetricWarning: Precision and F-score are ill-defined and being set to 0.0 in labels with no predicted samples. Use `zero_division` parameter to control this behavior.\n",
      "  _warn_prf(average, modifier, msg_start, len(result))\n"
     ]
    },
    {
     "name": "stdout",
     "output_type": "stream",
     "text": [
      "              precision    recall  f1-score   support\n",
      "\n",
      "    Property       0.71      1.00      0.83     27820\n",
      "      Sexual       0.00      0.00      0.00       689\n",
      "     Violent       0.00      0.00      0.00     10707\n",
      "\n",
      "    accuracy                           0.71     39216\n",
      "   macro avg       0.24      0.33      0.28     39216\n",
      "weighted avg       0.50      0.71      0.59     39216\n",
      "\n"
     ]
    },
    {
     "name": "stderr",
     "output_type": "stream",
     "text": [
      "C:\\Users\\mmioi\\anaconda3\\lib\\site-packages\\sklearn\\metrics\\_classification.py:1245: UndefinedMetricWarning: Precision and F-score are ill-defined and being set to 0.0 in labels with no predicted samples. Use `zero_division` parameter to control this behavior.\n",
      "  _warn_prf(average, modifier, msg_start, len(result))\n",
      "C:\\Users\\mmioi\\anaconda3\\lib\\site-packages\\sklearn\\metrics\\_classification.py:1245: UndefinedMetricWarning: Precision and F-score are ill-defined and being set to 0.0 in labels with no predicted samples. Use `zero_division` parameter to control this behavior.\n",
      "  _warn_prf(average, modifier, msg_start, len(result))\n"
     ]
    }
   ],
   "source": [
    "print(classification_report(y_test,ypred))\n"
   ]
  },
  {
   "cell_type": "code",
   "execution_count": 305,
   "id": "34a0cbde",
   "metadata": {},
   "outputs": [
    {
     "data": {
      "text/plain": [
       "Index(['latitude', 'longitude', 'parent_incident_type', 'log', 'Friday',\n",
       "       'Monday', 'Saturday', 'Sunday', 'Thursday', 'Tuesday', 'Wednesday',\n",
       "       'Holiday_4th of July', 'Holiday_Christmas Day', 'Holiday_Christmas Eve',\n",
       "       'Holiday_Columbus Day', 'Holiday_Eastern Easter', 'Holiday_Juneteenth',\n",
       "       'Holiday_Labor Day', 'Holiday_Labor Day Weekend',\n",
       "       'Holiday_Martin Luther King, Jr. Day', 'Holiday_Memorial Day',\n",
       "       'Holiday_New Year's Day', 'Holiday_New Year’s Eve',\n",
       "       'Holiday_Thanksgiving Day', 'Holiday_Thanksgiving Eve',\n",
       "       'Holiday_Valentine’s Day', 'Holiday_Veterans Day',\n",
       "       'Holiday_Washington's Birthday', 'Holiday_Western Easter'],\n",
       "      dtype='object')"
      ]
     },
     "execution_count": 305,
     "metadata": {},
     "output_type": "execute_result"
    }
   ],
   "source": [
    "pre_processed1.columns"
   ]
  },
  {
   "cell_type": "code",
   "execution_count": 306,
   "id": "65826cbb",
   "metadata": {},
   "outputs": [
    {
     "data": {
      "text/plain": [
       "Property    138467\n",
       "Violent      54166\n",
       "Sexual        3447\n",
       "Name: parent_incident_type, dtype: int64"
      ]
     },
     "execution_count": 306,
     "metadata": {},
     "output_type": "execute_result"
    }
   ],
   "source": [
    "pre_processed1.parent_incident_type.value_counts()"
   ]
  },
  {
   "cell_type": "markdown",
   "id": "5dd22b27",
   "metadata": {},
   "source": [
    "# Balancing the DataSet "
   ]
  },
  {
   "cell_type": "code",
   "execution_count": 307,
   "id": "cfa37514",
   "metadata": {},
   "outputs": [],
   "source": [
    "# Class count\n",
    "count_class_0, count_class_1 ,count_class_2= pre_processed1.parent_incident_type.value_counts()\n",
    "\n",
    "# Divide by class\n",
    "df_class_0 = pre_processed1[pre_processed1['parent_incident_type'] == 'Property']\n",
    "df_class_1 = pre_processed1[pre_processed1['parent_incident_type'] == 'Violent']\n",
    "df_class_2 = pre_processed1[pre_processed1['parent_incident_type'] == 'Sexual']"
   ]
  },
  {
   "cell_type": "code",
   "execution_count": 328,
   "id": "433e8715",
   "metadata": {},
   "outputs": [
    {
     "name": "stdout",
     "output_type": "stream",
     "text": [
      "Random under-sampling:\n",
      "Violent     54166\n",
      "Property    54166\n",
      "Sexual       3447\n",
      "Name: parent_incident_type, dtype: int64\n"
     ]
    }
   ],
   "source": [
    "# Undersample 0-class and concat the DataFrames of both class\n",
    "df_class_0_under = df_class_0.sample(count_class_1)\n",
    "df_test_under = pd.concat([df_class_0_under, df_class_1,df_class_2], axis=0)\n",
    "\n",
    "print('Random under-sampling:')\n",
    "print(df_test_under.parent_incident_type.value_counts())"
   ]
  },
  {
   "cell_type": "code",
   "execution_count": 312,
   "id": "6602a9a7",
   "metadata": {},
   "outputs": [],
   "source": [
    "X=df_test_under.drop('parent_incident_type',axis=1)\n",
    "Y=df_test_under.parent_incident_type.values"
   ]
  },
  {
   "cell_type": "code",
   "execution_count": 318,
   "id": "73717f07",
   "metadata": {},
   "outputs": [],
   "source": [
    "X_train, X_test, y_train, y_test = train_test_split(X, Y, test_size=0.2, random_state=15)"
   ]
  },
  {
   "cell_type": "code",
   "execution_count": 319,
   "id": "ac459c1a",
   "metadata": {},
   "outputs": [
    {
     "name": "stdout",
     "output_type": "stream",
     "text": [
      "Learning rate:  2\n",
      "Accuracy score (training): 0.545\n",
      "Accuracy score (validation): 0.542\n",
      "\n",
      "Learning rate:  3\n",
      "Accuracy score (training): 0.545\n",
      "Accuracy score (validation): 0.543\n",
      "\n",
      "Learning rate:  4\n",
      "Accuracy score (training): 0.547\n",
      "Accuracy score (validation): 0.545\n",
      "\n",
      "Learning rate:  5\n",
      "Accuracy score (training): 0.547\n",
      "Accuracy score (validation): 0.545\n",
      "\n",
      "Learning rate:  7\n",
      "Accuracy score (training): 0.547\n",
      "Accuracy score (validation): 0.545\n",
      "\n"
     ]
    }
   ],
   "source": [
    "md = [2,3,4,5,7,]\n",
    "\n",
    "for n in md:\n",
    "    from sklearn.ensemble import RandomForestClassifier as rf\n",
    "    rf = rf(n_estimators=200, max_depth = 2,max_leaf_nodes=n, random_state = 123,bootstrap=True,criterion='gini')\n",
    "    rf.fit(X_train, y_train)\n",
    "    print(\"Learning rate: \", n)\n",
    "    print(\"Accuracy score (training): {0:.3f}\".format(rf.score(X_train, y_train)))\n",
    "    print(\"Accuracy score (validation): {0:.3f}\".format(rf.score(X_test, y_test)))\n",
    "    print()"
   ]
  },
  {
   "cell_type": "code",
   "execution_count": 317,
   "id": "c5441892",
   "metadata": {},
   "outputs": [],
   "source": [
    "import tensorflow as tf\n",
    "from tensorflow import keras"
   ]
  },
  {
   "cell_type": "code",
   "execution_count": 278,
   "id": "abc824a8",
   "metadata": {},
   "outputs": [
    {
     "data": {
      "text/plain": [
       "28"
      ]
     },
     "execution_count": 278,
     "metadata": {},
     "output_type": "execute_result"
    }
   ],
   "source": [
    "len(X_train.columns)"
   ]
  },
  {
   "cell_type": "code",
   "execution_count": 329,
   "id": "93015136",
   "metadata": {},
   "outputs": [],
   "source": [
    "df_test_under.parent_incident_type=df_test_under.parent_incident_type.astype('str')"
   ]
  },
  {
   "cell_type": "code",
   "execution_count": 333,
   "id": "dac4433a",
   "metadata": {},
   "outputs": [],
   "source": [
    "df_test1=pd.DataFrame(df_test_under)\n",
    "df_test_under=df_test1"
   ]
  },
  {
   "cell_type": "code",
   "execution_count": 337,
   "id": "7897139d",
   "metadata": {},
   "outputs": [],
   "source": [
    "df_test_under.parent_incident_type=df_test_under.parent_incident_type.replace('Violent',1)\n",
    "df_test_under.parent_incident_type=df_test_under.parent_incident_type.replace('Property',0)\n",
    "df_test_under.parent_incident_type=df_test_under.parent_incident_type.replace('Sexual',2)\n"
   ]
  },
  {
   "cell_type": "code",
   "execution_count": 338,
   "id": "f6814aea",
   "metadata": {},
   "outputs": [
    {
     "data": {
      "text/plain": [
       "array([0, 1, 2], dtype=int64)"
      ]
     },
     "execution_count": 338,
     "metadata": {},
     "output_type": "execute_result"
    }
   ],
   "source": [
    "df_test_under.parent_incident_type.unique()"
   ]
  },
  {
   "cell_type": "code",
   "execution_count": 339,
   "id": "65637fe8",
   "metadata": {},
   "outputs": [],
   "source": [
    "X=df_test_under.drop('parent_incident_type',axis=1).values\n",
    "Y=df_test_under.parent_incident_type.values\n",
    "X_train, X_test, y_train, y_test = train_test_split(X, Y, test_size=0.2, random_state=15)"
   ]
  },
  {
   "cell_type": "code",
   "execution_count": 324,
   "id": "ba3c4301",
   "metadata": {},
   "outputs": [],
   "source": [
    "def ANN(X_train, y_train, X_test, y_test, loss, weights):\n",
    "    model = keras.Sequential([\n",
    "        keras.layers.Dense(28, input_dim=28, activation='relu'),\n",
    "        keras.layers.Dense(52, activation='relu'),\n",
    "        keras.layers.Dense(28, activation='relu'),\n",
    "        keras.layers.Dense(1, activation='sigmoid')\n",
    "    ])\n",
    "\n",
    "    model.compile(optimizer='adam', loss=loss, metrics=['accuracy'])\n",
    "    \n",
    "    if weights == -1:\n",
    "        model.fit(X_train, y_train, epochs=50)\n",
    "    else:\n",
    "        model.fit(X_train, y_train, epochs=50, class_weight = weights)\n",
    "    \n",
    "    print(model.evaluate(X_test, y_test))\n",
    "    \n",
    "    y_preds = model.predict(X_test)\n",
    "    y_preds = np.round(y_preds)\n",
    "    \n",
    "    print(\"Classification Report: \\n\", classification_report(y_test, y_preds))\n",
    "    \n",
    "    return y_preds"
   ]
  },
  {
   "cell_type": "code",
   "execution_count": 341,
   "id": "bfc2ae99",
   "metadata": {},
   "outputs": [
    {
     "name": "stdout",
     "output_type": "stream",
     "text": [
      "Epoch 1/100\n",
      "2795/2795 [==============================] - 1s 469us/step - loss: 6.5068e-08 - accuracy: 0.4848\n",
      "Epoch 2/100\n",
      "2795/2795 [==============================] - 1s 452us/step - loss: 6.5068e-08 - accuracy: 0.4848\n",
      "Epoch 3/100\n",
      "2795/2795 [==============================] - 1s 453us/step - loss: 6.5068e-08 - accuracy: 0.4848\n",
      "Epoch 4/100\n",
      "2795/2795 [==============================] - 1s 463us/step - loss: 6.5068e-08 - accuracy: 0.4848\n",
      "Epoch 5/100\n",
      "2795/2795 [==============================] - 1s 454us/step - loss: 6.5068e-08 - accuracy: 0.4848\n",
      "Epoch 6/100\n",
      "2795/2795 [==============================] - 1s 456us/step - loss: 6.5068e-08 - accuracy: 0.4848\n",
      "Epoch 7/100\n",
      "2795/2795 [==============================] - 1s 453us/step - loss: 6.5068e-08 - accuracy: 0.4848\n",
      "Epoch 8/100\n",
      "2795/2795 [==============================] - 1s 459us/step - loss: 6.5068e-08 - accuracy: 0.4848\n",
      "Epoch 9/100\n",
      "2795/2795 [==============================] - 1s 454us/step - loss: 6.5068e-08 - accuracy: 0.4848\n",
      "Epoch 10/100\n",
      "2795/2795 [==============================] - 1s 456us/step - loss: 6.5068e-08 - accuracy: 0.4848\n",
      "Epoch 11/100\n",
      "2795/2795 [==============================] - 1s 461us/step - loss: 6.5068e-08 - accuracy: 0.4848\n",
      "Epoch 12/100\n",
      "2795/2795 [==============================] - 1s 456us/step - loss: 6.5068e-08 - accuracy: 0.4848\n",
      "Epoch 13/100\n",
      "2795/2795 [==============================] - 1s 456us/step - loss: 6.5068e-08 - accuracy: 0.4848\n",
      "Epoch 14/100\n",
      "2795/2795 [==============================] - 1s 456us/step - loss: 6.5068e-08 - accuracy: 0.4848\n",
      "Epoch 15/100\n",
      "2795/2795 [==============================] - 1s 461us/step - loss: 6.5068e-08 - accuracy: 0.4848\n",
      "Epoch 16/100\n",
      "2795/2795 [==============================] - 1s 462us/step - loss: 6.5068e-08 - accuracy: 0.4848\n",
      "Epoch 17/100\n",
      "2795/2795 [==============================] - 1s 455us/step - loss: 6.5068e-08 - accuracy: 0.4848\n",
      "Epoch 18/100\n",
      "2795/2795 [==============================] - 1s 463us/step - loss: 6.5068e-08 - accuracy: 0.4848\n",
      "Epoch 19/100\n",
      "2795/2795 [==============================] - 1s 458us/step - loss: 6.5068e-08 - accuracy: 0.4848\n",
      "Epoch 20/100\n",
      "2795/2795 [==============================] - 1s 459us/step - loss: 6.5068e-08 - accuracy: 0.4848\n",
      "Epoch 21/100\n",
      "2795/2795 [==============================] - 1s 454us/step - loss: 6.5068e-08 - accuracy: 0.4848\n",
      "Epoch 22/100\n",
      "2795/2795 [==============================] - 1s 457us/step - loss: 6.5068e-08 - accuracy: 0.4848\n",
      "Epoch 23/100\n",
      "2795/2795 [==============================] - 1s 454us/step - loss: 6.5068e-08 - accuracy: 0.4848\n",
      "Epoch 24/100\n",
      "2795/2795 [==============================] - 1s 455us/step - loss: 6.5068e-08 - accuracy: 0.4848\n",
      "Epoch 25/100\n",
      "2795/2795 [==============================] - 1s 458us/step - loss: 6.5068e-08 - accuracy: 0.4848\n",
      "Epoch 26/100\n",
      "2795/2795 [==============================] - 1s 457us/step - loss: 6.5068e-08 - accuracy: 0.4848\n",
      "Epoch 27/100\n",
      "2795/2795 [==============================] - 1s 458us/step - loss: 6.5068e-08 - accuracy: 0.4848\n",
      "Epoch 28/100\n",
      "2795/2795 [==============================] - 1s 463us/step - loss: 6.5068e-08 - accuracy: 0.4848\n",
      "Epoch 29/100\n",
      "2795/2795 [==============================] - 1s 463us/step - loss: 6.5068e-08 - accuracy: 0.4848\n",
      "Epoch 30/100\n",
      "2795/2795 [==============================] - 1s 455us/step - loss: 6.5068e-08 - accuracy: 0.4848\n",
      "Epoch 31/100\n",
      "2795/2795 [==============================] - 1s 458us/step - loss: 6.5068e-08 - accuracy: 0.4848\n",
      "Epoch 32/100\n",
      "2795/2795 [==============================] - 1s 461us/step - loss: 6.5068e-08 - accuracy: 0.4848\n",
      "Epoch 33/100\n",
      "2795/2795 [==============================] - 1s 456us/step - loss: 6.5068e-08 - accuracy: 0.4848\n",
      "Epoch 34/100\n",
      "2795/2795 [==============================] - 1s 454us/step - loss: 6.5068e-08 - accuracy: 0.4848\n",
      "Epoch 35/100\n",
      "2795/2795 [==============================] - 1s 458us/step - loss: 6.5068e-08 - accuracy: 0.4848\n",
      "Epoch 36/100\n",
      "2795/2795 [==============================] - 1s 461us/step - loss: 6.5068e-08 - accuracy: 0.4848\n",
      "Epoch 37/100\n",
      "2795/2795 [==============================] - 1s 454us/step - loss: 6.5068e-08 - accuracy: 0.4848\n",
      "Epoch 38/100\n",
      "2795/2795 [==============================] - 1s 453us/step - loss: 6.5068e-08 - accuracy: 0.4848\n",
      "Epoch 39/100\n",
      "2795/2795 [==============================] - 1s 456us/step - loss: 6.5068e-08 - accuracy: 0.4848\n",
      "Epoch 40/100\n",
      "2795/2795 [==============================] - 1s 463us/step - loss: 6.5068e-08 - accuracy: 0.4848\n",
      "Epoch 41/100\n",
      "2795/2795 [==============================] - 1s 486us/step - loss: 6.5068e-08 - accuracy: 0.4848\n",
      "Epoch 42/100\n",
      "2795/2795 [==============================] - 1s 479us/step - loss: 6.5068e-08 - accuracy: 0.4848\n",
      "Epoch 43/100\n",
      "2795/2795 [==============================] - 1s 474us/step - loss: 6.5068e-08 - accuracy: 0.4848\n",
      "Epoch 44/100\n",
      "2795/2795 [==============================] - 1s 473us/step - loss: 6.5068e-08 - accuracy: 0.4848\n",
      "Epoch 45/100\n",
      "2795/2795 [==============================] - 1s 485us/step - loss: 6.5068e-08 - accuracy: 0.4848\n",
      "Epoch 46/100\n",
      "2795/2795 [==============================] - 1s 461us/step - loss: 6.5068e-08 - accuracy: 0.4848\n",
      "Epoch 47/100\n",
      "2795/2795 [==============================] - 1s 466us/step - loss: 6.5068e-08 - accuracy: 0.4848\n",
      "Epoch 48/100\n",
      "2795/2795 [==============================] - 1s 469us/step - loss: 6.5068e-08 - accuracy: 0.4848\n",
      "Epoch 49/100\n",
      "2795/2795 [==============================] - 1s 460us/step - loss: 6.5068e-08 - accuracy: 0.4848\n",
      "Epoch 50/100\n",
      "2795/2795 [==============================] - 1s 461us/step - loss: 6.5068e-08 - accuracy: 0.4848\n",
      "Epoch 51/100\n",
      "2795/2795 [==============================] - 1s 459us/step - loss: 6.5068e-08 - accuracy: 0.4848\n",
      "Epoch 52/100\n",
      "2795/2795 [==============================] - 1s 467us/step - loss: 6.5068e-08 - accuracy: 0.4848\n",
      "Epoch 53/100\n",
      "2795/2795 [==============================] - 1s 476us/step - loss: 6.5068e-08 - accuracy: 0.4848\n",
      "Epoch 54/100\n",
      "2795/2795 [==============================] - 1s 480us/step - loss: 6.5068e-08 - accuracy: 0.4848\n",
      "Epoch 55/100\n",
      "2795/2795 [==============================] - 1s 473us/step - loss: 6.5068e-08 - accuracy: 0.4848\n",
      "Epoch 56/100\n",
      "2795/2795 [==============================] - 1s 471us/step - loss: 6.5068e-08 - accuracy: 0.4848\n",
      "Epoch 57/100\n",
      "2795/2795 [==============================] - 1s 471us/step - loss: 6.5068e-08 - accuracy: 0.4848\n",
      "Epoch 58/100\n",
      "2795/2795 [==============================] - 1s 465us/step - loss: 6.5068e-08 - accuracy: 0.4848\n",
      "Epoch 59/100\n",
      "2795/2795 [==============================] - 1s 475us/step - loss: 6.5068e-08 - accuracy: 0.4848\n",
      "Epoch 60/100\n",
      "2795/2795 [==============================] - 1s 459us/step - loss: 6.5068e-08 - accuracy: 0.4848\n",
      "Epoch 61/100\n",
      "2795/2795 [==============================] - 1s 461us/step - loss: 6.5068e-08 - accuracy: 0.4848\n",
      "Epoch 62/100\n",
      "2795/2795 [==============================] - 1s 459us/step - loss: 6.5068e-08 - accuracy: 0.4848\n",
      "Epoch 63/100\n",
      "2795/2795 [==============================] - 1s 469us/step - loss: 6.5068e-08 - accuracy: 0.4848\n",
      "Epoch 64/100\n",
      "2795/2795 [==============================] - 1s 461us/step - loss: 6.5068e-08 - accuracy: 0.4848\n",
      "Epoch 65/100\n",
      "2795/2795 [==============================] - 1s 468us/step - loss: 6.5068e-08 - accuracy: 0.4848\n",
      "Epoch 66/100\n",
      "2795/2795 [==============================] - 1s 473us/step - loss: 6.5068e-08 - accuracy: 0.4848\n",
      "Epoch 67/100\n",
      "2795/2795 [==============================] - 1s 471us/step - loss: 6.5068e-08 - accuracy: 0.4848\n",
      "Epoch 68/100\n",
      "2795/2795 [==============================] - 1s 469us/step - loss: 6.5068e-08 - accuracy: 0.4848\n",
      "Epoch 69/100\n",
      "2795/2795 [==============================] - 1s 469us/step - loss: 6.5068e-08 - accuracy: 0.4848\n",
      "Epoch 70/100\n",
      "2795/2795 [==============================] - 1s 467us/step - loss: 6.5068e-08 - accuracy: 0.4848\n",
      "Epoch 71/100\n",
      "2795/2795 [==============================] - 1s 465us/step - loss: 6.5068e-08 - accuracy: 0.4848\n",
      "Epoch 72/100\n",
      "2795/2795 [==============================] - 1s 465us/step - loss: 6.5068e-08 - accuracy: 0.4848\n",
      "Epoch 73/100\n",
      "2795/2795 [==============================] - 1s 466us/step - loss: 6.5068e-08 - accuracy: 0.4848\n",
      "Epoch 74/100\n",
      "2795/2795 [==============================] - 1s 466us/step - loss: 6.5068e-08 - accuracy: 0.4848\n",
      "Epoch 75/100\n"
     ]
    },
    {
     "name": "stdout",
     "output_type": "stream",
     "text": [
      "2795/2795 [==============================] - 1s 457us/step - loss: 6.5068e-08 - accuracy: 0.4848\n",
      "Epoch 76/100\n",
      "2795/2795 [==============================] - 1s 463us/step - loss: 6.5068e-08 - accuracy: 0.4848\n",
      "Epoch 77/100\n",
      "2795/2795 [==============================] - 1s 460us/step - loss: 6.5068e-08 - accuracy: 0.4848\n",
      "Epoch 78/100\n",
      "2795/2795 [==============================] - 1s 475us/step - loss: 6.5068e-08 - accuracy: 0.4848\n",
      "Epoch 79/100\n",
      "2795/2795 [==============================] - 1s 461us/step - loss: 6.5068e-08 - accuracy: 0.4848\n",
      "Epoch 80/100\n",
      "2795/2795 [==============================] - 1s 467us/step - loss: 6.5068e-08 - accuracy: 0.4848\n",
      "Epoch 81/100\n",
      "2795/2795 [==============================] - 1s 463us/step - loss: 6.5068e-08 - accuracy: 0.4848\n",
      "Epoch 82/100\n",
      "2795/2795 [==============================] - 1s 471us/step - loss: 6.5068e-08 - accuracy: 0.4848\n",
      "Epoch 83/100\n",
      "2795/2795 [==============================] - 1s 464us/step - loss: 6.5068e-08 - accuracy: 0.4848\n",
      "Epoch 84/100\n",
      "2795/2795 [==============================] - 1s 463us/step - loss: 6.5068e-08 - accuracy: 0.4848\n",
      "Epoch 85/100\n",
      "2795/2795 [==============================] - 1s 461us/step - loss: 6.5068e-08 - accuracy: 0.4848\n",
      "Epoch 86/100\n",
      "2795/2795 [==============================] - 1s 459us/step - loss: 6.5068e-08 - accuracy: 0.4848\n",
      "Epoch 87/100\n",
      "2795/2795 [==============================] - 1s 461us/step - loss: 6.5068e-08 - accuracy: 0.4848\n",
      "Epoch 88/100\n",
      "2795/2795 [==============================] - 1s 467us/step - loss: 6.5068e-08 - accuracy: 0.4848\n",
      "Epoch 89/100\n",
      "2795/2795 [==============================] - 1s 469us/step - loss: 6.5068e-08 - accuracy: 0.4848\n",
      "Epoch 90/100\n",
      "2795/2795 [==============================] - 1s 478us/step - loss: 6.5068e-08 - accuracy: 0.4848\n",
      "Epoch 91/100\n",
      "2795/2795 [==============================] - 1s 460us/step - loss: 6.5068e-08 - accuracy: 0.4848\n",
      "Epoch 92/100\n",
      "2795/2795 [==============================] - 1s 467us/step - loss: 6.5068e-08 - accuracy: 0.4848\n",
      "Epoch 93/100\n",
      "2795/2795 [==============================] - 1s 460us/step - loss: 6.5068e-08 - accuracy: 0.4848\n",
      "Epoch 94/100\n",
      "2795/2795 [==============================] - 1s 460us/step - loss: 6.5068e-08 - accuracy: 0.4848\n",
      "Epoch 95/100\n",
      "2795/2795 [==============================] - 1s 458us/step - loss: 6.5068e-08 - accuracy: 0.4848\n",
      "Epoch 96/100\n",
      "2795/2795 [==============================] - 1s 460us/step - loss: 6.5068e-08 - accuracy: 0.4848\n",
      "Epoch 97/100\n",
      "2795/2795 [==============================] - 1s 461us/step - loss: 6.5068e-08 - accuracy: 0.4848\n",
      "Epoch 98/100\n",
      "2795/2795 [==============================] - 1s 459us/step - loss: 6.5068e-08 - accuracy: 0.4848\n",
      "Epoch 99/100\n",
      "2795/2795 [==============================] - 1s 456us/step - loss: 6.5068e-08 - accuracy: 0.4848\n",
      "Epoch 100/100\n",
      "2795/2795 [==============================] - 1s 461us/step - loss: 6.5068e-08 - accuracy: 0.4848\n",
      "699/699 [==============================] - 0s 325us/step - loss: 6.5321e-08 - accuracy: 0.4839\n",
      "[6.532089003030705e-08, 0.48385220766067505]\n",
      "Classification Report: \n",
      "               precision    recall  f1-score   support\n",
      "\n",
      "           0       0.48      1.00      0.65     10817\n",
      "           1       0.00      0.00      0.00     10828\n",
      "           2       0.00      0.00      0.00       711\n",
      "\n",
      "    accuracy                           0.48     22356\n",
      "   macro avg       0.16      0.33      0.22     22356\n",
      "weighted avg       0.23      0.48      0.32     22356\n",
      "\n"
     ]
    },
    {
     "name": "stderr",
     "output_type": "stream",
     "text": [
      "C:\\Users\\mmioi\\anaconda3\\lib\\site-packages\\sklearn\\metrics\\_classification.py:1245: UndefinedMetricWarning: Precision and F-score are ill-defined and being set to 0.0 in labels with no predicted samples. Use `zero_division` parameter to control this behavior.\n",
      "  _warn_prf(average, modifier, msg_start, len(result))\n",
      "C:\\Users\\mmioi\\anaconda3\\lib\\site-packages\\sklearn\\metrics\\_classification.py:1245: UndefinedMetricWarning: Precision and F-score are ill-defined and being set to 0.0 in labels with no predicted samples. Use `zero_division` parameter to control this behavior.\n",
      "  _warn_prf(average, modifier, msg_start, len(result))\n",
      "C:\\Users\\mmioi\\anaconda3\\lib\\site-packages\\sklearn\\metrics\\_classification.py:1245: UndefinedMetricWarning: Precision and F-score are ill-defined and being set to 0.0 in labels with no predicted samples. Use `zero_division` parameter to control this behavior.\n",
      "  _warn_prf(average, modifier, msg_start, len(result))\n"
     ]
    },
    {
     "data": {
      "text/plain": [
       "array([[0.],\n",
       "       [0.],\n",
       "       [0.],\n",
       "       ...,\n",
       "       [0.],\n",
       "       [0.],\n",
       "       [0.]], dtype=float32)"
      ]
     },
     "execution_count": 341,
     "metadata": {},
     "output_type": "execute_result"
    }
   ],
   "source": [
    "ANN(X_train, y_train, X_test, y_test,\"categorical_crossentropy\", -1)"
   ]
  },
  {
   "cell_type": "code",
   "execution_count": 342,
   "id": "2617432b",
   "metadata": {},
   "outputs": [],
   "source": [
    "pre_processed2=pre_processed1\n",
    "pre_processed2.parent_incident_type=pre_processed2.parent_incident_type.replace('Violent',1)\n",
    "pre_processed2.parent_incident_type=pre_processed2.parent_incident_type.replace('Property',0)\n",
    "pre_processed2.parent_incident_type=pre_processed2.parent_incident_type.replace('Sexual',2)\n"
   ]
  },
  {
   "cell_type": "code",
   "execution_count": 346,
   "id": "b5559b12",
   "metadata": {},
   "outputs": [],
   "source": [
    "X=pre_processed2.drop('parent_incident_type',axis=1).values\n",
    "Y=pre_processed2.parent_incident_type.values\n",
    "X_train, X_test, y_train, y_test = train_test_split(X, Y, test_size=0.2, random_state=0)"
   ]
  },
  {
   "cell_type": "code",
   "execution_count": 356,
   "id": "e2b745d3",
   "metadata": {},
   "outputs": [
    {
     "name": "stdout",
     "output_type": "stream",
     "text": [
      "Epoch 1/50\n",
      "4902/4902 [==============================] - 2s 457us/step - loss: 1.0002 - accuracy: 0.7072\n",
      "Epoch 2/50\n",
      "4902/4902 [==============================] - 2s 447us/step - loss: 1.0000 - accuracy: 0.7072\n",
      "Epoch 3/50\n",
      "4902/4902 [==============================] - 2s 450us/step - loss: 1.0000 - accuracy: 0.7072\n",
      "Epoch 4/50\n",
      "4902/4902 [==============================] - 2s 451us/step - loss: 1.0000 - accuracy: 0.7072\n",
      "Epoch 5/50\n",
      "4902/4902 [==============================] - 2s 447us/step - loss: 1.0000 - accuracy: 0.7072\n",
      "Epoch 6/50\n",
      "4902/4902 [==============================] - 2s 449us/step - loss: 1.0000 - accuracy: 0.7072\n",
      "Epoch 7/50\n",
      "4902/4902 [==============================] - 2s 449us/step - loss: 1.0000 - accuracy: 0.7072\n",
      "Epoch 8/50\n",
      "4902/4902 [==============================] - 2s 463us/step - loss: 1.0000 - accuracy: 0.7072\n",
      "Epoch 9/50\n",
      "4902/4902 [==============================] - 2s 473us/step - loss: 1.0000 - accuracy: 0.7072\n",
      "Epoch 10/50\n",
      "4902/4902 [==============================] - 2s 462us/step - loss: 1.0000 - accuracy: 0.7072\n",
      "Epoch 11/50\n",
      "4902/4902 [==============================] - 2s 462us/step - loss: 1.0000 - accuracy: 0.7072\n",
      "Epoch 12/50\n",
      "4902/4902 [==============================] - 2s 446us/step - loss: 1.0000 - accuracy: 0.7072\n",
      "Epoch 13/50\n",
      "4902/4902 [==============================] - 2s 454us/step - loss: 1.0000 - accuracy: 0.7072\n",
      "Epoch 14/50\n",
      "4902/4902 [==============================] - 2s 451us/step - loss: 1.0000 - accuracy: 0.7072\n",
      "Epoch 15/50\n",
      "4902/4902 [==============================] - 2s 472us/step - loss: 1.0000 - accuracy: 0.7072\n",
      "Epoch 16/50\n",
      "4902/4902 [==============================] - 2s 461us/step - loss: 1.0000 - accuracy: 0.7072\n",
      "Epoch 17/50\n",
      "4902/4902 [==============================] - 2s 477us/step - loss: 1.0000 - accuracy: 0.7072\n",
      "Epoch 18/50\n",
      "4902/4902 [==============================] - 2s 464us/step - loss: 1.0000 - accuracy: 0.7072\n",
      "Epoch 19/50\n",
      "4902/4902 [==============================] - 2s 488us/step - loss: 1.0000 - accuracy: 0.7072\n",
      "Epoch 20/50\n",
      "4902/4902 [==============================] - 2s 479us/step - loss: 1.0000 - accuracy: 0.7072\n",
      "Epoch 21/50\n",
      "4902/4902 [==============================] - 2s 479us/step - loss: 1.0000 - accuracy: 0.7072\n",
      "Epoch 22/50\n",
      "4902/4902 [==============================] - 2s 467us/step - loss: 1.0000 - accuracy: 0.7072\n",
      "Epoch 23/50\n",
      "4902/4902 [==============================] - 2s 460us/step - loss: 1.0000 - accuracy: 0.7072\n",
      "Epoch 24/50\n",
      "4902/4902 [==============================] - 2s 482us/step - loss: 1.0000 - accuracy: 0.7072\n",
      "Epoch 25/50\n",
      "4902/4902 [==============================] - 2s 487us/step - loss: 1.0000 - accuracy: 0.7072\n",
      "Epoch 26/50\n",
      "4902/4902 [==============================] - 2s 461us/step - loss: 1.0000 - accuracy: 0.7072\n",
      "Epoch 27/50\n",
      "4902/4902 [==============================] - 2s 464us/step - loss: 1.0000 - accuracy: 0.7072\n",
      "Epoch 28/50\n",
      "4902/4902 [==============================] - 2s 463us/step - loss: 1.0000 - accuracy: 0.7072\n",
      "Epoch 29/50\n",
      "4902/4902 [==============================] - 2s 459us/step - loss: 1.0000 - accuracy: 0.7072\n",
      "Epoch 30/50\n",
      "4902/4902 [==============================] - 2s 461us/step - loss: 1.0000 - accuracy: 0.7072\n",
      "Epoch 31/50\n",
      "4902/4902 [==============================] - 2s 464us/step - loss: 1.0000 - accuracy: 0.7072\n",
      "Epoch 32/50\n",
      "4902/4902 [==============================] - 2s 463us/step - loss: 1.0000 - accuracy: 0.7072\n",
      "Epoch 33/50\n",
      "4902/4902 [==============================] - 2s 462us/step - loss: 1.0000 - accuracy: 0.7072\n",
      "Epoch 34/50\n",
      "4902/4902 [==============================] - 2s 459us/step - loss: 1.0000 - accuracy: 0.7072\n",
      "Epoch 35/50\n",
      "4902/4902 [==============================] - 2s 456us/step - loss: 1.0000 - accuracy: 0.7072\n",
      "Epoch 36/50\n",
      "4902/4902 [==============================] - 2s 459us/step - loss: 1.0000 - accuracy: 0.7072\n",
      "Epoch 37/50\n",
      "4902/4902 [==============================] - 2s 458us/step - loss: 1.0000 - accuracy: 0.7072\n",
      "Epoch 38/50\n",
      "4902/4902 [==============================] - 2s 458us/step - loss: 1.0000 - accuracy: 0.7072\n",
      "Epoch 39/50\n",
      "4902/4902 [==============================] - 2s 465us/step - loss: 1.0000 - accuracy: 0.7072\n",
      "Epoch 40/50\n",
      "4902/4902 [==============================] - 2s 454us/step - loss: 1.0000 - accuracy: 0.7072\n",
      "Epoch 41/50\n",
      "4902/4902 [==============================] - 2s 454us/step - loss: 1.0000 - accuracy: 0.7072\n",
      "Epoch 42/50\n",
      "4902/4902 [==============================] - 2s 459us/step - loss: 1.0000 - accuracy: 0.7072\n",
      "Epoch 43/50\n",
      "4902/4902 [==============================] - 2s 474us/step - loss: 1.0000 - accuracy: 0.7072\n",
      "Epoch 44/50\n",
      "4902/4902 [==============================] - 2s 463us/step - loss: 1.0000 - accuracy: 0.7072\n",
      "Epoch 45/50\n",
      "4902/4902 [==============================] - 2s 457us/step - loss: 1.0000 - accuracy: 0.7072\n",
      "Epoch 46/50\n",
      "4902/4902 [==============================] - 2s 455us/step - loss: 1.0000 - accuracy: 0.7072\n",
      "Epoch 47/50\n",
      "4902/4902 [==============================] - 2s 451us/step - loss: 1.0000 - accuracy: 0.7072\n",
      "Epoch 48/50\n",
      "4902/4902 [==============================] - 2s 464us/step - loss: 1.0000 - accuracy: 0.7072\n",
      "Epoch 49/50\n",
      "4902/4902 [==============================] - 2s 454us/step - loss: 1.0000 - accuracy: 0.7072\n",
      "Epoch 50/50\n",
      "4902/4902 [==============================] - 2s 450us/step - loss: 1.0000 - accuracy: 0.7072\n",
      "1226/1226 [==============================] - 0s 335us/step - loss: 1.0000 - accuracy: 0.7019\n",
      "[1.0, 0.7018818855285645]\n",
      "Classification Report: \n",
      "               precision    recall  f1-score   support\n",
      "\n",
      "           0       0.70      1.00      0.82     27525\n",
      "           1       0.00      0.00      0.00     10958\n",
      "           2       0.00      0.00      0.00       733\n",
      "\n",
      "    accuracy                           0.70     39216\n",
      "   macro avg       0.23      0.33      0.27     39216\n",
      "weighted avg       0.49      0.70      0.58     39216\n",
      "\n"
     ]
    },
    {
     "name": "stderr",
     "output_type": "stream",
     "text": [
      "C:\\Users\\mmioi\\anaconda3\\lib\\site-packages\\sklearn\\metrics\\_classification.py:1245: UndefinedMetricWarning: Precision and F-score are ill-defined and being set to 0.0 in labels with no predicted samples. Use `zero_division` parameter to control this behavior.\n",
      "  _warn_prf(average, modifier, msg_start, len(result))\n",
      "C:\\Users\\mmioi\\anaconda3\\lib\\site-packages\\sklearn\\metrics\\_classification.py:1245: UndefinedMetricWarning: Precision and F-score are ill-defined and being set to 0.0 in labels with no predicted samples. Use `zero_division` parameter to control this behavior.\n",
      "  _warn_prf(average, modifier, msg_start, len(result))\n",
      "C:\\Users\\mmioi\\anaconda3\\lib\\site-packages\\sklearn\\metrics\\_classification.py:1245: UndefinedMetricWarning: Precision and F-score are ill-defined and being set to 0.0 in labels with no predicted samples. Use `zero_division` parameter to control this behavior.\n",
      "  _warn_prf(average, modifier, msg_start, len(result))\n"
     ]
    },
    {
     "data": {
      "text/plain": [
       "array([[0.],\n",
       "       [0.],\n",
       "       [0.],\n",
       "       ...,\n",
       "       [0.],\n",
       "       [0.],\n",
       "       [0.]], dtype=float32)"
      ]
     },
     "execution_count": 356,
     "metadata": {},
     "output_type": "execute_result"
    }
   ],
   "source": [
    "ANN(X_train, y_train, X_test, y_test,\"squared_hinge\", -2)"
   ]
  },
  {
   "cell_type": "code",
   "execution_count": 366,
   "id": "f01721f6",
   "metadata": {},
   "outputs": [
    {
     "name": "stdout",
     "output_type": "stream",
     "text": [
      "Note: you may need to restart the kernel to use updated packages.\n"
     ]
    },
    {
     "name": "stderr",
     "output_type": "stream",
     "text": [
      "ERROR: Could not find a version that satisfies the requirement urllib\n",
      "ERROR: No matching distribution found for urllib\n"
     ]
    }
   ],
   "source": [
    "pip install urllib\n"
   ]
  },
  {
   "cell_type": "code",
   "execution_count": 365,
   "id": "74e7256a",
   "metadata": {},
   "outputs": [
    {
     "name": "stdout",
     "output_type": "stream",
     "text": [
      "Collecting bs4\n",
      "  Downloading bs4-0.0.1.tar.gz (1.1 kB)\n",
      "Requirement already satisfied: beautifulsoup4 in c:\\users\\mmioi\\anaconda3\\lib\\site-packages (from bs4) (4.9.3)\n",
      "Requirement already satisfied: soupsieve>1.2 in c:\\users\\mmioi\\anaconda3\\lib\\site-packages (from beautifulsoup4->bs4) (2.2.1)\n",
      "Building wheels for collected packages: bs4\n",
      "  Building wheel for bs4 (setup.py): started\n",
      "  Building wheel for bs4 (setup.py): finished with status 'done'\n",
      "  Created wheel for bs4: filename=bs4-0.0.1-py3-none-any.whl size=1273 sha256=1c13df6730db89bae9639e6061b6160198defe6296a24a53b4f1820925816707\n",
      "  Stored in directory: c:\\users\\mmioi\\appdata\\local\\pip\\cache\\wheels\\75\\78\\21\\68b124549c9bdc94f822c02fb9aa3578a669843f9767776bca\n",
      "Successfully built bs4\n",
      "Installing collected packages: bs4\n",
      "Successfully installed bs4-0.0.1\n",
      "Note: you may need to restart the kernel to use updated packages.\n"
     ]
    }
   ],
   "source": [
    "pip install bs4"
   ]
  },
  {
   "cell_type": "markdown",
   "id": "c10e5453",
   "metadata": {},
   "source": [
    "# adding Buffalo's event Calendar as a new feature "
   ]
  },
  {
   "cell_type": "code",
   "execution_count": 2,
   "id": "d96da6f4",
   "metadata": {},
   "outputs": [],
   "source": [
    "import bs4 \n",
    "from urllib.request import urlopen as ureq\n",
    "from bs4 import BeautifulSoup as soup"
   ]
  },
  {
   "cell_type": "code",
   "execution_count": 36,
   "id": "47885113",
   "metadata": {},
   "outputs": [],
   "source": [
    "url=r'C:\\Users\\mmioi\\Downloads\\calendar.txt'"
   ]
  },
  {
   "cell_type": "code",
   "execution_count": 50,
   "id": "af440cbe",
   "metadata": {},
   "outputs": [],
   "source": [
    "page_soup=soup(url,'html.parser')"
   ]
  },
  {
   "cell_type": "code",
   "execution_count": 51,
   "id": "7e46b93a",
   "metadata": {},
   "outputs": [],
   "source": [
    "page_soup.body"
   ]
  },
  {
   "cell_type": "code",
   "execution_count": 210,
   "id": "ec9daa58",
   "metadata": {},
   "outputs": [],
   "source": [
    "hello=pd.read_csv(r'C:\\Users\\mmioi\\Downloads\\Calendar cleaned.csv',header=None,index_col=None,parse_dates=True,infer_datetime_format=True)"
   ]
  },
  {
   "cell_type": "code",
   "execution_count": 211,
   "id": "b07e9786",
   "metadata": {},
   "outputs": [
    {
     "data": {
      "text/plain": [
       "Int64Index([0, 1, 2, 3, 4, 5, 6, 7, 8, 9], dtype='int64')"
      ]
     },
     "execution_count": 211,
     "metadata": {},
     "output_type": "execute_result"
    }
   ],
   "source": [
    "hello.columns"
   ]
  },
  {
   "cell_type": "code",
   "execution_count": 212,
   "id": "c8829872",
   "metadata": {},
   "outputs": [
    {
     "data": {
      "text/html": [
       "<div>\n",
       "<style scoped>\n",
       "    .dataframe tbody tr th:only-of-type {\n",
       "        vertical-align: middle;\n",
       "    }\n",
       "\n",
       "    .dataframe tbody tr th {\n",
       "        vertical-align: top;\n",
       "    }\n",
       "\n",
       "    .dataframe thead th {\n",
       "        text-align: right;\n",
       "    }\n",
       "</style>\n",
       "<table border=\"1\" class=\"dataframe\">\n",
       "  <thead>\n",
       "    <tr style=\"text-align: right;\">\n",
       "      <th></th>\n",
       "      <th>0</th>\n",
       "      <th>1</th>\n",
       "      <th>2</th>\n",
       "      <th>3</th>\n",
       "      <th>4</th>\n",
       "      <th>5</th>\n",
       "      <th>6</th>\n",
       "      <th>7</th>\n",
       "      <th>8</th>\n",
       "      <th>9</th>\n",
       "    </tr>\n",
       "  </thead>\n",
       "  <tbody>\n",
       "    <tr>\n",
       "      <th>0</th>\n",
       "      <td>February</td>\n",
       "      <td>10</td>\n",
       "      <td>2018</td>\n",
       "      <td>10:00</td>\n",
       "      <td>AM</td>\n",
       "      <td>-</td>\n",
       "      <td>12:30</td>\n",
       "      <td>PM</td>\n",
       "      <td>NaN</td>\n",
       "      <td>NaN</td>\n",
       "    </tr>\n",
       "    <tr>\n",
       "      <th>1</th>\n",
       "      <td>February</td>\n",
       "      <td>10</td>\n",
       "      <td>2018</td>\n",
       "      <td>10:30</td>\n",
       "      <td>AM</td>\n",
       "      <td>-</td>\n",
       "      <td>12:15</td>\n",
       "      <td>PM</td>\n",
       "      <td>NaN</td>\n",
       "      <td>NaN</td>\n",
       "    </tr>\n",
       "    <tr>\n",
       "      <th>2</th>\n",
       "      <td>February</td>\n",
       "      <td>10</td>\n",
       "      <td>2018</td>\n",
       "      <td>12:00</td>\n",
       "      <td>PM</td>\n",
       "      <td>-</td>\n",
       "      <td>4:00</td>\n",
       "      <td>PM</td>\n",
       "      <td>NaN</td>\n",
       "      <td>NaN</td>\n",
       "    </tr>\n",
       "    <tr>\n",
       "      <th>3</th>\n",
       "      <td>March</td>\n",
       "      <td>3</td>\n",
       "      <td>2018</td>\n",
       "      <td>12:00</td>\n",
       "      <td>PM</td>\n",
       "      <td>-</td>\n",
       "      <td>3:00</td>\n",
       "      <td>PM</td>\n",
       "      <td>NaN</td>\n",
       "      <td>NaN</td>\n",
       "    </tr>\n",
       "    <tr>\n",
       "      <th>4</th>\n",
       "      <td>March</td>\n",
       "      <td>17</td>\n",
       "      <td>2018</td>\n",
       "      <td>12:00</td>\n",
       "      <td>PM</td>\n",
       "      <td>-</td>\n",
       "      <td>2:00</td>\n",
       "      <td>PM</td>\n",
       "      <td>NaN</td>\n",
       "      <td>NaN</td>\n",
       "    </tr>\n",
       "    <tr>\n",
       "      <th>...</th>\n",
       "      <td>...</td>\n",
       "      <td>...</td>\n",
       "      <td>...</td>\n",
       "      <td>...</td>\n",
       "      <td>...</td>\n",
       "      <td>...</td>\n",
       "      <td>...</td>\n",
       "      <td>...</td>\n",
       "      <td>...</td>\n",
       "      <td>...</td>\n",
       "    </tr>\n",
       "    <tr>\n",
       "      <th>1123</th>\n",
       "      <td>November</td>\n",
       "      <td>13</td>\n",
       "      <td>2021</td>\n",
       "      <td>8:00</td>\n",
       "      <td>AM</td>\n",
       "      <td>-</td>\n",
       "      <td>1:00</td>\n",
       "      <td>PM</td>\n",
       "      <td>NaN</td>\n",
       "      <td>NaN</td>\n",
       "    </tr>\n",
       "    <tr>\n",
       "      <th>1124</th>\n",
       "      <td>November</td>\n",
       "      <td>20</td>\n",
       "      <td>2021</td>\n",
       "      <td>8:00</td>\n",
       "      <td>AM</td>\n",
       "      <td>-</td>\n",
       "      <td>1:00</td>\n",
       "      <td>PM</td>\n",
       "      <td>NaN</td>\n",
       "      <td>NaN</td>\n",
       "    </tr>\n",
       "    <tr>\n",
       "      <th>1125</th>\n",
       "      <td>November</td>\n",
       "      <td>25</td>\n",
       "      <td>2021</td>\n",
       "      <td>9:00</td>\n",
       "      <td>AM</td>\n",
       "      <td>-</td>\n",
       "      <td>12:00</td>\n",
       "      <td>PM</td>\n",
       "      <td>NaN</td>\n",
       "      <td>NaN</td>\n",
       "    </tr>\n",
       "    <tr>\n",
       "      <th>1126</th>\n",
       "      <td>November</td>\n",
       "      <td>27</td>\n",
       "      <td>2021</td>\n",
       "      <td>8:00</td>\n",
       "      <td>AM</td>\n",
       "      <td>-</td>\n",
       "      <td>1:00</td>\n",
       "      <td>PM</td>\n",
       "      <td>NaN</td>\n",
       "      <td>NaN</td>\n",
       "    </tr>\n",
       "    <tr>\n",
       "      <th>1127</th>\n",
       "      <td>December</td>\n",
       "      <td>4</td>\n",
       "      <td>2021</td>\n",
       "      <td>11:00</td>\n",
       "      <td>AM</td>\n",
       "      <td>-</td>\n",
       "      <td>8:00</td>\n",
       "      <td>PM</td>\n",
       "      <td>NaN</td>\n",
       "      <td>NaN</td>\n",
       "    </tr>\n",
       "  </tbody>\n",
       "</table>\n",
       "<p>1128 rows × 10 columns</p>\n",
       "</div>"
      ],
      "text/plain": [
       "             0   1     2      3   4  5      6   7    8   9\n",
       "0     February  10  2018  10:00  AM  -  12:30  PM  NaN NaN\n",
       "1     February  10  2018  10:30  AM  -  12:15  PM  NaN NaN\n",
       "2     February  10  2018  12:00  PM  -   4:00  PM  NaN NaN\n",
       "3        March   3  2018  12:00  PM  -   3:00  PM  NaN NaN\n",
       "4        March  17  2018  12:00  PM  -   2:00  PM  NaN NaN\n",
       "...        ...  ..   ...    ...  .. ..    ...  ..  ...  ..\n",
       "1123  November  13  2021   8:00  AM  -   1:00  PM  NaN NaN\n",
       "1124  November  20  2021   8:00  AM  -   1:00  PM  NaN NaN\n",
       "1125  November  25  2021   9:00  AM  -  12:00  PM  NaN NaN\n",
       "1126  November  27  2021   8:00  AM  -   1:00  PM  NaN NaN\n",
       "1127  December   4  2021  11:00  AM  -   8:00  PM  NaN NaN\n",
       "\n",
       "[1128 rows x 10 columns]"
      ]
     },
     "execution_count": 212,
     "metadata": {},
     "output_type": "execute_result"
    }
   ],
   "source": [
    "hello"
   ]
  },
  {
   "cell_type": "code",
   "execution_count": 213,
   "id": "455091eb",
   "metadata": {},
   "outputs": [],
   "source": [
    "hello=hello.rename(columns={0:'Month',1:'Day',2:'Year',3:'hour',4:'period'})"
   ]
  },
  {
   "cell_type": "code",
   "execution_count": null,
   "id": "e02994c6",
   "metadata": {},
   "outputs": [],
   "source": []
  },
  {
   "cell_type": "code",
   "execution_count": 214,
   "id": "54582bdd",
   "metadata": {},
   "outputs": [],
   "source": [
    "hello=hello[['Year','Month','Day']]"
   ]
  },
  {
   "cell_type": "code",
   "execution_count": 215,
   "id": "2857b848",
   "metadata": {},
   "outputs": [
    {
     "data": {
      "text/plain": [
       "array(['February', 'March', 'April', 'May', 'June', 'July', '\\x0c',\n",
       "       'August', 'September', 'October', 'November', 'December',\n",
       "       'January', 'from', nan, '1pm-6pm'], dtype=object)"
      ]
     },
     "execution_count": 215,
     "metadata": {},
     "output_type": "execute_result"
    }
   ],
   "source": [
    "hello.Month.unique()"
   ]
  },
  {
   "cell_type": "code",
   "execution_count": 216,
   "id": "5aea60fd",
   "metadata": {},
   "outputs": [],
   "source": [
    "hello.Month=hello.Month.replace('February',2)\n",
    "hello.Month=hello.Month.replace('March',3)\n",
    "hello.Month=hello.Month.replace('April',4)\n",
    "hello.Month=hello.Month.replace('May',5)\n",
    "hello.Month=hello.Month.replace('June',6)\n",
    "hello.Month=hello.Month.replace('July',7)\n",
    "hello.Month=hello.Month.replace('August',8)\n",
    "hello.Month=hello.Month.replace('September',9)\n",
    "hello.Month=hello.Month.replace('October',10)\n",
    "hello.Month=hello.Month.replace('November',11)\n",
    "hello.Month=hello.Month.replace('December',12)\n",
    "hello.Month=hello.Month.replace('January',1)"
   ]
  },
  {
   "cell_type": "code",
   "execution_count": 239,
   "id": "aa1c9b20",
   "metadata": {},
   "outputs": [],
   "source": [
    "df3=pd.to_datetime(hello,yearfirst=True,errors='coerce',format='%D-%m-%Y-%h')"
   ]
  },
  {
   "cell_type": "code",
   "execution_count": 240,
   "id": "0c183193",
   "metadata": {},
   "outputs": [
    {
     "data": {
      "text/plain": [
       "0   2018-02-10\n",
       "1   2018-02-10\n",
       "2   2018-02-10\n",
       "3   2018-03-03\n",
       "4   2018-03-17\n",
       "dtype: datetime64[ns]"
      ]
     },
     "execution_count": 240,
     "metadata": {},
     "output_type": "execute_result"
    }
   ],
   "source": [
    "df3.head()"
   ]
  },
  {
   "cell_type": "code",
   "execution_count": 241,
   "id": "37ad9689",
   "metadata": {},
   "outputs": [],
   "source": [
    "df3=df3.dropna()"
   ]
  },
  {
   "cell_type": "code",
   "execution_count": 242,
   "id": "bd9f9edc",
   "metadata": {},
   "outputs": [],
   "source": [
    "df2=pd.DataFrame(df3)"
   ]
  },
  {
   "cell_type": "code",
   "execution_count": 246,
   "id": "de93ef80",
   "metadata": {},
   "outputs": [
    {
     "ename": "KeyError",
     "evalue": "\"None of ['Date'] are in the columns\"",
     "output_type": "error",
     "traceback": [
      "\u001b[1;31m---------------------------------------------------------------------------\u001b[0m",
      "\u001b[1;31mKeyError\u001b[0m                                  Traceback (most recent call last)",
      "\u001b[1;32m<ipython-input-246-a1b2487f5cfd>\u001b[0m in \u001b[0;36m<module>\u001b[1;34m\u001b[0m\n\u001b[0;32m      1\u001b[0m \u001b[0mdf2\u001b[0m\u001b[1;33m=\u001b[0m\u001b[0mdf2\u001b[0m\u001b[1;33m.\u001b[0m\u001b[0mrename\u001b[0m\u001b[1;33m(\u001b[0m\u001b[0mcolumns\u001b[0m\u001b[1;33m=\u001b[0m\u001b[1;33m{\u001b[0m\u001b[1;36m0\u001b[0m\u001b[1;33m:\u001b[0m\u001b[1;34m'Date'\u001b[0m\u001b[1;33m}\u001b[0m\u001b[1;33m)\u001b[0m\u001b[1;33m\u001b[0m\u001b[1;33m\u001b[0m\u001b[0m\n\u001b[1;32m----> 2\u001b[1;33m \u001b[0mdf2\u001b[0m\u001b[1;33m=\u001b[0m\u001b[0mdf2\u001b[0m\u001b[1;33m.\u001b[0m\u001b[0mset_index\u001b[0m\u001b[1;33m(\u001b[0m\u001b[1;34m\"Date\"\u001b[0m\u001b[1;33m)\u001b[0m\u001b[1;33m\u001b[0m\u001b[1;33m\u001b[0m\u001b[0m\n\u001b[0m",
      "\u001b[1;32m~\\anaconda3\\lib\\site-packages\\pandas\\core\\frame.py\u001b[0m in \u001b[0;36mset_index\u001b[1;34m(self, keys, drop, append, inplace, verify_integrity)\u001b[0m\n\u001b[0;32m   4725\u001b[0m \u001b[1;33m\u001b[0m\u001b[0m\n\u001b[0;32m   4726\u001b[0m         \u001b[1;32mif\u001b[0m \u001b[0mmissing\u001b[0m\u001b[1;33m:\u001b[0m\u001b[1;33m\u001b[0m\u001b[1;33m\u001b[0m\u001b[0m\n\u001b[1;32m-> 4727\u001b[1;33m             \u001b[1;32mraise\u001b[0m \u001b[0mKeyError\u001b[0m\u001b[1;33m(\u001b[0m\u001b[1;34mf\"None of {missing} are in the columns\"\u001b[0m\u001b[1;33m)\u001b[0m\u001b[1;33m\u001b[0m\u001b[1;33m\u001b[0m\u001b[0m\n\u001b[0m\u001b[0;32m   4728\u001b[0m \u001b[1;33m\u001b[0m\u001b[0m\n\u001b[0;32m   4729\u001b[0m         \u001b[1;32mif\u001b[0m \u001b[0minplace\u001b[0m\u001b[1;33m:\u001b[0m\u001b[1;33m\u001b[0m\u001b[1;33m\u001b[0m\u001b[0m\n",
      "\u001b[1;31mKeyError\u001b[0m: \"None of ['Date'] are in the columns\""
     ]
    }
   ],
   "source": [
    "df2=df2.rename(columns={0:'Date'})\n",
    "df2=df2.set_index(\"Date\")\n"
   ]
  },
  {
   "cell_type": "code",
   "execution_count": 251,
   "id": "d64bf014",
   "metadata": {},
   "outputs": [],
   "source": [
    "df3=df2.resample('1min').sum()"
   ]
  },
  {
   "cell_type": "markdown",
   "id": "a2616ef8",
   "metadata": {},
   "source": [
    "### "
   ]
  },
  {
   "cell_type": "code",
   "execution_count": 253,
   "id": "04d3ed60",
   "metadata": {},
   "outputs": [],
   "source": [
    "df2['event']=1"
   ]
  },
  {
   "cell_type": "code",
   "execution_count": 254,
   "id": "6db4de69",
   "metadata": {},
   "outputs": [],
   "source": [
    "df3['event']=1"
   ]
  },
  {
   "cell_type": "code",
   "execution_count": 264,
   "id": "b85f0569",
   "metadata": {},
   "outputs": [
    {
     "data": {
      "text/html": [
       "<div>\n",
       "<style scoped>\n",
       "    .dataframe tbody tr th:only-of-type {\n",
       "        vertical-align: middle;\n",
       "    }\n",
       "\n",
       "    .dataframe tbody tr th {\n",
       "        vertical-align: top;\n",
       "    }\n",
       "\n",
       "    .dataframe thead th {\n",
       "        text-align: right;\n",
       "    }\n",
       "</style>\n",
       "<table border=\"1\" class=\"dataframe\">\n",
       "  <thead>\n",
       "    <tr style=\"text-align: right;\">\n",
       "      <th></th>\n",
       "      <th>Date</th>\n",
       "      <th>event</th>\n",
       "    </tr>\n",
       "  </thead>\n",
       "  <tbody>\n",
       "    <tr>\n",
       "      <th>0</th>\n",
       "      <td>2018-02-10 00:00:00</td>\n",
       "      <td>1</td>\n",
       "    </tr>\n",
       "    <tr>\n",
       "      <th>1</th>\n",
       "      <td>2018-02-10 00:01:00</td>\n",
       "      <td>1</td>\n",
       "    </tr>\n",
       "    <tr>\n",
       "      <th>2</th>\n",
       "      <td>2018-02-10 00:02:00</td>\n",
       "      <td>1</td>\n",
       "    </tr>\n",
       "    <tr>\n",
       "      <th>3</th>\n",
       "      <td>2018-02-10 00:03:00</td>\n",
       "      <td>1</td>\n",
       "    </tr>\n",
       "    <tr>\n",
       "      <th>4</th>\n",
       "      <td>2018-02-10 00:04:00</td>\n",
       "      <td>1</td>\n",
       "    </tr>\n",
       "    <tr>\n",
       "      <th>...</th>\n",
       "      <td>...</td>\n",
       "      <td>...</td>\n",
       "    </tr>\n",
       "    <tr>\n",
       "      <th>2005916</th>\n",
       "      <td>2021-12-03 23:56:00</td>\n",
       "      <td>1</td>\n",
       "    </tr>\n",
       "    <tr>\n",
       "      <th>2005917</th>\n",
       "      <td>2021-12-03 23:57:00</td>\n",
       "      <td>1</td>\n",
       "    </tr>\n",
       "    <tr>\n",
       "      <th>2005918</th>\n",
       "      <td>2021-12-03 23:58:00</td>\n",
       "      <td>1</td>\n",
       "    </tr>\n",
       "    <tr>\n",
       "      <th>2005919</th>\n",
       "      <td>2021-12-03 23:59:00</td>\n",
       "      <td>1</td>\n",
       "    </tr>\n",
       "    <tr>\n",
       "      <th>2005920</th>\n",
       "      <td>2021-12-04 00:00:00</td>\n",
       "      <td>1</td>\n",
       "    </tr>\n",
       "  </tbody>\n",
       "</table>\n",
       "<p>2005921 rows × 2 columns</p>\n",
       "</div>"
      ],
      "text/plain": [
       "                       Date  event\n",
       "0       2018-02-10 00:00:00      1\n",
       "1       2018-02-10 00:01:00      1\n",
       "2       2018-02-10 00:02:00      1\n",
       "3       2018-02-10 00:03:00      1\n",
       "4       2018-02-10 00:04:00      1\n",
       "...                     ...    ...\n",
       "2005916 2021-12-03 23:56:00      1\n",
       "2005917 2021-12-03 23:57:00      1\n",
       "2005918 2021-12-03 23:58:00      1\n",
       "2005919 2021-12-03 23:59:00      1\n",
       "2005920 2021-12-04 00:00:00      1\n",
       "\n",
       "[2005921 rows x 2 columns]"
      ]
     },
     "execution_count": 264,
     "metadata": {},
     "output_type": "execute_result"
    }
   ],
   "source": [
    "df3=df3.reset_index()\n"
   ]
  },
  {
   "cell_type": "code",
   "execution_count": 271,
   "id": "c693da92",
   "metadata": {},
   "outputs": [],
   "source": [
    "df3=pd.DataFrame(df3)\n"
   ]
  },
  {
   "cell_type": "code",
   "execution_count": 275,
   "id": "b6e1d5ed",
   "metadata": {},
   "outputs": [],
   "source": [
    "df3=df3.reset_index()"
   ]
  },
  {
   "cell_type": "code",
   "execution_count": 283,
   "id": "8f95a617",
   "metadata": {},
   "outputs": [
    {
     "data": {
      "text/plain": [
       "0         2018-02-10 00:00:00\n",
       "1         2018-02-10 00:01:00\n",
       "2         2018-02-10 00:02:00\n",
       "3         2018-02-10 00:03:00\n",
       "4         2018-02-10 00:04:00\n",
       "                  ...        \n",
       "2005916   2021-12-03 23:56:00\n",
       "2005917   2021-12-03 23:57:00\n",
       "2005918   2021-12-03 23:58:00\n",
       "2005919   2021-12-03 23:59:00\n",
       "2005920   2021-12-04 00:00:00\n",
       "Name: Date, Length: 2005921, dtype: datetime64[ns]"
      ]
     },
     "execution_count": 283,
     "metadata": {},
     "output_type": "execute_result"
    }
   ],
   "source": [
    "df3.Date"
   ]
  },
  {
   "cell_type": "code",
   "execution_count": 354,
   "id": "d5e9477e",
   "metadata": {},
   "outputs": [
    {
     "data": {
      "text/plain": [
       "Index(['Unnamed: 0', 'latitude', 'longitude', 'parent_incident_type', 'log',\n",
       "       'Friday', 'Monday', 'Saturday', 'Sunday', 'Thursday', 'Tuesday',\n",
       "       'Wednesday', 'Holiday_4th of July', 'Holiday_Christmas Day',\n",
       "       'Holiday_Christmas Eve', 'Holiday_Columbus Day',\n",
       "       'Holiday_Eastern Easter', 'Holiday_Juneteenth', 'Holiday_Labor Day',\n",
       "       'Holiday_Labor Day Weekend', 'Holiday_Martin Luther King, Jr. Day',\n",
       "       'Holiday_Memorial Day', 'Holiday_New Year's Day',\n",
       "       'Holiday_New Year’s Eve', 'Holiday_Thanksgiving Day',\n",
       "       'Holiday_Thanksgiving Eve', 'Holiday_Valentine’s Day',\n",
       "       'Holiday_Veterans Day', 'Holiday_Washington's Birthday',\n",
       "       'Holiday_Western Easter'],\n",
       "      dtype='object')"
      ]
     },
     "execution_count": 354,
     "metadata": {},
     "output_type": "execute_result"
    }
   ],
   "source": [
    "df4=pd.read_csv('data\\pre_processed.csv')\n",
    "df4.columns"
   ]
  },
  {
   "cell_type": "code",
   "execution_count": 355,
   "id": "4af72850",
   "metadata": {},
   "outputs": [],
   "source": [
    "df4=df4.rename(columns={'Unnamed: 0':'Date'})\n",
    "df4.Date=pd.to_datetime(df4.Date)"
   ]
  },
  {
   "cell_type": "code",
   "execution_count": 356,
   "id": "768e77ab",
   "metadata": {},
   "outputs": [
    {
     "data": {
      "text/html": [
       "<div>\n",
       "<style scoped>\n",
       "    .dataframe tbody tr th:only-of-type {\n",
       "        vertical-align: middle;\n",
       "    }\n",
       "\n",
       "    .dataframe tbody tr th {\n",
       "        vertical-align: top;\n",
       "    }\n",
       "\n",
       "    .dataframe thead th {\n",
       "        text-align: right;\n",
       "    }\n",
       "</style>\n",
       "<table border=\"1\" class=\"dataframe\">\n",
       "  <thead>\n",
       "    <tr style=\"text-align: right;\">\n",
       "      <th></th>\n",
       "      <th>Date</th>\n",
       "      <th>latitude</th>\n",
       "      <th>longitude</th>\n",
       "      <th>parent_incident_type</th>\n",
       "      <th>log</th>\n",
       "      <th>Friday</th>\n",
       "      <th>Monday</th>\n",
       "      <th>Saturday</th>\n",
       "      <th>Sunday</th>\n",
       "      <th>Thursday</th>\n",
       "      <th>...</th>\n",
       "      <th>Holiday_Martin Luther King, Jr. Day</th>\n",
       "      <th>Holiday_Memorial Day</th>\n",
       "      <th>Holiday_New Year's Day</th>\n",
       "      <th>Holiday_New Year’s Eve</th>\n",
       "      <th>Holiday_Thanksgiving Day</th>\n",
       "      <th>Holiday_Thanksgiving Eve</th>\n",
       "      <th>Holiday_Valentine’s Day</th>\n",
       "      <th>Holiday_Veterans Day</th>\n",
       "      <th>Holiday_Washington's Birthday</th>\n",
       "      <th>Holiday_Western Easter</th>\n",
       "    </tr>\n",
       "  </thead>\n",
       "  <tbody>\n",
       "    <tr>\n",
       "      <th>0</th>\n",
       "      <td>2010-01-01 00:00:00</td>\n",
       "      <td>42.874699</td>\n",
       "      <td>-78.823627</td>\n",
       "      <td>0</td>\n",
       "      <td>1</td>\n",
       "      <td>1</td>\n",
       "      <td>0</td>\n",
       "      <td>0</td>\n",
       "      <td>0</td>\n",
       "      <td>0</td>\n",
       "      <td>...</td>\n",
       "      <td>0.0</td>\n",
       "      <td>0.0</td>\n",
       "      <td>1.0</td>\n",
       "      <td>0.0</td>\n",
       "      <td>0.0</td>\n",
       "      <td>0.0</td>\n",
       "      <td>0.0</td>\n",
       "      <td>0.0</td>\n",
       "      <td>0.0</td>\n",
       "      <td>0.0</td>\n",
       "    </tr>\n",
       "    <tr>\n",
       "      <th>1</th>\n",
       "      <td>2010-01-01 00:00:00</td>\n",
       "      <td>42.958426</td>\n",
       "      <td>-78.855482</td>\n",
       "      <td>0</td>\n",
       "      <td>1</td>\n",
       "      <td>1</td>\n",
       "      <td>0</td>\n",
       "      <td>0</td>\n",
       "      <td>0</td>\n",
       "      <td>0</td>\n",
       "      <td>...</td>\n",
       "      <td>0.0</td>\n",
       "      <td>0.0</td>\n",
       "      <td>1.0</td>\n",
       "      <td>0.0</td>\n",
       "      <td>0.0</td>\n",
       "      <td>0.0</td>\n",
       "      <td>0.0</td>\n",
       "      <td>0.0</td>\n",
       "      <td>0.0</td>\n",
       "      <td>0.0</td>\n",
       "    </tr>\n",
       "    <tr>\n",
       "      <th>2</th>\n",
       "      <td>2010-01-01 00:00:00</td>\n",
       "      <td>42.948746</td>\n",
       "      <td>-78.841021</td>\n",
       "      <td>2</td>\n",
       "      <td>1</td>\n",
       "      <td>1</td>\n",
       "      <td>0</td>\n",
       "      <td>0</td>\n",
       "      <td>0</td>\n",
       "      <td>0</td>\n",
       "      <td>...</td>\n",
       "      <td>0.0</td>\n",
       "      <td>0.0</td>\n",
       "      <td>1.0</td>\n",
       "      <td>0.0</td>\n",
       "      <td>0.0</td>\n",
       "      <td>0.0</td>\n",
       "      <td>0.0</td>\n",
       "      <td>0.0</td>\n",
       "      <td>0.0</td>\n",
       "      <td>0.0</td>\n",
       "    </tr>\n",
       "    <tr>\n",
       "      <th>3</th>\n",
       "      <td>2010-01-01 00:00:00</td>\n",
       "      <td>42.869867</td>\n",
       "      <td>-78.849571</td>\n",
       "      <td>0</td>\n",
       "      <td>1</td>\n",
       "      <td>1</td>\n",
       "      <td>0</td>\n",
       "      <td>0</td>\n",
       "      <td>0</td>\n",
       "      <td>0</td>\n",
       "      <td>...</td>\n",
       "      <td>0.0</td>\n",
       "      <td>0.0</td>\n",
       "      <td>1.0</td>\n",
       "      <td>0.0</td>\n",
       "      <td>0.0</td>\n",
       "      <td>0.0</td>\n",
       "      <td>0.0</td>\n",
       "      <td>0.0</td>\n",
       "      <td>0.0</td>\n",
       "      <td>0.0</td>\n",
       "    </tr>\n",
       "    <tr>\n",
       "      <th>4</th>\n",
       "      <td>2010-01-01 00:00:00</td>\n",
       "      <td>42.921298</td>\n",
       "      <td>-78.891109</td>\n",
       "      <td>2</td>\n",
       "      <td>1</td>\n",
       "      <td>1</td>\n",
       "      <td>0</td>\n",
       "      <td>0</td>\n",
       "      <td>0</td>\n",
       "      <td>0</td>\n",
       "      <td>...</td>\n",
       "      <td>0.0</td>\n",
       "      <td>0.0</td>\n",
       "      <td>1.0</td>\n",
       "      <td>0.0</td>\n",
       "      <td>0.0</td>\n",
       "      <td>0.0</td>\n",
       "      <td>0.0</td>\n",
       "      <td>0.0</td>\n",
       "      <td>0.0</td>\n",
       "      <td>0.0</td>\n",
       "    </tr>\n",
       "    <tr>\n",
       "      <th>...</th>\n",
       "      <td>...</td>\n",
       "      <td>...</td>\n",
       "      <td>...</td>\n",
       "      <td>...</td>\n",
       "      <td>...</td>\n",
       "      <td>...</td>\n",
       "      <td>...</td>\n",
       "      <td>...</td>\n",
       "      <td>...</td>\n",
       "      <td>...</td>\n",
       "      <td>...</td>\n",
       "      <td>...</td>\n",
       "      <td>...</td>\n",
       "      <td>...</td>\n",
       "      <td>...</td>\n",
       "      <td>...</td>\n",
       "      <td>...</td>\n",
       "      <td>...</td>\n",
       "      <td>...</td>\n",
       "      <td>...</td>\n",
       "      <td>...</td>\n",
       "    </tr>\n",
       "    <tr>\n",
       "      <th>196075</th>\n",
       "      <td>2021-08-30 19:10:35</td>\n",
       "      <td>42.940000</td>\n",
       "      <td>-78.851000</td>\n",
       "      <td>1</td>\n",
       "      <td>1</td>\n",
       "      <td>0</td>\n",
       "      <td>1</td>\n",
       "      <td>0</td>\n",
       "      <td>0</td>\n",
       "      <td>0</td>\n",
       "      <td>...</td>\n",
       "      <td>0.0</td>\n",
       "      <td>0.0</td>\n",
       "      <td>0.0</td>\n",
       "      <td>0.0</td>\n",
       "      <td>0.0</td>\n",
       "      <td>0.0</td>\n",
       "      <td>0.0</td>\n",
       "      <td>0.0</td>\n",
       "      <td>0.0</td>\n",
       "      <td>0.0</td>\n",
       "    </tr>\n",
       "    <tr>\n",
       "      <th>196076</th>\n",
       "      <td>2021-08-30 19:30:00</td>\n",
       "      <td>42.881000</td>\n",
       "      <td>-78.801000</td>\n",
       "      <td>0</td>\n",
       "      <td>1</td>\n",
       "      <td>0</td>\n",
       "      <td>1</td>\n",
       "      <td>0</td>\n",
       "      <td>0</td>\n",
       "      <td>0</td>\n",
       "      <td>...</td>\n",
       "      <td>0.0</td>\n",
       "      <td>0.0</td>\n",
       "      <td>0.0</td>\n",
       "      <td>0.0</td>\n",
       "      <td>0.0</td>\n",
       "      <td>0.0</td>\n",
       "      <td>0.0</td>\n",
       "      <td>0.0</td>\n",
       "      <td>0.0</td>\n",
       "      <td>0.0</td>\n",
       "    </tr>\n",
       "    <tr>\n",
       "      <th>196077</th>\n",
       "      <td>2021-08-30 21:15:00</td>\n",
       "      <td>42.919000</td>\n",
       "      <td>-78.812000</td>\n",
       "      <td>1</td>\n",
       "      <td>1</td>\n",
       "      <td>0</td>\n",
       "      <td>1</td>\n",
       "      <td>0</td>\n",
       "      <td>0</td>\n",
       "      <td>0</td>\n",
       "      <td>...</td>\n",
       "      <td>0.0</td>\n",
       "      <td>0.0</td>\n",
       "      <td>0.0</td>\n",
       "      <td>0.0</td>\n",
       "      <td>0.0</td>\n",
       "      <td>0.0</td>\n",
       "      <td>0.0</td>\n",
       "      <td>0.0</td>\n",
       "      <td>0.0</td>\n",
       "      <td>0.0</td>\n",
       "    </tr>\n",
       "    <tr>\n",
       "      <th>196078</th>\n",
       "      <td>2021-08-30 23:18:04</td>\n",
       "      <td>42.947000</td>\n",
       "      <td>-78.891000</td>\n",
       "      <td>0</td>\n",
       "      <td>1</td>\n",
       "      <td>0</td>\n",
       "      <td>0</td>\n",
       "      <td>0</td>\n",
       "      <td>0</td>\n",
       "      <td>0</td>\n",
       "      <td>...</td>\n",
       "      <td>0.0</td>\n",
       "      <td>0.0</td>\n",
       "      <td>0.0</td>\n",
       "      <td>0.0</td>\n",
       "      <td>0.0</td>\n",
       "      <td>0.0</td>\n",
       "      <td>0.0</td>\n",
       "      <td>0.0</td>\n",
       "      <td>0.0</td>\n",
       "      <td>0.0</td>\n",
       "    </tr>\n",
       "    <tr>\n",
       "      <th>196079</th>\n",
       "      <td>2021-08-31 02:35:24</td>\n",
       "      <td>42.854000</td>\n",
       "      <td>-78.827000</td>\n",
       "      <td>1</td>\n",
       "      <td>1</td>\n",
       "      <td>0</td>\n",
       "      <td>0</td>\n",
       "      <td>0</td>\n",
       "      <td>0</td>\n",
       "      <td>0</td>\n",
       "      <td>...</td>\n",
       "      <td>0.0</td>\n",
       "      <td>0.0</td>\n",
       "      <td>0.0</td>\n",
       "      <td>0.0</td>\n",
       "      <td>0.0</td>\n",
       "      <td>0.0</td>\n",
       "      <td>0.0</td>\n",
       "      <td>0.0</td>\n",
       "      <td>0.0</td>\n",
       "      <td>0.0</td>\n",
       "    </tr>\n",
       "  </tbody>\n",
       "</table>\n",
       "<p>196080 rows × 30 columns</p>\n",
       "</div>"
      ],
      "text/plain": [
       "                      Date   latitude  longitude  parent_incident_type  log  \\\n",
       "0      2010-01-01 00:00:00  42.874699 -78.823627                     0    1   \n",
       "1      2010-01-01 00:00:00  42.958426 -78.855482                     0    1   \n",
       "2      2010-01-01 00:00:00  42.948746 -78.841021                     2    1   \n",
       "3      2010-01-01 00:00:00  42.869867 -78.849571                     0    1   \n",
       "4      2010-01-01 00:00:00  42.921298 -78.891109                     2    1   \n",
       "...                    ...        ...        ...                   ...  ...   \n",
       "196075 2021-08-30 19:10:35  42.940000 -78.851000                     1    1   \n",
       "196076 2021-08-30 19:30:00  42.881000 -78.801000                     0    1   \n",
       "196077 2021-08-30 21:15:00  42.919000 -78.812000                     1    1   \n",
       "196078 2021-08-30 23:18:04  42.947000 -78.891000                     0    1   \n",
       "196079 2021-08-31 02:35:24  42.854000 -78.827000                     1    1   \n",
       "\n",
       "        Friday  Monday  Saturday  Sunday  Thursday  ...  \\\n",
       "0            1       0         0       0         0  ...   \n",
       "1            1       0         0       0         0  ...   \n",
       "2            1       0         0       0         0  ...   \n",
       "3            1       0         0       0         0  ...   \n",
       "4            1       0         0       0         0  ...   \n",
       "...        ...     ...       ...     ...       ...  ...   \n",
       "196075       0       1         0       0         0  ...   \n",
       "196076       0       1         0       0         0  ...   \n",
       "196077       0       1         0       0         0  ...   \n",
       "196078       0       0         0       0         0  ...   \n",
       "196079       0       0         0       0         0  ...   \n",
       "\n",
       "        Holiday_Martin Luther King, Jr. Day  Holiday_Memorial Day  \\\n",
       "0                                       0.0                   0.0   \n",
       "1                                       0.0                   0.0   \n",
       "2                                       0.0                   0.0   \n",
       "3                                       0.0                   0.0   \n",
       "4                                       0.0                   0.0   \n",
       "...                                     ...                   ...   \n",
       "196075                                  0.0                   0.0   \n",
       "196076                                  0.0                   0.0   \n",
       "196077                                  0.0                   0.0   \n",
       "196078                                  0.0                   0.0   \n",
       "196079                                  0.0                   0.0   \n",
       "\n",
       "        Holiday_New Year's Day  Holiday_New Year’s Eve  \\\n",
       "0                          1.0                     0.0   \n",
       "1                          1.0                     0.0   \n",
       "2                          1.0                     0.0   \n",
       "3                          1.0                     0.0   \n",
       "4                          1.0                     0.0   \n",
       "...                        ...                     ...   \n",
       "196075                     0.0                     0.0   \n",
       "196076                     0.0                     0.0   \n",
       "196077                     0.0                     0.0   \n",
       "196078                     0.0                     0.0   \n",
       "196079                     0.0                     0.0   \n",
       "\n",
       "        Holiday_Thanksgiving Day  Holiday_Thanksgiving Eve  \\\n",
       "0                            0.0                       0.0   \n",
       "1                            0.0                       0.0   \n",
       "2                            0.0                       0.0   \n",
       "3                            0.0                       0.0   \n",
       "4                            0.0                       0.0   \n",
       "...                          ...                       ...   \n",
       "196075                       0.0                       0.0   \n",
       "196076                       0.0                       0.0   \n",
       "196077                       0.0                       0.0   \n",
       "196078                       0.0                       0.0   \n",
       "196079                       0.0                       0.0   \n",
       "\n",
       "        Holiday_Valentine’s Day  Holiday_Veterans Day  \\\n",
       "0                           0.0                   0.0   \n",
       "1                           0.0                   0.0   \n",
       "2                           0.0                   0.0   \n",
       "3                           0.0                   0.0   \n",
       "4                           0.0                   0.0   \n",
       "...                         ...                   ...   \n",
       "196075                      0.0                   0.0   \n",
       "196076                      0.0                   0.0   \n",
       "196077                      0.0                   0.0   \n",
       "196078                      0.0                   0.0   \n",
       "196079                      0.0                   0.0   \n",
       "\n",
       "        Holiday_Washington's Birthday  Holiday_Western Easter  \n",
       "0                                 0.0                     0.0  \n",
       "1                                 0.0                     0.0  \n",
       "2                                 0.0                     0.0  \n",
       "3                                 0.0                     0.0  \n",
       "4                                 0.0                     0.0  \n",
       "...                               ...                     ...  \n",
       "196075                            0.0                     0.0  \n",
       "196076                            0.0                     0.0  \n",
       "196077                            0.0                     0.0  \n",
       "196078                            0.0                     0.0  \n",
       "196079                            0.0                     0.0  \n",
       "\n",
       "[196080 rows x 30 columns]"
      ]
     },
     "execution_count": 356,
     "metadata": {},
     "output_type": "execute_result"
    }
   ],
   "source": [
    "df4"
   ]
  },
  {
   "cell_type": "code",
   "execution_count": 357,
   "id": "07b96726",
   "metadata": {},
   "outputs": [],
   "source": [
    "df4=df4.merge(df3,how='outer',on='Date')"
   ]
  },
  {
   "cell_type": "code",
   "execution_count": 359,
   "id": "990e3549",
   "metadata": {},
   "outputs": [],
   "source": [
    "df4=df4.dropna()"
   ]
  },
  {
   "cell_type": "code",
   "execution_count": 360,
   "id": "dfc4a02d",
   "metadata": {},
   "outputs": [
    {
     "data": {
      "text/html": [
       "<div>\n",
       "<style scoped>\n",
       "    .dataframe tbody tr th:only-of-type {\n",
       "        vertical-align: middle;\n",
       "    }\n",
       "\n",
       "    .dataframe tbody tr th {\n",
       "        vertical-align: top;\n",
       "    }\n",
       "\n",
       "    .dataframe thead th {\n",
       "        text-align: right;\n",
       "    }\n",
       "</style>\n",
       "<table border=\"1\" class=\"dataframe\">\n",
       "  <thead>\n",
       "    <tr style=\"text-align: right;\">\n",
       "      <th></th>\n",
       "      <th>Date</th>\n",
       "      <th>latitude</th>\n",
       "      <th>longitude</th>\n",
       "      <th>parent_incident_type</th>\n",
       "      <th>log</th>\n",
       "      <th>Friday</th>\n",
       "      <th>Monday</th>\n",
       "      <th>Saturday</th>\n",
       "      <th>Sunday</th>\n",
       "      <th>Thursday</th>\n",
       "      <th>...</th>\n",
       "      <th>Holiday_Memorial Day</th>\n",
       "      <th>Holiday_New Year's Day</th>\n",
       "      <th>Holiday_New Year’s Eve</th>\n",
       "      <th>Holiday_Thanksgiving Day</th>\n",
       "      <th>Holiday_Thanksgiving Eve</th>\n",
       "      <th>Holiday_Valentine’s Day</th>\n",
       "      <th>Holiday_Veterans Day</th>\n",
       "      <th>Holiday_Washington's Birthday</th>\n",
       "      <th>Holiday_Western Easter</th>\n",
       "      <th>event</th>\n",
       "    </tr>\n",
       "  </thead>\n",
       "  <tbody>\n",
       "    <tr>\n",
       "      <th>0</th>\n",
       "      <td>2010-01-01 00:00:00</td>\n",
       "      <td>42.874699</td>\n",
       "      <td>-78.823627</td>\n",
       "      <td>0.0</td>\n",
       "      <td>1.0</td>\n",
       "      <td>1.0</td>\n",
       "      <td>0.0</td>\n",
       "      <td>0.0</td>\n",
       "      <td>0.0</td>\n",
       "      <td>0.0</td>\n",
       "      <td>...</td>\n",
       "      <td>0.0</td>\n",
       "      <td>1.0</td>\n",
       "      <td>0.0</td>\n",
       "      <td>0.0</td>\n",
       "      <td>0.0</td>\n",
       "      <td>0.0</td>\n",
       "      <td>0.0</td>\n",
       "      <td>0.0</td>\n",
       "      <td>0.0</td>\n",
       "      <td>0.0</td>\n",
       "    </tr>\n",
       "    <tr>\n",
       "      <th>1</th>\n",
       "      <td>2010-01-01 00:00:00</td>\n",
       "      <td>42.958426</td>\n",
       "      <td>-78.855482</td>\n",
       "      <td>0.0</td>\n",
       "      <td>1.0</td>\n",
       "      <td>1.0</td>\n",
       "      <td>0.0</td>\n",
       "      <td>0.0</td>\n",
       "      <td>0.0</td>\n",
       "      <td>0.0</td>\n",
       "      <td>...</td>\n",
       "      <td>0.0</td>\n",
       "      <td>1.0</td>\n",
       "      <td>0.0</td>\n",
       "      <td>0.0</td>\n",
       "      <td>0.0</td>\n",
       "      <td>0.0</td>\n",
       "      <td>0.0</td>\n",
       "      <td>0.0</td>\n",
       "      <td>0.0</td>\n",
       "      <td>0.0</td>\n",
       "    </tr>\n",
       "    <tr>\n",
       "      <th>2</th>\n",
       "      <td>2010-01-01 00:00:00</td>\n",
       "      <td>42.948746</td>\n",
       "      <td>-78.841021</td>\n",
       "      <td>2.0</td>\n",
       "      <td>1.0</td>\n",
       "      <td>1.0</td>\n",
       "      <td>0.0</td>\n",
       "      <td>0.0</td>\n",
       "      <td>0.0</td>\n",
       "      <td>0.0</td>\n",
       "      <td>...</td>\n",
       "      <td>0.0</td>\n",
       "      <td>1.0</td>\n",
       "      <td>0.0</td>\n",
       "      <td>0.0</td>\n",
       "      <td>0.0</td>\n",
       "      <td>0.0</td>\n",
       "      <td>0.0</td>\n",
       "      <td>0.0</td>\n",
       "      <td>0.0</td>\n",
       "      <td>0.0</td>\n",
       "    </tr>\n",
       "    <tr>\n",
       "      <th>3</th>\n",
       "      <td>2010-01-01 00:00:00</td>\n",
       "      <td>42.869867</td>\n",
       "      <td>-78.849571</td>\n",
       "      <td>0.0</td>\n",
       "      <td>1.0</td>\n",
       "      <td>1.0</td>\n",
       "      <td>0.0</td>\n",
       "      <td>0.0</td>\n",
       "      <td>0.0</td>\n",
       "      <td>0.0</td>\n",
       "      <td>...</td>\n",
       "      <td>0.0</td>\n",
       "      <td>1.0</td>\n",
       "      <td>0.0</td>\n",
       "      <td>0.0</td>\n",
       "      <td>0.0</td>\n",
       "      <td>0.0</td>\n",
       "      <td>0.0</td>\n",
       "      <td>0.0</td>\n",
       "      <td>0.0</td>\n",
       "      <td>0.0</td>\n",
       "    </tr>\n",
       "    <tr>\n",
       "      <th>4</th>\n",
       "      <td>2010-01-01 00:00:00</td>\n",
       "      <td>42.921298</td>\n",
       "      <td>-78.891109</td>\n",
       "      <td>2.0</td>\n",
       "      <td>1.0</td>\n",
       "      <td>1.0</td>\n",
       "      <td>0.0</td>\n",
       "      <td>0.0</td>\n",
       "      <td>0.0</td>\n",
       "      <td>0.0</td>\n",
       "      <td>...</td>\n",
       "      <td>0.0</td>\n",
       "      <td>1.0</td>\n",
       "      <td>0.0</td>\n",
       "      <td>0.0</td>\n",
       "      <td>0.0</td>\n",
       "      <td>0.0</td>\n",
       "      <td>0.0</td>\n",
       "      <td>0.0</td>\n",
       "      <td>0.0</td>\n",
       "      <td>0.0</td>\n",
       "    </tr>\n",
       "    <tr>\n",
       "      <th>...</th>\n",
       "      <td>...</td>\n",
       "      <td>...</td>\n",
       "      <td>...</td>\n",
       "      <td>...</td>\n",
       "      <td>...</td>\n",
       "      <td>...</td>\n",
       "      <td>...</td>\n",
       "      <td>...</td>\n",
       "      <td>...</td>\n",
       "      <td>...</td>\n",
       "      <td>...</td>\n",
       "      <td>...</td>\n",
       "      <td>...</td>\n",
       "      <td>...</td>\n",
       "      <td>...</td>\n",
       "      <td>...</td>\n",
       "      <td>...</td>\n",
       "      <td>...</td>\n",
       "      <td>...</td>\n",
       "      <td>...</td>\n",
       "      <td>...</td>\n",
       "    </tr>\n",
       "    <tr>\n",
       "      <th>196075</th>\n",
       "      <td>2021-08-30 19:10:35</td>\n",
       "      <td>42.940000</td>\n",
       "      <td>-78.851000</td>\n",
       "      <td>1.0</td>\n",
       "      <td>1.0</td>\n",
       "      <td>0.0</td>\n",
       "      <td>1.0</td>\n",
       "      <td>0.0</td>\n",
       "      <td>0.0</td>\n",
       "      <td>0.0</td>\n",
       "      <td>...</td>\n",
       "      <td>0.0</td>\n",
       "      <td>0.0</td>\n",
       "      <td>0.0</td>\n",
       "      <td>0.0</td>\n",
       "      <td>0.0</td>\n",
       "      <td>0.0</td>\n",
       "      <td>0.0</td>\n",
       "      <td>0.0</td>\n",
       "      <td>0.0</td>\n",
       "      <td>0.0</td>\n",
       "    </tr>\n",
       "    <tr>\n",
       "      <th>196076</th>\n",
       "      <td>2021-08-30 19:30:00</td>\n",
       "      <td>42.881000</td>\n",
       "      <td>-78.801000</td>\n",
       "      <td>0.0</td>\n",
       "      <td>1.0</td>\n",
       "      <td>0.0</td>\n",
       "      <td>1.0</td>\n",
       "      <td>0.0</td>\n",
       "      <td>0.0</td>\n",
       "      <td>0.0</td>\n",
       "      <td>...</td>\n",
       "      <td>0.0</td>\n",
       "      <td>0.0</td>\n",
       "      <td>0.0</td>\n",
       "      <td>0.0</td>\n",
       "      <td>0.0</td>\n",
       "      <td>0.0</td>\n",
       "      <td>0.0</td>\n",
       "      <td>0.0</td>\n",
       "      <td>0.0</td>\n",
       "      <td>1.0</td>\n",
       "    </tr>\n",
       "    <tr>\n",
       "      <th>196077</th>\n",
       "      <td>2021-08-30 21:15:00</td>\n",
       "      <td>42.919000</td>\n",
       "      <td>-78.812000</td>\n",
       "      <td>1.0</td>\n",
       "      <td>1.0</td>\n",
       "      <td>0.0</td>\n",
       "      <td>1.0</td>\n",
       "      <td>0.0</td>\n",
       "      <td>0.0</td>\n",
       "      <td>0.0</td>\n",
       "      <td>...</td>\n",
       "      <td>0.0</td>\n",
       "      <td>0.0</td>\n",
       "      <td>0.0</td>\n",
       "      <td>0.0</td>\n",
       "      <td>0.0</td>\n",
       "      <td>0.0</td>\n",
       "      <td>0.0</td>\n",
       "      <td>0.0</td>\n",
       "      <td>0.0</td>\n",
       "      <td>1.0</td>\n",
       "    </tr>\n",
       "    <tr>\n",
       "      <th>196078</th>\n",
       "      <td>2021-08-30 23:18:04</td>\n",
       "      <td>42.947000</td>\n",
       "      <td>-78.891000</td>\n",
       "      <td>0.0</td>\n",
       "      <td>1.0</td>\n",
       "      <td>0.0</td>\n",
       "      <td>0.0</td>\n",
       "      <td>0.0</td>\n",
       "      <td>0.0</td>\n",
       "      <td>0.0</td>\n",
       "      <td>...</td>\n",
       "      <td>0.0</td>\n",
       "      <td>0.0</td>\n",
       "      <td>0.0</td>\n",
       "      <td>0.0</td>\n",
       "      <td>0.0</td>\n",
       "      <td>0.0</td>\n",
       "      <td>0.0</td>\n",
       "      <td>0.0</td>\n",
       "      <td>0.0</td>\n",
       "      <td>0.0</td>\n",
       "    </tr>\n",
       "    <tr>\n",
       "      <th>196079</th>\n",
       "      <td>2021-08-31 02:35:24</td>\n",
       "      <td>42.854000</td>\n",
       "      <td>-78.827000</td>\n",
       "      <td>1.0</td>\n",
       "      <td>1.0</td>\n",
       "      <td>0.0</td>\n",
       "      <td>0.0</td>\n",
       "      <td>0.0</td>\n",
       "      <td>0.0</td>\n",
       "      <td>0.0</td>\n",
       "      <td>...</td>\n",
       "      <td>0.0</td>\n",
       "      <td>0.0</td>\n",
       "      <td>0.0</td>\n",
       "      <td>0.0</td>\n",
       "      <td>0.0</td>\n",
       "      <td>0.0</td>\n",
       "      <td>0.0</td>\n",
       "      <td>0.0</td>\n",
       "      <td>0.0</td>\n",
       "      <td>0.0</td>\n",
       "    </tr>\n",
       "  </tbody>\n",
       "</table>\n",
       "<p>196080 rows × 31 columns</p>\n",
       "</div>"
      ],
      "text/plain": [
       "                      Date   latitude  longitude  parent_incident_type  log  \\\n",
       "0      2010-01-01 00:00:00  42.874699 -78.823627                   0.0  1.0   \n",
       "1      2010-01-01 00:00:00  42.958426 -78.855482                   0.0  1.0   \n",
       "2      2010-01-01 00:00:00  42.948746 -78.841021                   2.0  1.0   \n",
       "3      2010-01-01 00:00:00  42.869867 -78.849571                   0.0  1.0   \n",
       "4      2010-01-01 00:00:00  42.921298 -78.891109                   2.0  1.0   \n",
       "...                    ...        ...        ...                   ...  ...   \n",
       "196075 2021-08-30 19:10:35  42.940000 -78.851000                   1.0  1.0   \n",
       "196076 2021-08-30 19:30:00  42.881000 -78.801000                   0.0  1.0   \n",
       "196077 2021-08-30 21:15:00  42.919000 -78.812000                   1.0  1.0   \n",
       "196078 2021-08-30 23:18:04  42.947000 -78.891000                   0.0  1.0   \n",
       "196079 2021-08-31 02:35:24  42.854000 -78.827000                   1.0  1.0   \n",
       "\n",
       "        Friday  Monday  Saturday  Sunday  Thursday  ...  Holiday_Memorial Day  \\\n",
       "0          1.0     0.0       0.0     0.0       0.0  ...                   0.0   \n",
       "1          1.0     0.0       0.0     0.0       0.0  ...                   0.0   \n",
       "2          1.0     0.0       0.0     0.0       0.0  ...                   0.0   \n",
       "3          1.0     0.0       0.0     0.0       0.0  ...                   0.0   \n",
       "4          1.0     0.0       0.0     0.0       0.0  ...                   0.0   \n",
       "...        ...     ...       ...     ...       ...  ...                   ...   \n",
       "196075     0.0     1.0       0.0     0.0       0.0  ...                   0.0   \n",
       "196076     0.0     1.0       0.0     0.0       0.0  ...                   0.0   \n",
       "196077     0.0     1.0       0.0     0.0       0.0  ...                   0.0   \n",
       "196078     0.0     0.0       0.0     0.0       0.0  ...                   0.0   \n",
       "196079     0.0     0.0       0.0     0.0       0.0  ...                   0.0   \n",
       "\n",
       "        Holiday_New Year's Day  Holiday_New Year’s Eve  \\\n",
       "0                          1.0                     0.0   \n",
       "1                          1.0                     0.0   \n",
       "2                          1.0                     0.0   \n",
       "3                          1.0                     0.0   \n",
       "4                          1.0                     0.0   \n",
       "...                        ...                     ...   \n",
       "196075                     0.0                     0.0   \n",
       "196076                     0.0                     0.0   \n",
       "196077                     0.0                     0.0   \n",
       "196078                     0.0                     0.0   \n",
       "196079                     0.0                     0.0   \n",
       "\n",
       "        Holiday_Thanksgiving Day  Holiday_Thanksgiving Eve  \\\n",
       "0                            0.0                       0.0   \n",
       "1                            0.0                       0.0   \n",
       "2                            0.0                       0.0   \n",
       "3                            0.0                       0.0   \n",
       "4                            0.0                       0.0   \n",
       "...                          ...                       ...   \n",
       "196075                       0.0                       0.0   \n",
       "196076                       0.0                       0.0   \n",
       "196077                       0.0                       0.0   \n",
       "196078                       0.0                       0.0   \n",
       "196079                       0.0                       0.0   \n",
       "\n",
       "        Holiday_Valentine’s Day  Holiday_Veterans Day  \\\n",
       "0                           0.0                   0.0   \n",
       "1                           0.0                   0.0   \n",
       "2                           0.0                   0.0   \n",
       "3                           0.0                   0.0   \n",
       "4                           0.0                   0.0   \n",
       "...                         ...                   ...   \n",
       "196075                      0.0                   0.0   \n",
       "196076                      0.0                   0.0   \n",
       "196077                      0.0                   0.0   \n",
       "196078                      0.0                   0.0   \n",
       "196079                      0.0                   0.0   \n",
       "\n",
       "        Holiday_Washington's Birthday  Holiday_Western Easter  event  \n",
       "0                                 0.0                     0.0    0.0  \n",
       "1                                 0.0                     0.0    0.0  \n",
       "2                                 0.0                     0.0    0.0  \n",
       "3                                 0.0                     0.0    0.0  \n",
       "4                                 0.0                     0.0    0.0  \n",
       "...                               ...                     ...    ...  \n",
       "196075                            0.0                     0.0    0.0  \n",
       "196076                            0.0                     0.0    1.0  \n",
       "196077                            0.0                     0.0    1.0  \n",
       "196078                            0.0                     0.0    0.0  \n",
       "196079                            0.0                     0.0    0.0  \n",
       "\n",
       "[196080 rows x 31 columns]"
      ]
     },
     "execution_count": 360,
     "metadata": {},
     "output_type": "execute_result"
    }
   ],
   "source": [
    "df4"
   ]
  },
  {
   "cell_type": "code",
   "execution_count": 358,
   "id": "01a6301a",
   "metadata": {},
   "outputs": [],
   "source": [
    "df4.event=df4.event.replace(np.nan,0)"
   ]
  },
  {
   "cell_type": "code",
   "execution_count": 481,
   "id": "92ef7b22",
   "metadata": {},
   "outputs": [],
   "source": [
    "df4.to_csv('data\\events_Added.csv')\n"
   ]
  },
  {
   "cell_type": "code",
   "execution_count": 370,
   "id": "e9962012",
   "metadata": {},
   "outputs": [],
   "source": [
    "df4['Date']=pd.to_datetime(df4.Date)"
   ]
  },
  {
   "cell_type": "code",
   "execution_count": 480,
   "id": "f9d69098",
   "metadata": {},
   "outputs": [
    {
     "data": {
      "text/html": [
       "<div>\n",
       "<style scoped>\n",
       "    .dataframe tbody tr th:only-of-type {\n",
       "        vertical-align: middle;\n",
       "    }\n",
       "\n",
       "    .dataframe tbody tr th {\n",
       "        vertical-align: top;\n",
       "    }\n",
       "\n",
       "    .dataframe thead th {\n",
       "        text-align: right;\n",
       "    }\n",
       "</style>\n",
       "<table border=\"1\" class=\"dataframe\">\n",
       "  <thead>\n",
       "    <tr style=\"text-align: right;\">\n",
       "      <th></th>\n",
       "      <th>latitude</th>\n",
       "      <th>longitude</th>\n",
       "      <th>parent_incident_type</th>\n",
       "      <th>log</th>\n",
       "      <th>Friday</th>\n",
       "      <th>Monday</th>\n",
       "      <th>Saturday</th>\n",
       "      <th>Sunday</th>\n",
       "      <th>Thursday</th>\n",
       "      <th>Tuesday</th>\n",
       "      <th>...</th>\n",
       "      <th>Holiday_Valentine’s Day</th>\n",
       "      <th>Holiday_Veterans Day</th>\n",
       "      <th>Holiday_Washington's Birthday</th>\n",
       "      <th>Holiday_Western Easter</th>\n",
       "      <th>event</th>\n",
       "      <th>year</th>\n",
       "      <th>month</th>\n",
       "      <th>day</th>\n",
       "      <th>hour</th>\n",
       "      <th>minute</th>\n",
       "    </tr>\n",
       "    <tr>\n",
       "      <th>Date</th>\n",
       "      <th></th>\n",
       "      <th></th>\n",
       "      <th></th>\n",
       "      <th></th>\n",
       "      <th></th>\n",
       "      <th></th>\n",
       "      <th></th>\n",
       "      <th></th>\n",
       "      <th></th>\n",
       "      <th></th>\n",
       "      <th></th>\n",
       "      <th></th>\n",
       "      <th></th>\n",
       "      <th></th>\n",
       "      <th></th>\n",
       "      <th></th>\n",
       "      <th></th>\n",
       "      <th></th>\n",
       "      <th></th>\n",
       "      <th></th>\n",
       "      <th></th>\n",
       "    </tr>\n",
       "  </thead>\n",
       "  <tbody>\n",
       "    <tr>\n",
       "      <th>2010-01-01 00:00:00</th>\n",
       "      <td>42.874699</td>\n",
       "      <td>-78.823627</td>\n",
       "      <td>0.0</td>\n",
       "      <td>1.0</td>\n",
       "      <td>1.0</td>\n",
       "      <td>0.0</td>\n",
       "      <td>0.0</td>\n",
       "      <td>0.0</td>\n",
       "      <td>0.0</td>\n",
       "      <td>0.0</td>\n",
       "      <td>...</td>\n",
       "      <td>0.0</td>\n",
       "      <td>0.0</td>\n",
       "      <td>0.0</td>\n",
       "      <td>0.0</td>\n",
       "      <td>0.0</td>\n",
       "      <td>2010</td>\n",
       "      <td>1</td>\n",
       "      <td>1</td>\n",
       "      <td>0</td>\n",
       "      <td>0</td>\n",
       "    </tr>\n",
       "    <tr>\n",
       "      <th>2010-01-01 00:00:00</th>\n",
       "      <td>42.958426</td>\n",
       "      <td>-78.855482</td>\n",
       "      <td>0.0</td>\n",
       "      <td>1.0</td>\n",
       "      <td>1.0</td>\n",
       "      <td>0.0</td>\n",
       "      <td>0.0</td>\n",
       "      <td>0.0</td>\n",
       "      <td>0.0</td>\n",
       "      <td>0.0</td>\n",
       "      <td>...</td>\n",
       "      <td>0.0</td>\n",
       "      <td>0.0</td>\n",
       "      <td>0.0</td>\n",
       "      <td>0.0</td>\n",
       "      <td>0.0</td>\n",
       "      <td>2010</td>\n",
       "      <td>1</td>\n",
       "      <td>1</td>\n",
       "      <td>0</td>\n",
       "      <td>0</td>\n",
       "    </tr>\n",
       "    <tr>\n",
       "      <th>2010-01-01 00:00:00</th>\n",
       "      <td>42.948746</td>\n",
       "      <td>-78.841021</td>\n",
       "      <td>2.0</td>\n",
       "      <td>1.0</td>\n",
       "      <td>1.0</td>\n",
       "      <td>0.0</td>\n",
       "      <td>0.0</td>\n",
       "      <td>0.0</td>\n",
       "      <td>0.0</td>\n",
       "      <td>0.0</td>\n",
       "      <td>...</td>\n",
       "      <td>0.0</td>\n",
       "      <td>0.0</td>\n",
       "      <td>0.0</td>\n",
       "      <td>0.0</td>\n",
       "      <td>0.0</td>\n",
       "      <td>2010</td>\n",
       "      <td>1</td>\n",
       "      <td>1</td>\n",
       "      <td>0</td>\n",
       "      <td>0</td>\n",
       "    </tr>\n",
       "    <tr>\n",
       "      <th>2010-01-01 00:00:00</th>\n",
       "      <td>42.869867</td>\n",
       "      <td>-78.849571</td>\n",
       "      <td>0.0</td>\n",
       "      <td>1.0</td>\n",
       "      <td>1.0</td>\n",
       "      <td>0.0</td>\n",
       "      <td>0.0</td>\n",
       "      <td>0.0</td>\n",
       "      <td>0.0</td>\n",
       "      <td>0.0</td>\n",
       "      <td>...</td>\n",
       "      <td>0.0</td>\n",
       "      <td>0.0</td>\n",
       "      <td>0.0</td>\n",
       "      <td>0.0</td>\n",
       "      <td>0.0</td>\n",
       "      <td>2010</td>\n",
       "      <td>1</td>\n",
       "      <td>1</td>\n",
       "      <td>0</td>\n",
       "      <td>0</td>\n",
       "    </tr>\n",
       "    <tr>\n",
       "      <th>2010-01-01 00:00:00</th>\n",
       "      <td>42.921298</td>\n",
       "      <td>-78.891109</td>\n",
       "      <td>2.0</td>\n",
       "      <td>1.0</td>\n",
       "      <td>1.0</td>\n",
       "      <td>0.0</td>\n",
       "      <td>0.0</td>\n",
       "      <td>0.0</td>\n",
       "      <td>0.0</td>\n",
       "      <td>0.0</td>\n",
       "      <td>...</td>\n",
       "      <td>0.0</td>\n",
       "      <td>0.0</td>\n",
       "      <td>0.0</td>\n",
       "      <td>0.0</td>\n",
       "      <td>0.0</td>\n",
       "      <td>2010</td>\n",
       "      <td>1</td>\n",
       "      <td>1</td>\n",
       "      <td>0</td>\n",
       "      <td>0</td>\n",
       "    </tr>\n",
       "    <tr>\n",
       "      <th>...</th>\n",
       "      <td>...</td>\n",
       "      <td>...</td>\n",
       "      <td>...</td>\n",
       "      <td>...</td>\n",
       "      <td>...</td>\n",
       "      <td>...</td>\n",
       "      <td>...</td>\n",
       "      <td>...</td>\n",
       "      <td>...</td>\n",
       "      <td>...</td>\n",
       "      <td>...</td>\n",
       "      <td>...</td>\n",
       "      <td>...</td>\n",
       "      <td>...</td>\n",
       "      <td>...</td>\n",
       "      <td>...</td>\n",
       "      <td>...</td>\n",
       "      <td>...</td>\n",
       "      <td>...</td>\n",
       "      <td>...</td>\n",
       "      <td>...</td>\n",
       "    </tr>\n",
       "    <tr>\n",
       "      <th>2021-08-30 19:10:35</th>\n",
       "      <td>42.940000</td>\n",
       "      <td>-78.851000</td>\n",
       "      <td>1.0</td>\n",
       "      <td>1.0</td>\n",
       "      <td>0.0</td>\n",
       "      <td>1.0</td>\n",
       "      <td>0.0</td>\n",
       "      <td>0.0</td>\n",
       "      <td>0.0</td>\n",
       "      <td>0.0</td>\n",
       "      <td>...</td>\n",
       "      <td>0.0</td>\n",
       "      <td>0.0</td>\n",
       "      <td>0.0</td>\n",
       "      <td>0.0</td>\n",
       "      <td>0.0</td>\n",
       "      <td>2021</td>\n",
       "      <td>8</td>\n",
       "      <td>30</td>\n",
       "      <td>19</td>\n",
       "      <td>10</td>\n",
       "    </tr>\n",
       "    <tr>\n",
       "      <th>2021-08-30 19:30:00</th>\n",
       "      <td>42.881000</td>\n",
       "      <td>-78.801000</td>\n",
       "      <td>0.0</td>\n",
       "      <td>1.0</td>\n",
       "      <td>0.0</td>\n",
       "      <td>1.0</td>\n",
       "      <td>0.0</td>\n",
       "      <td>0.0</td>\n",
       "      <td>0.0</td>\n",
       "      <td>0.0</td>\n",
       "      <td>...</td>\n",
       "      <td>0.0</td>\n",
       "      <td>0.0</td>\n",
       "      <td>0.0</td>\n",
       "      <td>0.0</td>\n",
       "      <td>1.0</td>\n",
       "      <td>2021</td>\n",
       "      <td>8</td>\n",
       "      <td>30</td>\n",
       "      <td>19</td>\n",
       "      <td>30</td>\n",
       "    </tr>\n",
       "    <tr>\n",
       "      <th>2021-08-30 21:15:00</th>\n",
       "      <td>42.919000</td>\n",
       "      <td>-78.812000</td>\n",
       "      <td>1.0</td>\n",
       "      <td>1.0</td>\n",
       "      <td>0.0</td>\n",
       "      <td>1.0</td>\n",
       "      <td>0.0</td>\n",
       "      <td>0.0</td>\n",
       "      <td>0.0</td>\n",
       "      <td>0.0</td>\n",
       "      <td>...</td>\n",
       "      <td>0.0</td>\n",
       "      <td>0.0</td>\n",
       "      <td>0.0</td>\n",
       "      <td>0.0</td>\n",
       "      <td>1.0</td>\n",
       "      <td>2021</td>\n",
       "      <td>8</td>\n",
       "      <td>30</td>\n",
       "      <td>21</td>\n",
       "      <td>15</td>\n",
       "    </tr>\n",
       "    <tr>\n",
       "      <th>2021-08-30 23:18:04</th>\n",
       "      <td>42.947000</td>\n",
       "      <td>-78.891000</td>\n",
       "      <td>0.0</td>\n",
       "      <td>1.0</td>\n",
       "      <td>0.0</td>\n",
       "      <td>0.0</td>\n",
       "      <td>0.0</td>\n",
       "      <td>0.0</td>\n",
       "      <td>0.0</td>\n",
       "      <td>1.0</td>\n",
       "      <td>...</td>\n",
       "      <td>0.0</td>\n",
       "      <td>0.0</td>\n",
       "      <td>0.0</td>\n",
       "      <td>0.0</td>\n",
       "      <td>0.0</td>\n",
       "      <td>2021</td>\n",
       "      <td>8</td>\n",
       "      <td>30</td>\n",
       "      <td>23</td>\n",
       "      <td>18</td>\n",
       "    </tr>\n",
       "    <tr>\n",
       "      <th>2021-08-31 02:35:24</th>\n",
       "      <td>42.854000</td>\n",
       "      <td>-78.827000</td>\n",
       "      <td>1.0</td>\n",
       "      <td>1.0</td>\n",
       "      <td>0.0</td>\n",
       "      <td>0.0</td>\n",
       "      <td>0.0</td>\n",
       "      <td>0.0</td>\n",
       "      <td>0.0</td>\n",
       "      <td>1.0</td>\n",
       "      <td>...</td>\n",
       "      <td>0.0</td>\n",
       "      <td>0.0</td>\n",
       "      <td>0.0</td>\n",
       "      <td>0.0</td>\n",
       "      <td>0.0</td>\n",
       "      <td>2021</td>\n",
       "      <td>8</td>\n",
       "      <td>31</td>\n",
       "      <td>2</td>\n",
       "      <td>35</td>\n",
       "    </tr>\n",
       "  </tbody>\n",
       "</table>\n",
       "<p>196080 rows × 35 columns</p>\n",
       "</div>"
      ],
      "text/plain": [
       "                      latitude  longitude  parent_incident_type  log  Friday  \\\n",
       "Date                                                                           \n",
       "2010-01-01 00:00:00  42.874699 -78.823627                   0.0  1.0     1.0   \n",
       "2010-01-01 00:00:00  42.958426 -78.855482                   0.0  1.0     1.0   \n",
       "2010-01-01 00:00:00  42.948746 -78.841021                   2.0  1.0     1.0   \n",
       "2010-01-01 00:00:00  42.869867 -78.849571                   0.0  1.0     1.0   \n",
       "2010-01-01 00:00:00  42.921298 -78.891109                   2.0  1.0     1.0   \n",
       "...                        ...        ...                   ...  ...     ...   \n",
       "2021-08-30 19:10:35  42.940000 -78.851000                   1.0  1.0     0.0   \n",
       "2021-08-30 19:30:00  42.881000 -78.801000                   0.0  1.0     0.0   \n",
       "2021-08-30 21:15:00  42.919000 -78.812000                   1.0  1.0     0.0   \n",
       "2021-08-30 23:18:04  42.947000 -78.891000                   0.0  1.0     0.0   \n",
       "2021-08-31 02:35:24  42.854000 -78.827000                   1.0  1.0     0.0   \n",
       "\n",
       "                     Monday  Saturday  Sunday  Thursday  Tuesday  ...  \\\n",
       "Date                                                              ...   \n",
       "2010-01-01 00:00:00     0.0       0.0     0.0       0.0      0.0  ...   \n",
       "2010-01-01 00:00:00     0.0       0.0     0.0       0.0      0.0  ...   \n",
       "2010-01-01 00:00:00     0.0       0.0     0.0       0.0      0.0  ...   \n",
       "2010-01-01 00:00:00     0.0       0.0     0.0       0.0      0.0  ...   \n",
       "2010-01-01 00:00:00     0.0       0.0     0.0       0.0      0.0  ...   \n",
       "...                     ...       ...     ...       ...      ...  ...   \n",
       "2021-08-30 19:10:35     1.0       0.0     0.0       0.0      0.0  ...   \n",
       "2021-08-30 19:30:00     1.0       0.0     0.0       0.0      0.0  ...   \n",
       "2021-08-30 21:15:00     1.0       0.0     0.0       0.0      0.0  ...   \n",
       "2021-08-30 23:18:04     0.0       0.0     0.0       0.0      1.0  ...   \n",
       "2021-08-31 02:35:24     0.0       0.0     0.0       0.0      1.0  ...   \n",
       "\n",
       "                     Holiday_Valentine’s Day  Holiday_Veterans Day  \\\n",
       "Date                                                                 \n",
       "2010-01-01 00:00:00                      0.0                   0.0   \n",
       "2010-01-01 00:00:00                      0.0                   0.0   \n",
       "2010-01-01 00:00:00                      0.0                   0.0   \n",
       "2010-01-01 00:00:00                      0.0                   0.0   \n",
       "2010-01-01 00:00:00                      0.0                   0.0   \n",
       "...                                      ...                   ...   \n",
       "2021-08-30 19:10:35                      0.0                   0.0   \n",
       "2021-08-30 19:30:00                      0.0                   0.0   \n",
       "2021-08-30 21:15:00                      0.0                   0.0   \n",
       "2021-08-30 23:18:04                      0.0                   0.0   \n",
       "2021-08-31 02:35:24                      0.0                   0.0   \n",
       "\n",
       "                     Holiday_Washington's Birthday  Holiday_Western Easter  \\\n",
       "Date                                                                         \n",
       "2010-01-01 00:00:00                            0.0                     0.0   \n",
       "2010-01-01 00:00:00                            0.0                     0.0   \n",
       "2010-01-01 00:00:00                            0.0                     0.0   \n",
       "2010-01-01 00:00:00                            0.0                     0.0   \n",
       "2010-01-01 00:00:00                            0.0                     0.0   \n",
       "...                                            ...                     ...   \n",
       "2021-08-30 19:10:35                            0.0                     0.0   \n",
       "2021-08-30 19:30:00                            0.0                     0.0   \n",
       "2021-08-30 21:15:00                            0.0                     0.0   \n",
       "2021-08-30 23:18:04                            0.0                     0.0   \n",
       "2021-08-31 02:35:24                            0.0                     0.0   \n",
       "\n",
       "                     event  year  month  day  hour  minute  \n",
       "Date                                                        \n",
       "2010-01-01 00:00:00    0.0  2010      1    1     0       0  \n",
       "2010-01-01 00:00:00    0.0  2010      1    1     0       0  \n",
       "2010-01-01 00:00:00    0.0  2010      1    1     0       0  \n",
       "2010-01-01 00:00:00    0.0  2010      1    1     0       0  \n",
       "2010-01-01 00:00:00    0.0  2010      1    1     0       0  \n",
       "...                    ...   ...    ...  ...   ...     ...  \n",
       "2021-08-30 19:10:35    0.0  2021      8   30    19      10  \n",
       "2021-08-30 19:30:00    1.0  2021      8   30    19      30  \n",
       "2021-08-30 21:15:00    1.0  2021      8   30    21      15  \n",
       "2021-08-30 23:18:04    0.0  2021      8   30    23      18  \n",
       "2021-08-31 02:35:24    0.0  2021      8   31     2      35  \n",
       "\n",
       "[196080 rows x 35 columns]"
      ]
     },
     "execution_count": 480,
     "metadata": {},
     "output_type": "execute_result"
    }
   ],
   "source": [
    "df4"
   ]
  },
  {
   "cell_type": "markdown",
   "id": "54fa877c",
   "metadata": {},
   "source": [
    "# Making dt feature as a set of seperate features "
   ]
  },
  {
   "cell_type": "code",
   "execution_count": 372,
   "id": "d15d7916",
   "metadata": {},
   "outputs": [],
   "source": [
    "df4['year']=df4.Date.dt.year\n",
    "df4['month']=df4.Date.dt.month\n",
    "df4['day']=df4.Date.dt.day\n",
    "df4['hour']=df4.Date.dt.hour\n",
    "df4['minute']=df4.Date.dt.minute"
   ]
  },
  {
   "cell_type": "code",
   "execution_count": 378,
   "id": "2355e4cd",
   "metadata": {},
   "outputs": [
    {
     "data": {
      "text/plain": [
       "(196080, 35)"
      ]
     },
     "execution_count": 378,
     "metadata": {},
     "output_type": "execute_result"
    }
   ],
   "source": [
    "df4.shape"
   ]
  },
  {
   "cell_type": "code",
   "execution_count": 375,
   "id": "7dee5755",
   "metadata": {},
   "outputs": [],
   "source": [
    "df4=df4.set_index('Date')"
   ]
  },
  {
   "cell_type": "code",
   "execution_count": 392,
   "id": "2f127302",
   "metadata": {},
   "outputs": [],
   "source": [
    "X=df4.drop('parent_incident_type',axis=1).values\n",
    "Y=df4.parent_incident_type.values\n",
    "X_train, X_test, y_train, y_test = train_test_split(X, Y, test_size=0.2, random_state=0)"
   ]
  },
  {
   "cell_type": "code",
   "execution_count": 447,
   "id": "ceb4903e",
   "metadata": {},
   "outputs": [
    {
     "ename": "SyntaxError",
     "evalue": "EOL while scanning string literal (<ipython-input-447-d900e9248590>, line 6)",
     "output_type": "error",
     "traceback": [
      "\u001b[1;36m  File \u001b[1;32m\"<ipython-input-447-d900e9248590>\"\u001b[1;36m, line \u001b[1;32m6\u001b[0m\n\u001b[1;33m    keras.layers.Dense(1, activation='sigmoid\u001b[0m\n\u001b[1;37m                                             ^\u001b[0m\n\u001b[1;31mSyntaxError\u001b[0m\u001b[1;31m:\u001b[0m EOL while scanning string literal\n"
     ]
    }
   ],
   "source": [
    "def ANN1(X_train, y_train, X_test, y_test, loss, weights):\n",
    "    model = keras.Sequential([\n",
    "        keras.layers.Dense(34 ,input_dim=34,activation='relu'),\n",
    "        keras.layers.Dense(52, activation='relu'),\n",
    "        keras.layers.Dense(28, activation='relu'),\n",
    "        keras.layers.Dense(1, activation='sigmoid\n",
    "    ])\n",
    "\n",
    "    model.compile(optimizer='adam', loss=loss, metrics=['accuracy'])\n",
    "    \n",
    "    if weights == -1:\n",
    "        model.fit(X_train, y_train, epochs=100)\n",
    "    else:\n",
    "        model.fit(X_train, y_train, epochs=100,class_weight = weights)\n",
    "    \n",
    "    print(model.evaluate(X_test, y_test))\n",
    "    \n",
    "    y_preds = model.predict(X_test)\n",
    "    y_preds = np.round(y_preds)\n",
    "    \n",
    "    print(\"Classification Report: \\n\", classification_report(y_test, y_preds))\n",
    "    \n",
    "    return y_preds"
   ]
  },
  {
   "cell_type": "code",
   "execution_count": 416,
   "id": "5051e10e",
   "metadata": {},
   "outputs": [
    {
     "name": "stdout",
     "output_type": "stream",
     "text": [
      "Epoch 1/50\n",
      "2795/2795 [==============================] - 1s 497us/step - loss: 6.5006e-08 - accuracy: 0.4842\n",
      "Epoch 2/50\n",
      "2795/2795 [==============================] - 1s 503us/step - loss: 6.5006e-08 - accuracy: 0.4842\n",
      "Epoch 3/50\n",
      "2795/2795 [==============================] - 1s 512us/step - loss: 6.5006e-08 - accuracy: 0.4842\n",
      "Epoch 4/50\n",
      "2795/2795 [==============================] - 1s 506us/step - loss: 6.5006e-08 - accuracy: 0.4842\n",
      "Epoch 5/50\n",
      "2795/2795 [==============================] - 1s 503us/step - loss: 6.5006e-08 - accuracy: 0.4842\n",
      "Epoch 6/50\n",
      "2795/2795 [==============================] - 1s 496us/step - loss: 6.5006e-08 - accuracy: 0.4842\n",
      "Epoch 7/50\n",
      "2795/2795 [==============================] - 1s 497us/step - loss: 6.5006e-08 - accuracy: 0.4842\n",
      "Epoch 8/50\n",
      "2795/2795 [==============================] - 1s 500us/step - loss: 6.5006e-08 - accuracy: 0.4842\n",
      "Epoch 9/50\n",
      "2795/2795 [==============================] - 1s 504us/step - loss: 6.5006e-08 - accuracy: 0.4842\n",
      "Epoch 10/50\n",
      "2795/2795 [==============================] - 1s 496us/step - loss: 6.5006e-08 - accuracy: 0.4842\n",
      "Epoch 11/50\n",
      "2795/2795 [==============================] - 1s 489us/step - loss: 6.5006e-08 - accuracy: 0.4842\n",
      "Epoch 12/50\n",
      "2795/2795 [==============================] - 1s 494us/step - loss: 6.5006e-08 - accuracy: 0.4842\n",
      "Epoch 13/50\n",
      "2795/2795 [==============================] - 1s 498us/step - loss: 6.5006e-08 - accuracy: 0.4842\n",
      "Epoch 14/50\n",
      "2795/2795 [==============================] - 1s 498us/step - loss: 6.5006e-08 - accuracy: 0.4842\n",
      "Epoch 15/50\n",
      "2795/2795 [==============================] - 1s 499us/step - loss: 6.5006e-08 - accuracy: 0.4842\n",
      "Epoch 16/50\n",
      "2795/2795 [==============================] - 1s 499us/step - loss: 6.5006e-08 - accuracy: 0.4842\n",
      "Epoch 17/50\n",
      "2795/2795 [==============================] - 1s 497us/step - loss: 6.5006e-08 - accuracy: 0.4842\n",
      "Epoch 18/50\n",
      "2795/2795 [==============================] - 1s 492us/step - loss: 6.5006e-08 - accuracy: 0.4842\n",
      "Epoch 19/50\n",
      "2795/2795 [==============================] - 1s 490us/step - loss: 6.5006e-08 - accuracy: 0.4842\n",
      "Epoch 20/50\n",
      "2795/2795 [==============================] - 1s 490us/step - loss: 6.5006e-08 - accuracy: 0.4842\n",
      "Epoch 21/50\n",
      "2795/2795 [==============================] - 1s 491us/step - loss: 6.5006e-08 - accuracy: 0.4842\n",
      "Epoch 22/50\n",
      "2795/2795 [==============================] - 1s 490us/step - loss: 6.5006e-08 - accuracy: 0.4842\n",
      "Epoch 23/50\n",
      "2795/2795 [==============================] - 1s 491us/step - loss: 6.5006e-08 - accuracy: 0.4842\n",
      "Epoch 24/50\n",
      "2795/2795 [==============================] - 1s 492us/step - loss: 6.5006e-08 - accuracy: 0.4842\n",
      "Epoch 25/50\n",
      "2795/2795 [==============================] - 1s 491us/step - loss: 6.5006e-08 - accuracy: 0.4842\n",
      "Epoch 26/50\n",
      "2795/2795 [==============================] - 1s 500us/step - loss: 6.5006e-08 - accuracy: 0.4842\n",
      "Epoch 27/50\n",
      "2795/2795 [==============================] - 1s 489us/step - loss: 6.5006e-08 - accuracy: 0.4842\n",
      "Epoch 28/50\n",
      "2795/2795 [==============================] - 1s 488us/step - loss: 6.5006e-08 - accuracy: 0.4842\n",
      "Epoch 29/50\n",
      "2795/2795 [==============================] - 1s 486us/step - loss: 6.5006e-08 - accuracy: 0.4842\n",
      "Epoch 30/50\n",
      "2795/2795 [==============================] - 1s 488us/step - loss: 6.5006e-08 - accuracy: 0.4842\n",
      "Epoch 31/50\n",
      "2795/2795 [==============================] - 1s 492us/step - loss: 6.5006e-08 - accuracy: 0.4842\n",
      "Epoch 32/50\n",
      "2795/2795 [==============================] - 1s 489us/step - loss: 6.5006e-08 - accuracy: 0.4842\n",
      "Epoch 33/50\n",
      "2795/2795 [==============================] - 1s 488us/step - loss: 6.5006e-08 - accuracy: 0.4842\n",
      "Epoch 34/50\n",
      "2795/2795 [==============================] - 1s 485us/step - loss: 6.5006e-08 - accuracy: 0.4842\n",
      "Epoch 35/50\n",
      "2795/2795 [==============================] - 1s 488us/step - loss: 6.5006e-08 - accuracy: 0.4842\n",
      "Epoch 36/50\n",
      "2795/2795 [==============================] - 1s 489us/step - loss: 6.5006e-08 - accuracy: 0.4842\n",
      "Epoch 37/50\n",
      "2795/2795 [==============================] - 1s 490us/step - loss: 6.5006e-08 - accuracy: 0.4842\n",
      "Epoch 38/50\n",
      "2795/2795 [==============================] - 1s 495us/step - loss: 6.5006e-08 - accuracy: 0.4842\n",
      "Epoch 39/50\n",
      "2795/2795 [==============================] - 1s 492us/step - loss: 6.5006e-08 - accuracy: 0.4842\n",
      "Epoch 40/50\n",
      "2795/2795 [==============================] - 1s 488us/step - loss: 6.5006e-08 - accuracy: 0.4842\n",
      "Epoch 41/50\n",
      "2795/2795 [==============================] - 1s 491us/step - loss: 6.5006e-08 - accuracy: 0.4842\n",
      "Epoch 42/50\n",
      "2795/2795 [==============================] - 1s 488us/step - loss: 6.5006e-08 - accuracy: 0.4842\n",
      "Epoch 43/50\n",
      "2795/2795 [==============================] - 1s 488us/step - loss: 6.5006e-08 - accuracy: 0.4842\n",
      "Epoch 44/50\n",
      "2795/2795 [==============================] - 1s 490us/step - loss: 6.5006e-08 - accuracy: 0.4842\n",
      "Epoch 45/50\n",
      "2795/2795 [==============================] - 1s 488us/step - loss: 6.5006e-08 - accuracy: 0.4842\n",
      "Epoch 46/50\n",
      "2795/2795 [==============================] - 1s 491us/step - loss: 6.5006e-08 - accuracy: 0.4842\n",
      "Epoch 47/50\n",
      "2795/2795 [==============================] - 1s 488us/step - loss: 6.5006e-08 - accuracy: 0.4842\n",
      "Epoch 48/50\n",
      "2795/2795 [==============================] - 1s 491us/step - loss: 6.5006e-08 - accuracy: 0.4842\n",
      "Epoch 49/50\n",
      "2795/2795 [==============================] - 1s 491us/step - loss: 6.5006e-08 - accuracy: 0.4842\n",
      "Epoch 50/50\n",
      "2795/2795 [==============================] - 1s 498us/step - loss: 6.5006e-08 - accuracy: 0.4842\n",
      "699/699 [==============================] - 0s 328us/step - loss: 6.5572e-08 - accuracy: 0.4862\n",
      "[6.5571505558637e-08, 0.4861782193183899]\n",
      "Classification Report: \n",
      "               precision    recall  f1-score   support\n",
      "\n",
      "         0.0       0.00      0.00      0.00     10773\n",
      "         1.0       0.49      1.00      0.65     10869\n",
      "         2.0       0.00      0.00      0.00       714\n",
      "\n",
      "    accuracy                           0.49     22356\n",
      "   macro avg       0.16      0.33      0.22     22356\n",
      "weighted avg       0.24      0.49      0.32     22356\n",
      "\n"
     ]
    },
    {
     "name": "stderr",
     "output_type": "stream",
     "text": [
      "C:\\Users\\mmioi\\anaconda3\\lib\\site-packages\\sklearn\\metrics\\_classification.py:1245: UndefinedMetricWarning: Precision and F-score are ill-defined and being set to 0.0 in labels with no predicted samples. Use `zero_division` parameter to control this behavior.\n",
      "  _warn_prf(average, modifier, msg_start, len(result))\n",
      "C:\\Users\\mmioi\\anaconda3\\lib\\site-packages\\sklearn\\metrics\\_classification.py:1245: UndefinedMetricWarning: Precision and F-score are ill-defined and being set to 0.0 in labels with no predicted samples. Use `zero_division` parameter to control this behavior.\n",
      "  _warn_prf(average, modifier, msg_start, len(result))\n",
      "C:\\Users\\mmioi\\anaconda3\\lib\\site-packages\\sklearn\\metrics\\_classification.py:1245: UndefinedMetricWarning: Precision and F-score are ill-defined and being set to 0.0 in labels with no predicted samples. Use `zero_division` parameter to control this behavior.\n",
      "  _warn_prf(average, modifier, msg_start, len(result))\n"
     ]
    },
    {
     "data": {
      "text/plain": [
       "array([[1.],\n",
       "       [1.],\n",
       "       [1.],\n",
       "       ...,\n",
       "       [1.],\n",
       "       [1.],\n",
       "       [1.]], dtype=float32)"
      ]
     },
     "execution_count": 416,
     "metadata": {},
     "output_type": "execute_result"
    }
   ],
   "source": [
    "ANN1(X_train, y_train, X_test, y_test,\"categorical_crossentropy\", -1)"
   ]
  },
  {
   "cell_type": "code",
   "execution_count": 391,
   "id": "a866ad3c",
   "metadata": {},
   "outputs": [
    {
     "name": "stdout",
     "output_type": "stream",
     "text": [
      "Learning rate:  200\n",
      "Accuracy score (training): 0.707\n",
      "Accuracy score (validation): 0.702\n",
      "\n",
      "Learning rate:  400\n",
      "Accuracy score (training): 0.707\n",
      "Accuracy score (validation): 0.702\n",
      "\n",
      "Learning rate:  600\n",
      "Accuracy score (training): 0.707\n",
      "Accuracy score (validation): 0.702\n",
      "\n",
      "Learning rate:  1000\n",
      "Accuracy score (training): 0.707\n",
      "Accuracy score (validation): 0.702\n",
      "\n",
      "Learning rate:  2000\n",
      "Accuracy score (training): 0.707\n",
      "Accuracy score (validation): 0.702\n",
      "\n"
     ]
    }
   ],
   "source": [
    "n_e = [200,400, 600, 1000, 2000]\n",
    "\n",
    "for n in n_e:\n",
    "    from sklearn.ensemble import RandomForestClassifier as rf\n",
    "    rf = rf(n_estimators=n, max_depth = 5, random_state = 0,bootstrap=False,criterion='gini')\n",
    "    rf.fit(X_train, y_train)\n",
    "    print(\"Learning rate: \", n)\n",
    "    print(\"Accuracy score (training): {0:.3f}\".format(rf.score(X_train, y_train)))\n",
    "    print(\"Accuracy score (validation): {0:.3f}\".format(rf.score(X_test, y_test)))\n",
    "    print()"
   ]
  },
  {
   "cell_type": "code",
   "execution_count": 393,
   "id": "bee54027",
   "metadata": {},
   "outputs": [
    {
     "name": "stdout",
     "output_type": "stream",
     "text": [
      "Learning rate:  0.05\n",
      "Accuracy score (training): 0.714\n",
      "Accuracy score (validation): 0.710\n",
      "\n",
      "Learning rate:  0.1\n",
      "Accuracy score (training): 0.721\n",
      "Accuracy score (validation): 0.718\n",
      "\n",
      "Learning rate:  0.25\n",
      "Accuracy score (training): 0.728\n",
      "Accuracy score (validation): 0.726\n",
      "\n",
      "Learning rate:  0.5\n",
      "Accuracy score (training): 0.730\n",
      "Accuracy score (validation): 0.727\n",
      "\n",
      "Learning rate:  0.75\n",
      "Accuracy score (training): 0.732\n",
      "Accuracy score (validation): 0.727\n",
      "\n",
      "Learning rate:  1\n",
      "Accuracy score (training): 0.733\n",
      "Accuracy score (validation): 0.729\n",
      "\n"
     ]
    }
   ],
   "source": [
    "learning_rates = [0.05, 0.1, 0.25, 0.5, 0.75, 1]\n",
    "for learning_rate in learning_rates:\n",
    "    gb = GradientBoostingClassifier(n_estimators=200, learning_rate = learning_rate, max_features=5, max_depth = 2, random_state = 0)\n",
    "    gb.fit(X_train, y_train)\n",
    "    print(\"Learning rate: \", learning_rate)\n",
    "    print(\"Accuracy score (training): {0:.3f}\".format(gb.score(X_train, y_train)))\n",
    "    print(\"Accuracy score (validation): {0:.3f}\".format(gb.score(X_test, y_test)))\n",
    "    print()"
   ]
  },
  {
   "cell_type": "code",
   "execution_count": 394,
   "id": "9b676923",
   "metadata": {},
   "outputs": [
    {
     "name": "stdout",
     "output_type": "stream",
     "text": [
      "Learning rate:  1\n",
      "Accuracy score (training): 0.733\n",
      "Accuracy score (validation): 0.729\n",
      "\n"
     ]
    }
   ],
   "source": [
    "gb = GradientBoostingClassifier(n_estimators=200, learning_rate = 1, max_features=5, max_depth = 2, random_state = 0)\n",
    "gb.fit(X_train, y_train)\n",
    "print(\"Learning rate: \", learning_rate)\n",
    "print(\"Accuracy score (training): {0:.3f}\".format(gb.score(X_train, y_train)))\n",
    "print(\"Accuracy score (validation): {0:.3f}\".format(gb.score(X_test, y_test)))\n",
    "print()"
   ]
  },
  {
   "cell_type": "code",
   "execution_count": 397,
   "id": "562e32f8",
   "metadata": {},
   "outputs": [
    {
     "name": "stdout",
     "output_type": "stream",
     "text": [
      "              precision    recall  f1-score   support\n",
      "\n",
      "         0.0       0.75      0.92      0.83     27525\n",
      "         1.0       0.59      0.29      0.39     10958\n",
      "         2.0       0.09      0.00      0.00       733\n",
      "\n",
      "    accuracy                           0.73     39216\n",
      "   macro avg       0.48      0.41      0.41     39216\n",
      "weighted avg       0.69      0.73      0.69     39216\n",
      "\n"
     ]
    }
   ],
   "source": [
    "ypred=gb.predict(X_test)\n",
    "print(classification_report(y_test,ypred))"
   ]
  },
  {
   "cell_type": "markdown",
   "id": "d589ab06",
   "metadata": {},
   "source": [
    "the Classification work seems to be getting better , right now the predictor is strating to make predictions that are not only property crimes but at the whole set. "
   ]
  },
  {
   "cell_type": "markdown",
   "id": "9a9e294c",
   "metadata": {},
   "source": [
    "# Balancing the data again "
   ]
  },
  {
   "cell_type": "code",
   "execution_count": 400,
   "id": "01615cc8",
   "metadata": {},
   "outputs": [
    {
     "name": "stdout",
     "output_type": "stream",
     "text": [
      "Random under-sampling:\n",
      "0.0    54166\n",
      "1.0    54166\n",
      "2.0     3447\n",
      "Name: parent_incident_type, dtype: int64\n"
     ]
    }
   ],
   "source": [
    "count_class_0, count_class_1 ,count_class_2= df4.parent_incident_type.value_counts()\n",
    "df_class_0 = df4[df4['parent_incident_type'] == 0]\n",
    "df_class_1 = df4[df4['parent_incident_type'] == 1]\n",
    "df_class_2 = df4[df4['parent_incident_type'] == 2]\n",
    "# Undersample 0-class and concat the DataFrames of both class\n",
    "df_class_0_under = df_class_0.sample(count_class_1)\n",
    "df_test_under = pd.concat([df_class_0_under, df_class_1,df_class_2], axis=0)\n",
    "\n",
    "print('Random under-sampling:')\n",
    "print(df_test_under.parent_incident_type.value_counts())"
   ]
  },
  {
   "cell_type": "code",
   "execution_count": 422,
   "id": "b6df0055",
   "metadata": {},
   "outputs": [],
   "source": [
    "X=df_test_under.drop('parent_incident_type',axis=1).values\n",
    "Y=df_test_under.parent_incident_type.values\n",
    "X_train, X_test, y_train, y_test = train_test_split(X, Y, test_size=0.4, random_state=4)"
   ]
  },
  {
   "cell_type": "code",
   "execution_count": 407,
   "id": "8c0c16a0",
   "metadata": {},
   "outputs": [
    {
     "name": "stdout",
     "output_type": "stream",
     "text": [
      "Epoch 1/50\n",
      "2795/2795 [==============================] - 2s 541us/step - loss: 6.5006e-08 - accuracy: 0.4842\n",
      "Epoch 2/50\n",
      "2795/2795 [==============================] - 2s 542us/step - loss: 6.5006e-08 - accuracy: 0.4842\n",
      "Epoch 3/50\n",
      "2795/2795 [==============================] - 2s 551us/step - loss: 6.5006e-08 - accuracy: 0.4842\n",
      "Epoch 4/50\n",
      "2795/2795 [==============================] - 2s 546us/step - loss: 6.5006e-08 - accuracy: 0.4842\n",
      "Epoch 5/50\n",
      "2795/2795 [==============================] - 2s 545us/step - loss: 6.5006e-08 - accuracy: 0.4842\n",
      "Epoch 6/50\n",
      "2795/2795 [==============================] - 2s 542us/step - loss: 6.5006e-08 - accuracy: 0.4842\n",
      "Epoch 7/50\n",
      "2795/2795 [==============================] - 1s 527us/step - loss: 6.5006e-08 - accuracy: 0.4842\n",
      "Epoch 8/50\n",
      "2795/2795 [==============================] - 2s 550us/step - loss: 6.5006e-08 - accuracy: 0.4842\n",
      "Epoch 9/50\n",
      "2795/2795 [==============================] - 1s 532us/step - loss: 6.5006e-08 - accuracy: 0.4842\n",
      "Epoch 10/50\n",
      "2795/2795 [==============================] - 2s 540us/step - loss: 6.5006e-08 - accuracy: 0.4842\n",
      "Epoch 11/50\n",
      "2795/2795 [==============================] - 2s 540us/step - loss: 6.5006e-08 - accuracy: 0.4842\n",
      "Epoch 12/50\n",
      "2795/2795 [==============================] - 2s 554us/step - loss: 6.5006e-08 - accuracy: 0.4842\n",
      "Epoch 13/50\n",
      "2795/2795 [==============================] - 2s 561us/step - loss: 6.5006e-08 - accuracy: 0.4842\n",
      "Epoch 14/50\n",
      "2795/2795 [==============================] - 2s 543us/step - loss: 6.5006e-08 - accuracy: 0.4842\n",
      "Epoch 15/50\n",
      "2795/2795 [==============================] - 2s 543us/step - loss: 6.5006e-08 - accuracy: 0.4842\n",
      "Epoch 16/50\n",
      "2795/2795 [==============================] - 2s 546us/step - loss: 6.5006e-08 - accuracy: 0.4842\n",
      "Epoch 17/50\n",
      "2795/2795 [==============================] - 2s 541us/step - loss: 6.5006e-08 - accuracy: 0.4842\n",
      "Epoch 18/50\n",
      "2795/2795 [==============================] - 2s 547us/step - loss: 6.5006e-08 - accuracy: 0.4842\n",
      "Epoch 19/50\n",
      "2795/2795 [==============================] - 2s 540us/step - loss: 6.5006e-08 - accuracy: 0.4842\n",
      "Epoch 20/50\n",
      "2795/2795 [==============================] - 2s 551us/step - loss: 6.5006e-08 - accuracy: 0.4842\n",
      "Epoch 21/50\n",
      "2795/2795 [==============================] - 1s 533us/step - loss: 6.5006e-08 - accuracy: 0.4842\n",
      "Epoch 22/50\n",
      "2795/2795 [==============================] - 1s 529us/step - loss: 6.5006e-08 - accuracy: 0.4842\n",
      "Epoch 23/50\n",
      "2795/2795 [==============================] - 1s 533us/step - loss: 6.5006e-08 - accuracy: 0.4842\n",
      "Epoch 24/50\n",
      "2795/2795 [==============================] - 2s 545us/step - loss: 6.5006e-08 - accuracy: 0.4842\n",
      "Epoch 25/50\n",
      "2795/2795 [==============================] - 2s 545us/step - loss: 6.5006e-08 - accuracy: 0.4842\n",
      "Epoch 26/50\n",
      "2795/2795 [==============================] - 2s 547us/step - loss: 6.5006e-08 - accuracy: 0.4842\n",
      "Epoch 27/50\n",
      "2795/2795 [==============================] - 2s 547us/step - loss: 6.5006e-08 - accuracy: 0.4842\n",
      "Epoch 28/50\n",
      "2795/2795 [==============================] - 1s 536us/step - loss: 6.5006e-08 - accuracy: 0.4842\n",
      "Epoch 29/50\n",
      "2795/2795 [==============================] - 2s 552us/step - loss: 6.5006e-08 - accuracy: 0.4842\n",
      "Epoch 30/50\n",
      "2795/2795 [==============================] - 2s 561us/step - loss: 6.5006e-08 - accuracy: 0.4842\n",
      "Epoch 31/50\n",
      "2795/2795 [==============================] - 2s 557us/step - loss: 6.5006e-08 - accuracy: 0.4842\n",
      "Epoch 32/50\n",
      "2795/2795 [==============================] - 2s 548us/step - loss: 6.5006e-08 - accuracy: 0.4842\n",
      "Epoch 33/50\n",
      "2795/2795 [==============================] - 2s 542us/step - loss: 6.5006e-08 - accuracy: 0.4842\n",
      "Epoch 34/50\n",
      "2795/2795 [==============================] - 2s 541us/step - loss: 6.5006e-08 - accuracy: 0.4842\n",
      "Epoch 35/50\n",
      "2795/2795 [==============================] - 2s 548us/step - loss: 6.5006e-08 - accuracy: 0.4842\n",
      "Epoch 36/50\n",
      "2795/2795 [==============================] - 1s 532us/step - loss: 6.5006e-08 - accuracy: 0.4842\n",
      "Epoch 37/50\n",
      "2795/2795 [==============================] - 2s 544us/step - loss: 6.5006e-08 - accuracy: 0.4842\n",
      "Epoch 38/50\n",
      "2795/2795 [==============================] - 1s 530us/step - loss: 6.5006e-08 - accuracy: 0.4842\n",
      "Epoch 39/50\n",
      "2795/2795 [==============================] - 2s 547us/step - loss: 6.5006e-08 - accuracy: 0.4842\n",
      "Epoch 40/50\n",
      "2795/2795 [==============================] - 1s 529us/step - loss: 6.5006e-08 - accuracy: 0.4842\n",
      "Epoch 41/50\n",
      "2795/2795 [==============================] - 2s 562us/step - loss: 6.5006e-08 - accuracy: 0.4842\n",
      "Epoch 42/50\n",
      "2795/2795 [==============================] - 2s 537us/step - loss: 6.5006e-08 - accuracy: 0.4842\n",
      "Epoch 43/50\n",
      "2795/2795 [==============================] - 2s 553us/step - loss: 6.5006e-08 - accuracy: 0.4842\n",
      "Epoch 44/50\n",
      "2795/2795 [==============================] - 2s 556us/step - loss: 6.5006e-08 - accuracy: 0.4842\n",
      "Epoch 45/50\n",
      "2795/2795 [==============================] - 2s 546us/step - loss: 6.5006e-08 - accuracy: 0.4842\n",
      "Epoch 46/50\n",
      "2795/2795 [==============================] - 2s 544us/step - loss: 6.5006e-08 - accuracy: 0.4842\n",
      "Epoch 47/50\n",
      "2795/2795 [==============================] - 1s 531us/step - loss: 6.5006e-08 - accuracy: 0.4842\n",
      "Epoch 48/50\n",
      "2795/2795 [==============================] - 2s 540us/step - loss: 6.5006e-08 - accuracy: 0.4842\n",
      "Epoch 49/50\n",
      "2795/2795 [==============================] - 2s 547us/step - loss: 6.5006e-08 - accuracy: 0.4842\n",
      "Epoch 50/50\n",
      "2795/2795 [==============================] - 1s 533us/step - loss: 6.5006e-08 - accuracy: 0.4842\n",
      "699/699 [==============================] - 0s 341us/step - loss: 6.5572e-08 - accuracy: 0.4862\n",
      "[6.5571505558637e-08, 0.4861782193183899]\n",
      "Classification Report: \n",
      "               precision    recall  f1-score   support\n",
      "\n",
      "         0.0       0.00      0.00      0.00     10773\n",
      "         1.0       0.49      1.00      0.65     10869\n",
      "         2.0       0.00      0.00      0.00       714\n",
      "\n",
      "    accuracy                           0.49     22356\n",
      "   macro avg       0.16      0.33      0.22     22356\n",
      "weighted avg       0.24      0.49      0.32     22356\n",
      "\n"
     ]
    },
    {
     "name": "stderr",
     "output_type": "stream",
     "text": [
      "C:\\Users\\mmioi\\anaconda3\\lib\\site-packages\\sklearn\\metrics\\_classification.py:1245: UndefinedMetricWarning: Precision and F-score are ill-defined and being set to 0.0 in labels with no predicted samples. Use `zero_division` parameter to control this behavior.\n",
      "  _warn_prf(average, modifier, msg_start, len(result))\n",
      "C:\\Users\\mmioi\\anaconda3\\lib\\site-packages\\sklearn\\metrics\\_classification.py:1245: UndefinedMetricWarning: Precision and F-score are ill-defined and being set to 0.0 in labels with no predicted samples. Use `zero_division` parameter to control this behavior.\n",
      "  _warn_prf(average, modifier, msg_start, len(result))\n",
      "C:\\Users\\mmioi\\anaconda3\\lib\\site-packages\\sklearn\\metrics\\_classification.py:1245: UndefinedMetricWarning: Precision and F-score are ill-defined and being set to 0.0 in labels with no predicted samples. Use `zero_division` parameter to control this behavior.\n",
      "  _warn_prf(average, modifier, msg_start, len(result))\n"
     ]
    },
    {
     "data": {
      "text/plain": [
       "array([[1.],\n",
       "       [1.],\n",
       "       [1.],\n",
       "       ...,\n",
       "       [1.],\n",
       "       [1.],\n",
       "       [1.]], dtype=float32)"
      ]
     },
     "execution_count": 407,
     "metadata": {},
     "output_type": "execute_result"
    }
   ],
   "source": [
    "ANN1(X_train, y_train, X_test, y_test,\"categorical_crossentropy\", -1)"
   ]
  },
  {
   "cell_type": "code",
   "execution_count": 404,
   "id": "52ca0408",
   "metadata": {},
   "outputs": [
    {
     "name": "stdout",
     "output_type": "stream",
     "text": [
      "Learning rate:  20\n",
      "Accuracy score (training): 0.638\n",
      "Accuracy score (validation): 0.643\n",
      "\n",
      "Learning rate:  40\n",
      "Accuracy score (training): 0.636\n",
      "Accuracy score (validation): 0.640\n",
      "\n",
      "Learning rate:  60\n",
      "Accuracy score (training): 0.636\n",
      "Accuracy score (validation): 0.640\n",
      "\n",
      "Learning rate:  100\n",
      "Accuracy score (training): 0.640\n",
      "Accuracy score (validation): 0.643\n",
      "\n",
      "Learning rate:  200\n",
      "Accuracy score (training): 0.640\n",
      "Accuracy score (validation): 0.644\n",
      "\n"
     ]
    }
   ],
   "source": [
    "n_e = [20,40, 60, 100, 200]\n",
    "\n",
    "for n in n_e:\n",
    "    from sklearn.ensemble import RandomForestClassifier as rf\n",
    "    rf = rf(n_estimators=n, max_depth = 5, random_state = 0,bootstrap=False,criterion='gini')\n",
    "    rf.fit(X_train, y_train)\n",
    "    print(\"Learning rate: \", n)\n",
    "    print(\"Accuracy score (training): {0:.3f}\".format(rf.score(X_train, y_train)))\n",
    "    print(\"Accuracy score (validation): {0:.3f}\".format(rf.score(X_test, y_test)))\n",
    "    print()"
   ]
  },
  {
   "cell_type": "code",
   "execution_count": 405,
   "id": "9c62ae20",
   "metadata": {},
   "outputs": [
    {
     "name": "stdout",
     "output_type": "stream",
     "text": [
      "Learning rate:  0.05\n",
      "Accuracy score (training): 0.645\n",
      "Accuracy score (validation): 0.650\n",
      "\n",
      "Learning rate:  0.1\n",
      "Accuracy score (training): 0.655\n",
      "Accuracy score (validation): 0.660\n",
      "\n",
      "Learning rate:  0.25\n",
      "Accuracy score (training): 0.661\n",
      "Accuracy score (validation): 0.664\n",
      "\n",
      "Learning rate:  0.5\n",
      "Accuracy score (training): 0.666\n",
      "Accuracy score (validation): 0.667\n",
      "\n",
      "Learning rate:  0.75\n",
      "Accuracy score (training): 0.669\n",
      "Accuracy score (validation): 0.669\n",
      "\n",
      "Learning rate:  1\n",
      "Accuracy score (training): 0.670\n",
      "Accuracy score (validation): 0.668\n",
      "\n"
     ]
    }
   ],
   "source": [
    "learning_rates = [0.05, 0.1, 0.25, 0.5, 0.75, 1]\n",
    "for learning_rate in learning_rates:\n",
    "    gb = GradientBoostingClassifier(n_estimators=200, learning_rate = learning_rate, max_features=5, max_depth = 2, random_state =0)\n",
    "    gb.fit(X_train, y_train)\n",
    "    print(\"Learning rate: \", learning_rate)\n",
    "    print(\"Accuracy score (training): {0:.3f}\".format(gb.score(X_train, y_train)))\n",
    "    print(\"Accuracy score (validation): {0:.3f}\".format(gb.score(X_test, y_test)))\n",
    "    print()"
   ]
  },
  {
   "cell_type": "markdown",
   "id": "bc3b28de",
   "metadata": {},
   "source": [
    "# Random state"
   ]
  },
  {
   "cell_type": "code",
   "execution_count": 423,
   "id": "3620727b",
   "metadata": {},
   "outputs": [
    {
     "name": "stdout",
     "output_type": "stream",
     "text": [
      "              precision    recall  f1-score   support\n",
      "\n",
      "         0.0       0.67      0.67      0.67     21580\n",
      "         1.0       0.67      0.70      0.69     21773\n",
      "         2.0       0.27      0.01      0.01      1359\n",
      "\n",
      "    accuracy                           0.67     44712\n",
      "   macro avg       0.54      0.46      0.46     44712\n",
      "weighted avg       0.66      0.67      0.66     44712\n",
      "\n"
     ]
    }
   ],
   "source": [
    "gb = GradientBoostingClassifier(n_estimators=200, learning_rate = 1, max_features=5, max_depth = 2, random_state =42)\n",
    "gb.fit(X_train, y_train)\n",
    "ypred=gb.predict(X_test)\n",
    "print(classification_report(y_test,ypred))"
   ]
  },
  {
   "cell_type": "markdown",
   "id": "552b1336",
   "metadata": {},
   "source": [
    "# NON Random State "
   ]
  },
  {
   "cell_type": "code",
   "execution_count": 424,
   "id": "0bb4ef49",
   "metadata": {},
   "outputs": [
    {
     "name": "stdout",
     "output_type": "stream",
     "text": [
      "              precision    recall  f1-score   support\n",
      "\n",
      "         0.0       0.66      0.67      0.67     21580\n",
      "         1.0       0.67      0.70      0.68     21773\n",
      "         2.0       0.19      0.00      0.01      1359\n",
      "\n",
      "    accuracy                           0.66     44712\n",
      "   macro avg       0.51      0.46      0.45     44712\n",
      "weighted avg       0.65      0.66      0.65     44712\n",
      "\n"
     ]
    }
   ],
   "source": [
    "gb = GradientBoostingClassifier(n_estimators=200, learning_rate = 1, max_features=5, max_depth = 2, random_state =0)\n",
    "gb.fit(X_train, y_train)\n",
    "ypred=gb.predict(X_test)\n",
    "print(classification_report(y_test,ypred))"
   ]
  },
  {
   "cell_type": "markdown",
   "id": "8f4a9fcf",
   "metadata": {},
   "source": [
    "# Subsetting the DataFrame "
   ]
  },
  {
   "cell_type": "code",
   "execution_count": 426,
   "id": "e6fd0dea",
   "metadata": {},
   "outputs": [],
   "source": [
    "subsets=df4.loc['01-01-2018':]"
   ]
  },
  {
   "cell_type": "code",
   "execution_count": 429,
   "id": "19a22270",
   "metadata": {},
   "outputs": [],
   "source": [
    "x=subsets.drop('parent_incident_type',axis=1).values\n",
    "y=subsets.parent_incident_type.values\n",
    "x_train, x_test, Y_train, Y_test = train_test_split(x, y, test_size=0.2, random_state=0)"
   ]
  },
  {
   "cell_type": "code",
   "execution_count": 430,
   "id": "bfb68e5f",
   "metadata": {},
   "outputs": [
    {
     "name": "stdout",
     "output_type": "stream",
     "text": [
      "Learning rate:  0.05\n",
      "Accuracy score (training): 0.707\n",
      "Accuracy score (validation): 0.698\n",
      "\n",
      "Learning rate:  0.1\n",
      "Accuracy score (training): 0.714\n",
      "Accuracy score (validation): 0.703\n",
      "\n",
      "Learning rate:  0.25\n",
      "Accuracy score (training): 0.721\n",
      "Accuracy score (validation): 0.709\n",
      "\n",
      "Learning rate:  0.5\n",
      "Accuracy score (training): 0.727\n",
      "Accuracy score (validation): 0.710\n",
      "\n",
      "Learning rate:  0.75\n",
      "Accuracy score (training): 0.728\n",
      "Accuracy score (validation): 0.712\n",
      "\n",
      "Learning rate:  1\n",
      "Accuracy score (training): 0.732\n",
      "Accuracy score (validation): 0.711\n",
      "\n"
     ]
    }
   ],
   "source": [
    "learning_rates = [0.05, 0.1, 0.25, 0.5, 0.75, 1]\n",
    "for learning_rate in learning_rates:\n",
    "    gb = GradientBoostingClassifier(n_estimators=200, learning_rate = learning_rate, max_features=5, max_depth = 2, random_state =0)\n",
    "    gb.fit(x_train, Y_train)\n",
    "    print(\"Learning rate: \", learning_rate)\n",
    "    print(\"Accuracy score (training): {0:.3f}\".format(gb.score(x_train, Y_train)))\n",
    "    print(\"Accuracy score (validation): {0:.3f}\".format(gb.score(x_test, Y_test)))\n",
    "    print()"
   ]
  },
  {
   "cell_type": "code",
   "execution_count": 459,
   "id": "61cd9fcd",
   "metadata": {},
   "outputs": [
    {
     "name": "stdout",
     "output_type": "stream",
     "text": [
      "Epoch 1/100\n",
      "1200/1200 [==============================] - 1s 514us/step - loss: 1.0000 - accuracy: 0.6980\n",
      "Epoch 2/100\n",
      "1200/1200 [==============================] - 1s 508us/step - loss: 1.0000 - accuracy: 0.6980\n",
      "Epoch 3/100\n",
      "1200/1200 [==============================] - 1s 508us/step - loss: 1.0000 - accuracy: 0.6980\n",
      "Epoch 4/100\n",
      "1200/1200 [==============================] - 1s 501us/step - loss: 1.0000 - accuracy: 0.6980\n",
      "Epoch 5/100\n",
      "1200/1200 [==============================] - 1s 503us/step - loss: 1.0000 - accuracy: 0.6980\n",
      "Epoch 6/100\n",
      "1200/1200 [==============================] - 1s 505us/step - loss: 1.0000 - accuracy: 0.6980\n",
      "Epoch 7/100\n",
      "1200/1200 [==============================] - 1s 507us/step - loss: 1.0000 - accuracy: 0.6980\n",
      "Epoch 8/100\n",
      "1200/1200 [==============================] - 1s 510us/step - loss: 1.0000 - accuracy: 0.6980\n",
      "Epoch 9/100\n",
      "1200/1200 [==============================] - 1s 504us/step - loss: 1.0000 - accuracy: 0.6980\n",
      "Epoch 10/100\n",
      "1200/1200 [==============================] - 1s 503us/step - loss: 1.0000 - accuracy: 0.6980\n",
      "Epoch 11/100\n",
      "1200/1200 [==============================] - 1s 509us/step - loss: 1.0000 - accuracy: 0.6980\n",
      "Epoch 12/100\n",
      "1200/1200 [==============================] - 1s 509us/step - loss: 1.0000 - accuracy: 0.6980\n",
      "Epoch 13/100\n",
      "1200/1200 [==============================] - 1s 508us/step - loss: 1.0000 - accuracy: 0.6980\n",
      "Epoch 14/100\n",
      "1200/1200 [==============================] - 1s 506us/step - loss: 1.0000 - accuracy: 0.6980\n",
      "Epoch 15/100\n",
      "1200/1200 [==============================] - 1s 504us/step - loss: 1.0000 - accuracy: 0.6980\n",
      "Epoch 16/100\n",
      "1200/1200 [==============================] - 1s 524us/step - loss: 1.0000 - accuracy: 0.6980\n",
      "Epoch 17/100\n",
      "1200/1200 [==============================] - 1s 509us/step - loss: 1.0000 - accuracy: 0.6980\n",
      "Epoch 18/100\n",
      "1200/1200 [==============================] - 1s 506us/step - loss: 1.0000 - accuracy: 0.6980\n",
      "Epoch 19/100\n",
      "1200/1200 [==============================] - 1s 505us/step - loss: 1.0000 - accuracy: 0.6980\n",
      "Epoch 20/100\n",
      "1200/1200 [==============================] - 1s 508us/step - loss: 1.0000 - accuracy: 0.6980\n",
      "Epoch 21/100\n",
      "1200/1200 [==============================] - 1s 510us/step - loss: 1.0000 - accuracy: 0.6980\n",
      "Epoch 22/100\n",
      "1200/1200 [==============================] - 1s 505us/step - loss: 1.0000 - accuracy: 0.6980\n",
      "Epoch 23/100\n",
      "1200/1200 [==============================] - 1s 505us/step - loss: 1.0000 - accuracy: 0.6980\n",
      "Epoch 24/100\n",
      "1200/1200 [==============================] - 1s 505us/step - loss: 1.0000 - accuracy: 0.6980\n",
      "Epoch 25/100\n",
      "1200/1200 [==============================] - 1s 510us/step - loss: 1.0000 - accuracy: 0.6980\n",
      "Epoch 26/100\n",
      "1200/1200 [==============================] - 1s 504us/step - loss: 1.0000 - accuracy: 0.6980\n",
      "Epoch 27/100\n",
      "1200/1200 [==============================] - 1s 501us/step - loss: 1.0000 - accuracy: 0.6980\n",
      "Epoch 28/100\n",
      "1200/1200 [==============================] - 1s 502us/step - loss: 1.0000 - accuracy: 0.6980\n",
      "Epoch 29/100\n",
      "1200/1200 [==============================] - 1s 509us/step - loss: 1.0000 - accuracy: 0.6980\n",
      "Epoch 30/100\n",
      "1200/1200 [==============================] - 1s 510us/step - loss: 1.0000 - accuracy: 0.6980\n",
      "Epoch 31/100\n",
      "1200/1200 [==============================] - 1s 506us/step - loss: 1.0000 - accuracy: 0.6980\n",
      "Epoch 32/100\n",
      "1200/1200 [==============================] - 1s 506us/step - loss: 1.0000 - accuracy: 0.6980\n",
      "Epoch 33/100\n",
      "1200/1200 [==============================] - 1s 505us/step - loss: 1.0000 - accuracy: 0.6980\n",
      "Epoch 34/100\n",
      "1200/1200 [==============================] - 1s 501us/step - loss: 1.0000 - accuracy: 0.6980\n",
      "Epoch 35/100\n",
      "1200/1200 [==============================] - 1s 502us/step - loss: 1.0000 - accuracy: 0.6980\n",
      "Epoch 36/100\n",
      "1200/1200 [==============================] - 1s 505us/step - loss: 1.0000 - accuracy: 0.6980\n",
      "Epoch 37/100\n",
      "1200/1200 [==============================] - 1s 513us/step - loss: 1.0000 - accuracy: 0.6980\n",
      "Epoch 38/100\n",
      "1200/1200 [==============================] - 1s 515us/step - loss: 1.0000 - accuracy: 0.6980\n",
      "Epoch 39/100\n",
      "1200/1200 [==============================] - 1s 512us/step - loss: 1.0000 - accuracy: 0.6980\n",
      "Epoch 40/100\n",
      "1200/1200 [==============================] - 1s 505us/step - loss: 1.0000 - accuracy: 0.6980\n",
      "Epoch 41/100\n",
      "1200/1200 [==============================] - 1s 511us/step - loss: 1.0000 - accuracy: 0.6980\n",
      "Epoch 42/100\n",
      "1200/1200 [==============================] - 1s 515us/step - loss: 1.0000 - accuracy: 0.6980\n",
      "Epoch 43/100\n",
      "1200/1200 [==============================] - 1s 512us/step - loss: 1.0000 - accuracy: 0.6980\n",
      "Epoch 44/100\n",
      "1200/1200 [==============================] - 1s 501us/step - loss: 1.0000 - accuracy: 0.6980\n",
      "Epoch 45/100\n",
      "1200/1200 [==============================] - 1s 510us/step - loss: 1.0000 - accuracy: 0.6980\n",
      "Epoch 46/100\n",
      "1200/1200 [==============================] - 1s 506us/step - loss: 1.0000 - accuracy: 0.6980\n",
      "Epoch 47/100\n",
      "1200/1200 [==============================] - 1s 504us/step - loss: 1.0000 - accuracy: 0.6980\n",
      "Epoch 48/100\n",
      "1200/1200 [==============================] - 1s 504us/step - loss: 1.0000 - accuracy: 0.6980\n",
      "Epoch 49/100\n",
      "1200/1200 [==============================] - 1s 515us/step - loss: 1.0000 - accuracy: 0.6980\n",
      "Epoch 50/100\n",
      "1200/1200 [==============================] - 1s 508us/step - loss: 1.0000 - accuracy: 0.6980\n",
      "Epoch 51/100\n",
      "1200/1200 [==============================] - 1s 509us/step - loss: 1.0000 - accuracy: 0.6980\n",
      "Epoch 52/100\n",
      "1200/1200 [==============================] - 1s 505us/step - loss: 1.0000 - accuracy: 0.6980\n",
      "Epoch 53/100\n",
      "1200/1200 [==============================] - 1s 503us/step - loss: 1.0000 - accuracy: 0.6980\n",
      "Epoch 54/100\n",
      "1200/1200 [==============================] - 1s 496us/step - loss: 1.0000 - accuracy: 0.6980\n",
      "Epoch 55/100\n",
      "1200/1200 [==============================] - 1s 503us/step - loss: 1.0000 - accuracy: 0.6980\n",
      "Epoch 56/100\n",
      "1200/1200 [==============================] - 1s 500us/step - loss: 1.0000 - accuracy: 0.6980\n",
      "Epoch 57/100\n",
      "1200/1200 [==============================] - 1s 504us/step - loss: 1.0000 - accuracy: 0.6980\n",
      "Epoch 58/100\n",
      "1200/1200 [==============================] - 1s 503us/step - loss: 1.0000 - accuracy: 0.6980\n",
      "Epoch 59/100\n",
      "1200/1200 [==============================] - 1s 506us/step - loss: 1.0000 - accuracy: 0.6980\n",
      "Epoch 60/100\n",
      "1200/1200 [==============================] - 1s 505us/step - loss: 1.0000 - accuracy: 0.6980\n",
      "Epoch 61/100\n",
      "1200/1200 [==============================] - 1s 502us/step - loss: 1.0000 - accuracy: 0.6980\n",
      "Epoch 62/100\n",
      "1200/1200 [==============================] - 1s 506us/step - loss: 1.0000 - accuracy: 0.6980\n",
      "Epoch 63/100\n",
      "1200/1200 [==============================] - 1s 514us/step - loss: 1.0000 - accuracy: 0.6980\n",
      "Epoch 64/100\n",
      "1200/1200 [==============================] - 1s 510us/step - loss: 1.0000 - accuracy: 0.6980\n",
      "Epoch 65/100\n",
      "1200/1200 [==============================] - 1s 506us/step - loss: 1.0000 - accuracy: 0.6980\n",
      "Epoch 66/100\n",
      "1200/1200 [==============================] - 1s 503us/step - loss: 1.0000 - accuracy: 0.6980\n",
      "Epoch 67/100\n",
      "1200/1200 [==============================] - 1s 500us/step - loss: 1.0000 - accuracy: 0.6980\n",
      "Epoch 68/100\n",
      "1200/1200 [==============================] - 1s 517us/step - loss: 1.0000 - accuracy: 0.6980\n",
      "Epoch 69/100\n",
      "1200/1200 [==============================] - 1s 527us/step - loss: 1.0000 - accuracy: 0.6980\n",
      "Epoch 70/100\n",
      "1200/1200 [==============================] - 1s 516us/step - loss: 1.0000 - accuracy: 0.6980\n",
      "Epoch 71/100\n",
      "1200/1200 [==============================] - 1s 518us/step - loss: 1.0000 - accuracy: 0.6980\n",
      "Epoch 72/100\n",
      "1200/1200 [==============================] - 1s 510us/step - loss: 1.0000 - accuracy: 0.6980\n",
      "Epoch 73/100\n",
      "1200/1200 [==============================] - 1s 506us/step - loss: 1.0000 - accuracy: 0.6980\n",
      "Epoch 74/100\n",
      "1200/1200 [==============================] - 1s 505us/step - loss: 1.0000 - accuracy: 0.6980\n",
      "Epoch 75/100\n",
      "1200/1200 [==============================] - 1s 515us/step - loss: 1.0000 - accuracy: 0.6980\n",
      "Epoch 76/100\n",
      "1200/1200 [==============================] - 1s 511us/step - loss: 1.0000 - accuracy: 0.6980\n",
      "Epoch 77/100\n",
      "1200/1200 [==============================] - 1s 519us/step - loss: 1.0000 - accuracy: 0.6980\n",
      "Epoch 78/100\n"
     ]
    },
    {
     "name": "stdout",
     "output_type": "stream",
     "text": [
      "1200/1200 [==============================] - 1s 518us/step - loss: 1.0000 - accuracy: 0.6980\n",
      "Epoch 79/100\n",
      "1200/1200 [==============================] - 1s 516us/step - loss: 1.0000 - accuracy: 0.6980\n",
      "Epoch 80/100\n",
      "1200/1200 [==============================] - 1s 506us/step - loss: 1.0000 - accuracy: 0.6980\n",
      "Epoch 81/100\n",
      "1200/1200 [==============================] - 1s 498us/step - loss: 1.0000 - accuracy: 0.6980\n",
      "Epoch 82/100\n",
      "1200/1200 [==============================] - 1s 503us/step - loss: 1.0000 - accuracy: 0.6980\n",
      "Epoch 83/100\n",
      "1200/1200 [==============================] - 1s 500us/step - loss: 1.0000 - accuracy: 0.6980\n",
      "Epoch 84/100\n",
      "1200/1200 [==============================] - 1s 498us/step - loss: 1.0000 - accuracy: 0.6980\n",
      "Epoch 85/100\n",
      "1200/1200 [==============================] - 1s 508us/step - loss: 1.0000 - accuracy: 0.6980\n",
      "Epoch 86/100\n",
      "1200/1200 [==============================] - 1s 501us/step - loss: 1.0000 - accuracy: 0.6980\n",
      "Epoch 87/100\n",
      "1200/1200 [==============================] - 1s 505us/step - loss: 1.0000 - accuracy: 0.6980\n",
      "Epoch 88/100\n",
      "1200/1200 [==============================] - 1s 503us/step - loss: 1.0000 - accuracy: 0.6980\n",
      "Epoch 89/100\n",
      "1200/1200 [==============================] - 1s 499us/step - loss: 1.0000 - accuracy: 0.6980\n",
      "Epoch 90/100\n",
      "1200/1200 [==============================] - 1s 505us/step - loss: 1.0000 - accuracy: 0.6980\n",
      "Epoch 91/100\n",
      "1200/1200 [==============================] - 1s 509us/step - loss: 1.0000 - accuracy: 0.6980\n",
      "Epoch 92/100\n",
      "1200/1200 [==============================] - 1s 508us/step - loss: 1.0000 - accuracy: 0.6980\n",
      "Epoch 93/100\n",
      "1200/1200 [==============================] - 1s 505us/step - loss: 1.0000 - accuracy: 0.6980\n",
      "Epoch 94/100\n",
      "1200/1200 [==============================] - 1s 505us/step - loss: 1.0000 - accuracy: 0.6980\n",
      "Epoch 95/100\n",
      "1200/1200 [==============================] - 1s 529us/step - loss: 1.0000 - accuracy: 0.6980\n",
      "Epoch 96/100\n",
      "1200/1200 [==============================] - 1s 502us/step - loss: 1.0000 - accuracy: 0.6980\n",
      "Epoch 97/100\n",
      "1200/1200 [==============================] - 1s 501us/step - loss: 1.0000 - accuracy: 0.6980\n",
      "Epoch 98/100\n",
      "1200/1200 [==============================] - 1s 503us/step - loss: 1.0000 - accuracy: 0.6980\n",
      "Epoch 99/100\n",
      "1200/1200 [==============================] - 1s 505us/step - loss: 1.0000 - accuracy: 0.6980\n",
      "Epoch 100/100\n",
      "1200/1200 [==============================] - 1s 505us/step - loss: 1.0000 - accuracy: 0.6980\n",
      "300/300 [==============================] - 0s 347us/step - loss: 1.0000 - accuracy: 0.6894\n",
      "[1.0, 0.6893820762634277]\n",
      "Classification Report: \n",
      "               precision    recall  f1-score   support\n",
      "\n",
      "         0.0       0.69      1.00      0.82      6616\n",
      "         1.0       0.00      0.00      0.00      2815\n",
      "         2.0       0.00      0.00      0.00       166\n",
      "\n",
      "    accuracy                           0.69      9597\n",
      "   macro avg       0.23      0.33      0.27      9597\n",
      "weighted avg       0.48      0.69      0.56      9597\n",
      "\n"
     ]
    },
    {
     "name": "stderr",
     "output_type": "stream",
     "text": [
      "C:\\Users\\mmioi\\anaconda3\\lib\\site-packages\\sklearn\\metrics\\_classification.py:1245: UndefinedMetricWarning: Precision and F-score are ill-defined and being set to 0.0 in labels with no predicted samples. Use `zero_division` parameter to control this behavior.\n",
      "  _warn_prf(average, modifier, msg_start, len(result))\n",
      "C:\\Users\\mmioi\\anaconda3\\lib\\site-packages\\sklearn\\metrics\\_classification.py:1245: UndefinedMetricWarning: Precision and F-score are ill-defined and being set to 0.0 in labels with no predicted samples. Use `zero_division` parameter to control this behavior.\n",
      "  _warn_prf(average, modifier, msg_start, len(result))\n",
      "C:\\Users\\mmioi\\anaconda3\\lib\\site-packages\\sklearn\\metrics\\_classification.py:1245: UndefinedMetricWarning: Precision and F-score are ill-defined and being set to 0.0 in labels with no predicted samples. Use `zero_division` parameter to control this behavior.\n",
      "  _warn_prf(average, modifier, msg_start, len(result))\n"
     ]
    },
    {
     "data": {
      "text/plain": [
       "array([[0.],\n",
       "       [0.],\n",
       "       [0.],\n",
       "       ...,\n",
       "       [0.],\n",
       "       [0.],\n",
       "       [0.]], dtype=float32)"
      ]
     },
     "execution_count": 459,
     "metadata": {},
     "output_type": "execute_result"
    }
   ],
   "source": [
    "ANN1(x_train, Y_train, x_test, Y_test,\"squared_hinge\", -1)"
   ]
  },
  {
   "cell_type": "markdown",
   "id": "d38c04e5",
   "metadata": {},
   "source": [
    "# Balancing the Subsetted Data Set "
   ]
  },
  {
   "cell_type": "code",
   "execution_count": 433,
   "id": "b9b0e3ad",
   "metadata": {},
   "outputs": [
    {
     "name": "stdout",
     "output_type": "stream",
     "text": [
      "Random under-sampling:\n",
      "0.0    13709\n",
      "1.0    13709\n",
      "2.0      866\n",
      "Name: parent_incident_type, dtype: int64\n"
     ]
    }
   ],
   "source": [
    "count_class_0, count_class_1 ,count_class_2= subsets.parent_incident_type.value_counts()\n",
    "df_class_0 = subsets[subsets['parent_incident_type'] == 0]\n",
    "df_class_1 = subsets[subsets['parent_incident_type'] == 1]\n",
    "df_class_2 = subsets[subsets['parent_incident_type'] == 2]\n",
    "# Undersample 0-class and concat the DataFrames of both class\n",
    "df_class_0_under = df_class_0.sample(count_class_1)\n",
    "df_test_under = pd.concat([df_class_0_under, df_class_1,df_class_2], axis=0)\n",
    "\n",
    "print('Random under-sampling:')\n",
    "print(df_test_under.parent_incident_type.value_counts())"
   ]
  },
  {
   "cell_type": "code",
   "execution_count": 437,
   "id": "bd324016",
   "metadata": {},
   "outputs": [],
   "source": [
    "X=df_test_under.drop('parent_incident_type',axis=1).values\n",
    "Y=df_test_under.parent_incident_type.values\n",
    "X_train, X_test, y_train, y_test = train_test_split(X, Y, test_size=0.2, random_state=0)"
   ]
  },
  {
   "cell_type": "code",
   "execution_count": 457,
   "id": "d3aa72ef",
   "metadata": {},
   "outputs": [
    {
     "name": "stdout",
     "output_type": "stream",
     "text": [
      "Epoch 1/100\n",
      "708/708 [==============================] - 0s 503us/step - loss: 22.1158 - accuracy: 0.4843\n",
      "Epoch 2/100\n",
      "708/708 [==============================] - 0s 502us/step - loss: 1.0000 - accuracy: 0.4863\n",
      "Epoch 3/100\n",
      "708/708 [==============================] - 0s 503us/step - loss: 1.0000 - accuracy: 0.4863\n",
      "Epoch 4/100\n",
      "708/708 [==============================] - 0s 500us/step - loss: 1.0000 - accuracy: 0.4863\n",
      "Epoch 5/100\n",
      "708/708 [==============================] - 0s 499us/step - loss: 1.0000 - accuracy: 0.4863\n",
      "Epoch 6/100\n",
      "708/708 [==============================] - 0s 503us/step - loss: 1.0000 - accuracy: 0.4863\n",
      "Epoch 7/100\n",
      "708/708 [==============================] - 0s 503us/step - loss: 1.0000 - accuracy: 0.4863\n",
      "Epoch 8/100\n",
      "708/708 [==============================] - 0s 505us/step - loss: 1.0000 - accuracy: 0.4863\n",
      "Epoch 9/100\n",
      "708/708 [==============================] - 0s 500us/step - loss: 1.0000 - accuracy: 0.4863\n",
      "Epoch 10/100\n",
      "708/708 [==============================] - 0s 500us/step - loss: 1.0000 - accuracy: 0.4863\n",
      "Epoch 11/100\n",
      "708/708 [==============================] - 0s 502us/step - loss: 1.0000 - accuracy: 0.4863\n",
      "Epoch 12/100\n",
      "708/708 [==============================] - 0s 500us/step - loss: 1.0000 - accuracy: 0.4863\n",
      "Epoch 13/100\n",
      "708/708 [==============================] - 0s 500us/step - loss: 1.0000 - accuracy: 0.4863\n",
      "Epoch 14/100\n",
      "708/708 [==============================] - 0s 500us/step - loss: 1.0000 - accuracy: 0.4863\n",
      "Epoch 15/100\n",
      "708/708 [==============================] - 0s 502us/step - loss: 1.0000 - accuracy: 0.4863\n",
      "Epoch 16/100\n",
      "708/708 [==============================] - 0s 508us/step - loss: 1.0000 - accuracy: 0.4863\n",
      "Epoch 17/100\n",
      "708/708 [==============================] - 0s 500us/step - loss: 1.0000 - accuracy: 0.4863\n",
      "Epoch 18/100\n",
      "708/708 [==============================] - 0s 503us/step - loss: 1.0000 - accuracy: 0.4863\n",
      "Epoch 19/100\n",
      "708/708 [==============================] - 0s 498us/step - loss: 1.0000 - accuracy: 0.4863\n",
      "Epoch 20/100\n",
      "708/708 [==============================] - 0s 503us/step - loss: 1.0000 - accuracy: 0.4863\n",
      "Epoch 21/100\n",
      "708/708 [==============================] - 0s 509us/step - loss: 1.0000 - accuracy: 0.4863\n",
      "Epoch 22/100\n",
      "708/708 [==============================] - 0s 499us/step - loss: 1.0000 - accuracy: 0.4863\n",
      "Epoch 23/100\n",
      "708/708 [==============================] - 0s 502us/step - loss: 1.0000 - accuracy: 0.4863\n",
      "Epoch 24/100\n",
      "708/708 [==============================] - 0s 506us/step - loss: 1.0000 - accuracy: 0.4863\n",
      "Epoch 25/100\n",
      "708/708 [==============================] - 0s 503us/step - loss: 1.0000 - accuracy: 0.4863\n",
      "Epoch 26/100\n",
      "708/708 [==============================] - 0s 503us/step - loss: 1.0000 - accuracy: 0.4863\n",
      "Epoch 27/100\n",
      "708/708 [==============================] - 0s 530us/step - loss: 1.0000 - accuracy: 0.4863\n",
      "Epoch 28/100\n",
      "708/708 [==============================] - 0s 529us/step - loss: 1.0000 - accuracy: 0.4863\n",
      "Epoch 29/100\n",
      "708/708 [==============================] - 0s 508us/step - loss: 1.0000 - accuracy: 0.4863\n",
      "Epoch 30/100\n",
      "708/708 [==============================] - 0s 508us/step - loss: 1.0000 - accuracy: 0.4863\n",
      "Epoch 31/100\n",
      "708/708 [==============================] - 0s 500us/step - loss: 1.0000 - accuracy: 0.4863\n",
      "Epoch 32/100\n",
      "708/708 [==============================] - 0s 503us/step - loss: 1.0000 - accuracy: 0.4863\n",
      "Epoch 33/100\n",
      "708/708 [==============================] - 0s 506us/step - loss: 1.0000 - accuracy: 0.4863\n",
      "Epoch 34/100\n",
      "708/708 [==============================] - 0s 499us/step - loss: 1.0000 - accuracy: 0.4863\n",
      "Epoch 35/100\n",
      "708/708 [==============================] - 0s 503us/step - loss: 1.0000 - accuracy: 0.4863\n",
      "Epoch 36/100\n",
      "708/708 [==============================] - 0s 499us/step - loss: 1.0000 - accuracy: 0.4863\n",
      "Epoch 37/100\n",
      "708/708 [==============================] - 0s 502us/step - loss: 1.0000 - accuracy: 0.4863\n",
      "Epoch 38/100\n",
      "708/708 [==============================] - 0s 503us/step - loss: 1.0000 - accuracy: 0.4863\n",
      "Epoch 39/100\n",
      "708/708 [==============================] - 0s 499us/step - loss: 1.0000 - accuracy: 0.4863\n",
      "Epoch 40/100\n",
      "708/708 [==============================] - 0s 506us/step - loss: 1.0000 - accuracy: 0.4863\n",
      "Epoch 41/100\n",
      "708/708 [==============================] - 0s 520us/step - loss: 1.0000 - accuracy: 0.4863\n",
      "Epoch 42/100\n",
      "708/708 [==============================] - 0s 503us/step - loss: 1.0000 - accuracy: 0.4863\n",
      "Epoch 43/100\n",
      "708/708 [==============================] - 0s 508us/step - loss: 1.0000 - accuracy: 0.4863\n",
      "Epoch 44/100\n",
      "708/708 [==============================] - 0s 499us/step - loss: 1.0000 - accuracy: 0.4863\n",
      "Epoch 45/100\n",
      "708/708 [==============================] - 0s 499us/step - loss: 1.0000 - accuracy: 0.4863\n",
      "Epoch 46/100\n",
      "708/708 [==============================] - 0s 510us/step - loss: 1.0000 - accuracy: 0.4863\n",
      "Epoch 47/100\n",
      "708/708 [==============================] - 0s 500us/step - loss: 1.0000 - accuracy: 0.4863\n",
      "Epoch 48/100\n",
      "708/708 [==============================] - 0s 502us/step - loss: 1.0000 - accuracy: 0.4863\n",
      "Epoch 49/100\n",
      "708/708 [==============================] - 0s 508us/step - loss: 1.0000 - accuracy: 0.4863\n",
      "Epoch 50/100\n",
      "708/708 [==============================] - 0s 503us/step - loss: 1.0000 - accuracy: 0.4863\n",
      "Epoch 51/100\n",
      "708/708 [==============================] - 0s 506us/step - loss: 1.0000 - accuracy: 0.4863\n",
      "Epoch 52/100\n",
      "708/708 [==============================] - 0s 509us/step - loss: 1.0000 - accuracy: 0.4863\n",
      "Epoch 53/100\n",
      "708/708 [==============================] - 0s 503us/step - loss: 1.0000 - accuracy: 0.4863\n",
      "Epoch 54/100\n",
      "708/708 [==============================] - 0s 505us/step - loss: 1.0000 - accuracy: 0.4863\n",
      "Epoch 55/100\n",
      "708/708 [==============================] - 0s 517us/step - loss: 1.0000 - accuracy: 0.4863\n",
      "Epoch 56/100\n",
      "708/708 [==============================] - 0s 512us/step - loss: 1.0000 - accuracy: 0.4863\n",
      "Epoch 57/100\n",
      "708/708 [==============================] - 0s 509us/step - loss: 1.0000 - accuracy: 0.4863\n",
      "Epoch 58/100\n",
      "708/708 [==============================] - 0s 510us/step - loss: 1.0000 - accuracy: 0.4863\n",
      "Epoch 59/100\n",
      "708/708 [==============================] - 0s 506us/step - loss: 1.0000 - accuracy: 0.4863\n",
      "Epoch 60/100\n",
      "708/708 [==============================] - 0s 509us/step - loss: 1.0000 - accuracy: 0.4863\n",
      "Epoch 61/100\n",
      "708/708 [==============================] - 0s 509us/step - loss: 1.0000 - accuracy: 0.4863\n",
      "Epoch 62/100\n",
      "708/708 [==============================] - 0s 500us/step - loss: 1.0000 - accuracy: 0.4863\n",
      "Epoch 63/100\n",
      "708/708 [==============================] - 0s 508us/step - loss: 1.0000 - accuracy: 0.4863\n",
      "Epoch 64/100\n",
      "708/708 [==============================] - 0s 505us/step - loss: 1.0000 - accuracy: 0.4863\n",
      "Epoch 65/100\n",
      "708/708 [==============================] - 0s 503us/step - loss: 1.0000 - accuracy: 0.4863\n",
      "Epoch 66/100\n",
      "708/708 [==============================] - 0s 513us/step - loss: 1.0000 - accuracy: 0.4863\n",
      "Epoch 67/100\n",
      "708/708 [==============================] - 0s 502us/step - loss: 1.0000 - accuracy: 0.4863\n",
      "Epoch 68/100\n",
      "708/708 [==============================] - 0s 502us/step - loss: 1.0000 - accuracy: 0.4863\n",
      "Epoch 69/100\n",
      "708/708 [==============================] - 0s 506us/step - loss: 1.0000 - accuracy: 0.4863\n",
      "Epoch 70/100\n",
      "708/708 [==============================] - 0s 502us/step - loss: 1.0000 - accuracy: 0.4863\n",
      "Epoch 71/100\n",
      "708/708 [==============================] - 0s 517us/step - loss: 1.0000 - accuracy: 0.4863\n",
      "Epoch 72/100\n",
      "708/708 [==============================] - 0s 526us/step - loss: 1.0000 - accuracy: 0.4863\n",
      "Epoch 73/100\n",
      "708/708 [==============================] - 0s 515us/step - loss: 1.0000 - accuracy: 0.4863\n",
      "Epoch 74/100\n",
      "708/708 [==============================] - 0s 513us/step - loss: 1.0000 - accuracy: 0.4863\n",
      "Epoch 75/100\n",
      "708/708 [==============================] - 0s 510us/step - loss: 1.0000 - accuracy: 0.4863\n",
      "Epoch 76/100\n",
      "708/708 [==============================] - 0s 503us/step - loss: 1.0000 - accuracy: 0.4863\n",
      "Epoch 77/100\n",
      "708/708 [==============================] - 0s 505us/step - loss: 1.0000 - accuracy: 0.4863\n",
      "Epoch 78/100\n",
      "708/708 [==============================] - 0s 512us/step - loss: 1.0000 - accuracy: 0.4863\n",
      "Epoch 79/100\n"
     ]
    },
    {
     "name": "stdout",
     "output_type": "stream",
     "text": [
      "708/708 [==============================] - 0s 522us/step - loss: 1.0000 - accuracy: 0.4863\n",
      "Epoch 80/100\n",
      "708/708 [==============================] - 0s 505us/step - loss: 1.0000 - accuracy: 0.4863\n",
      "Epoch 81/100\n",
      "708/708 [==============================] - 0s 510us/step - loss: 1.0000 - accuracy: 0.4863\n",
      "Epoch 82/100\n",
      "708/708 [==============================] - 0s 516us/step - loss: 1.0000 - accuracy: 0.4863\n",
      "Epoch 83/100\n",
      "708/708 [==============================] - 0s 508us/step - loss: 1.0000 - accuracy: 0.4863\n",
      "Epoch 84/100\n",
      "708/708 [==============================] - 0s 515us/step - loss: 1.0000 - accuracy: 0.4863\n",
      "Epoch 85/100\n",
      "708/708 [==============================] - 0s 506us/step - loss: 1.0000 - accuracy: 0.4863\n",
      "Epoch 86/100\n",
      "708/708 [==============================] - 0s 522us/step - loss: 1.0000 - accuracy: 0.4863\n",
      "Epoch 87/100\n",
      "708/708 [==============================] - 0s 509us/step - loss: 1.0000 - accuracy: 0.4863\n",
      "Epoch 88/100\n",
      "708/708 [==============================] - 0s 510us/step - loss: 1.0000 - accuracy: 0.4863\n",
      "Epoch 89/100\n",
      "708/708 [==============================] - 0s 510us/step - loss: 1.0000 - accuracy: 0.4863\n",
      "Epoch 90/100\n",
      "708/708 [==============================] - 0s 516us/step - loss: 1.0000 - accuracy: 0.4863\n",
      "Epoch 91/100\n",
      "708/708 [==============================] - 0s 516us/step - loss: 1.0000 - accuracy: 0.4863\n",
      "Epoch 92/100\n",
      "708/708 [==============================] - 0s 512us/step - loss: 1.0000 - accuracy: 0.4863\n",
      "Epoch 93/100\n",
      "708/708 [==============================] - 0s 512us/step - loss: 1.0000 - accuracy: 0.4863\n",
      "Epoch 94/100\n",
      "708/708 [==============================] - 0s 506us/step - loss: 1.0000 - accuracy: 0.4863\n",
      "Epoch 95/100\n",
      "708/708 [==============================] - 0s 505us/step - loss: 1.0000 - accuracy: 0.4863\n",
      "Epoch 96/100\n",
      "708/708 [==============================] - 0s 505us/step - loss: 1.0000 - accuracy: 0.4863\n",
      "Epoch 97/100\n",
      "708/708 [==============================] - 0s 500us/step - loss: 1.0000 - accuracy: 0.4863\n",
      "Epoch 98/100\n",
      "708/708 [==============================] - 0s 509us/step - loss: 1.0000 - accuracy: 0.4863\n",
      "Epoch 99/100\n",
      "708/708 [==============================] - 0s 508us/step - loss: 1.0000 - accuracy: 0.4863\n",
      "Epoch 100/100\n",
      "708/708 [==============================] - 0s 509us/step - loss: 1.0000 - accuracy: 0.4863\n",
      "177/177 [==============================] - 0s 345us/step - loss: 1.0000 - accuracy: 0.4783\n",
      "[1.0, 0.47834542393684387]\n",
      "Classification Report: \n",
      "               precision    recall  f1-score   support\n",
      "\n",
      "         0.0       0.48      1.00      0.65      2706\n",
      "         1.0       0.00      0.00      0.00      2774\n",
      "         2.0       0.00      0.00      0.00       177\n",
      "\n",
      "    accuracy                           0.48      5657\n",
      "   macro avg       0.16      0.33      0.22      5657\n",
      "weighted avg       0.23      0.48      0.31      5657\n",
      "\n"
     ]
    },
    {
     "name": "stderr",
     "output_type": "stream",
     "text": [
      "C:\\Users\\mmioi\\anaconda3\\lib\\site-packages\\sklearn\\metrics\\_classification.py:1245: UndefinedMetricWarning: Precision and F-score are ill-defined and being set to 0.0 in labels with no predicted samples. Use `zero_division` parameter to control this behavior.\n",
      "  _warn_prf(average, modifier, msg_start, len(result))\n",
      "C:\\Users\\mmioi\\anaconda3\\lib\\site-packages\\sklearn\\metrics\\_classification.py:1245: UndefinedMetricWarning: Precision and F-score are ill-defined and being set to 0.0 in labels with no predicted samples. Use `zero_division` parameter to control this behavior.\n",
      "  _warn_prf(average, modifier, msg_start, len(result))\n",
      "C:\\Users\\mmioi\\anaconda3\\lib\\site-packages\\sklearn\\metrics\\_classification.py:1245: UndefinedMetricWarning: Precision and F-score are ill-defined and being set to 0.0 in labels with no predicted samples. Use `zero_division` parameter to control this behavior.\n",
      "  _warn_prf(average, modifier, msg_start, len(result))\n"
     ]
    },
    {
     "data": {
      "text/plain": [
       "array([[0.],\n",
       "       [0.],\n",
       "       [0.],\n",
       "       ...,\n",
       "       [0.],\n",
       "       [0.],\n",
       "       [0.]], dtype=float32)"
      ]
     },
     "execution_count": 457,
     "metadata": {},
     "output_type": "execute_result"
    }
   ],
   "source": [
    "ANN1(X_train, y_train, X_test, y_test,\"squared_hinge\", -1)"
   ]
  },
  {
   "cell_type": "code",
   "execution_count": 460,
   "id": "0dfb16c5",
   "metadata": {},
   "outputs": [
    {
     "name": "stdout",
     "output_type": "stream",
     "text": [
      "Learning rate:  0.05\n",
      "Accuracy score (training): 0.642\n",
      "Accuracy score (validation): 0.643\n",
      "\n",
      "Learning rate:  0.1\n",
      "Accuracy score (training): 0.650\n",
      "Accuracy score (validation): 0.650\n",
      "\n",
      "Learning rate:  0.25\n",
      "Accuracy score (training): 0.660\n",
      "Accuracy score (validation): 0.653\n",
      "\n",
      "Learning rate:  0.5\n",
      "Accuracy score (training): 0.670\n",
      "Accuracy score (validation): 0.655\n",
      "\n",
      "Learning rate:  0.75\n",
      "Accuracy score (training): 0.673\n",
      "Accuracy score (validation): 0.654\n",
      "\n",
      "Learning rate:  1\n",
      "Accuracy score (training): 0.679\n",
      "Accuracy score (validation): 0.641\n",
      "\n"
     ]
    }
   ],
   "source": [
    "learning_rates = [0.05, 0.1, 0.25, 0.5, 0.75, 1]\n",
    "for learning_rate in learning_rates:\n",
    "    gb = GradientBoostingClassifier(n_estimators=200, learning_rate = learning_rate, max_features=5, max_depth = 2, random_state =2)\n",
    "    gb.fit(X_train, y_train)\n",
    "    print(\"Learning rate: \", learning_rate)\n",
    "    print(\"Accuracy score (training): {0:.3f}\".format(gb.score(X_train, y_train)))\n",
    "    print(\"Accuracy score (validation): {0:.3f}\".format(gb.score(X_test, y_test)))\n",
    "    print()"
   ]
  },
  {
   "cell_type": "code",
   "execution_count": 461,
   "id": "91de085d",
   "metadata": {},
   "outputs": [],
   "source": [
    "from xgboost import XGBClassifier as xg"
   ]
  },
  {
   "cell_type": "code",
   "execution_count": 462,
   "id": "aadd63d6",
   "metadata": {},
   "outputs": [
    {
     "name": "stderr",
     "output_type": "stream",
     "text": [
      "C:\\Users\\mmioi\\anaconda3\\lib\\site-packages\\xgboost\\sklearn.py:1146: UserWarning: The use of label encoder in XGBClassifier is deprecated and will be removed in a future release. To remove this warning, do the following: 1) Pass option use_label_encoder=False when constructing XGBClassifier object; and 2) Encode your labels (y) as integers starting with 0, i.e. 0, 1, 2, ..., [num_class - 1].\n",
      "  warnings.warn(label_encoder_deprecation_msg, UserWarning)\n"
     ]
    },
    {
     "name": "stdout",
     "output_type": "stream",
     "text": [
      "[10:11:50] WARNING: D:\\bld\\xgboost-split_1631904903843\\work\\src\\learner.cc:573: \n",
      "Parameters: { \"max_features\" } might not be used.\n",
      "\n",
      "  This may not be accurate due to some parameters are only used in language bindings but\n",
      "  passed down to XGBoost core.  Or some parameters are not used but slip through this\n",
      "  verification. Please open an issue if you find above cases.\n",
      "\n",
      "\n",
      "[10:11:50] WARNING: D:\\bld\\xgboost-split_1631904903843\\work\\src\\learner.cc:1095: Starting in XGBoost 1.3.0, the default evaluation metric used with the objective 'multi:softprob' was changed from 'merror' to 'mlogloss'. Explicitly set eval_metric if you'd like to restore the old behavior.\n",
      "Learning rate:  0.05\n",
      "Accuracy score (training): 0.651\n",
      "Accuracy score (validation): 0.653\n",
      "\n",
      "[10:11:52] WARNING: D:\\bld\\xgboost-split_1631904903843\\work\\src\\learner.cc:573: \n",
      "Parameters: { \"max_features\" } might not be used.\n",
      "\n",
      "  This may not be accurate due to some parameters are only used in language bindings but\n",
      "  passed down to XGBoost core.  Or some parameters are not used but slip through this\n",
      "  verification. Please open an issue if you find above cases.\n",
      "\n",
      "\n",
      "[10:11:52] WARNING: D:\\bld\\xgboost-split_1631904903843\\work\\src\\learner.cc:1095: Starting in XGBoost 1.3.0, the default evaluation metric used with the objective 'multi:softprob' was changed from 'merror' to 'mlogloss'. Explicitly set eval_metric if you'd like to restore the old behavior.\n"
     ]
    },
    {
     "name": "stderr",
     "output_type": "stream",
     "text": [
      "C:\\Users\\mmioi\\anaconda3\\lib\\site-packages\\xgboost\\sklearn.py:1146: UserWarning: The use of label encoder in XGBClassifier is deprecated and will be removed in a future release. To remove this warning, do the following: 1) Pass option use_label_encoder=False when constructing XGBClassifier object; and 2) Encode your labels (y) as integers starting with 0, i.e. 0, 1, 2, ..., [num_class - 1].\n",
      "  warnings.warn(label_encoder_deprecation_msg, UserWarning)\n"
     ]
    },
    {
     "name": "stdout",
     "output_type": "stream",
     "text": [
      "Learning rate:  0.1\n",
      "Accuracy score (training): 0.657\n",
      "Accuracy score (validation): 0.657\n",
      "\n",
      "[10:11:53] WARNING: D:\\bld\\xgboost-split_1631904903843\\work\\src\\learner.cc:573: \n",
      "Parameters: { \"max_features\" } might not be used.\n",
      "\n",
      "  This may not be accurate due to some parameters are only used in language bindings but\n",
      "  passed down to XGBoost core.  Or some parameters are not used but slip through this\n",
      "  verification. Please open an issue if you find above cases.\n",
      "\n",
      "\n",
      "[10:11:53] WARNING: D:\\bld\\xgboost-split_1631904903843\\work\\src\\learner.cc:1095: Starting in XGBoost 1.3.0, the default evaluation metric used with the objective 'multi:softprob' was changed from 'merror' to 'mlogloss'. Explicitly set eval_metric if you'd like to restore the old behavior.\n"
     ]
    },
    {
     "name": "stderr",
     "output_type": "stream",
     "text": [
      "C:\\Users\\mmioi\\anaconda3\\lib\\site-packages\\xgboost\\sklearn.py:1146: UserWarning: The use of label encoder in XGBClassifier is deprecated and will be removed in a future release. To remove this warning, do the following: 1) Pass option use_label_encoder=False when constructing XGBClassifier object; and 2) Encode your labels (y) as integers starting with 0, i.e. 0, 1, 2, ..., [num_class - 1].\n",
      "  warnings.warn(label_encoder_deprecation_msg, UserWarning)\n"
     ]
    },
    {
     "name": "stdout",
     "output_type": "stream",
     "text": [
      "Learning rate:  0.25\n",
      "Accuracy score (training): 0.671\n",
      "Accuracy score (validation): 0.657\n",
      "\n",
      "[10:11:55] WARNING: D:\\bld\\xgboost-split_1631904903843\\work\\src\\learner.cc:573: \n",
      "Parameters: { \"max_features\" } might not be used.\n",
      "\n",
      "  This may not be accurate due to some parameters are only used in language bindings but\n",
      "  passed down to XGBoost core.  Or some parameters are not used but slip through this\n",
      "  verification. Please open an issue if you find above cases.\n",
      "\n",
      "\n",
      "[10:11:55] WARNING: D:\\bld\\xgboost-split_1631904903843\\work\\src\\learner.cc:1095: Starting in XGBoost 1.3.0, the default evaluation metric used with the objective 'multi:softprob' was changed from 'merror' to 'mlogloss'. Explicitly set eval_metric if you'd like to restore the old behavior.\n"
     ]
    },
    {
     "name": "stderr",
     "output_type": "stream",
     "text": [
      "C:\\Users\\mmioi\\anaconda3\\lib\\site-packages\\xgboost\\sklearn.py:1146: UserWarning: The use of label encoder in XGBClassifier is deprecated and will be removed in a future release. To remove this warning, do the following: 1) Pass option use_label_encoder=False when constructing XGBClassifier object; and 2) Encode your labels (y) as integers starting with 0, i.e. 0, 1, 2, ..., [num_class - 1].\n",
      "  warnings.warn(label_encoder_deprecation_msg, UserWarning)\n"
     ]
    },
    {
     "name": "stdout",
     "output_type": "stream",
     "text": [
      "Learning rate:  0.5\n",
      "Accuracy score (training): 0.685\n",
      "Accuracy score (validation): 0.660\n",
      "\n",
      "[10:11:56] WARNING: D:\\bld\\xgboost-split_1631904903843\\work\\src\\learner.cc:573: \n",
      "Parameters: { \"max_features\" } might not be used.\n",
      "\n",
      "  This may not be accurate due to some parameters are only used in language bindings but\n",
      "  passed down to XGBoost core.  Or some parameters are not used but slip through this\n",
      "  verification. Please open an issue if you find above cases.\n",
      "\n",
      "\n",
      "[10:11:56] WARNING: D:\\bld\\xgboost-split_1631904903843\\work\\src\\learner.cc:1095: Starting in XGBoost 1.3.0, the default evaluation metric used with the objective 'multi:softprob' was changed from 'merror' to 'mlogloss'. Explicitly set eval_metric if you'd like to restore the old behavior.\n"
     ]
    },
    {
     "name": "stderr",
     "output_type": "stream",
     "text": [
      "C:\\Users\\mmioi\\anaconda3\\lib\\site-packages\\xgboost\\sklearn.py:1146: UserWarning: The use of label encoder in XGBClassifier is deprecated and will be removed in a future release. To remove this warning, do the following: 1) Pass option use_label_encoder=False when constructing XGBClassifier object; and 2) Encode your labels (y) as integers starting with 0, i.e. 0, 1, 2, ..., [num_class - 1].\n",
      "  warnings.warn(label_encoder_deprecation_msg, UserWarning)\n"
     ]
    },
    {
     "name": "stdout",
     "output_type": "stream",
     "text": [
      "Learning rate:  0.75\n",
      "Accuracy score (training): 0.692\n",
      "Accuracy score (validation): 0.657\n",
      "\n",
      "[10:11:57] WARNING: D:\\bld\\xgboost-split_1631904903843\\work\\src\\learner.cc:573: \n",
      "Parameters: { \"max_features\" } might not be used.\n",
      "\n",
      "  This may not be accurate due to some parameters are only used in language bindings but\n",
      "  passed down to XGBoost core.  Or some parameters are not used but slip through this\n",
      "  verification. Please open an issue if you find above cases.\n",
      "\n",
      "\n",
      "[10:11:57] WARNING: D:\\bld\\xgboost-split_1631904903843\\work\\src\\learner.cc:1095: Starting in XGBoost 1.3.0, the default evaluation metric used with the objective 'multi:softprob' was changed from 'merror' to 'mlogloss'. Explicitly set eval_metric if you'd like to restore the old behavior.\n"
     ]
    },
    {
     "name": "stderr",
     "output_type": "stream",
     "text": [
      "C:\\Users\\mmioi\\anaconda3\\lib\\site-packages\\xgboost\\sklearn.py:1146: UserWarning: The use of label encoder in XGBClassifier is deprecated and will be removed in a future release. To remove this warning, do the following: 1) Pass option use_label_encoder=False when constructing XGBClassifier object; and 2) Encode your labels (y) as integers starting with 0, i.e. 0, 1, 2, ..., [num_class - 1].\n",
      "  warnings.warn(label_encoder_deprecation_msg, UserWarning)\n"
     ]
    },
    {
     "name": "stdout",
     "output_type": "stream",
     "text": [
      "Learning rate:  1\n",
      "Accuracy score (training): 0.699\n",
      "Accuracy score (validation): 0.653\n",
      "\n"
     ]
    }
   ],
   "source": [
    "learning_rates = [0.05, 0.1, 0.25, 0.5, 0.75, 1]\n",
    "for learning_rate in learning_rates:\n",
    "    gb = xg(n_estimators=200, learning_rate = learning_rate, max_features=5, max_depth = 2, random_state =2)\n",
    "    gb.fit(X_train, y_train)\n",
    "    print(\"Learning rate: \", learning_rate)\n",
    "    print(\"Accuracy score (training): {0:.3f}\".format(gb.score(X_train, y_train)))\n",
    "    print(\"Accuracy score (validation): {0:.3f}\".format(gb.score(X_test, y_test)))\n",
    "    print()"
   ]
  },
  {
   "cell_type": "code",
   "execution_count": 478,
   "id": "9109b5b8",
   "metadata": {},
   "outputs": [
    {
     "name": "stderr",
     "output_type": "stream",
     "text": [
      "C:\\Users\\mmioi\\anaconda3\\lib\\site-packages\\xgboost\\core.py:430: FutureWarning: Pass `objective` as keyword args.  Passing these as positional arguments will be considered as error in future releases.\n",
      "  warnings.warn(\n"
     ]
    },
    {
     "name": "stdout",
     "output_type": "stream",
     "text": [
      "[10:53:13] WARNING: D:\\bld\\xgboost-split_1631904903843\\work\\src\\learner.cc:573: \n",
      "Parameters: { \"eval\", \"max_features\", \"num_round\" } might not be used.\n",
      "\n",
      "  This may not be accurate due to some parameters are only used in language bindings but\n",
      "  passed down to XGBoost core.  Or some parameters are not used but slip through this\n",
      "  verification. Please open an issue if you find above cases.\n",
      "\n",
      "\n",
      "[10:53:13] WARNING: D:\\bld\\xgboost-split_1631904903843\\work\\src\\learner.cc:1095: Starting in XGBoost 1.3.0, the default evaluation metric used with the objective 'multi:softprob' was changed from 'merror' to 'mlogloss'. Explicitly set eval_metric if you'd like to restore the old behavior.\n",
      "Learning rate:  0.05\n",
      "Accuracy score (training): 0.715\n",
      "Accuracy score (validation): 0.665\n",
      "\n",
      "[10:53:17] WARNING: D:\\bld\\xgboost-split_1631904903843\\work\\src\\learner.cc:573: \n",
      "Parameters: { \"eval\", \"max_features\", \"num_round\" } might not be used.\n",
      "\n",
      "  This may not be accurate due to some parameters are only used in language bindings but\n",
      "  passed down to XGBoost core.  Or some parameters are not used but slip through this\n",
      "  verification. Please open an issue if you find above cases.\n",
      "\n",
      "\n",
      "[10:53:17] WARNING: D:\\bld\\xgboost-split_1631904903843\\work\\src\\learner.cc:1095: Starting in XGBoost 1.3.0, the default evaluation metric used with the objective 'multi:softprob' was changed from 'merror' to 'mlogloss'. Explicitly set eval_metric if you'd like to restore the old behavior.\n"
     ]
    },
    {
     "name": "stderr",
     "output_type": "stream",
     "text": [
      "C:\\Users\\mmioi\\anaconda3\\lib\\site-packages\\xgboost\\core.py:430: FutureWarning: Pass `objective` as keyword args.  Passing these as positional arguments will be considered as error in future releases.\n",
      "  warnings.warn(\n"
     ]
    },
    {
     "name": "stdout",
     "output_type": "stream",
     "text": [
      "Learning rate:  0.1\n",
      "Accuracy score (training): 0.755\n",
      "Accuracy score (validation): 0.661\n",
      "\n",
      "[10:53:20] WARNING: D:\\bld\\xgboost-split_1631904903843\\work\\src\\learner.cc:573: \n",
      "Parameters: { \"eval\", \"max_features\", \"num_round\" } might not be used.\n",
      "\n",
      "  This may not be accurate due to some parameters are only used in language bindings but\n",
      "  passed down to XGBoost core.  Or some parameters are not used but slip through this\n",
      "  verification. Please open an issue if you find above cases.\n",
      "\n",
      "\n",
      "[10:53:20] WARNING: D:\\bld\\xgboost-split_1631904903843\\work\\src\\learner.cc:1095: Starting in XGBoost 1.3.0, the default evaluation metric used with the objective 'multi:softprob' was changed from 'merror' to 'mlogloss'. Explicitly set eval_metric if you'd like to restore the old behavior.\n"
     ]
    },
    {
     "name": "stderr",
     "output_type": "stream",
     "text": [
      "C:\\Users\\mmioi\\anaconda3\\lib\\site-packages\\xgboost\\core.py:430: FutureWarning: Pass `objective` as keyword args.  Passing these as positional arguments will be considered as error in future releases.\n",
      "  warnings.warn(\n"
     ]
    },
    {
     "name": "stdout",
     "output_type": "stream",
     "text": [
      "Learning rate:  0.25\n",
      "Accuracy score (training): 0.852\n",
      "Accuracy score (validation): 0.648\n",
      "\n",
      "[10:53:24] WARNING: D:\\bld\\xgboost-split_1631904903843\\work\\src\\learner.cc:573: \n",
      "Parameters: { \"eval\", \"max_features\", \"num_round\" } might not be used.\n",
      "\n",
      "  This may not be accurate due to some parameters are only used in language bindings but\n",
      "  passed down to XGBoost core.  Or some parameters are not used but slip through this\n",
      "  verification. Please open an issue if you find above cases.\n",
      "\n",
      "\n",
      "[10:53:24] WARNING: D:\\bld\\xgboost-split_1631904903843\\work\\src\\learner.cc:1095: Starting in XGBoost 1.3.0, the default evaluation metric used with the objective 'multi:softprob' was changed from 'merror' to 'mlogloss'. Explicitly set eval_metric if you'd like to restore the old behavior.\n"
     ]
    },
    {
     "name": "stderr",
     "output_type": "stream",
     "text": [
      "C:\\Users\\mmioi\\anaconda3\\lib\\site-packages\\xgboost\\core.py:430: FutureWarning: Pass `objective` as keyword args.  Passing these as positional arguments will be considered as error in future releases.\n",
      "  warnings.warn(\n"
     ]
    },
    {
     "name": "stdout",
     "output_type": "stream",
     "text": [
      "Learning rate:  0.5\n",
      "Accuracy score (training): 0.935\n",
      "Accuracy score (validation): 0.635\n",
      "\n",
      "[10:53:28] WARNING: D:\\bld\\xgboost-split_1631904903843\\work\\src\\learner.cc:573: \n",
      "Parameters: { \"eval\", \"max_features\", \"num_round\" } might not be used.\n",
      "\n",
      "  This may not be accurate due to some parameters are only used in language bindings but\n",
      "  passed down to XGBoost core.  Or some parameters are not used but slip through this\n",
      "  verification. Please open an issue if you find above cases.\n",
      "\n",
      "\n",
      "[10:53:28] WARNING: D:\\bld\\xgboost-split_1631904903843\\work\\src\\learner.cc:1095: Starting in XGBoost 1.3.0, the default evaluation metric used with the objective 'multi:softprob' was changed from 'merror' to 'mlogloss'. Explicitly set eval_metric if you'd like to restore the old behavior.\n"
     ]
    },
    {
     "name": "stderr",
     "output_type": "stream",
     "text": [
      "C:\\Users\\mmioi\\anaconda3\\lib\\site-packages\\xgboost\\core.py:430: FutureWarning: Pass `objective` as keyword args.  Passing these as positional arguments will be considered as error in future releases.\n",
      "  warnings.warn(\n"
     ]
    },
    {
     "name": "stdout",
     "output_type": "stream",
     "text": [
      "Learning rate:  0.75\n",
      "Accuracy score (training): 0.973\n",
      "Accuracy score (validation): 0.628\n",
      "\n",
      "[10:53:32] WARNING: D:\\bld\\xgboost-split_1631904903843\\work\\src\\learner.cc:573: \n",
      "Parameters: { \"eval\", \"max_features\", \"num_round\" } might not be used.\n",
      "\n",
      "  This may not be accurate due to some parameters are only used in language bindings but\n",
      "  passed down to XGBoost core.  Or some parameters are not used but slip through this\n",
      "  verification. Please open an issue if you find above cases.\n",
      "\n",
      "\n",
      "[10:53:32] WARNING: D:\\bld\\xgboost-split_1631904903843\\work\\src\\learner.cc:1095: Starting in XGBoost 1.3.0, the default evaluation metric used with the objective 'multi:softprob' was changed from 'merror' to 'mlogloss'. Explicitly set eval_metric if you'd like to restore the old behavior.\n"
     ]
    },
    {
     "name": "stderr",
     "output_type": "stream",
     "text": [
      "C:\\Users\\mmioi\\anaconda3\\lib\\site-packages\\xgboost\\core.py:430: FutureWarning: Pass `objective` as keyword args.  Passing these as positional arguments will be considered as error in future releases.\n",
      "  warnings.warn(\n"
     ]
    },
    {
     "name": "stdout",
     "output_type": "stream",
     "text": [
      "Learning rate:  1\n",
      "Accuracy score (training): 0.988\n",
      "Accuracy score (validation): 0.616\n",
      "\n"
     ]
    }
   ],
   "source": [
    "param = {'max_depth': 2, 'eta': 1, 'objective': 'binary:logistic'}\n",
    "num_round = 2\n",
    "learning_rates = [0.05, 0.1, 0.25, 0.5, 0.75, 1]\n",
    "for learning_rate in learning_rates:\n",
    "    gb = xg(param,num_round=num_round, n_estimators=200, learning_rate = learning_rate, max_features=5, random_state =2,eval='auc', use_label_encoder=False)\n",
    "    gb.fit(X_train, y_train)\n",
    "    print(\"Learning rate: \", learning_rate)\n",
    "    print(\"Accuracy score (training): {0:.3f}\".format(gb.score(X_train, y_train)))\n",
    "    print(\"Accuracy score (validation): {0:.3f}\".format(gb.score(X_test, y_test)))\n",
    "    print()"
   ]
  },
  {
   "cell_type": "code",
   "execution_count": 479,
   "id": "765a11ed",
   "metadata": {},
   "outputs": [
    {
     "name": "stderr",
     "output_type": "stream",
     "text": [
      "C:\\Users\\mmioi\\anaconda3\\lib\\site-packages\\xgboost\\core.py:430: FutureWarning: Pass `objective` as keyword args.  Passing these as positional arguments will be considered as error in future releases.\n",
      "  warnings.warn(\n"
     ]
    },
    {
     "name": "stdout",
     "output_type": "stream",
     "text": [
      "[10:54:00] WARNING: D:\\bld\\xgboost-split_1631904903843\\work\\src\\learner.cc:573: \n",
      "Parameters: { \"max_features\", \"num_round\" } might not be used.\n",
      "\n",
      "  This may not be accurate due to some parameters are only used in language bindings but\n",
      "  passed down to XGBoost core.  Or some parameters are not used but slip through this\n",
      "  verification. Please open an issue if you find above cases.\n",
      "\n",
      "\n",
      "              precision    recall  f1-score   support\n",
      "\n",
      "         0.0       0.75      0.85      0.80      6616\n",
      "         1.0       0.51      0.38      0.43      2815\n",
      "         2.0       0.20      0.02      0.04       166\n",
      "\n",
      "    accuracy                           0.70      9597\n",
      "   macro avg       0.48      0.42      0.42      9597\n",
      "weighted avg       0.67      0.70      0.68      9597\n",
      "\n"
     ]
    }
   ],
   "source": [
    "gb = xg(param,num_round=num_round, n_estimators=200, learning_rate = 1, max_features=5, random_state =2,eval_metric='auc', use_label_encoder=False)\n",
    "gb.fit(x_train, Y_train)\n",
    "ypred=gb.predict(x_test)\n",
    "print(classification_report(Y_test,ypred))"
   ]
  },
  {
   "cell_type": "markdown",
   "id": "5d73df90",
   "metadata": {},
   "source": [
    "# XGB Looks like our selected algo "
   ]
  },
  {
   "cell_type": "code",
   "execution_count": null,
   "id": "19352b51",
   "metadata": {},
   "outputs": [],
   "source": []
  }
 ],
 "metadata": {
  "kernelspec": {
   "display_name": "Python 3",
   "language": "python",
   "name": "python3"
  },
  "language_info": {
   "codemirror_mode": {
    "name": "ipython",
    "version": 3
   },
   "file_extension": ".py",
   "mimetype": "text/x-python",
   "name": "python",
   "nbconvert_exporter": "python",
   "pygments_lexer": "ipython3",
   "version": "3.8.8"
  }
 },
 "nbformat": 4,
 "nbformat_minor": 5
}
